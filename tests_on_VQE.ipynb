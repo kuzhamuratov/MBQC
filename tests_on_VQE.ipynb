{
 "cells": [
  {
   "cell_type": "code",
   "execution_count": 1,
   "metadata": {},
   "outputs": [],
   "source": [
    "from gates import *\n",
    "from states import *\n",
    "from measurements import *\n",
    "from utils import *\n",
    "import matplotlib.pyplot as plt\n",
    "\n",
    "def loss(meas_data):\n",
    "    return np.mean(meas_data**4 + meas_data**2)"
   ]
  },
  {
   "cell_type": "markdown",
   "metadata": {},
   "source": [
    "# Initialization"
   ]
  },
  {
   "cell_type": "code",
   "execution_count": 2,
   "metadata": {},
   "outputs": [
    {
     "data": {
      "image/png": "[encoded data removed]",
      "text/plain": [
       "<Figure size 288x288 with 1 Axes>"
      ]
     },
     "metadata": {
      "needs_background": "light"
     },
     "output_type": "display_data"
    },
    {
     "data": {
      "text/plain": [
       "1.0963582789974122"
      ]
     },
     "execution_count": 2,
     "metadata": {},
     "output_type": "execute_result"
    }
   ],
   "source": [
    "n = 20\n",
    "init_state = np.zeros(n)\n",
    "init_state[0] = 1.\n",
    "\n",
    "# Gates\n",
    "gate_1 = S_gate(1., 0., n)\n",
    "gate_2 = D_gate(0., 0., n)\n",
    "gate_3 = V_gate(0., n)\n",
    "\n",
    "# applying gates\n",
    "st1 = gate_1.dot(init_state)\n",
    "st2 = gate_2.dot(st1)\n",
    "st3 = gate_3.dot(st2)\n",
    "\n",
    "# ploting final state\n",
    "state = st3.reshape(n,1)\n",
    "rho = np.kron(state,state.conj().T)\n",
    "plt.figure(figsize=[4,4])\n",
    "xvec = np.linspace(-5, 5, 200)\n",
    "W = wigner_iterative(rho, xvec, xvec)\n",
    "cont0 = plt.contourf(xvec, xvec, W, 20)\n",
    "plt.show()\n",
    "\n",
    "# data\n",
    "data = meas_X_theta(st3, 0., n)\n",
    "loss(data)"
   ]
  },
  {
   "cell_type": "code",
   "execution_count": 3,
   "metadata": {},
   "outputs": [
    {
     "data": {
      "text/plain": [
       "(array([4.3000e+01, 5.0000e+00, 8.0000e+00, 1.1000e+01, 6.5460e+04,\n",
       "        3.4415e+04, 6.0000e+00, 5.0000e+00, 9.0000e+00, 3.8000e+01]),\n",
       " array([-6.42935706, -5.12188781, -3.81441856, -2.50694931, -1.19948005,\n",
       "         0.1079892 ,  1.41545845,  2.72292771,  4.03039696,  5.33786621,\n",
       "         6.64533547]),\n",
       " <a list of 10 Patch objects>)"
      ]
     },
     "execution_count": 3,
     "metadata": {},
     "output_type": "execute_result"
    },
    {
     "data": {
      "image/png": "[encoded data removed]",
      "text/plain": [
       "<Figure size 432x288 with 1 Axes>"
      ]
     },
     "metadata": {
      "needs_background": "light"
     },
     "output_type": "display_data"
    }
   ],
   "source": [
    "plt.hist(data)"
   ]
  },
  {
   "cell_type": "code",
   "execution_count": null,
   "metadata": {},
   "outputs": [],
   "source": []
  }
 ],
 "metadata": {
  "kernelspec": {
   "display_name": "Python 3",
   "language": "python",
   "name": "python3"
  },
  "language_info": {
   "codemirror_mode": {
    "name": "ipython",
    "version": 3
   },
   "file_extension": ".py",
   "mimetype": "text/x-python",
   "name": "python",
   "nbconvert_exporter": "python",
   "pygments_lexer": "ipython3",
   "version": "3.7.3"
  }
 },
 "nbformat": 4,
 "nbformat_minor": 2
}
