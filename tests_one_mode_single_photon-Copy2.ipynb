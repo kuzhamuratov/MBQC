{
 "cells": [
  {
   "cell_type": "code",
   "execution_count": 1,
   "metadata": {},
   "outputs": [],
   "source": [
    "from gates import *\n",
    "from states import *\n",
    "from measurements import *\n",
    "from utils import *\n",
    "import numpy as np\n",
    "import matplotlib.pyplot as plt\n",
    "from tqdm import trange\n",
    "import cma"
   ]
  },
  {
   "cell_type": "code",
   "execution_count": 2,
   "metadata": {
    "scrolled": true
   },
   "outputs": [
    {
     "name": "stdout",
     "output_type": "stream",
     "text": [
      "Done\n"
     ]
    },
    {
     "data": {
      "image/png": "[encoded data removed]",
      "text/plain": [
       "<Figure size 432x288 with 1 Axes>"
      ]
     },
     "metadata": {
      "needs_background": "light"
     },
     "output_type": "display_data"
    }
   ],
   "source": [
    "n_photons = 2\n",
    "state1 = np.zeros(n_photons)\n",
    "state1[0] = 1.\n",
    "state2 = np.zeros(n_photons)\n",
    "state2[0] = 1.\n",
    "state3 = np.zeros(n_photons)\n",
    "state3[1] = 1.\n",
    "state = np.kron(state2, state3)\n",
    "state = np.kron(state1, state)\n",
    "data = meas_X_theta(state, 0., 3, n_photons)\n",
    "plt.hist(data[:,2], bins=100)\n",
    "print('Done')"
   ]
  },
  {
   "cell_type": "markdown",
   "metadata": {},
   "source": [
    "# Initialization"
   ]
  },
  {
   "cell_type": "code",
   "execution_count": 3,
   "metadata": {},
   "outputs": [],
   "source": [
    "n_photons = 20\n",
    "# 1\n",
    "num_layers = 5\n",
    "vacuum_state1 = np.zeros(n_photons)\n",
    "vacuum_state1[0] = 1.\n",
    "init_state = vacuum_state1"
   ]
  },
  {
   "cell_type": "code",
   "execution_count": 4,
   "metadata": {},
   "outputs": [
    {
     "data": {
      "text/plain": [
       "array([1., 0., 0., 0., 0., 0., 0., 0., 0., 0., 0., 0., 0., 0., 0., 0., 0.,\n",
       "       0., 0., 0.])"
      ]
     },
     "execution_count": 4,
     "metadata": {},
     "output_type": "execute_result"
    }
   ],
   "source": [
    "init_state"
   ]
  },
  {
   "cell_type": "code",
   "execution_count": 5,
   "metadata": {},
   "outputs": [],
   "source": [
    "def circuit(state, params, n_photons):\n",
    "    state_ = state\n",
    "    for i in range(num_layers):\n",
    "        gate1 = N_phase_gate(params[7*i], 4, 1, 1, n_photons) \n",
    "        gate2 = D_gate(params[7*i+1], params[7*i+2], 1, 1, n_photons)\n",
    "        gate3 = R_gate(params[7*i+3], 1, 1, n_photons) \n",
    "        gate4 = S_gate(params[7*i+4], params[7*i+5], 1, 1, n_photons)\n",
    "        gate5 = R_gate(params[7*i+6], 1, 1, n_photons)\n",
    "        state_ = np.einsum('jk,k->j', gate1, state_)\n",
    "        state_ = np.einsum('jk,k->j', gate2, state_)\n",
    "        state_ = np.einsum('jk,k->j', gate3, state_)\n",
    "        state_ = np.einsum('jk,k->j', gate4, state_)\n",
    "        state_ = np.einsum('jk,k->j', gate5, state_)\n",
    "    X = meas_X(state_, 1, n_photons)\n",
    "    P = meas_P(state_, 1, n_photons)\n",
    "    return X, P, state_\n",
    "\n",
    "def loss_xy(x1, p1):\n",
    "    H = np.zeros(x1.shape[0], dtype=np.float32)\n",
    "    dimension = x1.shape[0]\n",
    "    H = 0.07*x1**4/2. - x1**2/2. + 0.8*p1**2/2.\n",
    "    return np.mean(H) + np.std(H)"
   ]
  },
  {
   "cell_type": "code",
   "execution_count": 6,
   "metadata": {},
   "outputs": [],
   "source": [
    "def func_to_opt(params):\n",
    "    X, P, _ = circuit(init_state, params, n_photons)\n",
    "    return loss_xy(X, P)"
   ]
  },
  {
   "cell_type": "code",
   "execution_count": 7,
   "metadata": {},
   "outputs": [
    {
     "name": "stdout",
     "output_type": "stream",
     "text": [
      "(7_w,14)-aCMA-ES (mu_w=4.3,w_1=36%) in dimension 35 (seed=306824, Tue Jan 28 10:28:25 2020)\n"
     ]
    }
   ],
   "source": [
    "init_params = np.random.uniform(size=7*num_layers)\n",
    "es = cma.CMAEvolutionStrategy(init_params, 0.4)"
   ]
  },
  {
   "cell_type": "code",
   "execution_count": null,
   "metadata": {
    "scrolled": true
   },
   "outputs": [
    {
     "name": "stdout",
     "output_type": "stream",
     "text": [
      "Iterat #Fevals   function value  axis ratio  sigma  min&max std  t[m:s]\n",
      "    1     14 5.358604676873620e-01 1.0e+00 3.74e-01  4e-01  4e-01 0:09.4\n",
      "    2     28 5.670433329450765e-01 1.1e+00 3.52e-01  3e-01  4e-01 0:18.2\n",
      "    3     42 5.946240749626062e-01 1.1e+00 3.37e-01  3e-01  3e-01 0:27.8\n",
      "    4     56 5.736371391868104e-01 1.1e+00 3.29e-01  3e-01  3e-01 0:37.5\n",
      "    5     70 5.879725532275684e-01 1.1e+00 3.24e-01  3e-01  3e-01 0:50.0\n",
      "    6     84 5.780951459975646e-01 1.1e+00 3.21e-01  3e-01  3e-01 1:04.2\n",
      "    7     98 5.838865371615276e-01 1.1e+00 3.22e-01  3e-01  3e-01 1:18.3\n",
      "    8    112 6.123374419327758e-01 1.1e+00 3.26e-01  3e-01  3e-01 1:32.8\n",
      "    9    126 5.779792148178241e-01 1.2e+00 3.28e-01  3e-01  3e-01 1:45.4\n",
      "   10    140 5.701809866615613e-01 1.2e+00 3.28e-01  3e-01  3e-01 1:57.2\n",
      "   11    154 5.795481865872180e-01 1.2e+00 3.33e-01  3e-01  3e-01 2:09.6\n",
      "   12    168 5.744487919115044e-01 1.2e+00 3.41e-01  3e-01  4e-01 2:21.3\n",
      "   13    182 5.629610711500307e-01 1.2e+00 3.43e-01  3e-01  4e-01 2:33.9\n",
      "   15    210 6.057726169540129e-01 1.3e+00 3.37e-01  3e-01  4e-01 2:57.0\n",
      "   17    238 6.078346528726848e-01 1.3e+00 3.34e-01  3e-01  4e-01 3:20.8\n",
      "   19    266 5.874723714832261e-01 1.4e+00 3.48e-01  3e-01  4e-01 3:45.6\n",
      "   21    294 5.749870692752826e-01 1.4e+00 3.48e-01  3e-01  4e-01 4:09.5\n",
      "   23    322 5.601007453672604e-01 1.5e+00 3.49e-01  3e-01  4e-01 4:32.9\n",
      "   25    350 5.755085001457303e-01 1.5e+00 3.63e-01  4e-01  4e-01 4:57.7\n",
      "   27    378 6.070254696580650e-01 1.6e+00 3.76e-01  4e-01  4e-01 5:21.7\n",
      "   29    406 5.799284119369446e-01 1.6e+00 3.84e-01  4e-01  4e-01 5:47.2\n",
      "   31    434 5.549745104176794e-01 1.7e+00 4.00e-01  4e-01  4e-01 6:11.4\n",
      "   33    462 5.412557709843079e-01 1.7e+00 4.04e-01  4e-01  4e-01 6:33.7\n",
      "   35    490 5.745765330640872e-01 1.7e+00 4.12e-01  4e-01  4e-01 6:57.3\n",
      "   38    532 5.519335974289737e-01 1.7e+00 4.00e-01  4e-01  4e-01 7:34.7\n",
      "   40    560 5.902264917439046e-01 1.7e+00 3.85e-01  4e-01  4e-01 8:00.3\n",
      "   43    602 5.523504407127295e-01 1.7e+00 3.76e-01  4e-01  4e-01 8:38.2\n",
      "   46    644 6.090411129721770e-01 1.7e+00 3.63e-01  3e-01  4e-01 9:16.7\n"
     ]
    }
   ],
   "source": [
    "es.optimize(func_to_opt,iterations=200)"
   ]
  },
  {
   "cell_type": "code",
   "execution_count": null,
   "metadata": {},
   "outputs": [],
   "source": [
    "params = es.result_pretty().xbest\n",
    "final_state = circuit(init_state, params, n_photons)[2]"
   ]
  },
  {
   "cell_type": "code",
   "execution_count": null,
   "metadata": {},
   "outputs": [],
   "source": [
    "print(*final_state)"
   ]
  },
  {
   "cell_type": "code",
   "execution_count": null,
   "metadata": {},
   "outputs": [],
   "source": [
    "print(\"Initial_state\")\n",
    "final_state = final_state.reshape(final_state.shape[0],1)\n",
    "rho = np.kron(final_state,final_state.conj().T)\n",
    "xvec = np.linspace(-4,4,200)\n",
    "W = wigner_iterative(rho, xvec, xvec)\n",
    "cont0 = plt.contourf(xvec, xvec, W, 20)\n",
    "plt.show()"
   ]
  },
  {
   "cell_type": "code",
   "execution_count": null,
   "metadata": {},
   "outputs": [],
   "source": [
    "params"
   ]
  },
  {
   "cell_type": "code",
   "execution_count": null,
   "metadata": {},
   "outputs": [],
   "source": [
    "n_photons = 20\n",
    "# 1\n",
    "vacuum_state1 = np.zeros(n_photons)\n",
    "vacuum_state1[1] = 1.\n",
    "target_state = vacuum_state1\n",
    "data = sim_mes_xp(target_state, 1, n_photons)\n",
    "print('final wanted loss ------- ', loss_xy(data[:,0], data[:, 1]))"
   ]
  },
  {
   "cell_type": "code",
   "execution_count": null,
   "metadata": {},
   "outputs": [],
   "source": [
    "final_state = final_state.reshape(final_state.shape[0], 1)\n",
    "target_state = target_state.reshape(target_state.shape[0], 1)\n",
    "rho = final_state @ final_state.conj().T\n",
    "rho_target = target_state @ target_state.conj().T\n",
    "fidelity(rho, rho_target)"
   ]
  },
  {
   "cell_type": "code",
   "execution_count": null,
   "metadata": {},
   "outputs": [],
   "source": []
  },
  {
   "cell_type": "code",
   "execution_count": null,
   "metadata": {},
   "outputs": [],
   "source": []
  }
 ],
 "metadata": {
  "kernelspec": {
   "display_name": "Python 3",
   "language": "python",
   "name": "python3"
  },
  "language_info": {
   "codemirror_mode": {
    "name": "ipython",
    "version": 3
   },
   "file_extension": ".py",
   "mimetype": "text/x-python",
   "name": "python",
   "nbconvert_exporter": "python",
   "pygments_lexer": "ipython3",
   "version": "3.7.3"
  }
 },
 "nbformat": 4,
 "nbformat_minor": 2
}
