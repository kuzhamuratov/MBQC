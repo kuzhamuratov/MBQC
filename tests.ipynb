{
 "cells": [
  {
   "cell_type": "code",
   "execution_count": 1,
   "metadata": {},
   "outputs": [],
   "source": [
    "from gates import *\n",
    "from states import *"
   ]
  },
  {
   "cell_type": "code",
   "execution_count": 21,
   "metadata": {},
   "outputs": [],
   "source": [
    "n = 20"
   ]
  },
  {
   "cell_type": "code",
   "execution_count": 22,
   "metadata": {},
   "outputs": [
    {
     "data": {
      "text/plain": [
       "array([[ 0.80501797+0.j,  0.        +0.j,  0.43353029+0.j,\n",
       "         0.        +0.j,  0.28588864+0.j,  0.        +0.j,\n",
       "         0.19904605+0.j,  0.        +0.j,  0.14070245+0.j,\n",
       "         0.        +0.j,  0.10477917+0.j,  0.        +0.j,\n",
       "         0.06948882+0.j,  0.        +0.j,  0.06355223+0.j,\n",
       "         0.        +0.j,  0.02729068+0.j,  0.        +0.j,\n",
       "         0.04751518+0.j,  0.        +0.j],\n",
       "       [ 0.        +0.j,  0.52169194+0.j,  0.        +0.j,\n",
       "         0.4866641 +0.j,  0.        +0.j,  0.41401501+0.j,\n",
       "         0.        +0.j,  0.34231175+0.j,  0.        +0.j,\n",
       "         0.27078861+0.j,  0.        +0.j,  0.23059642+0.j,\n",
       "         0.        +0.j,  0.15439374+0.j,  0.        +0.j,\n",
       "         0.16871495+0.j,  0.        +0.j,  0.06461604+0.j,\n",
       "         0.        +0.j,  0.13939597+0.j],\n",
       "       [-0.43353029+0.j,  0.        +0.j,  0.10473668+0.j,\n",
       "         0.        +0.j,  0.29102596+0.j,  0.        +0.j,\n",
       "         0.36271453+0.j,  0.        +0.j,  0.35037264+0.j,\n",
       "         0.        +0.j,  0.37933091+0.j,  0.        +0.j,\n",
       "         0.24498042+0.j,  0.        +0.j,  0.36392668+0.j,\n",
       "         0.        +0.j,  0.10844948+0.j,  0.        +0.j,\n",
       "         0.33756705+0.j,  0.        +0.j],\n",
       "       [ 0.        +0.j, -0.4866641 +0.j,  0.        +0.j,\n",
       "        -0.2341926 +0.j,  0.        +0.j, -0.01714874+0.j,\n",
       "         0.        +0.j,  0.15734152+0.j,  0.        +0.j,\n",
       "         0.19844781+0.j,  0.        +0.j,  0.37219083+0.j,\n",
       "         0.        +0.j,  0.17768456+0.j,  0.        +0.j,\n",
       "         0.47834567+0.j,  0.        +0.j,  0.08354182+0.j,\n",
       "         0.        +0.j,  0.48784043+0.j],\n",
       "       [ 0.28588864+0.j,  0.        +0.j, -0.29102596+0.j,\n",
       "         0.        +0.j, -0.3520518 +0.j,  0.        +0.j,\n",
       "        -0.21547876+0.j,  0.        +0.j, -0.19784599+0.j,\n",
       "         0.        +0.j,  0.18980277+0.j,  0.        +0.j,\n",
       "        -0.13082382+0.j,  0.        +0.j,  0.49500593+0.j,\n",
       "         0.        +0.j, -0.06595909+0.j,  0.        +0.j,\n",
       "         0.56704103+0.j,  0.        +0.j],\n",
       "       [ 0.        +0.j,  0.41401501+0.j,  0.        +0.j,\n",
       "         0.01714874+0.j,  0.        +0.j, -0.23543675+0.j,\n",
       "         0.        +0.j, -0.21388726+0.j,  0.        +0.j,\n",
       "        -0.4260133 +0.j,  0.        +0.j,  0.09545825+0.j,\n",
       "         0.        +0.j, -0.42597978+0.j,  0.        +0.j,\n",
       "         0.36008576+0.j,  0.        +0.j, -0.21788154+0.j,\n",
       "         0.        +0.j,  0.42181366+0.j],\n",
       "       [-0.19904605+0.j,  0.        +0.j,  0.36271453+0.j,\n",
       "         0.        +0.j,  0.21547876+0.j,  0.        +0.j,\n",
       "         0.1476581 +0.j,  0.        +0.j, -0.40155296+0.j,\n",
       "         0.        +0.j,  0.17164898+0.j,  0.        +0.j,\n",
       "        -0.66615665+0.j,  0.        +0.j,  0.09450094+0.j,\n",
       "         0.        +0.j, -0.34230615+0.j,  0.        +0.j,\n",
       "         0.00283972+0.j,  0.        +0.j],\n",
       "       [ 0.        +0.j, -0.34231175+0.j,  0.        +0.j,\n",
       "         0.15734152+0.j,  0.        +0.j,  0.21388726+0.j,\n",
       "         0.        +0.j,  0.43092155+0.j,  0.        +0.j,\n",
       "        -0.29758676+0.j,  0.        +0.j,  0.38836742+0.j,\n",
       "         0.        +0.j, -0.4985905 +0.j,  0.        +0.j,\n",
       "        -0.06795707+0.j,  0.        +0.j, -0.2296659 +0.j,\n",
       "         0.        +0.j, -0.28509818+0.j],\n",
       "       [ 0.14070245+0.j,  0.        +0.j, -0.35037264+0.j,\n",
       "         0.        +0.j, -0.19784599+0.j,  0.        +0.j,\n",
       "         0.40155296+0.j,  0.        +0.j, -0.21475514+0.j,\n",
       "         0.        +0.j,  0.65260972+0.j,  0.        +0.j,\n",
       "        -0.00258472+0.j,  0.        +0.j, -0.12998269+0.j,\n",
       "         0.        +0.j,  0.14072034+0.j,  0.        +0.j,\n",
       "        -0.38513686+0.j,  0.        +0.j],\n",
       "       [ 0.        +0.j,  0.27078861+0.j,  0.        +0.j,\n",
       "        -0.19844781+0.j,  0.        +0.j, -0.4260133 +0.j,\n",
       "         0.        +0.j,  0.29758676+0.j,  0.        +0.j,\n",
       "        -0.37448646+0.j,  0.        +0.j,  0.43898571+0.j,\n",
       "         0.        +0.j,  0.36237272+0.j,  0.        +0.j,\n",
       "        -0.13009507+0.j,  0.        +0.j,  0.32286249+0.j,\n",
       "         0.        +0.j, -0.17837972+0.j],\n",
       "       [-0.10477917+0.j,  0.        +0.j,  0.37933091+0.j,\n",
       "         0.        +0.j, -0.18980277+0.j,  0.        +0.j,\n",
       "         0.17164898+0.j,  0.        +0.j, -0.65260972+0.j,\n",
       "         0.        +0.j, -0.07622634+0.j,  0.        +0.j,\n",
       "         0.44971987+0.j,  0.        +0.j, -0.15892761+0.j,\n",
       "         0.        +0.j,  0.2278817 +0.j,  0.        +0.j,\n",
       "         0.26171549+0.j,  0.        +0.j],\n",
       "       [ 0.        +0.j, -0.23059642+0.j,  0.        +0.j,\n",
       "         0.37219083+0.j,  0.        +0.j, -0.09545825+0.j,\n",
       "         0.        +0.j,  0.38836742+0.j,  0.        +0.j,\n",
       "        -0.43898571+0.j,  0.        +0.j, -0.49182215+0.j,\n",
       "         0.        +0.j,  0.29914943+0.j,  0.        +0.j,\n",
       "        -0.06198839+0.j,  0.        +0.j, -0.07585207+0.j,\n",
       "         0.        +0.j,  0.33863519+0.j],\n",
       "       [ 0.06948882+0.j,  0.        +0.j, -0.24498042+0.j,\n",
       "         0.        +0.j, -0.13082382+0.j,  0.        +0.j,\n",
       "         0.66615665+0.j,  0.        +0.j, -0.00258472+0.j,\n",
       "         0.        +0.j, -0.44971987+0.j,  0.        +0.j,\n",
       "         0.10825505+0.j,  0.        +0.j,  0.11346386+0.j,\n",
       "         0.        +0.j, -0.49657887+0.j,  0.        +0.j,\n",
       "         0.02894674+0.j,  0.        +0.j],\n",
       "       [ 0.        +0.j,  0.15439374+0.j,  0.        +0.j,\n",
       "        -0.17768456+0.j,  0.        +0.j, -0.42597978+0.j,\n",
       "         0.        +0.j,  0.4985905 +0.j,  0.        +0.j,\n",
       "         0.36237272+0.j,  0.        +0.j, -0.29914943+0.j,\n",
       "         0.        +0.j, -0.11560951+0.j,  0.        +0.j,\n",
       "         0.33800035+0.j,  0.        +0.j, -0.31213709+0.j,\n",
       "         0.        +0.j, -0.26209881+0.j],\n",
       "       [-0.06355223+0.j,  0.        +0.j,  0.36392668+0.j,\n",
       "         0.        +0.j, -0.49500593+0.j,  0.        +0.j,\n",
       "         0.09450094+0.j,  0.        +0.j,  0.12998269+0.j,\n",
       "         0.        +0.j, -0.15892761+0.j,  0.        +0.j,\n",
       "        -0.11346386+0.j,  0.        +0.j,  0.54314807+0.j,\n",
       "         0.        +0.j,  0.28683198+0.j,  0.        +0.j,\n",
       "        -0.42100741+0.j,  0.        +0.j],\n",
       "       [ 0.        +0.j, -0.16871495+0.j,  0.        +0.j,\n",
       "         0.47834567+0.j,  0.        +0.j, -0.36008576+0.j,\n",
       "         0.        +0.j, -0.06795707+0.j,  0.        +0.j,\n",
       "         0.13009507+0.j,  0.        +0.j, -0.06198839+0.j,\n",
       "         0.        +0.j, -0.33800035+0.j,  0.        +0.j,\n",
       "         0.18620184+0.j,  0.        +0.j,  0.65377564+0.j,\n",
       "         0.        +0.j, -0.10646846+0.j],\n",
       "       [ 0.02729068+0.j,  0.        +0.j, -0.10844948+0.j,\n",
       "         0.        +0.j, -0.06595909+0.j,  0.        +0.j,\n",
       "         0.34230615+0.j,  0.        +0.j,  0.14072034+0.j,\n",
       "         0.        +0.j, -0.2278817 +0.j,  0.        +0.j,\n",
       "        -0.49657887+0.j,  0.        +0.j, -0.28683198+0.j,\n",
       "         0.        +0.j,  0.58609988+0.j,  0.        +0.j,\n",
       "         0.3490864 +0.j,  0.        +0.j],\n",
       "       [ 0.        +0.j,  0.06461604+0.j,  0.        +0.j,\n",
       "        -0.08354182+0.j,  0.        +0.j, -0.21788154+0.j,\n",
       "         0.        +0.j,  0.2296659 +0.j,  0.        +0.j,\n",
       "         0.32286249+0.j,  0.        +0.j,  0.07585207+0.j,\n",
       "         0.        +0.j, -0.31213709+0.j,  0.        +0.j,\n",
       "        -0.65377564+0.j,  0.        +0.j,  0.03132167+0.j,\n",
       "         0.        +0.j,  0.50279203+0.j],\n",
       "       [-0.04751518+0.j,  0.        +0.j,  0.33756705+0.j,\n",
       "         0.        +0.j, -0.56704103+0.j,  0.        +0.j,\n",
       "         0.00283972+0.j,  0.        +0.j,  0.38513686+0.j,\n",
       "         0.        +0.j,  0.26171549+0.j,  0.        +0.j,\n",
       "        -0.02894674+0.j,  0.        +0.j, -0.42100741+0.j,\n",
       "         0.        +0.j, -0.3490864 +0.j,  0.        +0.j,\n",
       "         0.21324945+0.j,  0.        +0.j],\n",
       "       [ 0.        +0.j, -0.13939597+0.j,  0.        +0.j,\n",
       "         0.48784043+0.j,  0.        +0.j, -0.42181366+0.j,\n",
       "         0.        +0.j, -0.28509818+0.j,  0.        +0.j,\n",
       "         0.17837972+0.j,  0.        +0.j,  0.33863519+0.j,\n",
       "         0.        +0.j,  0.26209881+0.j,  0.        +0.j,\n",
       "        -0.10646846+0.j,  0.        +0.j, -0.50279203+0.j,\n",
       "         0.        +0.j, -0.06362776+0.j]])"
      ]
     },
     "execution_count": 22,
     "metadata": {},
     "output_type": "execute_result"
    }
   ],
   "source": [
    "S_gate(1, 0, n)"
   ]
  },
  {
   "cell_type": "code",
   "execution_count": 23,
   "metadata": {},
   "outputs": [
    {
     "data": {
      "text/plain": [
       "0.2859357969445248"
      ]
     },
     "execution_count": 23,
     "metadata": {},
     "output_type": "execute_result"
    }
   ],
   "source": [
    "m = 2\n",
    "r = 1.\n",
    "1/np.sqrt(np.cosh(r))*np.tanh(r)**m*np.sqrt(math.factorial(2*m))/2**m/math.factorial(m)"
   ]
  },
  {
   "cell_type": "code",
   "execution_count": 57,
   "metadata": {},
   "outputs": [],
   "source": [
    "n= 100\n",
    "a = D_gate(3, 0 , n)"
   ]
  },
  {
   "cell_type": "code",
   "execution_count": 58,
   "metadata": {},
   "outputs": [],
   "source": [
    "state = np.zeros(n)\n",
    "state[0] = 1."
   ]
  },
  {
   "cell_type": "code",
   "execution_count": 59,
   "metadata": {},
   "outputs": [
    {
     "data": {
      "image/png": "[encoded data removed]",
      "text/plain": [
       "<Figure size 432x288 with 1 Axes>"
      ]
     },
     "metadata": {
      "needs_background": "light"
     },
     "output_type": "display_data"
    }
   ],
   "source": [
    "import matplotlib.pyplot as plt\n",
    "plt.plot(a.dot(state))\n",
    "plt.show()"
   ]
  },
  {
   "cell_type": "code",
   "execution_count": 63,
   "metadata": {},
   "outputs": [
    {
     "data": {
      "text/plain": [
       "0.3443545788988008"
      ]
     },
     "execution_count": 63,
     "metadata": {},
     "output_type": "execute_result"
    }
   ],
   "source": [
    "i = 10\n",
    "3**i/np.sqrt(math.factorial(i))*np.exp(-3**2/2.)"
   ]
  },
  {
   "cell_type": "code",
   "execution_count": 64,
   "metadata": {},
   "outputs": [
    {
     "data": {
      "text/plain": [
       "(0.3443545788988008+0j)"
      ]
     },
     "execution_count": 64,
     "metadata": {},
     "output_type": "execute_result"
    }
   ],
   "source": [
    "a.dot(state)[10]"
   ]
  },
  {
   "cell_type": "code",
   "execution_count": 71,
   "metadata": {},
   "outputs": [
    {
     "data": {
      "text/plain": [
       "[<matplotlib.lines.Line2D at 0x7f292e4a4a90>]"
      ]
     },
     "execution_count": 71,
     "metadata": {},
     "output_type": "execute_result"
    },
    {
     "data": {
      "image/png": "[encoded data removed]",
      "text/plain": [
       "<Figure size 432x288 with 1 Axes>"
      ]
     },
     "metadata": {
      "needs_background": "light"
     },
     "output_type": "display_data"
    }
   ],
   "source": [
    "plt.plot(R_gate(0, 100).dot(state))"
   ]
  },
  {
   "cell_type": "code",
   "execution_count": null,
   "metadata": {},
   "outputs": [],
   "source": []
  }
 ],
 "metadata": {
  "kernelspec": {
   "display_name": "Python 3",
   "language": "python",
   "name": "python3"
  },
  "language_info": {
   "codemirror_mode": {
    "name": "ipython",
    "version": 3
   },
   "file_extension": ".py",
   "mimetype": "text/x-python",
   "name": "python",
   "nbconvert_exporter": "python",
   "pygments_lexer": "ipython3",
   "version": "3.7.3"
  }
 },
 "nbformat": 4,
 "nbformat_minor": 2
}
