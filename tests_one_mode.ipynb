{
 "cells": [
  {
   "cell_type": "code",
   "execution_count": 1,
   "metadata": {},
   "outputs": [],
   "source": [
    "from gates import *\n",
    "from states import *\n",
    "from measurements import *\n",
    "from utils import *\n",
    "import numpy as np\n",
    "import matplotlib.pyplot as plt\n",
    "from tqdm import trange\n",
    "import cma"
   ]
  },
  {
   "cell_type": "code",
   "execution_count": 2,
   "metadata": {},
   "outputs": [
    {
     "name": "stdout",
     "output_type": "stream",
     "text": [
      "Done\n"
     ]
    },
    {
     "data": {
      "image/png": "[encoded data removed]",
      "text/plain": [
       "<Figure size 432x288 with 1 Axes>"
      ]
     },
     "metadata": {
      "needs_background": "light"
     },
     "output_type": "display_data"
    }
   ],
   "source": [
    "n_photons = 3\n",
    "state1 = np.zeros(n_photons)\n",
    "state1[0] = 1.\n",
    "state2 = np.zeros(n_photons)\n",
    "state2[0] = 1.\n",
    "state3 = np.zeros(n_photons)\n",
    "state3[1] = 1.\n",
    "state = np.kron(state2, state3)\n",
    "state = np.kron(state1, state)\n",
    "data = meas_X_theta(state, 0., 3, n_photons)\n",
    "plt.hist(data[:,2], bins=100)\n",
    "print('Done')"
   ]
  },
  {
   "cell_type": "markdown",
   "metadata": {},
   "source": [
    "# Initialization"
   ]
  },
  {
   "cell_type": "code",
   "execution_count": 3,
   "metadata": {},
   "outputs": [],
   "source": [
    "n_photons = 4\n",
    "# 1\n",
    "vacuum_state1 = np.zeros(n_photons)\n",
    "vacuum_state1[0] = 1.\n",
    "init_state = vacuum_state1"
   ]
  },
  {
   "cell_type": "code",
   "execution_count": 4,
   "metadata": {},
   "outputs": [
    {
     "data": {
      "text/plain": [
       "array([1., 0., 0., 0.])"
      ]
     },
     "execution_count": 4,
     "metadata": {},
     "output_type": "execute_result"
    }
   ],
   "source": [
    "init_state"
   ]
  },
  {
   "cell_type": "code",
   "execution_count": 5,
   "metadata": {},
   "outputs": [],
   "source": [
    "def circuit(state, params, n_photons):\n",
    "    state_ = state\n",
    "    for i in range(3):\n",
    "        gate1 = N_phase_gate(params[7*i], 4, 1, 1, n_photons) \n",
    "        gate2 = D_gate(params[7*i+1], params[7*i+2], 1, 1, n_photons)\n",
    "        gate3 = R_gate(params[7*i+3], 1, 1, n_photons) \n",
    "        gate4 = S_gate(params[7*i+4], params[7*i+5], 1, 1, n_photons)\n",
    "        gate5 = R_gate(params[7*i+6], 1, 1, n_photons)\n",
    "        state_ = np.einsum('jk,k->j', gate1, state_)\n",
    "        state_ = np.einsum('jk,k->j', gate2, state_)\n",
    "        state_ = np.einsum('jk,k->j', gate3, state_)\n",
    "        state_ = np.einsum('jk,k->j', gate4, state_)\n",
    "        state_ = np.einsum('jk,k->j', gate5, state_)\n",
    "    data_X = meas_X(state_, 1, n_photons)\n",
    "    data_P = meas_P(state_, 1, n_photons)\n",
    "    return data_X, data_P, state_\n",
    "\n",
    "def loss_xy(x1, p1):\n",
    "    H = np.zeros(x1.shape[0]**2, dtype=np.float32)\n",
    "    dimension = x1.shape[0]\n",
    "    for i in range(dimension):\n",
    "        H[i*dimension:(i+1)*dimension] = 0.5*(x1**2 + p1[i]**2)\n",
    "    return np.mean(H) + np.std(H)"
   ]
  },
  {
   "cell_type": "code",
   "execution_count": 6,
   "metadata": {},
   "outputs": [
    {
     "data": {
      "text/plain": [
       "0.9880023"
      ]
     },
     "execution_count": 6,
     "metadata": {},
     "output_type": "execute_result"
    }
   ],
   "source": [
    "params = 21*[0]\n",
    "data = meas_X(init_state, 1, n_photons)\n",
    "data_X, data_P, state = circuit(init_state, params, n_photons)\n",
    "loss_xy(data_X, data_P)"
   ]
  },
  {
   "cell_type": "code",
   "execution_count": 7,
   "metadata": {},
   "outputs": [],
   "source": [
    "def func_to_opt(params):\n",
    "    X, P, _ = circuit(init_state, params, n_photons)\n",
    "    return loss_xy(X, P)"
   ]
  },
  {
   "cell_type": "code",
   "execution_count": 8,
   "metadata": {},
   "outputs": [
    {
     "name": "stdout",
     "output_type": "stream",
     "text": [
      "(6_w,13)-aCMA-ES (mu_w=4.0,w_1=38%) in dimension 21 (seed=694628, Tue Jan 21 17:51:25 2020)\n"
     ]
    }
   ],
   "source": [
    "es = cma.CMAEvolutionStrategy(21*[0.3], 0.4)"
   ]
  },
  {
   "cell_type": "code",
   "execution_count": 9,
   "metadata": {},
   "outputs": [
    {
     "name": "stdout",
     "output_type": "stream",
     "text": [
      "Iterat #Fevals   function value  axis ratio  sigma  min&max std  t[m:s]\n",
      "    1     13 1.361335158348083e+00 1.0e+00 3.68e-01  4e-01  4e-01 0:09.0\n",
      "    2     26 2.194453954696655e+00 1.1e+00 3.51e-01  3e-01  4e-01 0:18.0\n",
      "    3     39 2.479096174240112e+00 1.1e+00 3.37e-01  3e-01  3e-01 0:27.5\n",
      "    4     52 1.386285781860352e+00 1.2e+00 3.25e-01  3e-01  3e-01 0:36.9\n",
      "    5     65 1.501735210418701e+00 1.2e+00 3.11e-01  3e-01  3e-01 0:46.4\n",
      "    6     78 1.657967567443848e+00 1.2e+00 2.98e-01  3e-01  3e-01 0:55.8\n",
      "    7     91 2.783890724182129e+00 1.2e+00 3.04e-01  3e-01  3e-01 1:04.7\n",
      "    8    104 1.536589980125427e+00 1.3e+00 3.08e-01  3e-01  3e-01 1:13.7\n",
      "    9    117 1.392135858535767e+00 1.3e+00 3.17e-01  3e-01  3e-01 1:23.1\n",
      "   10    130 1.527160644531250e+00 1.3e+00 3.28e-01  3e-01  3e-01 1:32.6\n",
      "   12    156 1.501211881637573e+00 1.4e+00 3.44e-01  3e-01  4e-01 1:51.5\n",
      "   14    182 1.410259127616882e+00 1.5e+00 3.42e-01  3e-01  4e-01 2:10.3\n",
      "   16    208 1.593894481658936e+00 1.6e+00 3.23e-01  3e-01  4e-01 2:29.1\n",
      "   18    234 1.389746427536011e+00 1.6e+00 3.12e-01  3e-01  4e-01 2:47.8\n",
      "   20    260 1.202592849731445e+00 1.6e+00 2.89e-01  3e-01  3e-01 3:05.8\n",
      "   22    286 1.486463189125061e+00 1.7e+00 2.76e-01  3e-01  3e-01 3:23.5\n",
      "   24    312 1.496541023254395e+00 1.7e+00 2.33e-01  2e-01  3e-01 3:41.2\n",
      "   26    338 1.199803113937378e+00 1.7e+00 2.21e-01  2e-01  3e-01 3:59.1\n",
      "   28    364 1.215552210807800e+00 1.8e+00 2.29e-01  2e-01  3e-01 4:17.2\n",
      "   31    403 1.407032251358032e+00 1.8e+00 2.38e-01  2e-01  3e-01 4:44.4\n",
      "   34    442 1.544702053070068e+00 1.9e+00 2.20e-01  2e-01  3e-01 5:12.2\n",
      "   37    481 1.257670402526855e+00 2.0e+00 2.23e-01  2e-01  3e-01 5:38.9\n",
      "   40    520 1.644653439521790e+00 2.0e+00 2.18e-01  2e-01  2e-01 6:05.6\n",
      "   43    559 1.208316087722778e+00 2.0e+00 2.20e-01  2e-01  2e-01 6:32.3\n",
      "   46    598 1.638869285583496e+00 2.0e+00 2.22e-01  2e-01  2e-01 6:59.2\n",
      "   49    637 1.538516998291016e+00 2.0e+00 1.89e-01  1e-01  2e-01 7:26.0\n",
      "   52    676 1.299921393394470e+00 2.0e+00 1.80e-01  1e-01  2e-01 7:52.7\n",
      "   56    728 1.131563425064087e+00 2.0e+00 1.78e-01  1e-01  2e-01 8:28.5\n",
      "   60    780 1.225762367248535e+00 2.1e+00 1.55e-01  1e-01  2e-01 9:04.2\n",
      "   64    832 1.067407131195068e+00 2.1e+00 1.53e-01  1e-01  2e-01 9:39.8\n",
      "   68    884 1.256167650222778e+00 2.1e+00 1.47e-01  1e-01  2e-01 10:16.7\n",
      "   72    936 1.196515083312988e+00 2.1e+00 1.67e-01  1e-01  2e-01 10:52.5\n",
      "   76    988 1.372754216194153e+00 2.2e+00 1.57e-01  1e-01  2e-01 11:30.3\n",
      "   80   1040 1.292582988739014e+00 2.2e+00 1.55e-01  1e-01  2e-01 12:07.9\n",
      "   84   1092 1.441113591194153e+00 2.3e+00 1.42e-01  1e-01  2e-01 12:44.7\n",
      "   88   1144 1.050818681716919e+00 2.5e+00 1.49e-01  1e-01  2e-01 13:20.5\n",
      "   92   1196 1.443449974060059e+00 2.6e+00 1.47e-01  1e-01  2e-01 13:57.4\n",
      "   97   1261 1.155213952064514e+00 2.6e+00 1.50e-01  1e-01  2e-01 14:42.2\n",
      "  100   1300 1.251345992088318e+00 2.6e+00 1.46e-01  1e-01  2e-01 15:10.2\n",
      "  105   1365 1.170961499214172e+00 2.7e+00 1.35e-01  1e-01  2e-01 15:57.0\n",
      "  110   1430 1.227839946746826e+00 2.7e+00 1.35e-01  9e-02  1e-01 16:43.9\n",
      "  115   1495 1.113861799240112e+00 2.7e+00 1.44e-01  1e-01  2e-01 17:30.5\n",
      "  120   1560 1.198693513870239e+00 2.7e+00 1.36e-01  9e-02  1e-01 18:15.2\n",
      "  125   1625 1.057260274887085e+00 2.8e+00 1.38e-01  9e-02  2e-01 18:59.8\n",
      "  130   1690 1.054724216461182e+00 2.9e+00 1.24e-01  8e-02  1e-01 19:44.5\n",
      "  135   1755 1.074500203132629e+00 3.0e+00 1.16e-01  8e-02  1e-01 20:30.4\n",
      "  141   1833 1.117969036102295e+00 3.1e+00 1.09e-01  7e-02  1e-01 21:23.9\n",
      "  147   1911 1.086169004440308e+00 3.2e+00 8.68e-02  5e-02  1e-01 22:18.2\n",
      "  153   1989 1.038968563079834e+00 3.4e+00 6.19e-02  4e-02  7e-02 23:11.9\n",
      "  159   2067 1.017844200134277e+00 3.7e+00 5.96e-02  4e-02  7e-02 24:05.5\n",
      "  165   2145 1.002135038375854e+00 4.1e+00 5.13e-02  3e-02  6e-02 24:59.3\n",
      "  171   2223 1.001983046531677e+00 4.3e+00 4.62e-02  3e-02  5e-02 25:53.0\n",
      "  177   2301 9.840754866600037e-01 4.6e+00 4.23e-02  2e-02  5e-02 26:46.9\n",
      "  183   2379 1.002129316329956e+00 4.9e+00 3.83e-02  2e-02  5e-02 27:40.5\n",
      "  190   2470 1.000546574592590e+00 5.3e+00 3.76e-02  2e-02  5e-02 28:43.6\n",
      "  197   2561 9.884384870529175e-01 5.7e+00 3.33e-02  2e-02  4e-02 29:46.7\n",
      "  200   2600 9.997057914733887e-01 5.8e+00 3.35e-02  2e-02  4e-02 30:14.0\n",
      "  207   2691 9.927970170974731e-01 6.2e+00 2.97e-02  2e-02  3e-02 31:18.8\n",
      "  214   2782 9.994465112686157e-01 6.8e+00 3.02e-02  2e-02  4e-02 32:21.2\n",
      "  221   2873 9.893398284912109e-01 6.9e+00 2.03e-02  1e-02  2e-02 33:24.4\n",
      "  228   2964 9.905747175216675e-01 7.2e+00 2.13e-02  1e-02  2e-02 34:27.9\n",
      "  235   3055 9.892823696136475e-01 7.4e+00 2.16e-02  1e-02  3e-02 35:30.6\n",
      "  242   3146 9.895198345184326e-01 7.6e+00 2.03e-02  1e-02  2e-02 36:33.6\n",
      "  250   3250 9.708665609359741e-01 8.1e+00 2.12e-02  1e-02  3e-02 37:45.2\n",
      "  257   3341 9.886528849601746e-01 8.1e+00 1.76e-02  9e-03  2e-02 38:49.4\n",
      "  265   3445 9.849982261657715e-01 8.2e+00 1.46e-02  7e-03  2e-02 40:02.3\n",
      "  273   3549 9.861743450164795e-01 8.4e+00 1.14e-02  6e-03  1e-02 41:14.9\n",
      "  281   3653 9.803971052169800e-01 8.8e+00 1.17e-02  6e-03  1e-02 42:27.8\n",
      "  289   3757 9.754136800765991e-01 8.9e+00 1.09e-02  5e-03  1e-02 43:39.5\n",
      "  297   3861 9.794850349426270e-01 9.2e+00 9.68e-03  4e-03  1e-02 44:54.1\n",
      "  300   3900 9.879813194274902e-01 9.4e+00 9.22e-03  4e-03  1e-02 45:21.3\n",
      "  308   4004 9.774008989334106e-01 9.5e+00 7.76e-03  4e-03  9e-03 46:32.6\n",
      "  316   4108 9.982263445854187e-01 9.8e+00 7.80e-03  3e-03  9e-03 47:45.0\n",
      "  325   4225 9.917550086975098e-01 1.1e+01 8.49e-03  4e-03  1e-02 49:05.8\n",
      "  334   4342 9.933099150657654e-01 1.1e+01 1.07e-02  5e-03  1e-02 50:27.2\n",
      "  343   4459 9.907771348953247e-01 1.2e+01 9.84e-03  4e-03  1e-02 51:47.8\n",
      "  352   4576 9.802548885345459e-01 1.2e+01 1.17e-02  5e-03  1e-02 53:12.5\n",
      "  361   4693 9.919453859329224e-01 1.3e+01 1.28e-02  6e-03  2e-02 54:32.8\n",
      "  370   4810 9.857670068740845e-01 1.4e+01 1.33e-02  6e-03  2e-02 55:53.3\n",
      "  379   4927 9.949570298194885e-01 1.4e+01 8.95e-03  4e-03  1e-02 57:15.6\n",
      "  388   5044 9.856990575790405e-01 1.4e+01 9.86e-03  4e-03  1e-02 58:38.8\n",
      "  397   5161 9.977625608444214e-01 1.5e+01 1.12e-02  5e-03  1e-02 60:03.3\n",
      "  400   5200 9.843574762344360e-01 1.5e+01 1.20e-02  5e-03  2e-02 60:30.0\n",
      "  410   5330 1.002575635910034e+00 1.5e+01 1.41e-02  6e-03  2e-02 61:59.0\n",
      "  420   5460 9.842938184738159e-01 1.5e+01 1.05e-02  5e-03  1e-02 63:29.8\n",
      "  430   5590 1.000628471374512e+00 1.5e+01 9.17e-03  4e-03  1e-02 65:03.4\n",
      "  440   5720 9.853131771087646e-01 1.6e+01 9.91e-03  4e-03  1e-02 66:32.3\n",
      "  450   5850 9.817272424697876e-01 1.6e+01 8.19e-03  3e-03  1e-02 68:01.1\n",
      "  460   5980 9.866911172866821e-01 1.6e+01 9.78e-03  4e-03  1e-02 69:32.6\n",
      "  470   6110 9.879913330078125e-01 1.6e+01 8.75e-03  4e-03  1e-02 71:01.8\n",
      "  481   6253 9.894156455993652e-01 1.7e+01 1.01e-02  4e-03  1e-02 72:39.9\n",
      "  492   6396 9.848682284355164e-01 1.7e+01 9.50e-03  4e-03  1e-02 74:19.6\n",
      "  500   6500 9.940247535705566e-01 1.8e+01 9.38e-03  4e-03  1e-02 75:32.5\n",
      "  511   6643 9.824569225311279e-01 1.8e+01 7.10e-03  3e-03  1e-02 77:12.2\n",
      "  522   6786 9.812065362930298e-01 1.9e+01 8.83e-03  4e-03  1e-02 78:54.2\n",
      "  533   6929 9.831711053848267e-01 2.0e+01 9.09e-03  4e-03  1e-02 80:32.5\n",
      "  544   7072 9.990283250808716e-01 2.1e+01 8.22e-03  3e-03  1e-02 82:12.5\n",
      "  555   7215 9.954276680946350e-01 2.2e+01 7.32e-03  3e-03  1e-02 83:51.9\n",
      "  566   7358 9.811588525772095e-01 2.2e+01 7.03e-03  3e-03  1e-02 85:30.3\n",
      "  577   7501 9.796785116195679e-01 2.3e+01 6.56e-03  2e-03  9e-03 87:11.1\n",
      "  589   7657 9.832605719566345e-01 2.3e+01 7.03e-03  3e-03  1e-02 88:59.3\n",
      "  600   7800 9.818038344383240e-01 2.5e+01 1.02e-02  4e-03  1e-02 90:37.9\n",
      "  612   7956 9.828110933303833e-01 2.5e+01 1.31e-02  5e-03  2e-02 92:27.3\n",
      "  624   8112 9.921514987945557e-01 2.5e+01 1.26e-02  5e-03  2e-02 94:16.6\n",
      "  636   8268 9.727916717529297e-01 2.5e+01 8.49e-03  4e-03  1e-02 96:04.2\n",
      "  648   8424 9.889285564422607e-01 2.4e+01 7.20e-03  3e-03  9e-03 97:52.4\n",
      "  660   8580 9.850749373435974e-01 2.5e+01 6.12e-03  3e-03  8e-03 99:40.3\n",
      "  672   8736 9.712544679641724e-01 2.4e+01 7.31e-03  3e-03  1e-02 101:27.5\n",
      "  684   8892 9.891549348831177e-01 2.3e+01 7.65e-03  4e-03  1e-02 103:19.6\n",
      "  696   9048 9.797791838645935e-01 2.3e+01 6.42e-03  3e-03  8e-03 105:09.5\n",
      "  700   9100 9.859046936035156e-01 2.3e+01 6.36e-03  3e-03  8e-03 105:46.4\n"
     ]
    },
    {
     "name": "stdout",
     "output_type": "stream",
     "text": [
      "  713   9269 9.799039363861084e-01 2.3e+01 7.64e-03  3e-03  9e-03 107:43.9\n",
      "  726   9438 9.863699078559875e-01 2.4e+01 1.00e-02  4e-03  1e-02 109:43.7\n",
      "  739   9607 9.961988925933838e-01 2.3e+01 1.01e-02  4e-03  1e-02 111:42.5\n",
      "  752   9776 9.924325942993164e-01 2.2e+01 9.19e-03  3e-03  1e-02 113:39.3\n",
      "  765   9945 9.878501892089844e-01 2.3e+01 1.05e-02  4e-03  1e-02 115:36.6\n",
      "  778  10114 9.835274219512939e-01 2.3e+01 1.35e-02  5e-03  2e-02 117:33.0\n",
      "  791  10283 9.856398105621338e-01 2.5e+01 1.31e-02  5e-03  2e-02 119:32.6\n",
      "  800  10400 9.875887036323547e-01 2.5e+01 1.04e-02  4e-03  1e-02 120:52.8\n",
      "  814  10582 9.798781871795654e-01 2.6e+01 1.07e-02  4e-03  1e-02 122:57.3\n",
      "  828  10764 9.763136506080627e-01 2.6e+01 1.01e-02  4e-03  1e-02 125:04.6\n",
      "  842  10946 9.880992174148560e-01 2.6e+01 9.63e-03  4e-03  1e-02 127:09.5\n",
      "  856  11128 9.860578775405884e-01 2.7e+01 9.90e-03  4e-03  1e-02 129:14.5\n",
      "  870  11310 9.872862100601196e-01 2.6e+01 7.85e-03  3e-03  9e-03 131:20.5\n",
      "  884  11492 9.749773740768433e-01 2.8e+01 8.35e-03  3e-03  1e-02 133:30.6\n",
      "  898  11674 9.866297245025635e-01 2.9e+01 7.00e-03  3e-03  8e-03 135:36.6\n",
      "  900  11700 9.869627952575684e-01 2.9e+01 7.49e-03  3e-03  9e-03 135:55.6\n",
      "  915  11895 9.865602254867554e-01 2.8e+01 6.30e-03  2e-03  7e-03 138:09.7\n",
      "  929  12077 9.794870018959045e-01 2.9e+01 4.90e-03  2e-03  6e-03 140:22.3\n",
      "  943  12259 9.832208156585693e-01 3.1e+01 4.30e-03  2e-03  5e-03 142:32.4\n",
      "  958  12454 9.862716197967529e-01 3.2e+01 4.79e-03  2e-03  6e-03 144:46.8\n",
      "  973  12649 9.912450313568115e-01 3.4e+01 5.99e-03  2e-03  7e-03 147:01.6\n",
      "  988  12844 9.905138015747070e-01 3.8e+01 6.64e-03  3e-03  9e-03 149:19.3\n",
      " 1000  13000 9.894281029701233e-01 3.8e+01 6.46e-03  3e-03  9e-03 151:06.7\n"
     ]
    },
    {
     "data": {
      "text/plain": [
       "<cma.evolution_strategy.CMAEvolutionStrategy at 0x7f3998bfbba8>"
      ]
     },
     "execution_count": 9,
     "metadata": {},
     "output_type": "execute_result"
    }
   ],
   "source": [
    "es.optimize(func_to_opt,iterations=1000)"
   ]
  },
  {
   "cell_type": "code",
   "execution_count": 10,
   "metadata": {},
   "outputs": [
    {
     "name": "stdout",
     "output_type": "stream",
     "text": [
      "final/bestever f-value = 9.894281e-01 9.651216e-01\n",
      "incumbent solution: [ 1.72187665  0.17178749  1.38517462  1.59900931  0.09502821  1.05847938\n",
      " -0.92143814  0.02797581 ...]\n",
      "std deviations: [0.00343656 0.00406543 0.00857676 0.00498919 0.00418745 0.00639502\n",
      " 0.0054338  0.00279883 ...]\n"
     ]
    },
    {
     "data": {
      "text/plain": [
       "array([ 0.97642921+0.2135254j , -0.02275859-0.00307847j,\n",
       "       -0.01404223-0.0101322j , -0.01019185+0.00785864j])"
      ]
     },
     "execution_count": 10,
     "metadata": {},
     "output_type": "execute_result"
    }
   ],
   "source": [
    "params = es.result_pretty().xbest\n",
    "circuit(init_state, params, n_photons)[2]"
   ]
  },
  {
   "cell_type": "code",
   "execution_count": 11,
   "metadata": {},
   "outputs": [
    {
     "name": "stdout",
     "output_type": "stream",
     "text": [
      "final wanted loss -------  2.3645024\n"
     ]
    }
   ],
   "source": [
    "n_photons = 8\n",
    "# 1\n",
    "vacuum_state1 = np.zeros(n_photons)\n",
    "vacuum_state1[1] = 1.\n",
    "state = vacuum_state1\n",
    "data_X = meas_X(state, 1, n_photons)\n",
    "data_P = meas_P(state, 1, n_photons)\n",
    "\n",
    "print('final wanted loss ------- ', loss_xy(data_X, data_P))"
   ]
  },
  {
   "cell_type": "code",
   "execution_count": null,
   "metadata": {},
   "outputs": [],
   "source": []
  },
  {
   "cell_type": "code",
   "execution_count": null,
   "metadata": {},
   "outputs": [],
   "source": []
  }
 ],
 "metadata": {
  "kernelspec": {
   "display_name": "Python 3",
   "language": "python",
   "name": "python3"
  },
  "language_info": {
   "codemirror_mode": {
    "name": "ipython",
    "version": 3
   },
   "file_extension": ".py",
   "mimetype": "text/x-python",
   "name": "python",
   "nbconvert_exporter": "python",
   "pygments_lexer": "ipython3",
   "version": "3.7.3"
  }
 },
 "nbformat": 4,
 "nbformat_minor": 2
}
