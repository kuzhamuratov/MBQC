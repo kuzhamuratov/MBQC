{
 "cells": [
  {
   "cell_type": "code",
   "execution_count": 1,
   "metadata": {},
   "outputs": [],
   "source": [
    "from gates import *\n",
    "from states import *\n",
    "from measurements import *\n",
    "from utils import *\n",
    "import numpy as np\n",
    "import matplotlib.pyplot as plt\n",
    "from tqdm import trange\n",
    "import cma"
   ]
  },
  {
   "cell_type": "code",
   "execution_count": 2,
   "metadata": {},
   "outputs": [
    {
     "name": "stdout",
     "output_type": "stream",
     "text": [
      "Done\n"
     ]
    },
    {
     "data": {
      "image/png": "[encoded data removed]",
      "text/plain": [
       "<Figure size 432x288 with 1 Axes>"
      ]
     },
     "metadata": {
      "needs_background": "light"
     },
     "output_type": "display_data"
    }
   ],
   "source": [
    "n_photons = 3\n",
    "state1 = np.zeros(n_photons)\n",
    "state1[0] = 1.\n",
    "state2 = np.zeros(n_photons)\n",
    "state2[0] = 1.\n",
    "state3 = np.zeros(n_photons)\n",
    "state3[1] = 1.\n",
    "state = np.kron(state2, state3)\n",
    "state = np.kron(state1, state)\n",
    "data = meas_X_theta(state, 0., 3, n_photons)\n",
    "plt.hist(data[:,2], bins=100)\n",
    "print('Done')"
   ]
  },
  {
   "cell_type": "markdown",
   "metadata": {},
   "source": [
    "# Initialization"
   ]
  },
  {
   "cell_type": "code",
   "execution_count": 3,
   "metadata": {},
   "outputs": [],
   "source": [
    "n_photons = 6\n",
    "num_layers = 6\n",
    "# 1\n",
    "vacuum_state1 = np.zeros(n_photons)\n",
    "vacuum_state1[0] = 1.\n",
    "init_state = vacuum_state1"
   ]
  },
  {
   "cell_type": "code",
   "execution_count": 4,
   "metadata": {},
   "outputs": [
    {
     "data": {
      "text/plain": [
       "array([1., 0., 0., 0., 0., 0.])"
      ]
     },
     "execution_count": 4,
     "metadata": {},
     "output_type": "execute_result"
    }
   ],
   "source": [
    "init_state"
   ]
  },
  {
   "cell_type": "code",
   "execution_count": 5,
   "metadata": {},
   "outputs": [],
   "source": [
    "def circuit(state, params, n_photons):\n",
    "    state_ = state\n",
    "    for i in range(num_layers):\n",
    "        gate5 = V_gate(params[7*i], 1, 1, n_photons) \n",
    "        gate4 = D_gate(params[7*i+1], params[7*i+2], 1, 1, n_photons)\n",
    "        gate3 = R_gate(params[7*i+3], 1, 1, n_photons) \n",
    "        gate2 = S_gate(params[7*i+4], params[7*i+5], 1, 1, n_photons)\n",
    "        gate1 = R_gate(params[7*i+6], 1, 1, n_photons)\n",
    "        state_ = np.einsum('jk,k->j', gate1, state_)\n",
    "        state_ = np.einsum('jk,k->j', gate2, state_)\n",
    "        state_ = np.einsum('jk,k->j', gate3, state_)\n",
    "        state_ = np.einsum('jk,k->j', gate4, state_)\n",
    "        state_ = np.einsum('jk,k->j', gate5, state_)\n",
    "    \n",
    "    data = sim_mes_xp(state_, 1, n_photons)\n",
    "    return data[:,0], data[:,1], state_\n",
    "\n",
    "def loss_xy(x1, p1):\n",
    "    H = np.zeros(x1.shape[0], dtype=np.float32)\n",
    "    dimension = x1.shape[0]\n",
    "    H = (x1**2/2. + p1**2/2. - 1/2.)**2\n",
    "    return np.mean(H) + np.std(H)"
   ]
  },
  {
   "cell_type": "code",
   "execution_count": 6,
   "metadata": {},
   "outputs": [],
   "source": [
    "def func_to_opt(params):\n",
    "    X, P, _ = circuit(init_state, params, n_photons)\n",
    "    return loss_xy(X, P)"
   ]
  },
  {
   "cell_type": "code",
   "execution_count": 7,
   "metadata": {},
   "outputs": [
    {
     "name": "stdout",
     "output_type": "stream",
     "text": [
      "(7_w,15)-aCMA-ES (mu_w=4.5,w_1=34%) in dimension 42 (seed=178920, Mon Jan 27 10:22:55 2020)\n"
     ]
    }
   ],
   "source": [
    "init_params = np.random.uniform(size=7*num_layers)\n",
    "es = cma.CMAEvolutionStrategy(init_params, 0.4)"
   ]
  },
  {
   "cell_type": "code",
   "execution_count": 8,
   "metadata": {},
   "outputs": [
    {
     "name": "stdout",
     "output_type": "stream",
     "text": [
      "Iterat #Fevals   function value  axis ratio  sigma  min&max std  t[m:s]\n",
      "    1     15 1.998013081920738e+00 1.0e+00 3.75e-01  4e-01  4e-01 0:09.0\n",
      "    2     30 1.879351178730318e+00 1.0e+00 3.59e-01  4e-01  4e-01 0:16.7\n",
      "    3     45 2.051792458172318e+00 1.1e+00 3.46e-01  3e-01  3e-01 0:24.8\n",
      "    4     60 1.963005378962722e+00 1.1e+00 3.40e-01  3e-01  3e-01 0:33.5\n",
      "    5     75 1.919316358808826e+00 1.1e+00 3.36e-01  3e-01  3e-01 0:42.7\n",
      "    6     90 1.383455238153034e+00 1.1e+00 3.31e-01  3e-01  3e-01 0:50.6\n",
      "    7    105 2.363489061563765e+00 1.1e+00 3.32e-01  3e-01  3e-01 0:58.9\n",
      "    8    120 1.917378137794985e+00 1.1e+00 3.35e-01  3e-01  3e-01 1:07.9\n",
      "    9    135 1.795326862528397e+00 1.1e+00 3.39e-01  3e-01  3e-01 1:18.4\n",
      "   10    150 1.821932043312409e+00 1.2e+00 3.46e-01  3e-01  4e-01 1:28.8\n",
      "   11    165 1.863747600140917e+00 1.2e+00 3.51e-01  3e-01  4e-01 1:39.4\n",
      "   13    195 1.759734317098146e+00 1.2e+00 3.57e-01  4e-01  4e-01 2:00.3\n",
      "   15    225 2.122958554363669e+00 1.2e+00 3.57e-01  4e-01  4e-01 2:21.0\n",
      "   17    255 1.926490606942284e+00 1.3e+00 3.50e-01  3e-01  4e-01 2:42.2\n",
      "   19    285 1.974938533012059e+00 1.3e+00 3.47e-01  3e-01  4e-01 3:03.6\n",
      "   21    315 1.980405240760057e+00 1.3e+00 3.46e-01  3e-01  4e-01 3:25.0\n",
      "   23    345 2.178779594832607e+00 1.3e+00 3.48e-01  3e-01  4e-01 3:45.4\n",
      "   25    375 1.132283336673216e+00 1.3e+00 3.44e-01  3e-01  4e-01 4:05.7\n",
      "   27    405 1.997609562888682e+00 1.3e+00 3.32e-01  3e-01  3e-01 4:26.6\n",
      "   29    435 1.462376145407021e+00 1.4e+00 3.24e-01  3e-01  3e-01 4:48.1\n",
      "   31    465 1.696070286886486e+00 1.4e+00 3.16e-01  3e-01  3e-01 5:11.1\n",
      "   33    495 1.785207095620494e+00 1.4e+00 3.10e-01  3e-01  3e-01 5:33.7\n",
      "   35    525 1.606971961596940e+00 1.4e+00 2.99e-01  3e-01  3e-01 5:55.8\n",
      "   38    570 2.051123672760855e+00 1.4e+00 2.91e-01  3e-01  3e-01 6:28.5\n",
      "   41    615 2.102868779708135e+00 1.4e+00 2.86e-01  3e-01  3e-01 7:01.2\n",
      "   44    660 1.713873483527561e+00 1.4e+00 3.02e-01  3e-01  3e-01 7:33.2\n",
      "   47    705 1.485527116249093e+00 1.5e+00 3.17e-01  3e-01  3e-01 8:05.8\n",
      "   50    750 1.432516791081125e+00 1.5e+00 3.24e-01  3e-01  3e-01 8:36.6\n",
      "   53    795 1.685500943634463e+00 1.5e+00 3.13e-01  3e-01  3e-01 9:07.5\n",
      "   56    840 1.904914609134944e+00 1.5e+00 3.07e-01  3e-01  3e-01 9:39.7\n",
      "   59    885 2.109293227865257e+00 1.5e+00 2.95e-01  3e-01  3e-01 10:12.6\n",
      "   62    930 1.634848940512616e+00 1.5e+00 2.68e-01  3e-01  3e-01 10:44.9\n",
      "   65    975 1.915569690022634e+00 1.5e+00 2.51e-01  2e-01  3e-01 11:17.2\n",
      "   69   1035 1.785416273393219e+00 1.5e+00 2.38e-01  2e-01  2e-01 11:59.8\n",
      "   72   1080 1.941926136344741e+00 1.5e+00 2.30e-01  2e-01  2e-01 12:39.0\n",
      "   76   1140 1.557796522062711e+00 1.5e+00 2.21e-01  2e-01  2e-01 13:25.4\n",
      "   80   1200 1.963876983617550e+00 1.5e+00 2.17e-01  2e-01  2e-01 14:08.6\n",
      "   84   1260 1.939719608197771e+00 1.6e+00 2.02e-01  2e-01  2e-01 14:53.9\n",
      "   88   1320 1.825112300103263e+00 1.6e+00 1.87e-01  2e-01  2e-01 15:35.3\n",
      "   92   1380 1.845746095733302e+00 1.6e+00 1.84e-01  2e-01  2e-01 16:16.3\n",
      "   96   1440 2.157050376510085e+00 1.6e+00 1.82e-01  2e-01  2e-01 16:57.5\n",
      "  100   1500 1.614859396575480e+00 1.6e+00 1.79e-01  2e-01  2e-01 17:39.3\n",
      "  104   1560 2.057927618555259e+00 1.6e+00 1.83e-01  2e-01  2e-01 18:24.4\n",
      "  108   1620 1.981740568536816e+00 1.7e+00 1.79e-01  2e-01  2e-01 19:11.8\n",
      "  113   1695 2.104631969366864e+00 1.7e+00 1.80e-01  2e-01  2e-01 20:03.4\n",
      "  118   1770 1.781894709411025e+00 1.7e+00 1.67e-01  2e-01  2e-01 20:55.7\n",
      "  123   1845 1.699445476042042e+00 1.7e+00 1.53e-01  1e-01  2e-01 21:45.5\n",
      "  128   1920 1.479060826808767e+00 1.7e+00 1.36e-01  1e-01  1e-01 22:37.3\n",
      "  133   1995 1.756502590185750e+00 1.7e+00 1.28e-01  1e-01  1e-01 23:27.9\n",
      "  138   2070 1.773707085696947e+00 1.7e+00 1.26e-01  1e-01  1e-01 24:18.3\n",
      "  144   2160 1.730103028628440e+00 1.7e+00 1.17e-01  1e-01  1e-01 25:17.4\n",
      "  150   2250 1.738012879018773e+00 1.7e+00 1.08e-01  1e-01  1e-01 26:16.7\n",
      "  156   2340 1.091330703916128e+00 1.8e+00 9.81e-02  9e-02  1e-01 27:12.3\n",
      "  162   2430 1.194465800113266e+00 1.8e+00 9.28e-02  9e-02  1e-01 28:08.8\n",
      "  168   2520 1.501712075724821e+00 1.8e+00 9.12e-02  8e-02  9e-02 29:03.4\n",
      "  174   2610 1.335386637556083e+00 1.8e+00 9.25e-02  9e-02  1e-01 30:00.3\n",
      "  181   2715 1.126620860512646e+00 1.8e+00 8.63e-02  8e-02  9e-02 31:02.4\n",
      "  188   2820 9.888809685284605e-01 1.8e+00 8.40e-02  8e-02  9e-02 32:04.9\n",
      "  195   2925 9.509380241561123e-01 1.8e+00 7.29e-02  7e-02  8e-02 33:07.5\n",
      "  200   3000 9.099067717036899e-01 1.8e+00 7.15e-02  7e-02  7e-02 33:49.1\n",
      "  208   3120 9.126322591691114e-01 1.8e+00 6.07e-02  6e-02  6e-02 34:56.9\n",
      "  216   3240 9.798445511204267e-01 1.9e+00 6.01e-02  5e-02  6e-02 36:04.9\n",
      "  224   3360 8.723952768482086e-01 1.9e+00 6.62e-02  6e-02  7e-02 37:13.4\n",
      "  232   3480 9.199366902608035e-01 1.9e+00 7.03e-02  6e-02  7e-02 38:20.4\n",
      "  240   3600 1.194327667330786e+00 1.9e+00 6.90e-02  6e-02  7e-02 39:28.3\n",
      "  248   3720 1.071329312568133e+00 1.9e+00 6.54e-02  6e-02  7e-02 40:36.5\n",
      "  256   3840 1.072720460825410e+00 2.0e+00 6.07e-02  5e-02  6e-02 41:44.3\n",
      "  265   3975 9.941481217411200e-01 2.0e+00 6.04e-02  5e-02  7e-02 42:59.3\n",
      "  274   4110 8.002203191619370e-01 2.0e+00 5.73e-02  5e-02  6e-02 44:15.1\n",
      "  283   4245 7.420183929011510e-01 2.1e+00 5.12e-02  4e-02  5e-02 45:30.8\n",
      "  292   4380 6.858859264931999e-01 2.1e+00 4.70e-02  4e-02  5e-02 46:45.6\n",
      "  300   4500 7.911898228312705e-01 2.2e+00 5.62e-02  5e-02  6e-02 47:52.9\n",
      "  309   4635 7.853728613056649e-01 2.2e+00 5.46e-02  5e-02  6e-02 49:08.5\n",
      "  318   4770 9.456785278028830e-01 2.3e+00 5.49e-02  5e-02  6e-02 50:24.5\n",
      "  327   4905 8.415068102216972e-01 2.3e+00 5.28e-02  4e-02  6e-02 51:40.3\n",
      "  336   5040 7.764611335130041e-01 2.3e+00 4.62e-02  4e-02  5e-02 52:56.0\n",
      "  346   5190 8.105794531898196e-01 2.3e+00 3.84e-02  3e-02  4e-02 54:19.9\n",
      "  356   5340 7.270097730088263e-01 2.3e+00 3.81e-02  3e-02  4e-02 55:43.9\n",
      "  366   5490 7.091380893905911e-01 2.4e+00 3.13e-02  3e-02  3e-02 57:07.3\n"
     ]
    },
    {
     "ename": "KeyboardInterrupt",
     "evalue": "",
     "output_type": "error",
     "traceback": [
      "\u001b[0;31m---------------------------------------------------------------------------\u001b[0m",
      "\u001b[0;31mKeyboardInterrupt\u001b[0m                         Traceback (most recent call last)",
      "\u001b[0;32m<ipython-input-8-1621aba06acb>\u001b[0m in \u001b[0;36m<module>\u001b[0;34m\u001b[0m\n\u001b[0;32m----> 1\u001b[0;31m \u001b[0mes\u001b[0m\u001b[0;34m.\u001b[0m\u001b[0moptimize\u001b[0m\u001b[0;34m(\u001b[0m\u001b[0mfunc_to_opt\u001b[0m\u001b[0;34m,\u001b[0m\u001b[0miterations\u001b[0m\u001b[0;34m=\u001b[0m\u001b[0;36m400\u001b[0m\u001b[0;34m)\u001b[0m\u001b[0;34m\u001b[0m\u001b[0;34m\u001b[0m\u001b[0m\n\u001b[0m",
      "\u001b[0;32m~/anaconda3/lib/python3.7/site-packages/cma/interfaces.py\u001b[0m in \u001b[0;36moptimize\u001b[0;34m(self, objective_fct, maxfun, iterations, min_iterations, args, verb_disp, callback)\u001b[0m\n\u001b[1;32m    179\u001b[0m \u001b[0;34m\u001b[0m\u001b[0m\n\u001b[1;32m    180\u001b[0m             \u001b[0mX\u001b[0m \u001b[0;34m=\u001b[0m \u001b[0mself\u001b[0m\u001b[0;34m.\u001b[0m\u001b[0mask\u001b[0m\u001b[0;34m(\u001b[0m\u001b[0;34m)\u001b[0m  \u001b[0;31m# deliver candidate solutions\u001b[0m\u001b[0;34m\u001b[0m\u001b[0;34m\u001b[0m\u001b[0m\n\u001b[0;32m--> 181\u001b[0;31m             \u001b[0mfitvals\u001b[0m \u001b[0;34m=\u001b[0m \u001b[0;34m[\u001b[0m\u001b[0mobjective_fct\u001b[0m\u001b[0;34m(\u001b[0m\u001b[0mx\u001b[0m\u001b[0;34m,\u001b[0m \u001b[0;34m*\u001b[0m\u001b[0margs\u001b[0m\u001b[0;34m)\u001b[0m \u001b[0;32mfor\u001b[0m \u001b[0mx\u001b[0m \u001b[0;32min\u001b[0m \u001b[0mX\u001b[0m\u001b[0;34m]\u001b[0m\u001b[0;34m\u001b[0m\u001b[0;34m\u001b[0m\u001b[0m\n\u001b[0m\u001b[1;32m    182\u001b[0m             \u001b[0mcevals\u001b[0m \u001b[0;34m+=\u001b[0m \u001b[0mlen\u001b[0m\u001b[0;34m(\u001b[0m\u001b[0mfitvals\u001b[0m\u001b[0;34m)\u001b[0m\u001b[0;34m\u001b[0m\u001b[0;34m\u001b[0m\u001b[0m\n\u001b[1;32m    183\u001b[0m             \u001b[0mself\u001b[0m\u001b[0;34m.\u001b[0m\u001b[0mtell\u001b[0m\u001b[0;34m(\u001b[0m\u001b[0mX\u001b[0m\u001b[0;34m,\u001b[0m \u001b[0mfitvals\u001b[0m\u001b[0;34m)\u001b[0m  \u001b[0;31m# all the work is done here\u001b[0m\u001b[0;34m\u001b[0m\u001b[0;34m\u001b[0m\u001b[0m\n",
      "\u001b[0;32m~/anaconda3/lib/python3.7/site-packages/cma/interfaces.py\u001b[0m in \u001b[0;36m<listcomp>\u001b[0;34m(.0)\u001b[0m\n\u001b[1;32m    179\u001b[0m \u001b[0;34m\u001b[0m\u001b[0m\n\u001b[1;32m    180\u001b[0m             \u001b[0mX\u001b[0m \u001b[0;34m=\u001b[0m \u001b[0mself\u001b[0m\u001b[0;34m.\u001b[0m\u001b[0mask\u001b[0m\u001b[0;34m(\u001b[0m\u001b[0;34m)\u001b[0m  \u001b[0;31m# deliver candidate solutions\u001b[0m\u001b[0;34m\u001b[0m\u001b[0;34m\u001b[0m\u001b[0m\n\u001b[0;32m--> 181\u001b[0;31m             \u001b[0mfitvals\u001b[0m \u001b[0;34m=\u001b[0m \u001b[0;34m[\u001b[0m\u001b[0mobjective_fct\u001b[0m\u001b[0;34m(\u001b[0m\u001b[0mx\u001b[0m\u001b[0;34m,\u001b[0m \u001b[0;34m*\u001b[0m\u001b[0margs\u001b[0m\u001b[0;34m)\u001b[0m \u001b[0;32mfor\u001b[0m \u001b[0mx\u001b[0m \u001b[0;32min\u001b[0m \u001b[0mX\u001b[0m\u001b[0;34m]\u001b[0m\u001b[0;34m\u001b[0m\u001b[0;34m\u001b[0m\u001b[0m\n\u001b[0m\u001b[1;32m    182\u001b[0m             \u001b[0mcevals\u001b[0m \u001b[0;34m+=\u001b[0m \u001b[0mlen\u001b[0m\u001b[0;34m(\u001b[0m\u001b[0mfitvals\u001b[0m\u001b[0;34m)\u001b[0m\u001b[0;34m\u001b[0m\u001b[0;34m\u001b[0m\u001b[0m\n\u001b[1;32m    183\u001b[0m             \u001b[0mself\u001b[0m\u001b[0;34m.\u001b[0m\u001b[0mtell\u001b[0m\u001b[0;34m(\u001b[0m\u001b[0mX\u001b[0m\u001b[0;34m,\u001b[0m \u001b[0mfitvals\u001b[0m\u001b[0;34m)\u001b[0m  \u001b[0;31m# all the work is done here\u001b[0m\u001b[0;34m\u001b[0m\u001b[0;34m\u001b[0m\u001b[0m\n",
      "\u001b[0;32m<ipython-input-6-7e9c9033b648>\u001b[0m in \u001b[0;36mfunc_to_opt\u001b[0;34m(params)\u001b[0m\n\u001b[1;32m      1\u001b[0m \u001b[0;32mdef\u001b[0m \u001b[0mfunc_to_opt\u001b[0m\u001b[0;34m(\u001b[0m\u001b[0mparams\u001b[0m\u001b[0;34m)\u001b[0m\u001b[0;34m:\u001b[0m\u001b[0;34m\u001b[0m\u001b[0;34m\u001b[0m\u001b[0m\n\u001b[0;32m----> 2\u001b[0;31m     \u001b[0mX\u001b[0m\u001b[0;34m,\u001b[0m \u001b[0mP\u001b[0m\u001b[0;34m,\u001b[0m \u001b[0m_\u001b[0m \u001b[0;34m=\u001b[0m \u001b[0mcircuit\u001b[0m\u001b[0;34m(\u001b[0m\u001b[0minit_state\u001b[0m\u001b[0;34m,\u001b[0m \u001b[0mparams\u001b[0m\u001b[0;34m,\u001b[0m \u001b[0mn_photons\u001b[0m\u001b[0;34m)\u001b[0m\u001b[0;34m\u001b[0m\u001b[0;34m\u001b[0m\u001b[0m\n\u001b[0m\u001b[1;32m      3\u001b[0m     \u001b[0;32mreturn\u001b[0m \u001b[0mloss_xy\u001b[0m\u001b[0;34m(\u001b[0m\u001b[0mX\u001b[0m\u001b[0;34m,\u001b[0m \u001b[0mP\u001b[0m\u001b[0;34m)\u001b[0m\u001b[0;34m\u001b[0m\u001b[0;34m\u001b[0m\u001b[0m\n",
      "\u001b[0;32m<ipython-input-5-ddb9d5d75816>\u001b[0m in \u001b[0;36mcircuit\u001b[0;34m(state, params, n_photons)\u001b[0m\n\u001b[1;32m     13\u001b[0m         \u001b[0mstate_\u001b[0m \u001b[0;34m=\u001b[0m \u001b[0mnp\u001b[0m\u001b[0;34m.\u001b[0m\u001b[0meinsum\u001b[0m\u001b[0;34m(\u001b[0m\u001b[0;34m'jk,k->j'\u001b[0m\u001b[0;34m,\u001b[0m \u001b[0mgate5\u001b[0m\u001b[0;34m,\u001b[0m \u001b[0mstate_\u001b[0m\u001b[0;34m)\u001b[0m\u001b[0;34m\u001b[0m\u001b[0;34m\u001b[0m\u001b[0m\n\u001b[1;32m     14\u001b[0m \u001b[0;34m\u001b[0m\u001b[0m\n\u001b[0;32m---> 15\u001b[0;31m     \u001b[0mdata\u001b[0m \u001b[0;34m=\u001b[0m \u001b[0msim_mes_xp\u001b[0m\u001b[0;34m(\u001b[0m\u001b[0mstate_\u001b[0m\u001b[0;34m,\u001b[0m \u001b[0;36m1\u001b[0m\u001b[0;34m,\u001b[0m \u001b[0mn_photons\u001b[0m\u001b[0;34m)\u001b[0m\u001b[0;34m\u001b[0m\u001b[0;34m\u001b[0m\u001b[0m\n\u001b[0m\u001b[1;32m     16\u001b[0m     \u001b[0;32mreturn\u001b[0m \u001b[0mdata\u001b[0m\u001b[0;34m[\u001b[0m\u001b[0;34m:\u001b[0m\u001b[0;34m,\u001b[0m\u001b[0;36m0\u001b[0m\u001b[0;34m]\u001b[0m\u001b[0;34m,\u001b[0m \u001b[0mdata\u001b[0m\u001b[0;34m[\u001b[0m\u001b[0;34m:\u001b[0m\u001b[0;34m,\u001b[0m\u001b[0;36m1\u001b[0m\u001b[0;34m]\u001b[0m\u001b[0;34m,\u001b[0m \u001b[0mstate_\u001b[0m\u001b[0;34m\u001b[0m\u001b[0;34m\u001b[0m\u001b[0m\n\u001b[1;32m     17\u001b[0m \u001b[0;34m\u001b[0m\u001b[0m\n",
      "\u001b[0;32m~/RQC/MBQC/measurements.py\u001b[0m in \u001b[0;36msim_mes_xp\u001b[0;34m(state, n_modes, n_photons)\u001b[0m\n\u001b[1;32m    117\u001b[0m     \u001b[0mgate2\u001b[0m \u001b[0;34m=\u001b[0m \u001b[0mR_gate\u001b[0m\u001b[0;34m(\u001b[0m\u001b[0;34m-\u001b[0m\u001b[0mnp\u001b[0m\u001b[0;34m.\u001b[0m\u001b[0mpi\u001b[0m\u001b[0;34m/\u001b[0m\u001b[0;36m2\u001b[0m\u001b[0;34m,\u001b[0m \u001b[0;36m1\u001b[0m\u001b[0;34m,\u001b[0m \u001b[0;36m2\u001b[0m\u001b[0;34m,\u001b[0m \u001b[0mn_photons\u001b[0m\u001b[0;34m)\u001b[0m\u001b[0;34m\u001b[0m\u001b[0;34m\u001b[0m\u001b[0m\n\u001b[1;32m    118\u001b[0m     \u001b[0mstate2d_final\u001b[0m \u001b[0;34m=\u001b[0m \u001b[0mnp\u001b[0m\u001b[0;34m.\u001b[0m\u001b[0meinsum\u001b[0m\u001b[0;34m(\u001b[0m\u001b[0;34m'jk,k->j'\u001b[0m\u001b[0;34m,\u001b[0m \u001b[0mgate2\u001b[0m\u001b[0;34m,\u001b[0m \u001b[0mstate2d_\u001b[0m\u001b[0;34m)\u001b[0m\u001b[0;34m\u001b[0m\u001b[0;34m\u001b[0m\u001b[0m\n\u001b[0;32m--> 119\u001b[0;31m     \u001b[0;32mreturn\u001b[0m \u001b[0mmeas_X_theta\u001b[0m\u001b[0;34m(\u001b[0m\u001b[0mstate2d_final\u001b[0m\u001b[0;34m,\u001b[0m \u001b[0;36m0\u001b[0m\u001b[0;34m,\u001b[0m \u001b[0;36m2\u001b[0m\u001b[0;34m,\u001b[0m \u001b[0mn_photons\u001b[0m\u001b[0;34m)\u001b[0m\u001b[0;34m\u001b[0m\u001b[0;34m\u001b[0m\u001b[0m\n\u001b[0m",
      "\u001b[0;32m~/RQC/MBQC/measurements.py\u001b[0m in \u001b[0;36mmeas_X_theta\u001b[0;34m(state, theta, n_modes, n_photons, x_max, x_min, instances_size)\u001b[0m\n\u001b[1;32m    102\u001b[0m         \u001b[0;32mraise\u001b[0m \u001b[0mNotImplementedError\u001b[0m\u001b[0;34m\u001b[0m\u001b[0;34m\u001b[0m\u001b[0m\n\u001b[1;32m    103\u001b[0m     \u001b[0;32melse\u001b[0m\u001b[0;34m:\u001b[0m\u001b[0;34m\u001b[0m\u001b[0;34m\u001b[0m\u001b[0m\n\u001b[0;32m--> 104\u001b[0;31m         \u001b[0;32mreturn\u001b[0m \u001b[0mbootstrap\u001b[0m\u001b[0;34m(\u001b[0m\u001b[0mstate_\u001b[0m\u001b[0;34m,\u001b[0m \u001b[0mn_modes\u001b[0m\u001b[0;34m,\u001b[0m \u001b[0mn_photons\u001b[0m\u001b[0;34m,\u001b[0m \u001b[0minstances_size\u001b[0m\u001b[0;34m)\u001b[0m\u001b[0;34m\u001b[0m\u001b[0;34m\u001b[0m\u001b[0m\n\u001b[0m\u001b[1;32m    105\u001b[0m \u001b[0;34m\u001b[0m\u001b[0m\n\u001b[1;32m    106\u001b[0m \u001b[0;34m\u001b[0m\u001b[0m\n",
      "\u001b[0;32m~/RQC/MBQC/measurements.py\u001b[0m in \u001b[0;36mbootstrap\u001b[0;34m(state, n_modes, n_photons, instances_size)\u001b[0m\n\u001b[1;32m     54\u001b[0m         \u001b[0;32melif\u001b[0m \u001b[0mn_modes\u001b[0m\u001b[0;34m==\u001b[0m\u001b[0;36m2\u001b[0m\u001b[0;34m:\u001b[0m\u001b[0;34m\u001b[0m\u001b[0;34m\u001b[0m\u001b[0m\n\u001b[1;32m     55\u001b[0m             \u001b[0my_pret\u001b[0m \u001b[0;34m=\u001b[0m \u001b[0mnp\u001b[0m\u001b[0;34m.\u001b[0m\u001b[0mrandom\u001b[0m\u001b[0;34m.\u001b[0m\u001b[0muniform\u001b[0m\u001b[0;34m(\u001b[0m\u001b[0;34m-\u001b[0m\u001b[0;36m2\u001b[0m\u001b[0;34m,\u001b[0m \u001b[0;36m2\u001b[0m\u001b[0;34m,\u001b[0m \u001b[0msize\u001b[0m\u001b[0;34m=\u001b[0m\u001b[0;36m65000\u001b[0m\u001b[0;34m)\u001b[0m\u001b[0;34m\u001b[0m\u001b[0;34m\u001b[0m\u001b[0m\n\u001b[0;32m---> 56\u001b[0;31m             \u001b[0mprobabilities\u001b[0m \u001b[0;34m=\u001b[0m \u001b[0mproba_2d\u001b[0m\u001b[0;34m(\u001b[0m\u001b[0mstate\u001b[0m\u001b[0;34m,\u001b[0m \u001b[0mx_pret\u001b[0m\u001b[0;34m,\u001b[0m \u001b[0my_pret\u001b[0m\u001b[0;34m,\u001b[0m \u001b[0mn_photons\u001b[0m\u001b[0;34m)\u001b[0m\u001b[0;34m\u001b[0m\u001b[0;34m\u001b[0m\u001b[0m\n\u001b[0m\u001b[1;32m     57\u001b[0m         \u001b[0;32melif\u001b[0m \u001b[0mn_modes\u001b[0m\u001b[0;34m==\u001b[0m\u001b[0;36m3\u001b[0m\u001b[0;34m:\u001b[0m\u001b[0;34m\u001b[0m\u001b[0;34m\u001b[0m\u001b[0m\n\u001b[1;32m     58\u001b[0m             \u001b[0my_pret\u001b[0m \u001b[0;34m=\u001b[0m \u001b[0mnp\u001b[0m\u001b[0;34m.\u001b[0m\u001b[0mrandom\u001b[0m\u001b[0;34m.\u001b[0m\u001b[0muniform\u001b[0m\u001b[0;34m(\u001b[0m\u001b[0;34m-\u001b[0m\u001b[0;36m2\u001b[0m\u001b[0;34m,\u001b[0m \u001b[0;36m2\u001b[0m\u001b[0;34m,\u001b[0m \u001b[0msize\u001b[0m\u001b[0;34m=\u001b[0m\u001b[0;36m65000\u001b[0m\u001b[0;34m)\u001b[0m\u001b[0;34m\u001b[0m\u001b[0;34m\u001b[0m\u001b[0m\n",
      "\u001b[0;32m~/RQC/MBQC/measurements.py\u001b[0m in \u001b[0;36mproba_2d\u001b[0;34m(state, x_pret, y_pret, n_photons)\u001b[0m\n\u001b[1;32m     24\u001b[0m     \u001b[0;32mfor\u001b[0m \u001b[0mi\u001b[0m \u001b[0;32min\u001b[0m \u001b[0mrange\u001b[0m\u001b[0;34m(\u001b[0m\u001b[0mn_photons\u001b[0m\u001b[0;34m)\u001b[0m\u001b[0;34m:\u001b[0m\u001b[0;34m\u001b[0m\u001b[0;34m\u001b[0m\u001b[0m\n\u001b[1;32m     25\u001b[0m         \u001b[0;32mfor\u001b[0m \u001b[0mj\u001b[0m \u001b[0;32min\u001b[0m \u001b[0mrange\u001b[0m\u001b[0;34m(\u001b[0m\u001b[0mn_photons\u001b[0m\u001b[0;34m)\u001b[0m\u001b[0;34m:\u001b[0m\u001b[0;34m\u001b[0m\u001b[0;34m\u001b[0m\u001b[0m\n\u001b[0;32m---> 26\u001b[0;31m             \u001b[0mpart\u001b[0m \u001b[0;34m=\u001b[0m \u001b[0;34m(\u001b[0m\u001b[0mstate\u001b[0m\u001b[0;34m[\u001b[0m\u001b[0mi\u001b[0m\u001b[0;34m*\u001b[0m\u001b[0mn_photons\u001b[0m\u001b[0;34m+\u001b[0m\u001b[0mj\u001b[0m\u001b[0;34m]\u001b[0m\u001b[0;34m*\u001b[0m\u001b[0mhermval\u001b[0m\u001b[0;34m(\u001b[0m \u001b[0mx_pret\u001b[0m\u001b[0;34m,\u001b[0m \u001b[0mmatrix\u001b[0m\u001b[0;34m[\u001b[0m\u001b[0mi\u001b[0m\u001b[0;34m]\u001b[0m\u001b[0;34m)\u001b[0m\u001b[0;34m*\u001b[0m\u001b[0mhermval\u001b[0m\u001b[0;34m(\u001b[0m\u001b[0my_pret\u001b[0m\u001b[0;34m,\u001b[0m \u001b[0mmatrix\u001b[0m\u001b[0;34m[\u001b[0m\u001b[0mj\u001b[0m\u001b[0;34m]\u001b[0m\u001b[0;34m)\u001b[0m\u001b[0;34m*\u001b[0m\u001b[0mmatrix_factorial\u001b[0m\u001b[0;34m[\u001b[0m\u001b[0mi\u001b[0m\u001b[0;34m,\u001b[0m \u001b[0mj\u001b[0m\u001b[0;34m]\u001b[0m\u001b[0;34m)\u001b[0m\u001b[0;34m\u001b[0m\u001b[0;34m\u001b[0m\u001b[0m\n\u001b[0m\u001b[1;32m     27\u001b[0m             \u001b[0mres\u001b[0m \u001b[0;34m+=\u001b[0m \u001b[0mnp\u001b[0m\u001b[0;34m.\u001b[0m\u001b[0mabs\u001b[0m\u001b[0;34m(\u001b[0m\u001b[0mpart\u001b[0m\u001b[0;34m*\u001b[0m\u001b[0mpart\u001b[0m\u001b[0;34m.\u001b[0m\u001b[0mconj\u001b[0m\u001b[0;34m(\u001b[0m\u001b[0;34m)\u001b[0m\u001b[0;34m)\u001b[0m\u001b[0;34m\u001b[0m\u001b[0;34m\u001b[0m\u001b[0m\n\u001b[1;32m     28\u001b[0m     \u001b[0;32mreturn\u001b[0m \u001b[0mres\u001b[0m\u001b[0;34m*\u001b[0m\u001b[0;36m1.\u001b[0m\u001b[0;34m/\u001b[0m\u001b[0mnp\u001b[0m\u001b[0;34m.\u001b[0m\u001b[0mpi\u001b[0m\u001b[0;34m*\u001b[0m\u001b[0mnp\u001b[0m\u001b[0;34m.\u001b[0m\u001b[0mexp\u001b[0m\u001b[0;34m(\u001b[0m\u001b[0;34m-\u001b[0m\u001b[0;34m(\u001b[0m\u001b[0mx_pret\u001b[0m\u001b[0;34m**\u001b[0m\u001b[0;36m2\u001b[0m\u001b[0;34m+\u001b[0m\u001b[0my_pret\u001b[0m\u001b[0;34m**\u001b[0m\u001b[0;36m2\u001b[0m\u001b[0;34m)\u001b[0m\u001b[0;34m)\u001b[0m\u001b[0;34m\u001b[0m\u001b[0;34m\u001b[0m\u001b[0m\n",
      "\u001b[0;32m~/anaconda3/lib/python3.7/site-packages/numpy/polynomial/hermite.py\u001b[0m in \u001b[0;36mhermval\u001b[0;34m(x, c, tensor)\u001b[0m\n\u001b[1;32m    870\u001b[0m             \u001b[0mnd\u001b[0m \u001b[0;34m=\u001b[0m \u001b[0mnd\u001b[0m \u001b[0;34m-\u001b[0m \u001b[0;36m1\u001b[0m\u001b[0;34m\u001b[0m\u001b[0;34m\u001b[0m\u001b[0m\n\u001b[1;32m    871\u001b[0m             \u001b[0mc0\u001b[0m \u001b[0;34m=\u001b[0m \u001b[0mc\u001b[0m\u001b[0;34m[\u001b[0m\u001b[0;34m-\u001b[0m\u001b[0mi\u001b[0m\u001b[0;34m]\u001b[0m \u001b[0;34m-\u001b[0m \u001b[0mc1\u001b[0m\u001b[0;34m*\u001b[0m\u001b[0;34m(\u001b[0m\u001b[0;36m2\u001b[0m\u001b[0;34m*\u001b[0m\u001b[0;34m(\u001b[0m\u001b[0mnd\u001b[0m \u001b[0;34m-\u001b[0m \u001b[0;36m1\u001b[0m\u001b[0;34m)\u001b[0m\u001b[0;34m)\u001b[0m\u001b[0;34m\u001b[0m\u001b[0;34m\u001b[0m\u001b[0m\n\u001b[0;32m--> 872\u001b[0;31m             \u001b[0mc1\u001b[0m \u001b[0;34m=\u001b[0m \u001b[0mtmp\u001b[0m \u001b[0;34m+\u001b[0m \u001b[0mc1\u001b[0m\u001b[0;34m*\u001b[0m\u001b[0mx2\u001b[0m\u001b[0;34m\u001b[0m\u001b[0;34m\u001b[0m\u001b[0m\n\u001b[0m\u001b[1;32m    873\u001b[0m     \u001b[0;32mreturn\u001b[0m \u001b[0mc0\u001b[0m \u001b[0;34m+\u001b[0m \u001b[0mc1\u001b[0m\u001b[0;34m*\u001b[0m\u001b[0mx2\u001b[0m\u001b[0;34m\u001b[0m\u001b[0;34m\u001b[0m\u001b[0m\n\u001b[1;32m    874\u001b[0m \u001b[0;34m\u001b[0m\u001b[0m\n",
      "\u001b[0;31mKeyboardInterrupt\u001b[0m: "
     ]
    }
   ],
   "source": [
    "es.optimize(func_to_opt,iterations=400)"
   ]
  },
  {
   "cell_type": "code",
   "execution_count": 9,
   "metadata": {},
   "outputs": [
    {
     "name": "stdout",
     "output_type": "stream",
     "text": [
      "final/bestever f-value = 6.556291e-01 6.472522e-01\n",
      "incumbent solution: [-1.88949643  1.73325209  2.28004709  0.09468141 -0.80663694  0.22215413\n",
      "  0.41188024 -1.72217045 ...]\n",
      "std deviations: [0.02866154 0.02636713 0.02844202 0.03145835 0.02954996 0.03034905\n",
      " 0.02997547 0.0284266  ...]\n"
     ]
    }
   ],
   "source": [
    "params = es.result_pretty().xbest\n",
    "final_state = circuit(init_state, params, n_photons)[2]"
   ]
  },
  {
   "cell_type": "code",
   "execution_count": 10,
   "metadata": {},
   "outputs": [
    {
     "data": {
      "text/plain": [
       "array([-1.87593678,  1.7157325 ,  2.2581512 ,  0.08968363, -0.81806151,\n",
       "        0.19988825,  0.38220512, -1.75912734, -0.0156003 ,  1.06708455,\n",
       "       -1.54929678, -0.90327197, -0.51463562, -1.54087278, -0.94063081,\n",
       "        0.31196124,  0.14937838,  0.42246911,  1.0978201 ,  1.15335877,\n",
       "       -0.54892524,  1.99099602,  2.23979085, -0.36508484,  0.04021237,\n",
       "        1.48375989,  1.01231304,  0.84334068, -0.37728293,  1.70429274,\n",
       "        0.6611343 ,  0.59582238,  3.02247696,  1.64323162,  3.03783901,\n",
       "        1.05886431,  1.50812747,  2.83673303,  0.46986815,  0.06144472,\n",
       "       -0.60974012, -1.20871046])"
      ]
     },
     "execution_count": 10,
     "metadata": {},
     "output_type": "execute_result"
    }
   ],
   "source": [
    "params"
   ]
  },
  {
   "cell_type": "code",
   "execution_count": 11,
   "metadata": {},
   "outputs": [
    {
     "name": "stdout",
     "output_type": "stream",
     "text": [
      "(0.26050284944879487+0.957803181234628j) (0.04262677879048539+0.004519111279481204j) (-0.021357444625176254+0.017205237965627493j) (0.00023334371487707117-0.0492042885988862j) (0.030484394082334124-0.01527511118482762j) (-0.0428667678249534-0.08209995493822926j)\n"
     ]
    }
   ],
   "source": [
    "print(*final_state)"
   ]
  },
  {
   "cell_type": "code",
   "execution_count": 12,
   "metadata": {},
   "outputs": [
    {
     "name": "stdout",
     "output_type": "stream",
     "text": [
      "final wanted loss -------  1.2778676371003237\n"
     ]
    }
   ],
   "source": [
    "# 1\n",
    "vacuum_state1 = np.zeros(n_photons)\n",
    "init_state = np.zeros(n_photons)\n",
    "init_state[0] = 1.\n",
    "vacuum_state1[1] = 1.\n",
    "target_state = vacuum_state1\n",
    "\n",
    "final_state = circuit(init_state, params, n_photons)[2]\n",
    "data = sim_mes_xp(target_state, 1, n_photons)\n",
    "print('final wanted loss ------- ', loss_xy(data[:,0], data[:, 1]))"
   ]
  },
  {
   "cell_type": "code",
   "execution_count": 13,
   "metadata": {},
   "outputs": [
    {
     "data": {
      "text/plain": [
       "0.0018374646368093095"
      ]
     },
     "execution_count": 13,
     "metadata": {},
     "output_type": "execute_result"
    }
   ],
   "source": [
    "final_state = final_state.reshape(final_state.shape[0], 1)\n",
    "target_state = target_state.reshape(target_state.shape[0], 1)\n",
    "rho = final_state @ final_state.conj().T\n",
    "rho_target = target_state @ target_state.conj().T\n",
    "fidelity(rho, rho_target)"
   ]
  },
  {
   "cell_type": "code",
   "execution_count": 14,
   "metadata": {},
   "outputs": [
    {
     "data": {
      "text/plain": [
       "(1.0000000000000013+0j)"
      ]
     },
     "execution_count": 14,
     "metadata": {},
     "output_type": "execute_result"
    }
   ],
   "source": [
    "final_state[:,0].dot(final_state[:,0].conj().T)"
   ]
  },
  {
   "cell_type": "code",
   "execution_count": null,
   "metadata": {},
   "outputs": [],
   "source": []
  }
 ],
 "metadata": {
  "kernelspec": {
   "display_name": "Python 3",
   "language": "python",
   "name": "python3"
  },
  "language_info": {
   "codemirror_mode": {
    "name": "ipython",
    "version": 3
   },
   "file_extension": ".py",
   "mimetype": "text/x-python",
   "name": "python",
   "nbconvert_exporter": "python",
   "pygments_lexer": "ipython3",
   "version": "3.7.3"
  }
 },
 "nbformat": 4,
 "nbformat_minor": 2
}
