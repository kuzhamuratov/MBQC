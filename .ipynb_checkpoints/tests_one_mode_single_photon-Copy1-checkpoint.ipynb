{
 "cells": [
  {
   "cell_type": "code",
   "execution_count": 1,
   "metadata": {},
   "outputs": [],
   "source": [
    "from gates import *\n",
    "from states import *\n",
    "from measurements import *\n",
    "from utils import *\n",
    "import numpy as np\n",
    "import matplotlib.pyplot as plt\n",
    "from tqdm import trange\n",
    "import cma"
   ]
  },
  {
   "cell_type": "code",
   "execution_count": 2,
   "metadata": {},
   "outputs": [
    {
     "name": "stdout",
     "output_type": "stream",
     "text": [
      "Done\n"
     ]
    },
    {
     "data": {
      "image/png": "[encoded data removed]",
      "text/plain": [
       "<Figure size 432x288 with 1 Axes>"
      ]
     },
     "metadata": {
      "needs_background": "light"
     },
     "output_type": "display_data"
    }
   ],
   "source": [
    "n_photons = 3\n",
    "state1 = np.zeros(n_photons)\n",
    "state1[0] = 1.\n",
    "state2 = np.zeros(n_photons)\n",
    "state2[0] = 1.\n",
    "state3 = np.zeros(n_photons)\n",
    "state3[1] = 1.\n",
    "state = np.kron(state2, state3)\n",
    "state = np.kron(state1, state)\n",
    "data = meas_X_theta(state, 0., 3, n_photons)\n",
    "plt.hist(data[:,2], bins=100)\n",
    "print('Done')"
   ]
  },
  {
   "cell_type": "markdown",
   "metadata": {},
   "source": [
    "# Initialization"
   ]
  },
  {
   "cell_type": "code",
   "execution_count": 3,
   "metadata": {},
   "outputs": [],
   "source": [
    "n_photons = 4\n",
    "# 1\n",
    "vacuum_state1 = np.zeros(n_photons)\n",
    "vacuum_state1[0] = 1.\n",
    "init_state = vacuum_state1"
   ]
  },
  {
   "cell_type": "code",
   "execution_count": 4,
   "metadata": {},
   "outputs": [
    {
     "data": {
      "text/plain": [
       "array([1., 0., 0., 0.])"
      ]
     },
     "execution_count": 4,
     "metadata": {},
     "output_type": "execute_result"
    }
   ],
   "source": [
    "init_state"
   ]
  },
  {
   "cell_type": "code",
   "execution_count": 5,
   "metadata": {},
   "outputs": [],
   "source": [
    "def circuit(state, params, n_photons):\n",
    "    state_ = state\n",
    "    for i in range(4):\n",
    "        gate1 = N_phase_gate(params[7*i], 4, 1, 1, n_photons) \n",
    "        gate2 = D_gate(params[7*i+1], params[7*i+2], 1, 1, n_photons)\n",
    "        gate3 = R_gate(params[7*i+3], 1, 1, n_photons) \n",
    "        gate4 = S_gate(params[7*i+4], params[7*i+5], 1, 1, n_photons)\n",
    "        gate5 = R_gate(params[7*i+6], 1, 1, n_photons)\n",
    "        state_ = np.einsum('jk,k->j', gate1, state_)\n",
    "        state_ = np.einsum('jk,k->j', gate2, state_)\n",
    "        state_ = np.einsum('jk,k->j', gate3, state_)\n",
    "        state_ = np.einsum('jk,k->j', gate4, state_)\n",
    "        state_ = np.einsum('jk,k->j', gate5, state_)\n",
    "    data = sim_mes_xp(state_, 1, n_photons)\n",
    "    return data[:,0], data[:,1], state_\n",
    "\n",
    "def loss_xy(x1, p1):\n",
    "    H = np.zeros(x1.shape[0], dtype=np.float32)\n",
    "    dimension = x1.shape[0]\n",
    "    H = 0.5*(x1**2/2. + p1**2/2.-3/2.)**2\n",
    "    return np.mean(H) + np.std(H)"
   ]
  },
  {
   "cell_type": "code",
   "execution_count": 6,
   "metadata": {},
   "outputs": [],
   "source": [
    "def func_to_opt(params):\n",
    "    X, P, _ = circuit(init_state, params, n_photons)\n",
    "    return loss_xy(X, P)"
   ]
  },
  {
   "cell_type": "code",
   "execution_count": 7,
   "metadata": {},
   "outputs": [
    {
     "name": "stdout",
     "output_type": "stream",
     "text": [
      "(6_w,13)-aCMA-ES (mu_w=4.0,w_1=38%) in dimension 28 (seed=856603, Wed Jan 22 21:10:56 2020)\n"
     ]
    }
   ],
   "source": [
    "es = cma.CMAEvolutionStrategy(28*[0.3], 0.4)"
   ]
  },
  {
   "cell_type": "code",
   "execution_count": 8,
   "metadata": {},
   "outputs": [
    {
     "name": "stdout",
     "output_type": "stream",
     "text": [
      "Iterat #Fevals   function value  axis ratio  sigma  min&max std  t[m:s]\n",
      "    1     13 1.126028969524690e+00 1.0e+00 3.77e-01  4e-01  4e-01 0:09.1\n",
      "    2     26 1.093243544131933e+00 1.1e+00 3.67e-01  4e-01  4e-01 0:18.2\n",
      "    3     39 9.781609363196306e-01 1.1e+00 3.61e-01  4e-01  4e-01 0:27.3\n",
      "    4     52 1.055568827134694e+00 1.1e+00 3.56e-01  4e-01  4e-01 0:36.5\n",
      "    5     65 1.098232192585204e+00 1.1e+00 3.62e-01  4e-01  4e-01 0:45.5\n",
      "    6     78 1.051192677024204e+00 1.2e+00 3.67e-01  4e-01  4e-01 0:54.6\n",
      "    7     91 1.232993239836916e+00 1.2e+00 3.73e-01  4e-01  4e-01 1:03.6\n",
      "    8    104 9.925982598024037e-01 1.3e+00 3.81e-01  4e-01  4e-01 1:12.8\n",
      "    9    117 1.156917459898949e+00 1.3e+00 3.79e-01  4e-01  4e-01 1:21.9\n",
      "   10    130 1.004371821639965e+00 1.3e+00 3.79e-01  4e-01  4e-01 1:31.1\n",
      "   12    156 1.072937277815231e+00 1.3e+00 3.77e-01  4e-01  4e-01 1:49.4\n",
      "   14    182 1.033909682789376e+00 1.4e+00 3.88e-01  4e-01  4e-01 2:07.6\n",
      "   16    208 1.088460548259987e+00 1.4e+00 3.97e-01  4e-01  4e-01 2:25.8\n",
      "   18    234 1.042454946882146e+00 1.5e+00 4.04e-01  4e-01  4e-01 2:44.2\n",
      "   20    260 1.187839032567209e+00 1.5e+00 4.04e-01  4e-01  4e-01 3:02.6\n",
      "   22    286 1.106286271740698e+00 1.5e+00 3.89e-01  4e-01  4e-01 3:20.8\n",
      "   24    312 8.951966374511324e-01 1.5e+00 4.02e-01  4e-01  4e-01 3:39.2\n",
      "   26    338 1.096598760255197e+00 1.5e+00 4.13e-01  4e-01  4e-01 3:57.6\n",
      "   28    364 9.284831930318382e-01 1.6e+00 4.32e-01  4e-01  5e-01 4:16.2\n",
      "   31    403 1.151983912913529e+00 1.6e+00 4.70e-01  4e-01  5e-01 4:43.6\n",
      "   34    442 1.047699343809776e+00 1.6e+00 4.72e-01  5e-01  5e-01 5:10.9\n",
      "   37    481 1.191693425960704e+00 1.6e+00 4.83e-01  5e-01  5e-01 5:38.1\n",
      "   40    520 9.919575383203136e-01 1.6e+00 5.04e-01  5e-01  5e-01 6:05.2\n",
      "   43    559 1.159678227763174e+00 1.6e+00 5.01e-01  5e-01  5e-01 6:32.5\n",
      "   46    598 1.076850836647005e+00 1.7e+00 4.97e-01  5e-01  5e-01 6:59.8\n",
      "   49    637 1.199958420367016e+00 1.7e+00 4.84e-01  5e-01  5e-01 7:27.1\n",
      "   52    676 1.077751249715551e+00 1.7e+00 4.80e-01  5e-01  5e-01 7:54.4\n",
      "   55    715 1.027568827187867e+00 1.7e+00 4.67e-01  4e-01  5e-01 8:21.7\n",
      "   59    767 1.066295051804439e+00 1.7e+00 4.44e-01  4e-01  5e-01 8:58.0\n",
      "   63    819 1.027491086746569e+00 1.8e+00 4.36e-01  4e-01  5e-01 9:34.3\n",
      "   67    871 1.249362972354756e+00 1.8e+00 4.50e-01  4e-01  5e-01 10:10.6\n",
      "   71    923 1.013661453776740e+00 1.9e+00 3.99e-01  4e-01  4e-01 10:47.1\n",
      "   75    975 9.250060047550023e-01 1.9e+00 3.51e-01  3e-01  4e-01 11:23.5\n",
      "   79   1027 1.047350239269755e+00 1.9e+00 3.32e-01  3e-01  4e-01 11:59.7\n",
      "   83   1079 1.149793793313015e+00 1.9e+00 3.18e-01  3e-01  4e-01 12:36.5\n",
      "   87   1131 1.002887885657351e+00 1.9e+00 3.44e-01  3e-01  4e-01 13:13.4\n",
      "   91   1183 1.063940634501585e+00 1.9e+00 3.74e-01  3e-01  4e-01 13:50.0\n",
      "   96   1248 1.193439137285494e+00 2.0e+00 3.73e-01  3e-01  4e-01 14:35.5\n",
      "  100   1300 9.397312342780593e-01 2.0e+00 3.76e-01  3e-01  4e-01 15:12.0\n",
      "  105   1365 1.008956611436993e+00 2.0e+00 3.82e-01  3e-01  4e-01 15:58.1\n",
      "  110   1430 1.024711561345861e+00 2.0e+00 4.32e-01  4e-01  5e-01 16:43.9\n",
      "  115   1495 1.116139950909459e+00 2.0e+00 4.68e-01  4e-01  5e-01 17:30.0\n",
      "  120   1560 1.067588270445532e+00 2.0e+00 4.79e-01  4e-01  5e-01 18:15.8\n",
      "  125   1625 1.162268806514464e+00 2.1e+00 4.54e-01  4e-01  5e-01 19:01.4\n",
      "  130   1690 1.037943807112679e+00 2.1e+00 5.32e-01  5e-01  6e-01 19:46.9\n",
      "  135   1755 1.070890139669678e+00 2.2e+00 5.77e-01  5e-01  6e-01 20:32.2\n",
      "  141   1833 1.043708996941146e+00 2.2e+00 5.44e-01  5e-01  6e-01 21:27.0\n",
      "  147   1911 9.745550151196558e-01 2.2e+00 5.53e-01  5e-01  6e-01 22:21.9\n",
      "  153   1989 1.161008557502552e+00 2.3e+00 5.78e-01  5e-01  6e-01 23:16.8\n",
      "  159   2067 1.027004508569572e+00 2.3e+00 5.61e-01  5e-01  6e-01 24:11.5\n",
      "  165   2145 1.234773623422828e+00 2.3e+00 5.97e-01  5e-01  7e-01 25:06.8\n",
      "  171   2223 1.207299019233042e+00 2.3e+00 5.63e-01  5e-01  6e-01 26:02.6\n",
      "  177   2301 1.120687703113231e+00 2.3e+00 5.26e-01  5e-01  6e-01 26:57.6\n",
      "  183   2379 1.058580646205198e+00 2.3e+00 5.29e-01  5e-01  6e-01 27:52.9\n",
      "  189   2457 9.981877680101039e-01 2.4e+00 5.29e-01  4e-01  6e-01 28:47.8\n",
      "  196   2548 1.073352544765263e+00 2.4e+00 4.56e-01  4e-01  5e-01 29:51.8\n",
      "  200   2600 1.161428810687132e+00 2.5e+00 4.50e-01  4e-01  5e-01 30:28.6\n",
      "  207   2691 8.875876756496888e-01 2.5e+00 4.84e-01  4e-01  5e-01 31:32.6\n",
      "  214   2782 1.120805311263591e+00 2.5e+00 4.27e-01  4e-01  5e-01 32:36.5\n",
      "  221   2873 1.088865360432606e+00 2.5e+00 4.63e-01  4e-01  5e-01 33:40.1\n",
      "  228   2964 9.402518778170518e-01 2.5e+00 3.87e-01  3e-01  4e-01 34:43.6\n",
      "  235   3055 1.160574081915792e+00 2.5e+00 4.21e-01  4e-01  5e-01 35:47.2\n",
      "  242   3146 9.585694582575877e-01 2.6e+00 4.40e-01  4e-01  5e-01 36:51.1\n",
      "  249   3237 1.012875577158657e+00 2.6e+00 4.46e-01  4e-01  5e-01 37:55.4\n",
      "  257   3341 1.235980052795354e+00 2.7e+00 3.91e-01  3e-01  4e-01 39:08.4\n",
      "  265   3445 1.055879347585118e+00 2.7e+00 3.64e-01  3e-01  4e-01 40:21.1\n",
      "  273   3549 1.055303610672654e+00 2.8e+00 4.12e-01  3e-01  5e-01 41:33.8\n",
      "  281   3653 1.052162559769616e+00 2.8e+00 3.84e-01  3e-01  4e-01 42:47.0\n",
      "  289   3757 1.118622518793014e+00 2.9e+00 3.91e-01  3e-01  4e-01 44:00.1\n",
      "  297   3861 1.091562912817606e+00 3.0e+00 3.64e-01  3e-01  4e-01 45:13.2\n",
      "  300   3900 1.070182387570092e+00 3.0e+00 3.48e-01  3e-01  4e-01 45:40.4\n",
      "  308   4004 1.023395262285912e+00 3.0e+00 2.61e-01  2e-01  3e-01 46:53.8\n",
      "  316   4108 1.023908255037861e+00 3.0e+00 2.72e-01  2e-01  3e-01 48:07.1\n",
      "  325   4225 1.185603876789179e+00 3.0e+00 2.64e-01  2e-01  3e-01 49:29.2\n",
      "  334   4342 1.083937411830093e+00 3.2e+00 2.51e-01  2e-01  3e-01 50:51.5\n",
      "  343   4459 1.099770650558627e+00 3.2e+00 2.83e-01  2e-01  3e-01 52:13.9\n",
      "  352   4576 9.274398552330720e-01 3.2e+00 2.55e-01  2e-01  3e-01 53:36.5\n",
      "  361   4693 9.865442447118304e-01 3.4e+00 2.57e-01  2e-01  3e-01 54:58.8\n",
      "  370   4810 1.064543321928927e+00 3.5e+00 2.49e-01  2e-01  3e-01 56:21.6\n",
      "  379   4927 1.113157120607319e+00 3.5e+00 2.08e-01  2e-01  2e-01 57:44.1\n",
      "  388   5044 1.128226273487941e+00 3.5e+00 2.25e-01  2e-01  2e-01 59:06.1\n",
      "  397   5161 1.102059099049446e+00 3.6e+00 2.75e-01  2e-01  3e-01 60:28.9\n",
      "  400   5200 1.145318770910197e+00 3.6e+00 2.83e-01  2e-01  3e-01 60:56.5\n",
      "  410   5330 9.474057429736509e-01 3.7e+00 2.77e-01  2e-01  3e-01 62:27.5\n",
      "  420   5460 1.033167722329561e+00 3.8e+00 2.97e-01  2e-01  3e-01 63:58.4\n",
      "  430   5590 9.494107826745743e-01 3.8e+00 2.77e-01  2e-01  3e-01 65:29.9\n",
      "  440   5720 9.869802346669085e-01 4.1e+00 3.09e-01  2e-01  3e-01 67:01.3\n",
      "  450   5850 1.142919364617609e+00 4.1e+00 3.53e-01  3e-01  4e-01 68:32.0\n",
      "  460   5980 1.167183645991076e+00 4.2e+00 3.04e-01  2e-01  3e-01 70:03.1\n",
      "  470   6110 9.714619349216507e-01 4.3e+00 2.94e-01  2e-01  3e-01 71:34.2\n",
      "  480   6240 1.318816889602196e+00 4.3e+00 3.53e-01  3e-01  4e-01 73:05.4\n",
      "  490   6370 9.059799442723264e-01 4.2e+00 3.69e-01  3e-01  4e-01 74:36.8\n",
      "  500   6500 9.182260658829871e-01 4.3e+00 2.93e-01  2e-01  3e-01 76:08.1\n",
      "  511   6643 9.952967915359523e-01 4.2e+00 2.72e-01  2e-01  3e-01 77:48.2\n",
      "  522   6786 9.611037194865445e-01 4.3e+00 2.79e-01  2e-01  3e-01 79:28.8\n",
      "  533   6929 1.063912888680449e+00 4.3e+00 3.35e-01  3e-01  4e-01 81:08.7\n",
      "  544   7072 1.305023580546711e+00 4.3e+00 2.81e-01  2e-01  3e-01 82:48.4\n",
      "  555   7215 1.234274592725074e+00 4.4e+00 3.14e-01  3e-01  3e-01 84:28.5\n",
      "  566   7358 1.013602932356739e+00 4.6e+00 3.82e-01  3e-01  4e-01 86:09.1\n",
      "  577   7501 1.011429208566511e+00 4.6e+00 3.79e-01  3e-01  4e-01 87:49.8\n",
      "  588   7644 1.120189168396121e+00 4.8e+00 3.47e-01  3e-01  4e-01 89:30.0\n",
      "  600   7800 1.017720736569663e+00 4.8e+00 3.56e-01  3e-01  4e-01 91:19.5\n",
      "  612   7956 1.182303973833453e+00 4.8e+00 3.40e-01  3e-01  4e-01 93:09.0\n",
      "  624   8112 1.090891697786840e+00 4.9e+00 4.44e-01  3e-01  5e-01 94:57.7\n",
      "  636   8268 1.112738770685879e+00 5.0e+00 4.20e-01  3e-01  5e-01 96:46.5\n",
      "  648   8424 1.043536535148117e+00 5.0e+00 3.86e-01  3e-01  5e-01 98:35.5\n",
      "  660   8580 9.753608295681706e-01 5.2e+00 4.04e-01  3e-01  5e-01 100:25.3\n",
      "  672   8736 1.072306176790411e+00 5.3e+00 3.56e-01  3e-01  4e-01 102:14.9\n",
      "  684   8892 9.755131405998825e-01 5.2e+00 3.99e-01  3e-01  5e-01 104:05.2\n",
      "  696   9048 1.206165395278773e+00 5.3e+00 3.97e-01  3e-01  5e-01 105:54.9\n",
      "  700   9100 1.147749839317528e+00 5.3e+00 4.00e-01  3e-01  5e-01 106:31.5\n"
     ]
    },
    {
     "name": "stdout",
     "output_type": "stream",
     "text": [
      "  713   9269 9.931821969091875e-01 5.4e+00 3.94e-01  3e-01  5e-01 108:30.0\n",
      "  726   9438 9.698875308872232e-01 5.4e+00 3.78e-01  3e-01  4e-01 110:28.2\n",
      "  739   9607 1.046652445361427e+00 5.4e+00 2.89e-01  2e-01  3e-01 112:27.7\n",
      "  752   9776 9.629478345547871e-01 5.7e+00 3.02e-01  2e-01  3e-01 114:25.8\n",
      "  765   9945 1.100285214594509e+00 5.9e+00 3.40e-01  3e-01  4e-01 116:24.5\n",
      "  778  10114 1.157657906947953e+00 5.8e+00 3.28e-01  2e-01  4e-01 118:22.7\n",
      "  791  10283 9.608195692563721e-01 5.9e+00 3.13e-01  2e-01  4e-01 120:21.8\n",
      "  800  10400 1.150123788314751e+00 6.0e+00 3.92e-01  3e-01  5e-01 121:44.5\n",
      "  813  10569 1.222683291408937e+00 6.1e+00 4.27e-01  3e-01  5e-01 123:44.0\n",
      "  827  10751 1.155061566180654e+00 6.3e+00 4.94e-01  4e-01  6e-01 125:52.0\n",
      "  841  10933 1.168097043884929e+00 6.3e+00 5.04e-01  4e-01  6e-01 128:00.4\n",
      "  855  11115 1.083065617577987e+00 6.6e+00 4.02e-01  3e-01  5e-01 130:07.8\n",
      "  869  11297 9.924852195333875e-01 6.8e+00 4.11e-01  3e-01  5e-01 132:14.9\n",
      "  883  11479 1.043746554528088e+00 6.6e+00 4.97e-01  4e-01  6e-01 134:22.2\n",
      "  897  11661 1.083620793176699e+00 6.7e+00 4.36e-01  3e-01  5e-01 136:27.8\n",
      "  900  11700 1.174550000108714e+00 6.7e+00 4.33e-01  3e-01  5e-01 136:54.2\n",
      "  915  11895 1.018130244873215e+00 6.8e+00 4.85e-01  4e-01  6e-01 139:06.0\n",
      "  930  12090 9.805545923072967e-01 6.9e+00 6.80e-01  5e-01  8e-01 141:17.9\n",
      "  945  12285 1.153325853172669e+00 7.2e+00 5.88e-01  4e-01  7e-01 143:30.0\n",
      "  960  12480 1.019942624094932e+00 7.7e+00 6.61e-01  5e-01  9e-01 145:42.3\n",
      "  975  12675 1.080403136791351e+00 7.9e+00 7.88e-01  6e-01  1e+00 147:54.3\n",
      "  991  12883 1.112877287184452e+00 7.9e+00 9.86e-01  7e-01  1e+00 150:15.0\n",
      " 1000  13000 1.105043587315345e+00 8.0e+00 1.36e+00  1e+00  2e+00 151:34.4\n"
     ]
    },
    {
     "data": {
      "text/plain": [
       "<cma.evolution_strategy.CMAEvolutionStrategy at 0x7f101214d668>"
      ]
     },
     "execution_count": 8,
     "metadata": {},
     "output_type": "execute_result"
    }
   ],
   "source": [
    "es.optimize(func_to_opt,iterations=1000)"
   ]
  },
  {
   "cell_type": "code",
   "execution_count": 9,
   "metadata": {},
   "outputs": [
    {
     "name": "stdout",
     "output_type": "stream",
     "text": [
      "final/bestever f-value = 1.105044e+00 8.029963e-01\n",
      "incumbent solution: [-0.57534479 -1.02717874  8.10306816  3.72532488  2.15358156  0.65327188\n",
      " -1.31194044 -4.26050178 ...]\n",
      "std deviations: [1.16234828 1.06009014 1.43758773 1.4941039  1.02080671 1.22976843\n",
      " 1.08067367 1.25202849 ...]\n"
     ]
    }
   ],
   "source": [
    "params = es.result_pretty().xbest\n",
    "final_state = circuit(init_state, params, n_photons)[2]"
   ]
  },
  {
   "cell_type": "code",
   "execution_count": 10,
   "metadata": {},
   "outputs": [
    {
     "data": {
      "text/plain": [
       "array([ 0.21288482+0.06779713j,  0.9189867 +0.30577602j,\n",
       "        0.09583603-0.02753648j, -0.00359357-0.04574226j])"
      ]
     },
     "execution_count": 10,
     "metadata": {},
     "output_type": "execute_result"
    }
   ],
   "source": [
    "final_state"
   ]
  },
  {
   "cell_type": "code",
   "execution_count": 11,
   "metadata": {},
   "outputs": [
    {
     "name": "stdout",
     "output_type": "stream",
     "text": [
      "final wanted loss -------  0.8186093608953295\n"
     ]
    }
   ],
   "source": [
    "n_photons = 4\n",
    "# 1\n",
    "vacuum_state1 = np.zeros(n_photons)\n",
    "vacuum_state1[1] = 1.\n",
    "target_state = vacuum_state1\n",
    "data = sim_mes_xp(target_state, 1, n_photons)\n",
    "print('final wanted loss ------- ', loss_xy(data[:,0], data[:, 1]))"
   ]
  },
  {
   "cell_type": "code",
   "execution_count": 12,
   "metadata": {},
   "outputs": [
    {
     "data": {
      "text/plain": [
       "0.9380355337633218"
      ]
     },
     "execution_count": 12,
     "metadata": {},
     "output_type": "execute_result"
    }
   ],
   "source": [
    "final_state = final_state.reshape(final_state.shape[0], 1)\n",
    "target_state = target_state.reshape(target_state.shape[0], 1)\n",
    "rho = final_state @ final_state.conj().T\n",
    "rho_target = target_state @ target_state.conj().T\n",
    "fidelity(rho, rho_target)"
   ]
  },
  {
   "cell_type": "code",
   "execution_count": null,
   "metadata": {},
   "outputs": [],
   "source": []
  }
 ],
 "metadata": {
  "kernelspec": {
   "display_name": "Python 3",
   "language": "python",
   "name": "python3"
  },
  "language_info": {
   "codemirror_mode": {
    "name": "ipython",
    "version": 3
   },
   "file_extension": ".py",
   "mimetype": "text/x-python",
   "name": "python",
   "nbconvert_exporter": "python",
   "pygments_lexer": "ipython3",
   "version": "3.7.3"
  }
 },
 "nbformat": 4,
 "nbformat_minor": 2
}
