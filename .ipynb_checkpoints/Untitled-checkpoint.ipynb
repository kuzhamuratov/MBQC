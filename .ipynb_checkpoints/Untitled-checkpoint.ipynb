{
 "cells": [
  {
   "cell_type": "code",
   "execution_count": 1,
   "metadata": {},
   "outputs": [],
   "source": [
    "from gates import *\n",
    "from states import *\n",
    "from measurements import *\n",
    "from utils import *\n",
    "import numpy as np\n",
    "import matplotlib.pyplot as plt\n",
    "from tqdm import trange\n",
    "import cma\n",
    "from scipy.special import factorial as fac\n",
    "import scipy.linalg as sla\n",
    "from numpy.polynomial.hermite import hermval"
   ]
  },
  {
   "cell_type": "code",
   "execution_count": 2,
   "metadata": {},
   "outputs": [],
   "source": [
    "def single_meas_homodyne(state, n_photons, n_mode=1, n_modes=2):\n",
    "    x = np.random.uniform(-1, 1) # to DO change to hermval\n",
    "    new_state = np.zeros(n_photons, dtype=np.complex128)\n",
    "    matrix = np.eye(n_photons)\n",
    "    for i in range(n_photons):\n",
    "        for j in range(n_photons):\n",
    "            new_state[i] += state[i*n_photons+j]*1./np.pi**0.25/2**(j/2)/np.sqrt(fac(j))*hermval(x, matrix[j])\n",
    "    \n",
    "    new_state /= sla.norm(new_state)\n",
    "    return new_state, x "
   ]
  },
  {
   "cell_type": "code",
   "execution_count": 3,
   "metadata": {},
   "outputs": [],
   "source": [
    "n_photons = 10\n",
    "state1 = np.random.uniform(-1,1,size=n_photons)\n",
    "state1 /=sla.norm(state1)\n",
    "state2 = np.zeros(n_photons)\n",
    "state2[0] = 1.\n",
    "state = np.kron(state1, state1)"
   ]
  },
  {
   "cell_type": "code",
   "execution_count": 4,
   "metadata": {},
   "outputs": [],
   "source": [
    "new_state, x = single_meas_homodyne(state, n_photons)"
   ]
  },
  {
   "cell_type": "code",
   "execution_count": 5,
   "metadata": {},
   "outputs": [
    {
     "data": {
      "text/plain": [
       "(1+0j)"
      ]
     },
     "execution_count": 5,
     "metadata": {},
     "output_type": "execute_result"
    }
   ],
   "source": [
    "new_state.dot(new_state.conj().T)"
   ]
  },
  {
   "cell_type": "code",
   "execution_count": 6,
   "metadata": {},
   "outputs": [
    {
     "data": {
      "text/plain": [
       "array([-0.30456305, -0.26944145,  0.11943226,  0.28156244,  0.26102667,\n",
       "        0.04558806, -0.13316106, -0.67882372,  0.04166499, -0.43659878])"
      ]
     },
     "execution_count": 6,
     "metadata": {},
     "output_type": "execute_result"
    }
   ],
   "source": [
    "state1"
   ]
  },
  {
   "cell_type": "code",
   "execution_count": 7,
   "metadata": {},
   "outputs": [
    {
     "data": {
      "text/plain": [
       "array([ 0.30456305+0.j,  0.26944145+0.j, -0.11943226+0.j, -0.28156244+0.j,\n",
       "       -0.26102667+0.j, -0.04558806+0.j,  0.13316106+0.j,  0.67882372+0.j,\n",
       "       -0.04166499+0.j,  0.43659878+0.j])"
      ]
     },
     "execution_count": 7,
     "metadata": {},
     "output_type": "execute_result"
    }
   ],
   "source": [
    "new_state"
   ]
  },
  {
   "cell_type": "code",
   "execution_count": 8,
   "metadata": {},
   "outputs": [],
   "source": [
    "def Relu(x):\n",
    "    return np.asarray(list(map(lambda y: max(0, y), x)))\n",
    "def circuit(params, n_photons):\n",
    "    \n",
    "    # photon state\n",
    "    photon_state = np.zeros(n_photons)\n",
    "    photon_state[1] = 1.\n",
    "    # input_random state\n",
    "    input_state = np.random.uniform(size=n_photons)\n",
    "    input_state /= sla.norm(input_state)\n",
    "    # vacuum state\n",
    "    vac_state = np.zeros(n_photons)\n",
    "    vac_state[0] = 1.\n",
    "    \n",
    "    # first stage\n",
    "    initial_state = np.kron(input_state, photon_state)\n",
    "    \n",
    "    # mixing stage №1\n",
    "    gate1 = BS_gate(np.pi/4., np.pi/2., 1, 2, 2, n_photons)\n",
    "    mixing_state = np.einsum('ij, j->i', gate1, initial_state)\n",
    "    \n",
    "    # measurment №1\n",
    "    reduced_state1, x1 = single_meas_homodyne(mixing_state, n_photons, n_mode=1, n_modes=2)\n",
    "    \n",
    "    # preparation squeezed displ state \n",
    "    r_sq = params[0]*x1 + params[1]\n",
    "    phi_sq = params[2]*x1 + params[3]\n",
    "    r = params[4]*x1 + params[5]\n",
    "    phi = params[6]*x1 + params[7]\n",
    "    \n",
    "    gate2 = S_gate(r_sq, phi_sq, 1, 1, n_photons)\n",
    "    gate3 = D_gate(r, phi, 1, 1, n_photons)\n",
    "    sq_disp_state = np.einsum('ij, j->i', gate3, np.einsum('ij, j->i', gate2, photon_state))\n",
    "    \n",
    "    # secong stage\n",
    "    state2 = np.kron(reduced_state1, sq_disp_state)\n",
    "    \n",
    "    # mixing stage №2\n",
    "    gate2 = BS_gate(np.pi/4., np.pi/2., 1, 2, 2, n_photons)\n",
    "    mixing_state2 = np.einsum('ij, j->i', gate2, state2)\n",
    "    \n",
    "    # measurement №2\n",
    "    reduced_state2, x2 = single_meas_homodyne(mixing_state2, n_photons, n_mode=1, n_modes=2)\n",
    "    \n",
    "    # feedback\n",
    "    X1X2 = np.array([x1, x2])\n",
    "    matrix_dec1 = params[8:16].reshape(4, 2)\n",
    "    matrix_dec2 = params[16:32].reshape(4, 4)\n",
    "    bias1 = params[32:36]\n",
    "    bias2 = params[36:40]\n",
    "    \n",
    "    hid = matrix_dec1.dot(X1X2) + bias1\n",
    "    hid = Relu(hid)\n",
    "    out = matrix_dec2.dot(hid) + bias2\n",
    "\n",
    "    r_sq = out[0]\n",
    "    phi_sq =  out[1]\n",
    "    r =  out[2]\n",
    "    phi = out[3]\n",
    "    \n",
    "    gate1 = S_gate(r_sq, phi_sq, 1, 1, n_photons)\n",
    "    gate2 = D_gate(r, phi, 1, 1, n_photons)\n",
    "    final_state = np.einsum('ij, j->i', gate1, np.einsum('ij, j->i', gate2, reduced_state2))\n",
    "\n",
    "# Checking my fool\n",
    "#     gate2 = S_gate(params[1], params[2], 1, 1, n_photons)\n",
    " \n",
    "#     final_state = np.einsum('ij, j->i', gate, input_state)\n",
    "    \n",
    "    return input_state, final_state\n",
    "\n",
    "def loss(input_state, final_state, n_photons):\n",
    "    gate = V_gate(0.01, 1, 1, n_photons)\n",
    "    ideal_state = np.einsum('ij, j->i', gate, input_state)\n",
    "    return np.abs(final_state.dot(ideal_state) - 1.)\n",
    "\n",
    "def func_to_optimize(params):\n",
    "    n_photons = 10\n",
    "    input_state, final_state = circuit(params, n_photons)\n",
    "    return loss(input_state, final_state, n_photons)"
   ]
  },
  {
   "cell_type": "code",
   "execution_count": 9,
   "metadata": {},
   "outputs": [
    {
     "name": "stdout",
     "output_type": "stream",
     "text": [
      "(7_w,15)-aCMA-ES (mu_w=4.5,w_1=34%) in dimension 40 (seed=921438, Thu Jan 23 23:54:47 2020)\n"
     ]
    }
   ],
   "source": [
    "es = cma.CMAEvolutionStrategy(40*[0.1], 0.4)"
   ]
  },
  {
   "cell_type": "code",
   "execution_count": 10,
   "metadata": {},
   "outputs": [
    {
     "name": "stdout",
     "output_type": "stream",
     "text": [
      "Iterat #Fevals   function value  axis ratio  sigma  min&max std  t[m:s]\n",
      "    1     15 2.928403032115819e-01 1.0e+00 3.79e-01  4e-01  4e-01 0:04.0\n",
      "    2     30 2.565251449050330e-01 1.1e+00 3.71e-01  4e-01  4e-01 0:08.7\n",
      "    3     45 4.629253875724066e-01 1.1e+00 3.66e-01  4e-01  4e-01 0:12.3\n",
      "    4     60 6.309624514741549e-01 1.1e+00 3.59e-01  4e-01  4e-01 0:16.1\n",
      "    6     90 5.013732638177160e-01 1.1e+00 3.42e-01  3e-01  3e-01 0:24.1\n",
      "    8    120 4.021283088608227e-01 1.1e+00 3.44e-01  3e-01  3e-01 0:31.4\n",
      "   10    150 4.746788992887717e-01 1.2e+00 3.47e-01  3e-01  4e-01 0:38.5\n",
      "   12    180 5.542032611621825e-01 1.2e+00 3.44e-01  3e-01  4e-01 0:48.7\n",
      "   14    210 6.698082646720526e-01 1.3e+00 3.46e-01  3e-01  4e-01 1:02.2\n",
      "   16    240 8.385256084213562e-01 1.3e+00 3.41e-01  3e-01  3e-01 1:15.6\n",
      "   18    270 6.377429970781210e-01 1.3e+00 3.32e-01  3e-01  3e-01 1:30.1\n",
      "   20    300 7.694271551370656e-01 1.3e+00 3.18e-01  3e-01  3e-01 1:44.0\n",
      "   22    330 5.251550589924988e-01 1.3e+00 3.17e-01  3e-01  3e-01 1:58.8\n",
      "   24    360 6.431930678379929e-01 1.3e+00 3.08e-01  3e-01  3e-01 2:13.8\n",
      "   26    390 7.059894211637028e-01 1.4e+00 2.96e-01  3e-01  3e-01 2:28.6\n",
      "   28    420 3.591333354308091e-01 1.4e+00 2.88e-01  3e-01  3e-01 2:44.6\n",
      "   31    465 7.318815196006687e-01 1.4e+00 2.72e-01  3e-01  3e-01 3:07.2\n",
      "   34    510 5.431425553476240e-01 1.4e+00 2.73e-01  3e-01  3e-01 3:25.8\n",
      "   37    555 6.283122646864326e-01 1.4e+00 2.80e-01  3e-01  3e-01 3:45.3\n",
      "   40    600 7.927137823332636e-01 1.4e+00 2.79e-01  3e-01  3e-01 4:09.3\n",
      "   43    645 5.858360986928438e-01 1.4e+00 2.75e-01  3e-01  3e-01 4:31.5\n",
      "   46    690 6.909794469787978e-01 1.4e+00 2.81e-01  3e-01  3e-01 4:53.5\n",
      "   50    750 8.791249558454122e-01 1.5e+00 2.81e-01  3e-01  3e-01 5:20.8\n",
      "   54    810 3.181121553650909e-01 1.5e+00 2.92e-01  3e-01  3e-01 5:50.7\n",
      "   57    855 7.249346334094006e-01 1.5e+00 3.07e-01  3e-01  3e-01 6:15.2\n",
      "   61    915 4.969404318059052e-01 1.5e+00 3.12e-01  3e-01  3e-01 6:43.3\n",
      "   65    975 7.894322173442961e-01 1.5e+00 2.92e-01  3e-01  3e-01 7:09.9\n",
      "   69   1035 6.621380087312669e-01 1.5e+00 2.93e-01  3e-01  3e-01 7:41.9\n",
      "   73   1095 5.865934770546937e-01 1.6e+00 2.85e-01  3e-01  3e-01 8:11.8\n",
      "   78   1170 7.344232710442766e-01 1.6e+00 2.74e-01  3e-01  3e-01 8:45.8\n",
      "   83   1245 5.578996192899847e-01 1.6e+00 2.77e-01  3e-01  3e-01 9:19.7\n",
      "   88   1320 7.759585423074944e-01 1.7e+00 2.56e-01  2e-01  3e-01 9:56.4\n",
      "   93   1395 7.689240986970897e-01 1.7e+00 2.50e-01  2e-01  3e-01 10:34.2\n",
      "   98   1470 6.213273678909230e-01 1.7e+00 2.68e-01  3e-01  3e-01 11:10.7\n",
      "  100   1500 6.123186034192268e-01 1.7e+00 2.78e-01  3e-01  3e-01 11:23.0\n",
      "  105   1575 9.343763349693938e-01 1.8e+00 2.83e-01  3e-01  3e-01 12:00.4\n",
      "  110   1650 6.224884201103564e-01 1.8e+00 2.88e-01  3e-01  3e-01 12:37.4\n",
      "  115   1725 6.770870198868708e-01 1.9e+00 3.06e-01  3e-01  3e-01 13:16.1\n",
      "  121   1815 5.950906921663034e-01 1.9e+00 3.02e-01  3e-01  3e-01 13:57.1\n",
      "  127   1905 5.665982595256346e-01 1.9e+00 2.97e-01  3e-01  3e-01 14:40.4\n",
      "  133   1995 6.797315531079848e-01 1.9e+00 3.09e-01  3e-01  3e-01 15:22.2\n",
      "  139   2085 5.019028106828807e-01 1.9e+00 3.37e-01  3e-01  4e-01 16:07.0\n",
      "  145   2175 6.575610880676532e-01 1.9e+00 3.43e-01  3e-01  4e-01 16:50.9\n",
      "  152   2280 6.383284356668516e-01 2.0e+00 3.51e-01  3e-01  4e-01 17:40.8\n",
      "  158   2370 7.818881200749721e-01 2.0e+00 3.16e-01  3e-01  3e-01 18:26.5\n",
      "  165   2475 7.657386604028619e-01 2.0e+00 3.12e-01  3e-01  3e-01 19:14.9\n",
      "  172   2580 7.339804583849406e-01 2.1e+00 2.98e-01  3e-01  3e-01 20:08.1\n",
      "  179   2685 7.196956111158056e-01 2.1e+00 2.95e-01  3e-01  3e-01 21:01.6\n",
      "  186   2790 5.780952804524451e-01 2.1e+00 3.06e-01  3e-01  3e-01 21:54.4\n",
      "  193   2895 8.191706905978741e-01 2.1e+00 2.97e-01  3e-01  3e-01 22:46.1\n",
      "  200   3000 7.531425545454278e-01 2.1e+00 2.88e-01  3e-01  3e-01 23:36.6\n",
      "  207   3105 7.066333349389743e-01 2.1e+00 3.00e-01  3e-01  3e-01 24:29.4\n",
      "  215   3225 6.474133622186229e-01 2.1e+00 2.45e-01  2e-01  3e-01 25:28.7\n",
      "  222   3330 4.461255114978774e-01 2.1e+00 2.28e-01  2e-01  2e-01 26:23.9\n",
      "  230   3450 7.848264890519270e-01 2.2e+00 2.28e-01  2e-01  2e-01 27:23.9\n",
      "  238   3570 6.906475703583642e-01 2.2e+00 1.99e-01  2e-01  2e-01 28:24.2\n",
      "  246   3690 3.358980090711750e-01 2.2e+00 2.04e-01  2e-01  2e-01 29:21.8\n",
      "  255   3825 7.733764162110717e-01 2.2e+00 1.93e-01  2e-01  2e-01 30:22.7\n",
      "  263   3945 5.140237214637771e-01 2.2e+00 1.78e-01  2e-01  2e-01 31:22.4\n",
      "  272   4080 6.403932161498421e-01 2.2e+00 1.77e-01  2e-01  2e-01 32:27.7\n",
      "  285   4275 5.258634082857579e-01 2.2e+00 1.95e-01  2e-01  2e-01 33:31.2\n",
      "  299   4485 5.621806100170488e-01 2.3e+00 2.14e-01  2e-01  3e-01 34:35.2\n",
      "  300   4500 8.567902972411119e-01 2.3e+00 2.12e-01  2e-01  3e-01 34:40.1\n",
      "  315   4725 7.450516099965478e-01 2.3e+00 1.62e-01  1e-01  2e-01 35:45.1\n",
      "  330   4950 5.527047904464144e-01 2.3e+00 1.59e-01  1e-01  2e-01 36:50.4\n",
      "  346   5190 6.480960650325024e-01 2.5e+00 1.82e-01  2e-01  2e-01 37:58.1\n",
      "  362   5430 6.327819706466268e-01 2.5e+00 1.57e-01  1e-01  2e-01 39:06.7\n",
      "  378   5670 6.931947147488134e-01 2.5e+00 1.48e-01  1e-01  2e-01 40:13.8\n",
      "  395   5925 6.284928110080261e-01 2.5e+00 1.65e-01  1e-01  2e-01 41:23.7\n",
      "  400   6000 6.294708265160024e-01 2.5e+00 1.75e-01  2e-01  2e-01 41:43.4\n",
      "  434   6510 8.735223163240178e-01 2.7e+00 1.85e-01  2e-01  2e-01 42:55.6\n",
      "  468   7020 3.669687458825794e-01 2.8e+00 1.87e-01  2e-01  2e-01 44:08.8\n",
      "  500   7500 5.607435471118707e-01 2.9e+00 1.43e-01  1e-01  2e-01 45:19.2\n",
      "  533   7995 6.584473706571800e-01 3.1e+00 1.36e-01  1e-01  2e-01 46:32.9\n",
      "  583   8745 7.352748901573335e-01 3.3e+00 1.27e-01  1e-01  1e-01 47:47.4\n",
      "  600   9000 6.848466472556504e-01 3.4e+00 1.52e-01  1e-01  2e-01 47:58.8\n",
      "  700  10500 7.012873374262230e-01 3.8e+00 2.23e-01  2e-01  3e-01 49:05.0\n",
      "  800  12000 5.327286519768587e-01 4.5e+00 2.72e-01  2e-01  3e-01 50:10.9\n",
      "  900  13500 6.165126891940451e-01 4.6e+00 1.54e-01  1e-01  2e-01 51:16.6\n",
      " 1000  15000 5.164660102542981e-01 4.6e+00 1.74e-01  1e-01  2e-01 52:21.8\n"
     ]
    },
    {
     "data": {
      "text/plain": [
       "<cma.evolution_strategy.CMAEvolutionStrategy at 0x7f587d5e9a58>"
      ]
     },
     "execution_count": 10,
     "metadata": {},
     "output_type": "execute_result"
    }
   ],
   "source": [
    "es.optimize(func_to_optimize,iterations=1000)"
   ]
  },
  {
   "cell_type": "code",
   "execution_count": 11,
   "metadata": {},
   "outputs": [
    {
     "name": "stdout",
     "output_type": "stream",
     "text": [
      "final/bestever f-value = 5.164660e-01 1.797261e-01\n",
      "incumbent solution: [ 1.09013425  1.15980297 -2.00175791  0.3163295   4.51038597  2.54196447\n",
      "  0.74676583 -0.74036954 ...]\n",
      "std deviations: [0.16279021 0.1717932  0.1485896  0.19330893 0.14695743 0.1836022\n",
      " 0.14084703 0.16486143 ...]\n"
     ]
    }
   ],
   "source": [
    "params = es.result_pretty().xbest"
   ]
  },
  {
   "cell_type": "code",
   "execution_count": 12,
   "metadata": {},
   "outputs": [
    {
     "data": {
      "text/plain": [
       "0.9320896909290247"
      ]
     },
     "execution_count": 12,
     "metadata": {},
     "output_type": "execute_result"
    }
   ],
   "source": [
    "func_to_optimize(params)"
   ]
  },
  {
   "cell_type": "code",
   "execution_count": 13,
   "metadata": {},
   "outputs": [
    {
     "data": {
      "text/plain": [
       "array([ 1.99839066,  1.30645645, -2.36736976,  1.97360268,  4.59949167,\n",
       "        0.14211983, -1.52078656, -0.95344312,  6.40910802,  0.69607476,\n",
       "       -2.59496406, -1.79042101, -3.89577925, -3.32154816,  0.32514875,\n",
       "       -0.20722328, -3.31134746,  3.93799107,  1.58841484, -3.10372309,\n",
       "       -0.88301712, -4.1985275 ,  2.40964884,  3.37089731, -0.05735056,\n",
       "        1.09242686, -0.34618275, -6.12768341, -0.5940044 , -0.08217062,\n",
       "       -1.9946826 , -1.22305084,  0.31858903, -3.02848691,  1.94920326,\n",
       "        1.9325503 ,  1.78915234,  0.50154762,  2.05402315,  1.24396333])"
      ]
     },
     "execution_count": 13,
     "metadata": {},
     "output_type": "execute_result"
    }
   ],
   "source": [
    "params"
   ]
  },
  {
   "cell_type": "code",
   "execution_count": null,
   "metadata": {},
   "outputs": [],
   "source": []
  },
  {
   "cell_type": "code",
   "execution_count": null,
   "metadata": {},
   "outputs": [],
   "source": []
  },
  {
   "cell_type": "code",
   "execution_count": null,
   "metadata": {},
   "outputs": [],
   "source": []
  }
 ],
 "metadata": {
  "kernelspec": {
   "display_name": "Python 3",
   "language": "python",
   "name": "python3"
  },
  "language_info": {
   "codemirror_mode": {
    "name": "ipython",
    "version": 3
   },
   "file_extension": ".py",
   "mimetype": "text/x-python",
   "name": "python",
   "nbconvert_exporter": "python",
   "pygments_lexer": "ipython3",
   "version": "3.7.3"
  }
 },
 "nbformat": 4,
 "nbformat_minor": 2
}
