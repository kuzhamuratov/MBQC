{
 "cells": [
  {
   "cell_type": "code",
   "execution_count": 1,
   "metadata": {},
   "outputs": [],
   "source": [
    "from gates import *\n",
    "from states import *\n",
    "from measurements import *\n",
    "from utils import *\n",
    "import numpy as np\n",
    "import matplotlib.pyplot as plt\n",
    "from tqdm import trange\n",
    "import cma"
   ]
  },
  {
   "cell_type": "code",
   "execution_count": 2,
   "metadata": {
    "scrolled": true
   },
   "outputs": [
    {
     "name": "stdout",
     "output_type": "stream",
     "text": [
      "Done\n"
     ]
    },
    {
     "data": {
      "image/png": "[encoded data removed]",
      "text/plain": [
       "<Figure size 432x288 with 1 Axes>"
      ]
     },
     "metadata": {
      "needs_background": "light"
     },
     "output_type": "display_data"
    }
   ],
   "source": [
    "n_photons = 2\n",
    "state1 = np.zeros(n_photons)\n",
    "state1[0] = 1.\n",
    "state2 = np.zeros(n_photons)\n",
    "state2[0] = 1.\n",
    "state3 = np.zeros(n_photons)\n",
    "state3[1] = 1.\n",
    "state = np.kron(state2, state3)\n",
    "state = np.kron(state1, state)\n",
    "data = meas_X_theta(state, 0., 3, n_photons)\n",
    "plt.hist(data[:,2], bins=100)\n",
    "print('Done')"
   ]
  },
  {
   "cell_type": "markdown",
   "metadata": {},
   "source": [
    "# Initialization"
   ]
  },
  {
   "cell_type": "code",
   "execution_count": 3,
   "metadata": {},
   "outputs": [],
   "source": [
    "n_photons = 20\n",
    "# 1\n",
    "num_layers = 3\n",
    "vacuum_state1 = np.zeros(n_photons)\n",
    "vacuum_state1[0] = 1.\n",
    "init_state = vacuum_state1"
   ]
  },
  {
   "cell_type": "code",
   "execution_count": 4,
   "metadata": {},
   "outputs": [
    {
     "data": {
      "text/plain": [
       "array([1., 0., 0., 0., 0., 0., 0., 0., 0., 0., 0., 0., 0., 0., 0., 0., 0.,\n",
       "       0., 0., 0.])"
      ]
     },
     "execution_count": 4,
     "metadata": {},
     "output_type": "execute_result"
    }
   ],
   "source": [
    "init_state"
   ]
  },
  {
   "cell_type": "code",
   "execution_count": 5,
   "metadata": {},
   "outputs": [],
   "source": [
    "def circuit(state, params, n_photons):\n",
    "    state_ = state\n",
    "    for i in range(num_layers):\n",
    "        gate1 = N_phase_gate(params[7*i], 4, 1, 1, n_photons) \n",
    "        gate2 = D_gate(params[7*i+1], params[7*i+2], 1, 1, n_photons)\n",
    "        gate3 = R_gate(params[7*i+3], 1, 1, n_photons) \n",
    "        gate4 = S_gate(params[7*i+4], params[7*i+5], 1, 1, n_photons)\n",
    "        gate5 = R_gate(params[7*i+6], 1, 1, n_photons)\n",
    "        state_ = np.einsum('jk,k->j', gate1, state_)\n",
    "        state_ = np.einsum('jk,k->j', gate2, state_)\n",
    "        state_ = np.einsum('jk,k->j', gate3, state_)\n",
    "        state_ = np.einsum('jk,k->j', gate4, state_)\n",
    "        state_ = np.einsum('jk,k->j', gate5, state_)\n",
    "    data = sim_mes_xp(state_, 1, n_photons)\n",
    "    return data[:,0], data[:,1], state_\n",
    "\n",
    "def loss_xy(x1, p1):\n",
    "    H = np.zeros(x1.shape[0], dtype=np.float32)\n",
    "    dimension = x1.shape[0]\n",
    "    H = (x1**2/2. + p1**2/2. - 1/2.)**2\n",
    "    return np.mean(H) + np.std(H)"
   ]
  },
  {
   "cell_type": "code",
   "execution_count": 6,
   "metadata": {},
   "outputs": [],
   "source": [
    "def func_to_opt(params):\n",
    "    X, P, _ = circuit(init_state, params, n_photons)\n",
    "    return loss_xy(X, P)"
   ]
  },
  {
   "cell_type": "code",
   "execution_count": 7,
   "metadata": {},
   "outputs": [
    {
     "name": "stdout",
     "output_type": "stream",
     "text": [
      "(6_w,13)-aCMA-ES (mu_w=4.0,w_1=38%) in dimension 21 (seed=192395, Mon Jan 27 10:24:02 2020)\n"
     ]
    }
   ],
   "source": [
    "init_params = np.random.uniform(size=7*num_layers)\n",
    "es = cma.CMAEvolutionStrategy(init_params, 0.4)"
   ]
  },
  {
   "cell_type": "code",
   "execution_count": null,
   "metadata": {
    "scrolled": true
   },
   "outputs": [
    {
     "name": "stdout",
     "output_type": "stream",
     "text": [
      "Iterat #Fevals   function value  axis ratio  sigma  min&max std  t[m:s]\n",
      "    1     13 1.684432173721749e+00 1.0e+00 3.76e-01  4e-01  4e-01 5:41.3\n",
      "    2     26 2.128853376495070e+00 1.1e+00 3.57e-01  4e-01  4e-01 11:24.5\n",
      "    3     39 1.533110050051368e+00 1.1e+00 3.40e-01  3e-01  3e-01 17:09.2\n",
      "    4     52 1.017769445166961e+00 1.1e+00 3.39e-01  3e-01  3e-01 22:05.1\n",
      "    5     65 1.207644863080241e+00 1.2e+00 3.38e-01  3e-01  3e-01 27:00.5\n",
      "    6     78 1.228397296242801e+00 1.2e+00 3.48e-01  3e-01  4e-01 31:18.8\n",
      "    7     91 1.425371111777898e+00 1.2e+00 3.53e-01  3e-01  4e-01 35:28.7\n",
      "    8    104 8.149783763696385e-01 1.3e+00 3.45e-01  3e-01  4e-01 39:19.9\n",
      "    9    117 1.038711362085407e+00 1.3e+00 3.42e-01  3e-01  4e-01 43:05.9\n",
      "   10    130 1.101865871324356e+00 1.3e+00 3.24e-01  3e-01  3e-01 47:20.4\n",
      "   11    143 9.692758258685652e-01 1.3e+00 3.15e-01  3e-01  3e-01 50:59.4\n",
      "   12    156 1.118214323740903e+00 1.3e+00 3.08e-01  3e-01  3e-01 54:34.4\n",
      "   13    169 1.237849811031780e+00 1.4e+00 3.01e-01  3e-01  3e-01 57:37.7\n",
      "   14    182 1.225191355447931e+00 1.4e+00 2.86e-01  3e-01  3e-01 60:08.9\n",
      "   15    195 7.990915306371492e-01 1.4e+00 2.81e-01  3e-01  3e-01 62:52.2\n",
      "   16    208 1.013074495883863e+00 1.4e+00 2.69e-01  3e-01  3e-01 65:45.5\n",
      "   17    221 9.550579711359235e-01 1.4e+00 2.65e-01  2e-01  3e-01 68:21.9\n",
      "   18    234 1.019377637714655e+00 1.4e+00 2.50e-01  2e-01  3e-01 70:58.0\n",
      "   19    247 9.570876085260096e-01 1.4e+00 2.39e-01  2e-01  3e-01 73:21.7\n",
      "   20    260 7.381235821985508e-01 1.5e+00 2.34e-01  2e-01  2e-01 75:39.5\n",
      "   21    273 7.923005278307729e-01 1.5e+00 2.25e-01  2e-01  2e-01 77:57.2\n",
      "   22    286 7.723817559740569e-01 1.5e+00 2.23e-01  2e-01  2e-01 80:17.4\n",
      "   23    299 7.320511639594575e-01 1.5e+00 2.21e-01  2e-01  2e-01 82:37.9\n",
      "   24    312 8.132479367354604e-01 1.5e+00 2.11e-01  2e-01  2e-01 84:51.0\n",
      "   25    325 7.336037249304013e-01 1.5e+00 2.00e-01  2e-01  2e-01 87:01.6\n",
      "   26    338 8.579423208527044e-01 1.5e+00 1.87e-01  2e-01  2e-01 89:11.9\n",
      "   27    351 7.180852353940697e-01 1.5e+00 1.78e-01  2e-01  2e-01 91:25.4\n",
      "   28    364 7.551750042665841e-01 1.5e+00 1.72e-01  2e-01  2e-01 93:40.4\n",
      "   29    377 8.139984779960479e-01 1.5e+00 1.72e-01  2e-01  2e-01 95:48.5\n",
      "   30    390 9.446207029567846e-01 1.5e+00 1.72e-01  2e-01  2e-01 97:58.9\n",
      "   31    403 7.977348862453750e-01 1.5e+00 1.70e-01  2e-01  2e-01 100:13.1\n",
      "   32    416 8.934537684220047e-01 1.6e+00 1.72e-01  2e-01  2e-01 102:33.1\n",
      "   33    429 7.926019424515017e-01 1.6e+00 1.71e-01  2e-01  2e-01 104:56.6\n",
      "   34    442 7.804431166276529e-01 1.6e+00 1.67e-01  2e-01  2e-01 107:19.1\n",
      "   35    455 9.218010506299358e-01 1.6e+00 1.66e-01  2e-01  2e-01 109:48.3\n",
      "   36    468 9.991087665821194e-01 1.7e+00 1.61e-01  1e-01  2e-01 112:35.4\n",
      "   37    481 7.911358488793109e-01 1.7e+00 1.52e-01  1e-01  2e-01 114:58.4\n",
      "   38    494 7.142549146831960e-01 1.7e+00 1.45e-01  1e-01  2e-01 117:15.9\n",
      "   39    507 6.634618516817041e-01 1.7e+00 1.41e-01  1e-01  1e-01 119:32.3\n",
      "   40    520 6.803269091948572e-01 1.7e+00 1.36e-01  1e-01  1e-01 121:57.9\n",
      "   41    533 7.078343427964969e-01 1.7e+00 1.29e-01  1e-01  1e-01 124:15.9\n",
      "   42    546 6.391218271742872e-01 1.7e+00 1.20e-01  1e-01  1e-01 126:35.7\n",
      "   43    559 6.809247167127782e-01 1.7e+00 1.16e-01  1e-01  1e-01 128:56.7\n",
      "   44    572 6.632847682309168e-01 1.8e+00 1.13e-01  1e-01  1e-01 131:19.9\n",
      "   45    585 6.721159685291050e-01 1.8e+00 1.13e-01  1e-01  1e-01 133:34.7\n",
      "   46    598 7.468261222672034e-01 1.8e+00 1.16e-01  1e-01  1e-01 135:51.5\n",
      "   47    611 6.930251136621153e-01 1.8e+00 1.18e-01  1e-01  1e-01 138:09.0\n",
      "   48    624 6.676645523745974e-01 1.8e+00 1.16e-01  1e-01  1e-01 140:23.4\n",
      "   49    637 6.537539654231468e-01 1.9e+00 1.17e-01  1e-01  1e-01 142:37.2\n",
      "   50    650 6.991195029837036e-01 1.9e+00 1.15e-01  1e-01  1e-01 144:52.2\n",
      "   51    663 7.550227627290509e-01 1.9e+00 1.18e-01  1e-01  1e-01 147:05.3\n",
      "   52    676 6.749554818515052e-01 2.0e+00 1.19e-01  1e-01  1e-01 149:21.6\n",
      "   53    689 6.976271980904019e-01 2.0e+00 1.17e-01  1e-01  1e-01 151:39.8\n",
      "   54    702 6.624780731191273e-01 2.0e+00 1.13e-01  9e-02  1e-01 153:58.7\n",
      "   55    715 7.267837300053540e-01 2.1e+00 1.11e-01  9e-02  1e-01 156:18.6\n",
      "   56    728 6.844416697173458e-01 2.1e+00 1.05e-01  9e-02  1e-01 158:38.6\n"
     ]
    }
   ],
   "source": [
    "es.optimize(func_to_opt,iterations=200)"
   ]
  },
  {
   "cell_type": "code",
   "execution_count": null,
   "metadata": {},
   "outputs": [],
   "source": [
    "params = es.result_pretty().xbest\n",
    "final_state = circuit(init_state, params, n_photons)[2]"
   ]
  },
  {
   "cell_type": "code",
   "execution_count": null,
   "metadata": {},
   "outputs": [],
   "source": [
    "print(*final_state)"
   ]
  },
  {
   "cell_type": "code",
   "execution_count": null,
   "metadata": {},
   "outputs": [],
   "source": [
    "params"
   ]
  },
  {
   "cell_type": "code",
   "execution_count": null,
   "metadata": {},
   "outputs": [],
   "source": [
    "n_photons = 20\n",
    "# 1\n",
    "vacuum_state1 = np.zeros(n_photons)\n",
    "vacuum_state1[1] = 1.\n",
    "target_state = vacuum_state1\n",
    "data = sim_mes_xp(target_state, 1, n_photons)\n",
    "print('final wanted loss ------- ', loss_xy(data[:,0], data[:, 1]))"
   ]
  },
  {
   "cell_type": "code",
   "execution_count": null,
   "metadata": {},
   "outputs": [],
   "source": [
    "final_state = final_state.reshape(final_state.shape[0], 1)\n",
    "target_state = target_state.reshape(target_state.shape[0], 1)\n",
    "rho = final_state @ final_state.conj().T\n",
    "rho_target = target_state @ target_state.conj().T\n",
    "fidelity(rho, rho_target)"
   ]
  },
  {
   "cell_type": "code",
   "execution_count": null,
   "metadata": {},
   "outputs": [],
   "source": []
  },
  {
   "cell_type": "code",
   "execution_count": null,
   "metadata": {},
   "outputs": [],
   "source": []
  }
 ],
 "metadata": {
  "kernelspec": {
   "display_name": "Python 3",
   "language": "python",
   "name": "python3"
  },
  "language_info": {
   "codemirror_mode": {
    "name": "ipython",
    "version": 3
   },
   "file_extension": ".py",
   "mimetype": "text/x-python",
   "name": "python",
   "nbconvert_exporter": "python",
   "pygments_lexer": "ipython3",
   "version": "3.7.3"
  }
 },
 "nbformat": 4,
 "nbformat_minor": 2
}
