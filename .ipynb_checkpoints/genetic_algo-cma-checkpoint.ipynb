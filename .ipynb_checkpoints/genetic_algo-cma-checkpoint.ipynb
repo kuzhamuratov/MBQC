{
 "cells": [
  {
   "cell_type": "code",
   "execution_count": 1,
   "metadata": {},
   "outputs": [],
   "source": [
    "from gates import *\n",
    "from states import *\n",
    "from measurements import *\n",
    "from utils import *\n",
    "import numpy as np\n",
    "import matplotlib.pyplot as plt\n",
    "from tqdm import trange\n",
    "import cma"
   ]
  },
  {
   "cell_type": "markdown",
   "metadata": {},
   "source": [
    "# Initialization"
   ]
  },
  {
   "cell_type": "code",
   "execution_count": 2,
   "metadata": {},
   "outputs": [],
   "source": [
    "n_photons = 50\n",
    "vacuum_state = np.zeros(n_photons)\n",
    "vacuum_state[0] = 1.\n",
    "\n",
    "# from vacuum state to displaced squeezed state\n",
    "coh_dis = [0.5, 0.2, 0.3, 0.3] #squeezed r*np.exp(i*phi)  and coherent |alpha|*np.exp(i*args(alpha))\n",
    "gate2 = S_gate(coh_dis[0], coh_dis[1], n_photons) \n",
    "gate3 = D_gate(coh_dis[2], coh_dis[3], n_photons)\n",
    "\n",
    "state_ = np.einsum('jk,k->j', gate2, vacuum_state)\n",
    "initial_state = np.einsum('jk,k->j', gate3, state_)"
   ]
  },
  {
   "cell_type": "markdown",
   "metadata": {},
   "source": [
    "# Configurations of possible gates"
   ]
  },
  {
   "cell_type": "code",
   "execution_count": 3,
   "metadata": {},
   "outputs": [],
   "source": [
    "# conf1\n",
    "simple_block = {'one_param':[V_gate, R_gate, V_gate], 'two_params':[S_gate, D_gate, S_gate], 'num_params':9}"
   ]
  },
  {
   "cell_type": "markdown",
   "metadata": {},
   "source": [
    "# Configurations of Hamiltonians"
   ]
  },
  {
   "cell_type": "code",
   "execution_count": 4,
   "metadata": {},
   "outputs": [],
   "source": [
    "# Hamiltonians \n",
    "\"\"\"\n",
    "x,p  polynoms <= 6 degree\n",
    "\"\"\"\n",
    "ham = np.array([[0.,0.,1.,0.,0.,0.,0.],\n",
    "                [0.,0.,0.,0.,0.,0.,0.],\n",
    "                [1.,0.,0.,0.,0.,0.,0.],\n",
    "                [0.,0.,0.,0.,0.,0.,0.],\n",
    "                [0.,0.,0.,0.,0.,0.,0.],\n",
    "                [0.,0.,0.,0.,0.,0.,0.],\n",
    "                [0.,0.,0.,0.,0.,0.,0.],\n",
    "                ])"
   ]
  },
  {
   "cell_type": "code",
   "execution_count": 5,
   "metadata": {},
   "outputs": [
    {
     "name": "stdout",
     "output_type": "stream",
     "text": [
      "Initial_state\n"
     ]
    },
    {
     "data": {
      "image/png": "[encoded data removed]",
      "text/plain": [
       "<Figure size 432x288 with 1 Axes>"
      ]
     },
     "metadata": {
      "needs_background": "light"
     },
     "output_type": "display_data"
    }
   ],
   "source": [
    "print(\"Initial_state\")\n",
    "init_state = initial_state.reshape(initial_state.shape[0],1)\n",
    "rho = np.kron(init_state,init_state.conj().T)\n",
    "xvec = np.linspace(-4,4,200)\n",
    "W = wigner_iterative(rho, xvec, xvec)\n",
    "cont0 = plt.contourf(xvec, xvec, W, 20)\n",
    "plt.show()"
   ]
  },
  {
   "cell_type": "code",
   "execution_count": 6,
   "metadata": {},
   "outputs": [],
   "source": [
    "def circuit(state, params, simple_block, n_photons):\n",
    "    \n",
    "    number_of_single_params = len(simple_block['one_param'])\n",
    "    \n",
    "    for ind, gate in enumerate(simple_block['one_param']):\n",
    "        state = np.einsum('jk,k->j', gate(params[ind],n_photons), state)\n",
    "        \n",
    "    for ind, gate in enumerate(simple_block['two_params']):\n",
    "        state = np.einsum('jk,k->j', gate(params[2*ind], params[2*ind+1], n_photons), state)\n",
    "\n",
    "    data_X = meas_X(state, n_photons)\n",
    "    data_P = meas_P(state, n_photons)\n",
    "    return data_X, data_P, state\n",
    "\n",
    "def calc_loss(X, P):\n",
    "    dimension = X.shape[0]\n",
    "    X_sq = X**2\n",
    "    P_sq = P**2\n",
    "    X_cub = X**3\n",
    "    P_cub = P**3\n",
    "    X_quad = X**4\n",
    "    P_quad = P**4\n",
    "    H = np.zeros(dimension**2, dtype=np.float32)\n",
    "    for i in range(dimension):\n",
    "        H[i*dimension:(i+1)*dimension] = (X_sq + P_sq[i]-3/2.)**2\n",
    "    return np.mean(H) + np.std(H)"
   ]
  },
  {
   "cell_type": "code",
   "execution_count": 7,
   "metadata": {},
   "outputs": [],
   "source": [
    "def func_to_opt(params):\n",
    "    X, P, _ = circuit(initial_state, params, simple_block, n_photons)\n",
    "    return calc_loss(X, P)"
   ]
  },
  {
   "cell_type": "code",
   "execution_count": 8,
   "metadata": {},
   "outputs": [
    {
     "name": "stdout",
     "output_type": "stream",
     "text": [
      "(4_w,9)-aCMA-ES (mu_w=2.8,w_1=49%) in dimension 6 (seed=342244, Fri Jan 17 15:28:06 2020)\n"
     ]
    }
   ],
   "source": [
    "es = cma.CMAEvolutionStrategy(6*[0.5], 0.4)"
   ]
  },
  {
   "cell_type": "code",
   "execution_count": 9,
   "metadata": {},
   "outputs": [
    {
     "name": "stdout",
     "output_type": "stream",
     "text": [
      "Iterat #Fevals   function value  axis ratio  sigma  min&max std  t[m:s]\n",
      "    1      9 1.059312896728516e+02 1.0e+00 3.69e-01  4e-01  4e-01 0:06.3\n",
      "    2     18 5.039984130859375e+01 1.2e+00 3.97e-01  4e-01  4e-01 0:12.6\n",
      "    3     27 1.462600135803223e+01 1.4e+00 4.27e-01  4e-01  5e-01 0:18.6\n",
      "    4     36 8.481723785400391e+00 1.5e+00 4.26e-01  4e-01  5e-01 0:24.6\n",
      "    5     45 4.738641262054443e+00 1.7e+00 4.14e-01  4e-01  4e-01 0:30.6\n",
      "    6     54 8.647314071655273e+00 1.8e+00 3.89e-01  3e-01  4e-01 0:36.7\n",
      "    7     63 5.966613292694092e+00 1.9e+00 3.60e-01  3e-01  4e-01 0:42.7\n",
      "    9     81 7.226078033447266e+00 1.9e+00 3.09e-01  2e-01  3e-01 0:54.8\n",
      "   11     99 7.636140823364258e+00 2.1e+00 2.42e-01  2e-01  2e-01 1:06.9\n",
      "   13    117 4.876632213592529e+00 2.3e+00 2.06e-01  1e-01  2e-01 1:19.8\n",
      "   15    135 5.898262023925781e+00 2.4e+00 1.76e-01  1e-01  2e-01 1:33.9\n",
      "   17    153 3.750919103622437e+00 2.3e+00 1.49e-01  9e-02  1e-01 1:46.5\n",
      "   19    171 3.765395402908325e+00 2.5e+00 1.19e-01  7e-02  1e-01 1:59.0\n",
      "   21    189 3.580116033554077e+00 2.5e+00 1.03e-01  6e-02  9e-02 2:12.1\n"
     ]
    },
    {
     "ename": "KeyboardInterrupt",
     "evalue": "",
     "output_type": "error",
     "traceback": [
      "\u001b[0;31m---------------------------------------------------------------------------\u001b[0m",
      "\u001b[0;31mKeyboardInterrupt\u001b[0m                         Traceback (most recent call last)",
      "\u001b[0;32m<ipython-input-9-b52854933881>\u001b[0m in \u001b[0;36m<module>\u001b[0;34m\u001b[0m\n\u001b[0;32m----> 1\u001b[0;31m \u001b[0mes\u001b[0m\u001b[0;34m.\u001b[0m\u001b[0moptimize\u001b[0m\u001b[0;34m(\u001b[0m\u001b[0mfunc_to_opt\u001b[0m\u001b[0;34m,\u001b[0m\u001b[0miterations\u001b[0m\u001b[0;34m=\u001b[0m\u001b[0;36m1000\u001b[0m\u001b[0;34m)\u001b[0m\u001b[0;34m\u001b[0m\u001b[0;34m\u001b[0m\u001b[0m\n\u001b[0m",
      "\u001b[0;32m~/anaconda3/lib/python3.7/site-packages/cma/interfaces.py\u001b[0m in \u001b[0;36moptimize\u001b[0;34m(self, objective_fct, maxfun, iterations, min_iterations, args, verb_disp, callback)\u001b[0m\n\u001b[1;32m    179\u001b[0m \u001b[0;34m\u001b[0m\u001b[0m\n\u001b[1;32m    180\u001b[0m             \u001b[0mX\u001b[0m \u001b[0;34m=\u001b[0m \u001b[0mself\u001b[0m\u001b[0;34m.\u001b[0m\u001b[0mask\u001b[0m\u001b[0;34m(\u001b[0m\u001b[0;34m)\u001b[0m  \u001b[0;31m# deliver candidate solutions\u001b[0m\u001b[0;34m\u001b[0m\u001b[0;34m\u001b[0m\u001b[0m\n\u001b[0;32m--> 181\u001b[0;31m             \u001b[0mfitvals\u001b[0m \u001b[0;34m=\u001b[0m \u001b[0;34m[\u001b[0m\u001b[0mobjective_fct\u001b[0m\u001b[0;34m(\u001b[0m\u001b[0mx\u001b[0m\u001b[0;34m,\u001b[0m \u001b[0;34m*\u001b[0m\u001b[0margs\u001b[0m\u001b[0;34m)\u001b[0m \u001b[0;32mfor\u001b[0m \u001b[0mx\u001b[0m \u001b[0;32min\u001b[0m \u001b[0mX\u001b[0m\u001b[0;34m]\u001b[0m\u001b[0;34m\u001b[0m\u001b[0;34m\u001b[0m\u001b[0m\n\u001b[0m\u001b[1;32m    182\u001b[0m             \u001b[0mcevals\u001b[0m \u001b[0;34m+=\u001b[0m \u001b[0mlen\u001b[0m\u001b[0;34m(\u001b[0m\u001b[0mfitvals\u001b[0m\u001b[0;34m)\u001b[0m\u001b[0;34m\u001b[0m\u001b[0;34m\u001b[0m\u001b[0m\n\u001b[1;32m    183\u001b[0m             \u001b[0mself\u001b[0m\u001b[0;34m.\u001b[0m\u001b[0mtell\u001b[0m\u001b[0;34m(\u001b[0m\u001b[0mX\u001b[0m\u001b[0;34m,\u001b[0m \u001b[0mfitvals\u001b[0m\u001b[0;34m)\u001b[0m  \u001b[0;31m# all the work is done here\u001b[0m\u001b[0;34m\u001b[0m\u001b[0;34m\u001b[0m\u001b[0m\n",
      "\u001b[0;32m~/anaconda3/lib/python3.7/site-packages/cma/interfaces.py\u001b[0m in \u001b[0;36m<listcomp>\u001b[0;34m(.0)\u001b[0m\n\u001b[1;32m    179\u001b[0m \u001b[0;34m\u001b[0m\u001b[0m\n\u001b[1;32m    180\u001b[0m             \u001b[0mX\u001b[0m \u001b[0;34m=\u001b[0m \u001b[0mself\u001b[0m\u001b[0;34m.\u001b[0m\u001b[0mask\u001b[0m\u001b[0;34m(\u001b[0m\u001b[0;34m)\u001b[0m  \u001b[0;31m# deliver candidate solutions\u001b[0m\u001b[0;34m\u001b[0m\u001b[0;34m\u001b[0m\u001b[0m\n\u001b[0;32m--> 181\u001b[0;31m             \u001b[0mfitvals\u001b[0m \u001b[0;34m=\u001b[0m \u001b[0;34m[\u001b[0m\u001b[0mobjective_fct\u001b[0m\u001b[0;34m(\u001b[0m\u001b[0mx\u001b[0m\u001b[0;34m,\u001b[0m \u001b[0;34m*\u001b[0m\u001b[0margs\u001b[0m\u001b[0;34m)\u001b[0m \u001b[0;32mfor\u001b[0m \u001b[0mx\u001b[0m \u001b[0;32min\u001b[0m \u001b[0mX\u001b[0m\u001b[0;34m]\u001b[0m\u001b[0;34m\u001b[0m\u001b[0;34m\u001b[0m\u001b[0m\n\u001b[0m\u001b[1;32m    182\u001b[0m             \u001b[0mcevals\u001b[0m \u001b[0;34m+=\u001b[0m \u001b[0mlen\u001b[0m\u001b[0;34m(\u001b[0m\u001b[0mfitvals\u001b[0m\u001b[0;34m)\u001b[0m\u001b[0;34m\u001b[0m\u001b[0;34m\u001b[0m\u001b[0m\n\u001b[1;32m    183\u001b[0m             \u001b[0mself\u001b[0m\u001b[0;34m.\u001b[0m\u001b[0mtell\u001b[0m\u001b[0;34m(\u001b[0m\u001b[0mX\u001b[0m\u001b[0;34m,\u001b[0m \u001b[0mfitvals\u001b[0m\u001b[0;34m)\u001b[0m  \u001b[0;31m# all the work is done here\u001b[0m\u001b[0;34m\u001b[0m\u001b[0;34m\u001b[0m\u001b[0m\n",
      "\u001b[0;32m<ipython-input-7-fe66dbea9e01>\u001b[0m in \u001b[0;36mfunc_to_opt\u001b[0;34m(params)\u001b[0m\n\u001b[1;32m      1\u001b[0m \u001b[0;32mdef\u001b[0m \u001b[0mfunc_to_opt\u001b[0m\u001b[0;34m(\u001b[0m\u001b[0mparams\u001b[0m\u001b[0;34m)\u001b[0m\u001b[0;34m:\u001b[0m\u001b[0;34m\u001b[0m\u001b[0;34m\u001b[0m\u001b[0m\n\u001b[1;32m      2\u001b[0m     \u001b[0mX\u001b[0m\u001b[0;34m,\u001b[0m \u001b[0mP\u001b[0m\u001b[0;34m,\u001b[0m \u001b[0m_\u001b[0m \u001b[0;34m=\u001b[0m \u001b[0mcircuit\u001b[0m\u001b[0;34m(\u001b[0m\u001b[0minitial_state\u001b[0m\u001b[0;34m,\u001b[0m \u001b[0mparams\u001b[0m\u001b[0;34m,\u001b[0m \u001b[0msimple_block\u001b[0m\u001b[0;34m,\u001b[0m \u001b[0mn_photons\u001b[0m\u001b[0;34m)\u001b[0m\u001b[0;34m\u001b[0m\u001b[0;34m\u001b[0m\u001b[0m\n\u001b[0;32m----> 3\u001b[0;31m     \u001b[0;32mreturn\u001b[0m \u001b[0mcalc_loss\u001b[0m\u001b[0;34m(\u001b[0m\u001b[0mX\u001b[0m\u001b[0;34m,\u001b[0m \u001b[0mP\u001b[0m\u001b[0;34m)\u001b[0m\u001b[0;34m\u001b[0m\u001b[0;34m\u001b[0m\u001b[0m\n\u001b[0m",
      "\u001b[0;32m<ipython-input-6-7d646c2bf040>\u001b[0m in \u001b[0;36mcalc_loss\u001b[0;34m(X, P)\u001b[0m\n\u001b[1;32m     23\u001b[0m     \u001b[0mH\u001b[0m \u001b[0;34m=\u001b[0m \u001b[0mnp\u001b[0m\u001b[0;34m.\u001b[0m\u001b[0mzeros\u001b[0m\u001b[0;34m(\u001b[0m\u001b[0mdimension\u001b[0m\u001b[0;34m**\u001b[0m\u001b[0;36m2\u001b[0m\u001b[0;34m,\u001b[0m \u001b[0mdtype\u001b[0m\u001b[0;34m=\u001b[0m\u001b[0mnp\u001b[0m\u001b[0;34m.\u001b[0m\u001b[0mfloat32\u001b[0m\u001b[0;34m)\u001b[0m\u001b[0;34m\u001b[0m\u001b[0;34m\u001b[0m\u001b[0m\n\u001b[1;32m     24\u001b[0m     \u001b[0;32mfor\u001b[0m \u001b[0mi\u001b[0m \u001b[0;32min\u001b[0m \u001b[0mrange\u001b[0m\u001b[0;34m(\u001b[0m\u001b[0mdimension\u001b[0m\u001b[0;34m)\u001b[0m\u001b[0;34m:\u001b[0m\u001b[0;34m\u001b[0m\u001b[0;34m\u001b[0m\u001b[0m\n\u001b[0;32m---> 25\u001b[0;31m         \u001b[0mH\u001b[0m\u001b[0;34m[\u001b[0m\u001b[0mi\u001b[0m\u001b[0;34m*\u001b[0m\u001b[0mdimension\u001b[0m\u001b[0;34m:\u001b[0m\u001b[0;34m(\u001b[0m\u001b[0mi\u001b[0m\u001b[0;34m+\u001b[0m\u001b[0;36m1\u001b[0m\u001b[0;34m)\u001b[0m\u001b[0;34m*\u001b[0m\u001b[0mdimension\u001b[0m\u001b[0;34m]\u001b[0m \u001b[0;34m=\u001b[0m \u001b[0;34m(\u001b[0m\u001b[0mX_sq\u001b[0m \u001b[0;34m+\u001b[0m \u001b[0mP_sq\u001b[0m\u001b[0;34m[\u001b[0m\u001b[0mi\u001b[0m\u001b[0;34m]\u001b[0m\u001b[0;34m-\u001b[0m\u001b[0;36m3\u001b[0m\u001b[0;34m/\u001b[0m\u001b[0;36m2.\u001b[0m\u001b[0;34m)\u001b[0m\u001b[0;34m**\u001b[0m\u001b[0;36m2\u001b[0m\u001b[0;34m\u001b[0m\u001b[0;34m\u001b[0m\u001b[0m\n\u001b[0m\u001b[1;32m     26\u001b[0m     \u001b[0;32mreturn\u001b[0m \u001b[0mnp\u001b[0m\u001b[0;34m.\u001b[0m\u001b[0mmean\u001b[0m\u001b[0;34m(\u001b[0m\u001b[0mH\u001b[0m\u001b[0;34m)\u001b[0m \u001b[0;34m+\u001b[0m \u001b[0mnp\u001b[0m\u001b[0;34m.\u001b[0m\u001b[0mstd\u001b[0m\u001b[0;34m(\u001b[0m\u001b[0mH\u001b[0m\u001b[0;34m)\u001b[0m\u001b[0;34m\u001b[0m\u001b[0;34m\u001b[0m\u001b[0m\n",
      "\u001b[0;31mKeyboardInterrupt\u001b[0m: "
     ]
    }
   ],
   "source": [
    "es.optimize(func_to_opt,iterations=1000)"
   ]
  },
  {
   "cell_type": "code",
   "execution_count": 10,
   "metadata": {},
   "outputs": [
    {
     "name": "stdout",
     "output_type": "stream",
     "text": [
      "final/bestever f-value = 3.390526e+00 3.390526e+00\n",
      "incumbent solution: [0.08904161174493166, 0.08473435972687438, -0.24618745073474366, 0.8372858316222493, -0.6017104284626561, 0.313182751195418]\n",
      "std deviation: [0.05825500629296947, 0.06670920614332762, 0.06708403293425452, 0.07092336273394197, 0.05831883911139632, 0.08538741421995258]\n"
     ]
    }
   ],
   "source": [
    "res = es.result_pretty().xbest"
   ]
  },
  {
   "cell_type": "code",
   "execution_count": 11,
   "metadata": {},
   "outputs": [
    {
     "name": "stdout",
     "output_type": "stream",
     "text": [
      "0.11535697280105095 0.1323794192837964 -0.22077438640961514 0.8402940441306983 -0.6717749042636939 0.4273248453829696\n"
     ]
    }
   ],
   "source": [
    "print(*res)"
   ]
  },
  {
   "cell_type": "code",
   "execution_count": 12,
   "metadata": {},
   "outputs": [
    {
     "name": "stdout",
     "output_type": "stream",
     "text": [
      "H_mean + H_std = 3.619925022125244\n",
      "Final_state\n"
     ]
    },
    {
     "data": {
      "image/png": "[encoded data removed]",
      "text/plain": [
       "<Figure size 432x288 with 1 Axes>"
      ]
     },
     "metadata": {
      "needs_background": "light"
     },
     "output_type": "display_data"
    }
   ],
   "source": [
    "X, P, final_state = circuit(initial_state, res, simple_block, n_photons)\n",
    "print('H_mean + H_std = {}'.format(calc_loss(X, P)))\n",
    "final_state = final_state.reshape(final_state.shape[0],1)\n",
    "rho_new = np.kron(final_state,final_state.conj().T)\n",
    "print(\"Final_state\")\n",
    "xvec = np.linspace(-5,5,200)\n",
    "W = wigner_iterative(rho_new, xvec, xvec)\n",
    "cont0 = plt.contourf(xvec, xvec, W, 20)\n",
    "plt.show()"
   ]
  },
  {
   "cell_type": "code",
   "execution_count": 13,
   "metadata": {},
   "outputs": [
    {
     "data": {
      "text/plain": [
       "0.9753951466723374"
      ]
     },
     "execution_count": 13,
     "metadata": {},
     "output_type": "execute_result"
    }
   ],
   "source": [
    "targ_state = np.zeros(n_photons)\n",
    "targ_state[0] = 1.\n",
    "targ_state = targ_state.reshape(targ_state.shape[0],1)\n",
    "rho_targ = np.kron(targ_state, targ_state.conj().T)\n",
    "fidelity(rho_new, rho_targ)"
   ]
  },
  {
   "cell_type": "code",
   "execution_count": null,
   "metadata": {},
   "outputs": [],
   "source": []
  },
  {
   "cell_type": "code",
   "execution_count": null,
   "metadata": {},
   "outputs": [],
   "source": []
  }
 ],
 "metadata": {
  "kernelspec": {
   "display_name": "Python 3",
   "language": "python",
   "name": "python3"
  },
  "language_info": {
   "codemirror_mode": {
    "name": "ipython",
    "version": 3
   },
   "file_extension": ".py",
   "mimetype": "text/x-python",
   "name": "python",
   "nbconvert_exporter": "python",
   "pygments_lexer": "ipython3",
   "version": "3.7.3"
  }
 },
 "nbformat": 4,
 "nbformat_minor": 2
}
