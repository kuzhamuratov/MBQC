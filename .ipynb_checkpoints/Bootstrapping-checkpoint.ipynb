{
 "cells": [
  {
   "cell_type": "code",
   "execution_count": 1,
   "metadata": {},
   "outputs": [],
   "source": [
    "import numpy as np\n",
    "from numpy.polynomial.hermite import hermval\n",
    "from scipy.special import factorial\n",
    "from tqdm import tnrange"
   ]
  },
  {
   "cell_type": "code",
   "execution_count": null,
   "metadata": {},
   "outputs": [],
   "source": []
  },
  {
   "cell_type": "code",
   "execution_count": null,
   "metadata": {},
   "outputs": [],
   "source": []
  },
  {
   "cell_type": "code",
   "execution_count": null,
   "metadata": {},
   "outputs": [],
   "source": []
  },
  {
   "cell_type": "code",
   "execution_count": null,
   "metadata": {},
   "outputs": [],
   "source": [
    "%%time\n",
    "n_photons = 10\n",
    "state1 = np.zeros(n_photons)\n",
    "state1[0] = 1.\n",
    "state2 = np.zeros(n_photons)\n",
    "state2[1] = 1.\n",
    "state = np.kron(state1, state2)\n",
    "state3 = np.zeros(n_photons)\n",
    "state3[1] = 1.\n",
    "state = np.kron(state, state3)\n",
    "matrix = np.eye(n_photons)\n",
    "def proba_3(state, x_pret, y_pret, z_pret, n_photons):\n",
    "    res = 0\n",
    "    matrix = np.eye(n_photons)\n",
    "    for i in range(n_photons):\n",
    "        for j in range(n_photons):\n",
    "            for k in range(n_photons):\n",
    "                part = (state[k*n_photons**2+i*n_photons+j]*hermval(x_pret, matrix[i])*hermval(y_pret, matrix[j])*\n",
    "                hermval(z_pret, matrix[k])*np.exp(-(x_pret**2+y_pret**2+z_pret**2)/2.)) \n",
    "                #*1./np.sqrt(factorial(i)*factorial(j)*factorial(k))*2**(-(i+j+k)/2.)*\n",
    "#                         1./np.pi**0.5)\n",
    "                res += np.abs(part*part.conj())\n",
    "    return res\n",
    "\n",
    "step = 0\n",
    "threshold_length = 100000\n",
    "cur_length = 0\n",
    "while cur_length <= threshold_length:\n",
    "    x_pret = np.random.uniform(-5,5,size=10000)\n",
    "    y_pret = np.random.uniform(-5,5,size=10000)\n",
    "    z_pret = np.random.uniform(-5,5,size=10000)\n",
    "    p = np.random.uniform(size=10000)\n",
    "    probabilities = proba_3(state,x_pret, y_pret, z_pret, n_photons)\n",
    "    eq = probabilities>=p\n",
    "    length = x_pret[eq].shape[0]\n",
    "    cur_length += length\n",
    "    arr = np.concatenate([x_pret[eq].reshape(length,1),y_pret[probabilities>=p].reshape(length,1),\n",
    "                         z_pret[eq].reshape(length,1)],axis=1)\n",
    "    if step==0:\n",
    "        data = arr\n",
    "        step = 1\n",
    "    else:\n",
    "        data = np.concatenate([data,arr], axis=0)\n",
    "data.shape"
   ]
  },
  {
   "cell_type": "code",
   "execution_count": null,
   "metadata": {},
   "outputs": [],
   "source": []
  },
  {
   "cell_type": "code",
   "execution_count": null,
   "metadata": {},
   "outputs": [],
   "source": []
  },
  {
   "cell_type": "code",
   "execution_count": 2,
   "metadata": {},
   "outputs": [
    {
     "data": {
      "text/plain": [
       "(50005, 2)"
      ]
     },
     "execution_count": 2,
     "metadata": {},
     "output_type": "execute_result"
    }
   ],
   "source": [
    "n_photons = 10\n",
    "state1 = np.zeros(n_photons)\n",
    "state1[0] = 1.\n",
    "state2 = np.zeros(n_photons)\n",
    "state2[1] = 1.\n",
    "state = np.kron(state1, state2)\n",
    "matrix = np.eye(n_photons)\n",
    "def proba(state, x_pret, y_pret, n_photons):\n",
    "    res = 0\n",
    "    for i in range(n_photons):\n",
    "        for j in range(n_photons):\n",
    "            part = (state[i*n_photons+j]*hermval( x_pret, matrix[i])*hermval(y_pret, matrix[j])*\n",
    "                1./np.sqrt(factorial(i)*factorial(j))*2**(-(i+j)/2.)*1./np.pi**0.5*np.exp(-(x_pret**2+y_pret**2)/2.))\n",
    "            res += np.abs(part*part.conj())\n",
    "    return res\n",
    "\n",
    "step = 0\n",
    "threshold_length = 50000\n",
    "cur_length = 0\n",
    "while cur_length <= threshold_length:\n",
    "    x_pret = np.random.uniform(-5,5,size=10000)\n",
    "    y_pret = np.random.uniform(-5,5,size=10000)\n",
    "    p = np.random.uniform(size=10000)\n",
    "    probabilities = proba(state,x_pret, y_pret, n_photons)\n",
    "    eq = probabilities>=p\n",
    "    length = x_pret[eq].shape[0]\n",
    "    cur_length += length\n",
    "    arr = np.concatenate([x_pret[eq].reshape(length,1),y_pret[probabilities>=p].reshape(length,1)],axis=1)\n",
    "    if step==0:\n",
    "        data = arr\n",
    "        step = 1\n",
    "    else:\n",
    "        data = np.concatenate([data,arr], axis=0)\n",
    "data.shape"
   ]
  },
  {
   "cell_type": "code",
   "execution_count": 3,
   "metadata": {},
   "outputs": [
    {
     "name": "stdout",
     "output_type": "stream",
     "text": [
      "done\n"
     ]
    }
   ],
   "source": [
    "import matplotlib.pyplot as plt\n",
    "plt.hist(data,bins=100)\n",
    "print('done')"
   ]
  },
  {
   "cell_type": "code",
   "execution_count": null,
   "metadata": {},
   "outputs": [],
   "source": []
  }
 ],
 "metadata": {
  "kernelspec": {
   "display_name": "Python 3",
   "language": "python",
   "name": "python3"
  },
  "language_info": {
   "codemirror_mode": {
    "name": "ipython",
    "version": 3
   },
   "file_extension": ".py",
   "mimetype": "text/x-python",
   "name": "python",
   "nbconvert_exporter": "python",
   "pygments_lexer": "ipython3",
   "version": "3.7.3"
  }
 },
 "nbformat": 4,
 "nbformat_minor": 2
}
