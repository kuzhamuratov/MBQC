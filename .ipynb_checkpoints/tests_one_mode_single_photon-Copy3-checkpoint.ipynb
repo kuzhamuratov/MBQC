{
 "cells": [
  {
   "cell_type": "code",
   "execution_count": 1,
   "metadata": {},
   "outputs": [],
   "source": [
    "from gates import *\n",
    "from states import *\n",
    "from measurements import *\n",
    "from utils import *\n",
    "import numpy as np\n",
    "import matplotlib.pyplot as plt\n",
    "from tqdm import trange\n",
    "import cma"
   ]
  },
  {
   "cell_type": "code",
   "execution_count": 2,
   "metadata": {},
   "outputs": [
    {
     "name": "stdout",
     "output_type": "stream",
     "text": [
      "Done\n"
     ]
    },
    {
     "data": {
      "image/png": "[encoded data removed]",
      "text/plain": [
       "<Figure size 432x288 with 1 Axes>"
      ]
     },
     "metadata": {
      "needs_background": "light"
     },
     "output_type": "display_data"
    }
   ],
   "source": [
    "n_photons = 3\n",
    "state1 = np.zeros(n_photons)\n",
    "state1[0] = 1.\n",
    "state2 = np.zeros(n_photons)\n",
    "state2[0] = 1.\n",
    "state3 = np.zeros(n_photons)\n",
    "state3[1] = 1.\n",
    "state = np.kron(state2, state3)\n",
    "state = np.kron(state1, state)\n",
    "data = meas_X_theta(state, 0., 3, n_photons)\n",
    "plt.hist(data[:,2], bins=100)\n",
    "print('Done')"
   ]
  },
  {
   "cell_type": "markdown",
   "metadata": {},
   "source": [
    "# Initialization"
   ]
  },
  {
   "cell_type": "code",
   "execution_count": 3,
   "metadata": {},
   "outputs": [],
   "source": [
    "n_photons = 4\n",
    "num_layers = 3\n",
    "# 1\n",
    "vacuum_state1 = np.zeros(n_photons)\n",
    "vacuum_state1[0] = 1.\n",
    "init_state = vacuum_state1"
   ]
  },
  {
   "cell_type": "code",
   "execution_count": 4,
   "metadata": {},
   "outputs": [
    {
     "data": {
      "text/plain": [
       "array([1., 0., 0., 0.])"
      ]
     },
     "execution_count": 4,
     "metadata": {},
     "output_type": "execute_result"
    }
   ],
   "source": [
    "init_state"
   ]
  },
  {
   "cell_type": "code",
   "execution_count": 5,
   "metadata": {},
   "outputs": [],
   "source": [
    "def circuit(state, params, n_photons):\n",
    "    state_ = state\n",
    "    for i in range(num_layers):\n",
    "        gate1 = N_phase_gate(params[7*i], 4, 1, 1, n_photons) \n",
    "        gate2 = D_gate(params[7*i+1], params[7*i+2], 1, 1, n_photons)\n",
    "        gate3 = R_gate(params[7*i+3], 1, 1, n_photons) \n",
    "        gate4 = S_gate(params[7*i+4], params[7*i+5], 1, 1, n_photons)\n",
    "        gate5 = R_gate(params[7*i+6], 1, 1, n_photons)\n",
    "        state_ = np.einsum('jk,k->j', gate1, state_)\n",
    "        state_ = np.einsum('jk,k->j', gate2, state_)\n",
    "        state_ = np.einsum('jk,k->j', gate3, state_)\n",
    "        state_ = np.einsum('jk,k->j', gate4, state_)\n",
    "        state_ = np.einsum('jk,k->j', gate5, state_)\n",
    "    data = sim_mes_xp(state_, 1, n_photons)\n",
    "    return data[:,0], data[:,1], state_\n",
    "\n",
    "def loss_xy(x1, p1):\n",
    "    H = np.zeros(x1.shape[0], dtype=np.float32)\n",
    "    dimension = x1.shape[0]\n",
    "    H = 0.5*(x1**2/2. + p1**2/2.-3/2.)**2\n",
    "    return np.mean(H) + np.std(H)"
   ]
  },
  {
   "cell_type": "code",
   "execution_count": 6,
   "metadata": {},
   "outputs": [],
   "source": [
    "def func_to_opt(params):\n",
    "    X, P, _ = circuit(init_state, params, n_photons)\n",
    "    return loss_xy(X, P)"
   ]
  },
  {
   "cell_type": "code",
   "execution_count": 7,
   "metadata": {},
   "outputs": [
    {
     "name": "stdout",
     "output_type": "stream",
     "text": [
      "(6_w,13)-aCMA-ES (mu_w=4.0,w_1=38%) in dimension 21 (seed=876663, Thu Jan 23 12:16:24 2020)\n"
     ]
    }
   ],
   "source": [
    "es = cma.CMAEvolutionStrategy(7*num_layers*[0.3], 0.4)"
   ]
  },
  {
   "cell_type": "code",
   "execution_count": null,
   "metadata": {},
   "outputs": [
    {
     "name": "stdout",
     "output_type": "stream",
     "text": [
      "Iterat #Fevals   function value  axis ratio  sigma  min&max std  t[m:s]\n",
      "    1     13 1.206659083552375e+00 1.0e+00 3.81e-01  4e-01  4e-01 0:10.4\n",
      "    2     26 9.915174600020249e-01 1.1e+00 3.67e-01  4e-01  4e-01 0:20.8\n",
      "    3     39 1.035883383936643e+00 1.1e+00 3.57e-01  4e-01  4e-01 0:31.2\n",
      "    4     52 1.002385314449753e+00 1.2e+00 3.52e-01  3e-01  4e-01 0:41.6\n",
      "    5     65 1.012016789897676e+00 1.2e+00 3.53e-01  3e-01  4e-01 0:52.0\n",
      "    6     78 9.890711383948300e-01 1.2e+00 3.47e-01  3e-01  4e-01 1:02.2\n",
      "    7     91 1.155463796434272e+00 1.2e+00 3.37e-01  3e-01  3e-01 1:12.5\n",
      "    8    104 9.906470975599553e-01 1.2e+00 3.26e-01  3e-01  3e-01 1:22.7\n",
      "    9    117 1.039070108291419e+00 1.2e+00 3.32e-01  3e-01  3e-01 1:33.0\n",
      "   10    130 9.341814956550716e-01 1.3e+00 3.43e-01  3e-01  4e-01 1:43.3\n",
      "   12    156 1.076524667706188e+00 1.4e+00 3.43e-01  3e-01  4e-01 2:03.4\n",
      "   14    182 1.074574348472809e+00 1.4e+00 3.17e-01  3e-01  3e-01 2:24.0\n",
      "   16    208 1.079576093551698e+00 1.5e+00 2.96e-01  3e-01  3e-01 2:44.4\n",
      "   18    234 1.180326587632319e+00 1.5e+00 2.96e-01  3e-01  3e-01 3:04.9\n",
      "   20    260 1.071119774698763e+00 1.5e+00 2.96e-01  3e-01  3e-01 3:25.0\n",
      "   22    286 1.023066183236947e+00 1.6e+00 3.03e-01  3e-01  3e-01 3:45.4\n",
      "   24    312 1.208447722367002e+00 1.6e+00 2.90e-01  3e-01  3e-01 4:05.6\n",
      "   26    338 9.937945606998904e-01 1.6e+00 2.84e-01  2e-01  3e-01 4:26.2\n",
      "   28    364 1.059006325587057e+00 1.7e+00 2.80e-01  2e-01  3e-01 4:46.6\n",
      "   30    390 9.081883948504870e-01 1.8e+00 2.63e-01  2e-01  3e-01 5:07.1\n",
      "   32    416 9.640072261897181e-01 1.8e+00 2.41e-01  2e-01  3e-01 5:27.7\n",
      "   35    455 9.798114497755891e-01 1.8e+00 2.18e-01  2e-01  2e-01 5:58.6\n",
      "   38    494 9.234872314169442e-01 1.9e+00 1.97e-01  2e-01  2e-01 6:28.9\n",
      "   41    533 9.369835666967270e-01 1.9e+00 1.78e-01  1e-01  2e-01 6:59.2\n",
      "   44    572 8.740586227885115e-01 1.9e+00 1.54e-01  1e-01  2e-01 7:29.5\n",
      "   47    611 1.141723612284009e+00 1.9e+00 1.44e-01  1e-01  2e-01 8:00.9\n"
     ]
    }
   ],
   "source": [
    "es.optimize(func_to_opt,iterations=1000)"
   ]
  },
  {
   "cell_type": "code",
   "execution_count": null,
   "metadata": {},
   "outputs": [],
   "source": [
    "params = es.result_pretty().xbest\n",
    "final_state = circuit(init_state, params, n_photons)[2]"
   ]
  },
  {
   "cell_type": "code",
   "execution_count": null,
   "metadata": {},
   "outputs": [],
   "source": [
    "final_state"
   ]
  },
  {
   "cell_type": "code",
   "execution_count": null,
   "metadata": {},
   "outputs": [],
   "source": [
    "n_photons = 4\n",
    "# 1\n",
    "vacuum_state1 = np.zeros(n_photons)\n",
    "vacuum_state1[1] = 1.\n",
    "target_state = vacuum_state1\n",
    "data = sim_mes_xp(target_state, 1, n_photons)\n",
    "print('final wanted loss ------- ', loss_xy(data[:,0], data[:, 1]))"
   ]
  },
  {
   "cell_type": "code",
   "execution_count": null,
   "metadata": {},
   "outputs": [],
   "source": [
    "final_state = final_state.reshape(final_state.shape[0], 1)\n",
    "target_state = target_state.reshape(target_state.shape[0], 1)\n",
    "rho = final_state @ final_state.conj().T\n",
    "rho_target = target_state @ target_state.conj().T\n",
    "fidelity(rho, rho_target)"
   ]
  },
  {
   "cell_type": "code",
   "execution_count": null,
   "metadata": {},
   "outputs": [],
   "source": []
  }
 ],
 "metadata": {
  "kernelspec": {
   "display_name": "Python 3",
   "language": "python",
   "name": "python3"
  },
  "language_info": {
   "codemirror_mode": {
    "name": "ipython",
    "version": 3
   },
   "file_extension": ".py",
   "mimetype": "text/x-python",
   "name": "python",
   "nbconvert_exporter": "python",
   "pygments_lexer": "ipython3",
   "version": "3.7.3"
  }
 },
 "nbformat": 4,
 "nbformat_minor": 2
}
