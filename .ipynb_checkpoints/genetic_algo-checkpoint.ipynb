{
 "cells": [
  {
   "cell_type": "code",
   "execution_count": 1,
   "metadata": {},
   "outputs": [],
   "source": [
    "from gates import *\n",
    "from states import *\n",
    "from measurements import *\n",
    "from utils import *\n",
    "import numpy as np\n",
    "import matplotlib.pyplot as plt\n",
    "from tqdm import trange"
   ]
  },
  {
   "cell_type": "code",
   "execution_count": 2,
   "metadata": {},
   "outputs": [],
   "source": [
    "batch_size = 128\n",
    "n_photons = 20\n",
    "num_params = 6\n",
    "num_iteration = 1000\n",
    "initial_state = np.zeros((batch_size, n_photons))\n",
    "initial_state[:, 0] = 1.#/np.sqrt(3.)\n",
    "# initial_state[:, 2] = 1./np.sqrt(3.)\n",
    "# initial_state[:, 3] = 1./np.sqrt(3.)\n",
    "params = np.zeros(num_params)\n",
    "# gamma, r1, phi1, r2, phi2, theta1\n",
    "lr = 1e-1 # learning rate"
   ]
  },
  {
   "cell_type": "code",
   "execution_count": 3,
   "metadata": {},
   "outputs": [],
   "source": [
    "def circuit(init_state, params, batch_size, num_params, lr, n_photons):\n",
    "    random_numbers = lr*np.random.randn(num_params*batch_size).reshape(batch_size, num_params)\n",
    "    gate1 = V_gate(params[0] + random_numbers[:,0], n_photons)   # cubic gate\n",
    "    gate2 = S_gate(params[1] + random_numbers[:,1], params[2] + random_numbers[:,2], n_photons) # squeezing\n",
    "    gate3 = D_gate(params[3] + random_numbers[:,3], params[4] + random_numbers[:,4], n_photons) # displacement\n",
    "    gate4 = R_gate(params[5] + random_numbers[:,5], n_photons) # rotation\n",
    "    state = np.einsum('ijk,ik->ij', gate1, init_state)\n",
    "    state = np.einsum('ijk,ik->ij', gate2, state)\n",
    "    state = np.einsum('ijk,ik->ij', gate3, state)\n",
    "    state = np.einsum('ijk,ik->ij', gate4, state)\n",
    "    data_X = meas_X(state, n_photons)\n",
    "    data_P = meas_P(state, n_photons)\n",
    "    return random_numbers, data_X, data_P\n",
    "\n",
    "def mean_moment(quadrature):\n",
    "    return np.mean(quadrature, axis=1)\n",
    "\n",
    "def calc_loss(X, P):\n",
    "    X_mean = mean_moment(X)\n",
    "    P_mean = mean_moment(P)\n",
    "    return X_mean**2 + P_mean**2# + P_mean**4 + X_mean**4\n"
   ]
  },
  {
   "cell_type": "code",
   "execution_count": 4,
   "metadata": {},
   "outputs": [],
   "source": [
    "# R, X, P = circuit(initial_state, params, batch_size, num_params, n_photons)"
   ]
  },
  {
   "cell_type": "code",
   "execution_count": 5,
   "metadata": {},
   "outputs": [
    {
     "name": "stdout",
     "output_type": "stream",
     "text": [
      "Iteration = 0 --- loss_value 0.02313028264346096\n",
      "Iteration = 10 --- loss_value 0.02558563853283581\n",
      "Iteration = 20 --- loss_value 0.011973405653667698\n",
      "Iteration = 30 --- loss_value 0.010014470543896505\n",
      "Iteration = 40 --- loss_value 0.00867570648436981\n",
      "Iteration = 50 --- loss_value 0.009673278439060651\n",
      "Iteration = 60 --- loss_value 0.006121538985637484\n",
      "Iteration = 70 --- loss_value 0.006207156945578064\n",
      "Iteration = 80 --- loss_value 0.0041295420200093275\n",
      "Iteration = 90 --- loss_value 0.0030132900564520592\n",
      "Iteration = 100 --- loss_value 0.003126470952468545\n",
      "Iteration = 110 --- loss_value 0.0026304986339182376\n",
      "Iteration = 120 --- loss_value 0.0019473529811489855\n",
      "Iteration = 130 --- loss_value 0.0020446248962807502\n",
      "Iteration = 140 --- loss_value 0.0016067214723895556\n",
      "Iteration = 150 --- loss_value 0.0009614408208664227\n",
      "Iteration = 160 --- loss_value 0.0010039513018813596\n",
      "Iteration = 170 --- loss_value 0.0008492043340136522\n",
      "Iteration = 180 --- loss_value 0.0006847707194384033\n",
      "Iteration = 190 --- loss_value 0.0006730308446982558\n",
      "Iteration = 200 --- loss_value 0.0005385608523726679\n",
      "Iteration = 210 --- loss_value 0.0003698334151523861\n",
      "Iteration = 220 --- loss_value 0.0003517635915840471\n",
      "Iteration = 230 --- loss_value 0.0002705767497005431\n",
      "Iteration = 240 --- loss_value 0.00026892102305367804\n",
      "Iteration = 250 --- loss_value 0.0002449131493709949\n",
      "Iteration = 260 --- loss_value 0.00025280826885314687\n",
      "Iteration = 270 --- loss_value 0.00017635478652164882\n",
      "Iteration = 280 --- loss_value 0.00017591157836021226\n",
      "Iteration = 290 --- loss_value 0.00018817023009228025\n",
      "Iteration = 300 --- loss_value 0.000132050276531691\n",
      "Iteration = 310 --- loss_value 0.00014838143399938407\n",
      "Iteration = 320 --- loss_value 0.0001245747297683\n",
      "Iteration = 330 --- loss_value 0.00013444774600132289\n",
      "Iteration = 340 --- loss_value 0.0001051819023302149\n",
      "Iteration = 350 --- loss_value 0.0001069785619915652\n",
      "Iteration = 360 --- loss_value 0.00011234240428446841\n",
      "Iteration = 370 --- loss_value 0.00011201370560999136\n",
      "Iteration = 380 --- loss_value 9.585913223621073e-05\n",
      "Iteration = 390 --- loss_value 0.00011413124408112132\n",
      "Iteration = 400 --- loss_value 0.00010128471872340771\n",
      "Iteration = 410 --- loss_value 9.955978852169825e-05\n",
      "Iteration = 420 --- loss_value 0.00010703156840100581\n",
      "Iteration = 430 --- loss_value 9.96705187757911e-05\n",
      "Iteration = 440 --- loss_value 0.0001042847397379559\n",
      "Iteration = 450 --- loss_value 8.699814677066395e-05\n",
      "Iteration = 460 --- loss_value 0.0001076627040263174\n",
      "Iteration = 470 --- loss_value 0.00012126082812426766\n",
      "Iteration = 480 --- loss_value 9.783471491616916e-05\n",
      "Iteration = 490 --- loss_value 0.00012541446395556428\n",
      "Iteration = 500 --- loss_value 0.00010655090207782491\n",
      "Iteration = 510 --- loss_value 8.988965165702311e-05\n",
      "Iteration = 520 --- loss_value 9.98420901323022e-05\n",
      "Iteration = 530 --- loss_value 9.270506004844023e-05\n",
      "Iteration = 540 --- loss_value 0.00010698005117371553\n",
      "Iteration = 550 --- loss_value 9.002799601801719e-05\n",
      "Iteration = 560 --- loss_value 0.00010693109474174018\n",
      "Iteration = 570 --- loss_value 9.909511989131981e-05\n",
      "Iteration = 580 --- loss_value 8.82933103774924e-05\n",
      "Iteration = 590 --- loss_value 9.976433441547413e-05\n",
      "Iteration = 600 --- loss_value 0.00010891497954869145\n",
      "Iteration = 610 --- loss_value 9.836417518382194e-05\n",
      "Iteration = 620 --- loss_value 0.00011718980614437352\n",
      "Iteration = 630 --- loss_value 0.00012088968586018306\n",
      "Iteration = 640 --- loss_value 8.859032367436044e-05\n",
      "Iteration = 650 --- loss_value 9.921742293823731e-05\n",
      "Iteration = 660 --- loss_value 0.00010886485330444157\n",
      "Iteration = 670 --- loss_value 0.00011898422285558633\n",
      "Iteration = 680 --- loss_value 0.000125166765200291\n",
      "Iteration = 690 --- loss_value 9.293753521733113e-05\n",
      "Iteration = 700 --- loss_value 0.00011572885892217736\n"
     ]
    },
    {
     "ename": "KeyboardInterrupt",
     "evalue": "",
     "output_type": "error",
     "traceback": [
      "\u001b[0;31m---------------------------------------------------------------------------\u001b[0m",
      "\u001b[0;31mKeyboardInterrupt\u001b[0m                         Traceback (most recent call last)",
      "\u001b[0;32m<ipython-input-5-f6df0218a805>\u001b[0m in \u001b[0;36m<module>\u001b[0;34m\u001b[0m\n\u001b[1;32m      1\u001b[0m \u001b[0;32mfor\u001b[0m \u001b[0mi\u001b[0m \u001b[0;32min\u001b[0m \u001b[0mrange\u001b[0m\u001b[0;34m(\u001b[0m\u001b[0mnum_iteration\u001b[0m\u001b[0;34m)\u001b[0m\u001b[0;34m:\u001b[0m\u001b[0;34m\u001b[0m\u001b[0;34m\u001b[0m\u001b[0m\n\u001b[1;32m      2\u001b[0m     \u001b[0mlr\u001b[0m \u001b[0;34m=\u001b[0m \u001b[0mlr\u001b[0m \u001b[0;34m*\u001b[0m\u001b[0;36m0.99\u001b[0m\u001b[0;34m\u001b[0m\u001b[0;34m\u001b[0m\u001b[0m\n\u001b[0;32m----> 3\u001b[0;31m     \u001b[0mrand_num\u001b[0m\u001b[0;34m,\u001b[0m \u001b[0mX\u001b[0m\u001b[0;34m,\u001b[0m \u001b[0mP\u001b[0m \u001b[0;34m=\u001b[0m \u001b[0mcircuit\u001b[0m\u001b[0;34m(\u001b[0m\u001b[0minitial_state\u001b[0m\u001b[0;34m,\u001b[0m \u001b[0mparams\u001b[0m\u001b[0;34m,\u001b[0m \u001b[0mbatch_size\u001b[0m\u001b[0;34m,\u001b[0m \u001b[0mnum_params\u001b[0m\u001b[0;34m,\u001b[0m \u001b[0mlr\u001b[0m\u001b[0;34m,\u001b[0m \u001b[0mn_photons\u001b[0m\u001b[0;34m)\u001b[0m\u001b[0;34m\u001b[0m\u001b[0;34m\u001b[0m\u001b[0m\n\u001b[0m\u001b[1;32m      4\u001b[0m     \u001b[0mloss\u001b[0m \u001b[0;34m=\u001b[0m \u001b[0mcalc_loss\u001b[0m\u001b[0;34m(\u001b[0m\u001b[0mX\u001b[0m\u001b[0;34m,\u001b[0m \u001b[0mP\u001b[0m\u001b[0;34m)\u001b[0m\u001b[0;34m\u001b[0m\u001b[0;34m\u001b[0m\u001b[0m\n\u001b[1;32m      5\u001b[0m     \u001b[0;32mif\u001b[0m \u001b[0mi\u001b[0m\u001b[0;34m%\u001b[0m\u001b[0;36m10\u001b[0m \u001b[0;34m==\u001b[0m\u001b[0;36m0\u001b[0m\u001b[0;34m:\u001b[0m \u001b[0mprint\u001b[0m\u001b[0;34m(\u001b[0m\u001b[0;34m\"Iteration = {} --- loss_value {}\"\u001b[0m\u001b[0;34m.\u001b[0m\u001b[0mformat\u001b[0m\u001b[0;34m(\u001b[0m\u001b[0mi\u001b[0m\u001b[0;34m,\u001b[0m \u001b[0mnp\u001b[0m\u001b[0;34m.\u001b[0m\u001b[0mmean\u001b[0m\u001b[0;34m(\u001b[0m\u001b[0mloss\u001b[0m\u001b[0;34m)\u001b[0m\u001b[0;34m)\u001b[0m\u001b[0;34m)\u001b[0m\u001b[0;34m\u001b[0m\u001b[0;34m\u001b[0m\u001b[0m\n",
      "\u001b[0;32m<ipython-input-3-62a982b763c8>\u001b[0m in \u001b[0;36mcircuit\u001b[0;34m(init_state, params, batch_size, num_params, lr, n_photons)\u001b[0m\n\u001b[1;32m     10\u001b[0m     \u001b[0mstate\u001b[0m \u001b[0;34m=\u001b[0m \u001b[0mnp\u001b[0m\u001b[0;34m.\u001b[0m\u001b[0meinsum\u001b[0m\u001b[0;34m(\u001b[0m\u001b[0;34m'ijk,ik->ij'\u001b[0m\u001b[0;34m,\u001b[0m \u001b[0mgate4\u001b[0m\u001b[0;34m,\u001b[0m \u001b[0mstate\u001b[0m\u001b[0;34m)\u001b[0m\u001b[0;34m\u001b[0m\u001b[0;34m\u001b[0m\u001b[0m\n\u001b[1;32m     11\u001b[0m     \u001b[0mdata_X\u001b[0m \u001b[0;34m=\u001b[0m \u001b[0mmeas_X\u001b[0m\u001b[0;34m(\u001b[0m\u001b[0mstate\u001b[0m\u001b[0;34m,\u001b[0m \u001b[0mn_photons\u001b[0m\u001b[0;34m)\u001b[0m\u001b[0;34m\u001b[0m\u001b[0;34m\u001b[0m\u001b[0m\n\u001b[0;32m---> 12\u001b[0;31m     \u001b[0mdata_P\u001b[0m \u001b[0;34m=\u001b[0m \u001b[0mmeas_P\u001b[0m\u001b[0;34m(\u001b[0m\u001b[0mstate\u001b[0m\u001b[0;34m,\u001b[0m \u001b[0mn_photons\u001b[0m\u001b[0;34m)\u001b[0m\u001b[0;34m\u001b[0m\u001b[0;34m\u001b[0m\u001b[0m\n\u001b[0m\u001b[1;32m     13\u001b[0m     \u001b[0;32mreturn\u001b[0m \u001b[0mrandom_numbers\u001b[0m\u001b[0;34m,\u001b[0m \u001b[0mdata_X\u001b[0m\u001b[0;34m,\u001b[0m \u001b[0mdata_P\u001b[0m\u001b[0;34m\u001b[0m\u001b[0;34m\u001b[0m\u001b[0m\n\u001b[1;32m     14\u001b[0m \u001b[0;34m\u001b[0m\u001b[0m\n",
      "\u001b[0;32m~/RQC/MBQC/measurements.py\u001b[0m in \u001b[0;36mmeas_P\u001b[0;34m(state, n_photons)\u001b[0m\n\u001b[1;32m     18\u001b[0m     \u001b[0mMeasurement\u001b[0m \u001b[0mon\u001b[0m \u001b[0mP\u001b[0m \u001b[0mquadrature\u001b[0m\u001b[0;34m\u001b[0m\u001b[0;34m\u001b[0m\u001b[0m\n\u001b[1;32m     19\u001b[0m     \"\"\"\n\u001b[0;32m---> 20\u001b[0;31m     \u001b[0;32mreturn\u001b[0m \u001b[0mmeas_X_theta\u001b[0m\u001b[0;34m(\u001b[0m\u001b[0mstate\u001b[0m\u001b[0;34m,\u001b[0m \u001b[0mnp\u001b[0m\u001b[0;34m.\u001b[0m\u001b[0mpi\u001b[0m\u001b[0;34m/\u001b[0m\u001b[0;36m2.\u001b[0m\u001b[0;34m,\u001b[0m \u001b[0mn_photons\u001b[0m\u001b[0;34m)\u001b[0m\u001b[0;34m\u001b[0m\u001b[0;34m\u001b[0m\u001b[0m\n\u001b[0m\u001b[1;32m     21\u001b[0m \u001b[0;34m\u001b[0m\u001b[0m\n\u001b[1;32m     22\u001b[0m def meas_X_theta(state, theta, n_photons, x_max=20, \n",
      "\u001b[0;32m~/RQC/MBQC/measurements.py\u001b[0m in \u001b[0;36mmeas_X_theta\u001b[0;34m(state, theta, n_photons, x_max, x_min, num_bins, instances_size)\u001b[0m\n\u001b[1;32m     35\u001b[0m     \u001b[0mnew_state\u001b[0m \u001b[0;34m=\u001b[0m \u001b[0mnew_state\u001b[0m\u001b[0;34m.\u001b[0m\u001b[0mtranspose\u001b[0m\u001b[0;34m(\u001b[0m\u001b[0;36m1\u001b[0m\u001b[0;34m,\u001b[0m\u001b[0;36m0\u001b[0m\u001b[0;34m)\u001b[0m\u001b[0;34m\u001b[0m\u001b[0;34m\u001b[0m\u001b[0m\n\u001b[1;32m     36\u001b[0m     \u001b[0;32mfor\u001b[0m \u001b[0mx_inst\u001b[0m \u001b[0;32min\u001b[0m \u001b[0mx\u001b[0m\u001b[0;34m:\u001b[0m\u001b[0;34m\u001b[0m\u001b[0;34m\u001b[0m\u001b[0m\n\u001b[0;32m---> 37\u001b[0;31m         \u001b[0mprob_x_inst\u001b[0m \u001b[0;34m=\u001b[0m \u001b[0;36m1.\u001b[0m\u001b[0;34m/\u001b[0m\u001b[0mnp\u001b[0m\u001b[0;34m.\u001b[0m\u001b[0mpi\u001b[0m\u001b[0;34m**\u001b[0m\u001b[0;36m0.25\u001b[0m\u001b[0;34m*\u001b[0m\u001b[0mnp\u001b[0m\u001b[0;34m.\u001b[0m\u001b[0mexp\u001b[0m\u001b[0;34m(\u001b[0m\u001b[0;34m-\u001b[0m\u001b[0mx_inst\u001b[0m\u001b[0;34m**\u001b[0m\u001b[0;36m2\u001b[0m\u001b[0;34m/\u001b[0m\u001b[0;36m2.\u001b[0m\u001b[0;34m)\u001b[0m\u001b[0;34m*\u001b[0m\u001b[0mhermval\u001b[0m\u001b[0;34m(\u001b[0m\u001b[0mx_inst\u001b[0m\u001b[0;34m,\u001b[0m \u001b[0mnew_state\u001b[0m\u001b[0;34m)\u001b[0m\u001b[0;34m\u001b[0m\u001b[0;34m\u001b[0m\u001b[0m\n\u001b[0m\u001b[1;32m     38\u001b[0m         \u001b[0mprobs\u001b[0m\u001b[0;34m.\u001b[0m\u001b[0mappend\u001b[0m\u001b[0;34m(\u001b[0m\u001b[0mnp\u001b[0m\u001b[0;34m.\u001b[0m\u001b[0mabs\u001b[0m\u001b[0;34m(\u001b[0m\u001b[0mprob_x_inst\u001b[0m\u001b[0;34m*\u001b[0m\u001b[0mnp\u001b[0m\u001b[0;34m.\u001b[0m\u001b[0mconj\u001b[0m\u001b[0;34m(\u001b[0m\u001b[0mprob_x_inst\u001b[0m\u001b[0;34m)\u001b[0m\u001b[0;34m)\u001b[0m\u001b[0;34m)\u001b[0m\u001b[0;34m\u001b[0m\u001b[0;34m\u001b[0m\u001b[0m\n\u001b[1;32m     39\u001b[0m     \u001b[0mprobs\u001b[0m \u001b[0;34m=\u001b[0m \u001b[0mnp\u001b[0m\u001b[0;34m.\u001b[0m\u001b[0marray\u001b[0m\u001b[0;34m(\u001b[0m\u001b[0mprobs\u001b[0m\u001b[0;34m)\u001b[0m\u001b[0;34m\u001b[0m\u001b[0;34m\u001b[0m\u001b[0m\n",
      "\u001b[0;32m~/anaconda3/lib/python3.7/site-packages/numpy/polynomial/hermite.py\u001b[0m in \u001b[0;36mhermval\u001b[0;34m(x, c, tensor)\u001b[0m\n\u001b[1;32m    869\u001b[0m             \u001b[0mtmp\u001b[0m \u001b[0;34m=\u001b[0m \u001b[0mc0\u001b[0m\u001b[0;34m\u001b[0m\u001b[0;34m\u001b[0m\u001b[0m\n\u001b[1;32m    870\u001b[0m             \u001b[0mnd\u001b[0m \u001b[0;34m=\u001b[0m \u001b[0mnd\u001b[0m \u001b[0;34m-\u001b[0m \u001b[0;36m1\u001b[0m\u001b[0;34m\u001b[0m\u001b[0;34m\u001b[0m\u001b[0m\n\u001b[0;32m--> 871\u001b[0;31m             \u001b[0mc0\u001b[0m \u001b[0;34m=\u001b[0m \u001b[0mc\u001b[0m\u001b[0;34m[\u001b[0m\u001b[0;34m-\u001b[0m\u001b[0mi\u001b[0m\u001b[0;34m]\u001b[0m \u001b[0;34m-\u001b[0m \u001b[0mc1\u001b[0m\u001b[0;34m*\u001b[0m\u001b[0;34m(\u001b[0m\u001b[0;36m2\u001b[0m\u001b[0;34m*\u001b[0m\u001b[0;34m(\u001b[0m\u001b[0mnd\u001b[0m \u001b[0;34m-\u001b[0m \u001b[0;36m1\u001b[0m\u001b[0;34m)\u001b[0m\u001b[0;34m)\u001b[0m\u001b[0;34m\u001b[0m\u001b[0;34m\u001b[0m\u001b[0m\n\u001b[0m\u001b[1;32m    872\u001b[0m             \u001b[0mc1\u001b[0m \u001b[0;34m=\u001b[0m \u001b[0mtmp\u001b[0m \u001b[0;34m+\u001b[0m \u001b[0mc1\u001b[0m\u001b[0;34m*\u001b[0m\u001b[0mx2\u001b[0m\u001b[0;34m\u001b[0m\u001b[0;34m\u001b[0m\u001b[0m\n\u001b[1;32m    873\u001b[0m     \u001b[0;32mreturn\u001b[0m \u001b[0mc0\u001b[0m \u001b[0;34m+\u001b[0m \u001b[0mc1\u001b[0m\u001b[0;34m*\u001b[0m\u001b[0mx2\u001b[0m\u001b[0;34m\u001b[0m\u001b[0;34m\u001b[0m\u001b[0m\n",
      "\u001b[0;31mKeyboardInterrupt\u001b[0m: "
     ]
    }
   ],
   "source": [
    "for i in range(num_iteration):\n",
    "    lr = lr *0.99\n",
    "    rand_num, X, P = circuit(initial_state, params, batch_size, num_params, lr, n_photons)\n",
    "    loss = calc_loss(X, P)\n",
    "    if i%10 ==0: print(\"Iteration = {} --- loss_value {}\".format(i, np.mean(loss)))\n",
    "    loss = (loss - np.mean(loss))/(np.std(loss)+1e-8)\n",
    "    for j in range(6):\n",
    "        params[j] -= lr/batch_size*loss.dot(rand_num[:,j])"
   ]
  },
  {
   "cell_type": "code",
   "execution_count": 6,
   "metadata": {},
   "outputs": [],
   "source": [
    "def test(params, init_state):\n",
    "    gate1 = V_gate(params[0], n_photons)   # cubic gate\n",
    "    gate2 = S_gate(params[1], params[2], n_photons) # squeezing\n",
    "    gate3 = D_gate(params[3], params[4], n_photons) # displacement\n",
    "    gate4 = R_gate(params[5], n_photons) # rotation\n",
    "    state = np.einsum('ijk,ik->ij', gate1, init_state)\n",
    "    state = np.einsum('ijk,ik->ij', gate2, state)\n",
    "    state = np.einsum('ijk,ik->ij', gate3, state)\n",
    "    state = np.einsum('ijk,ik->ij', gate4, state)\n",
    "    return state.reshape(state.shape[1],1)"
   ]
  },
  {
   "cell_type": "code",
   "execution_count": 7,
   "metadata": {},
   "outputs": [],
   "source": [
    "init_state = np.zeros((1, n_photons))\n",
    "init_state[:,0] = 1./np.sqrt(3.)\n",
    "init_state[:,2] = 1./np.sqrt(3.)\n",
    "init_state[:,3] = 1./np.sqrt(3.)\n",
    "new_state = test(params, init_state)\n",
    "rho = np.kron(new_state,new_state.conj().T)"
   ]
  },
  {
   "cell_type": "code",
   "execution_count": 8,
   "metadata": {},
   "outputs": [
    {
     "name": "stdout",
     "output_type": "stream",
     "text": [
      "Final_state\n"
     ]
    },
    {
     "data": {
      "image/png": "[encoded data removed]",
      "text/plain": [
       "<Figure size 432x288 with 1 Axes>"
      ]
     },
     "metadata": {
      "needs_background": "light"
     },
     "output_type": "display_data"
    }
   ],
   "source": [
    "print(\"Final_state\")\n",
    "xvec = np.linspace(-5,5,200)\n",
    "W = wigner_iterative(rho, xvec, xvec)\n",
    "cont0 = plt.contourf(xvec, xvec, W, 20)\n",
    "plt.show()"
   ]
  },
  {
   "cell_type": "code",
   "execution_count": 9,
   "metadata": {},
   "outputs": [
    {
     "name": "stdout",
     "output_type": "stream",
     "text": [
      "Initial_state\n"
     ]
    },
    {
     "data": {
      "image/png": "[encoded data removed]",
      "text/plain": [
       "<Figure size 432x288 with 1 Axes>"
      ]
     },
     "metadata": {
      "needs_background": "light"
     },
     "output_type": "display_data"
    }
   ],
   "source": [
    "print(\"Initial_state\")\n",
    "init_state = np.zeros((1, n_photons))\n",
    "init_state[:,0] = 1.\n",
    "init_state = init_state.reshape(init_state.shape[1],1)\n",
    "rho = np.kron(new_state,init_state.conj().T)\n",
    "xvec = np.linspace(-5,5,200)\n",
    "W = wigner_iterative(rho, xvec, xvec)\n",
    "cont0 = plt.contourf(xvec, xvec, W, 20)\n",
    "plt.show()"
   ]
  },
  {
   "cell_type": "code",
   "execution_count": 10,
   "metadata": {},
   "outputs": [],
   "source": [
    "state = init_state.reshape(1,init_state.shape[0])\n",
    "data_X = meas_X(state, n_photons)\n",
    "data_P = meas_P(state, n_photons)"
   ]
  },
  {
   "cell_type": "code",
   "execution_count": null,
   "metadata": {},
   "outputs": [],
   "source": []
  }
 ],
 "metadata": {
  "kernelspec": {
   "display_name": "Python 3",
   "language": "python",
   "name": "python3"
  },
  "language_info": {
   "codemirror_mode": {
    "name": "ipython",
    "version": 3
   },
   "file_extension": ".py",
   "mimetype": "text/x-python",
   "name": "python",
   "nbconvert_exporter": "python",
   "pygments_lexer": "ipython3",
   "version": "3.7.3"
  }
 },
 "nbformat": 4,
 "nbformat_minor": 2
}
