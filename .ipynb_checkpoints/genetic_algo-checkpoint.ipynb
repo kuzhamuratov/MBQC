{
 "cells": [
  {
   "cell_type": "code",
   "execution_count": 1,
   "metadata": {},
   "outputs": [],
   "source": [
    "from gates import *\n",
    "from states import *\n",
    "from measurements import *\n",
    "from utils import *\n",
    "import numpy as np\n",
    "import matplotlib.pyplot as plt\n",
    "from tqdm import trange"
   ]
  },
  {
   "cell_type": "code",
   "execution_count": 78,
   "metadata": {},
   "outputs": [],
   "source": [
    "batch_size = 128\n",
    "n_photons = 20\n",
    "num_params = 5\n",
    "num_iteration = 1000\n",
    "initial_state = np.zeros((batch_size, n_photons))\n",
    "initial_state[:, 0] = 1.\n",
    "gate2 = S_gate(np.array([0.5]), np.array([0.]) , n_photons) \n",
    "gate3 = D_gate(np.array([-0.1]), np.array([0.]), n_photons)\n",
    "\n",
    "gate4 = S_gate(np.array([0.5]), np.array([np.pi]) , n_photons) \n",
    "gate5 = D_gate(np.array([0.1]), np.array([0.]), n_photons)\n",
    "\n",
    "state = np.einsum('ijk,ik->ij', gate2, initial_state)\n",
    "initial_state = np.einsum('ijk,ik->ij', gate3, state)\n",
    "\n",
    "state = np.einsum('ijk,ik->ij', gate4, initial_state)\n",
    "initial_state = np.einsum('ijk,ik->ij', gate5, state)\n",
    "\n",
    "# gamma, r1, phi1, r2, phi2, theta1\n",
    "params = 0.1*np.ones(num_params)\n",
    "lr = 1e-2 # learning rate"
   ]
  },
  {
   "cell_type": "code",
   "execution_count": 79,
   "metadata": {},
   "outputs": [
    {
     "name": "stdout",
     "output_type": "stream",
     "text": [
      "Initial_state\n"
     ]
    },
    {
     "data": {
      "image/png": "[encoded data removed]",
      "text/plain": [
       "<Figure size 432x288 with 1 Axes>"
      ]
     },
     "metadata": {
      "needs_background": "light"
     },
     "output_type": "display_data"
    }
   ],
   "source": [
    "print(\"Initial_state\")\n",
    "init_state = initial_state[0]\n",
    "init_state = init_state.reshape(init_state.shape[0],1)\n",
    "rho = np.kron(init_state,init_state.conj().T)\n",
    "xvec = np.linspace(-5,5,200)\n",
    "W = wigner_iterative(rho, xvec, xvec)\n",
    "cont0 = plt.contourf(xvec, xvec, W, 20)\n",
    "plt.show()"
   ]
  },
  {
   "cell_type": "code",
   "execution_count": 80,
   "metadata": {},
   "outputs": [
    {
     "data": {
      "image/png": "[encoded data removed]",
      "text/plain": [
       "<Figure size 432x288 with 1 Axes>"
      ]
     },
     "metadata": {
      "needs_background": "light"
     },
     "output_type": "display_data"
    }
   ],
   "source": [
    "init_state = np.zeros(n_photons)\n",
    "init_state[0] = 1.\n",
    "init_state = init_state.reshape(init_state.shape[0],1)\n",
    "rho = np.kron(init_state,init_state.conj().T)\n",
    "xvec = np.linspace(-5,5,200)\n",
    "W = wigner_iterative(rho, xvec, xvec)\n",
    "cont0 = plt.contourf(xvec, xvec, W, 20)\n",
    "plt.show()"
   ]
  },
  {
   "cell_type": "code",
   "execution_count": 81,
   "metadata": {},
   "outputs": [
    {
     "data": {
      "text/plain": [
       "0.7093681019043356"
      ]
     },
     "execution_count": 81,
     "metadata": {},
     "output_type": "execute_result"
    }
   ],
   "source": [
    "data_x = meas_X(init_state.reshape(1, init_state.shape[0]), n_photons)\n",
    "np.std(data_x)"
   ]
  },
  {
   "cell_type": "code",
   "execution_count": 83,
   "metadata": {},
   "outputs": [
    {
     "data": {
      "text/plain": [
       "-0.004999199999999587"
      ]
     },
     "execution_count": 83,
     "metadata": {},
     "output_type": "execute_result"
    }
   ],
   "source": [
    "np.mean(data_x)"
   ]
  },
  {
   "cell_type": "code",
   "execution_count": 82,
   "metadata": {},
   "outputs": [
    {
     "data": {
      "text/plain": [
       "0.70648630216179"
      ]
     },
     "execution_count": 82,
     "metadata": {},
     "output_type": "execute_result"
    }
   ],
   "source": [
    "data_p = meas_P(init_state.reshape(1, init_state.shape[0]), n_photons)\n",
    "np.std(data_p)"
   ]
  },
  {
   "cell_type": "code",
   "execution_count": 84,
   "metadata": {},
   "outputs": [
    {
     "data": {
      "text/plain": [
       "-0.007507599999999584"
      ]
     },
     "execution_count": 84,
     "metadata": {},
     "output_type": "execute_result"
    }
   ],
   "source": [
    "np.mean(data_p)"
   ]
  },
  {
   "cell_type": "code",
   "execution_count": 4,
   "metadata": {},
   "outputs": [],
   "source": [
    "def circuit(init_state, params, batch_size, num_params, lr, n_photons):\n",
    "    random_numbers = lr*np.random.randn(num_params*batch_size).reshape(batch_size, num_params)\n",
    "    \n",
    "    gate2 = S_gate(params[0] + random_numbers[:,0], params[1] + random_numbers[:,1], n_photons) # squeezing\n",
    "    gate3 = D_gate(params[2] + random_numbers[:,2], params[3] + random_numbers[:,3], n_photons) # displacement\n",
    "    gate4 = R_gate(params[4] + random_numbers[:,4], n_photons) # rotation\n",
    "    \n",
    "    state = np.einsum('ijk,ik->ij', gate2, init_state)\n",
    "    state = np.einsum('ijk,ik->ij', gate3, state)\n",
    "    state = np.einsum('ijk,ik->ij', gate4, state)\n",
    "    \n",
    "    data_X = meas_X(state, n_photons)\n",
    "    data_P = meas_P(state, n_photons)\n",
    "    return random_numbers, data_X, data_P\n",
    "\n",
    "def mean_moment(quadrature):\n",
    "    return np.mean(quadrature, axis=1)\n",
    "\n",
    "def calc_loss(X, P):\n",
    "    X_mean = mean_moment(X)\n",
    "    P_mean = mean_moment(P)\n",
    "    return X_mean**2 + P_mean**2 # + P_mean**4 + X_mean**4\n"
   ]
  },
  {
   "cell_type": "code",
   "execution_count": 5,
   "metadata": {},
   "outputs": [
    {
     "name": "stdout",
     "output_type": "stream",
     "text": [
      "Iteration = 0 --- loss_value 0.0007616695844262738\n",
      "Iteration = 10 --- loss_value 0.0007442337871325228\n",
      "Iteration = 20 --- loss_value 0.0007006283385187734\n",
      "Iteration = 30 --- loss_value 0.0006196562111075216\n",
      "Iteration = 40 --- loss_value 0.0005872897423000198\n",
      "Iteration = 50 --- loss_value 0.0005972590545900212\n",
      "Iteration = 60 --- loss_value 0.000543884506756271\n",
      "Iteration = 70 --- loss_value 0.0005145496082637693\n",
      "Iteration = 80 --- loss_value 0.0005658741653062707\n",
      "Iteration = 90 --- loss_value 0.0005487918678125204\n",
      "Iteration = 100 --- loss_value 0.0005900564517200209\n",
      "Iteration = 110 --- loss_value 0.0005302725351037705\n",
      "Iteration = 120 --- loss_value 0.0004435393484950191\n",
      "Iteration = 130 --- loss_value 0.0005627750714175203\n",
      "Iteration = 140 --- loss_value 0.0004839806863162694\n",
      "Iteration = 150 --- loss_value 0.0005723288284212717\n",
      "Iteration = 160 --- loss_value 0.0006052255180712725\n",
      "Iteration = 170 --- loss_value 0.00054369066194002\n",
      "Iteration = 180 --- loss_value 0.0005084678368675203\n",
      "Iteration = 190 --- loss_value 0.0005622480775887719\n",
      "Iteration = 200 --- loss_value 0.0005593392248150207\n",
      "Iteration = 210 --- loss_value 0.0004875567459175197\n",
      "Iteration = 220 --- loss_value 0.0005609896632700207\n",
      "Iteration = 230 --- loss_value 0.0006046627681487713\n",
      "Iteration = 240 --- loss_value 0.0005880469496512718\n",
      "Iteration = 250 --- loss_value 0.0004466352637337695\n",
      "Iteration = 260 --- loss_value 0.00046200508886001953\n",
      "Iteration = 270 --- loss_value 0.0004803685359087694\n",
      "Iteration = 280 --- loss_value 0.000560573606002522\n",
      "Iteration = 290 --- loss_value 0.0005309550224312704\n",
      "Iteration = 300 --- loss_value 0.0004777823583012698\n",
      "Iteration = 310 --- loss_value 0.00051352958286127\n",
      "Iteration = 320 --- loss_value 0.0004954381781350204\n",
      "Iteration = 330 --- loss_value 0.000555826796547521\n",
      "Iteration = 340 --- loss_value 0.0004675449719000188\n",
      "Iteration = 350 --- loss_value 0.0004987620243087703\n",
      "Iteration = 360 --- loss_value 0.0005007864528050203\n",
      "Iteration = 370 --- loss_value 0.0004623877929562687\n",
      "Iteration = 380 --- loss_value 0.000559866592011271\n",
      "Iteration = 390 --- loss_value 0.0004905359685887708\n",
      "Iteration = 400 --- loss_value 0.0005287769941975204\n",
      "Iteration = 410 --- loss_value 0.0004387123780962682\n",
      "Iteration = 420 --- loss_value 0.00048430545099002\n",
      "Iteration = 430 --- loss_value 0.0005708811148487713\n",
      "Iteration = 440 --- loss_value 0.0004807130389350204\n",
      "Iteration = 450 --- loss_value 0.0006030000993725216\n",
      "Iteration = 460 --- loss_value 0.0005518154564812725\n",
      "Iteration = 470 --- loss_value 0.0004947983799412704\n",
      "Iteration = 480 --- loss_value 0.0004996940476287704\n",
      "Iteration = 490 --- loss_value 0.0004983087786012702\n",
      "Iteration = 500 --- loss_value 0.0005303552084087716\n",
      "Iteration = 510 --- loss_value 0.00048728508249877014\n",
      "Iteration = 520 --- loss_value 0.0005069749736137709\n",
      "Iteration = 530 --- loss_value 0.0004968778294725208\n"
     ]
    },
    {
     "ename": "KeyboardInterrupt",
     "evalue": "",
     "output_type": "error",
     "traceback": [
      "\u001b[0;31m---------------------------------------------------------------------------\u001b[0m",
      "\u001b[0;31mKeyboardInterrupt\u001b[0m                         Traceback (most recent call last)",
      "\u001b[0;32m<ipython-input-5-eea9f1b97f6e>\u001b[0m in \u001b[0;36m<module>\u001b[0;34m\u001b[0m\n\u001b[1;32m      1\u001b[0m \u001b[0;32mfor\u001b[0m \u001b[0mi\u001b[0m \u001b[0;32min\u001b[0m \u001b[0mrange\u001b[0m\u001b[0;34m(\u001b[0m\u001b[0mnum_iteration\u001b[0m\u001b[0;34m)\u001b[0m\u001b[0;34m:\u001b[0m\u001b[0;34m\u001b[0m\u001b[0;34m\u001b[0m\u001b[0m\n\u001b[1;32m      2\u001b[0m     \u001b[0mlr\u001b[0m \u001b[0;34m=\u001b[0m \u001b[0mlr\u001b[0m \u001b[0;34m*\u001b[0m\u001b[0;36m0.99\u001b[0m\u001b[0;34m\u001b[0m\u001b[0;34m\u001b[0m\u001b[0m\n\u001b[0;32m----> 3\u001b[0;31m     \u001b[0mrand_num\u001b[0m\u001b[0;34m,\u001b[0m \u001b[0mX\u001b[0m\u001b[0;34m,\u001b[0m \u001b[0mP\u001b[0m \u001b[0;34m=\u001b[0m \u001b[0mcircuit\u001b[0m\u001b[0;34m(\u001b[0m\u001b[0minitial_state\u001b[0m\u001b[0;34m,\u001b[0m \u001b[0mparams\u001b[0m\u001b[0;34m,\u001b[0m \u001b[0mbatch_size\u001b[0m\u001b[0;34m,\u001b[0m \u001b[0mnum_params\u001b[0m\u001b[0;34m,\u001b[0m \u001b[0mlr\u001b[0m\u001b[0;34m,\u001b[0m \u001b[0mn_photons\u001b[0m\u001b[0;34m)\u001b[0m\u001b[0;34m\u001b[0m\u001b[0;34m\u001b[0m\u001b[0m\n\u001b[0m\u001b[1;32m      4\u001b[0m     \u001b[0mloss\u001b[0m \u001b[0;34m=\u001b[0m \u001b[0mcalc_loss\u001b[0m\u001b[0;34m(\u001b[0m\u001b[0mX\u001b[0m\u001b[0;34m,\u001b[0m \u001b[0mP\u001b[0m\u001b[0;34m)\u001b[0m\u001b[0;34m\u001b[0m\u001b[0;34m\u001b[0m\u001b[0m\n\u001b[1;32m      5\u001b[0m     \u001b[0;32mif\u001b[0m \u001b[0mi\u001b[0m\u001b[0;34m%\u001b[0m\u001b[0;36m10\u001b[0m \u001b[0;34m==\u001b[0m\u001b[0;36m0\u001b[0m\u001b[0;34m:\u001b[0m \u001b[0mprint\u001b[0m\u001b[0;34m(\u001b[0m\u001b[0;34m\"Iteration = {} --- loss_value {}\"\u001b[0m\u001b[0;34m.\u001b[0m\u001b[0mformat\u001b[0m\u001b[0;34m(\u001b[0m\u001b[0mi\u001b[0m\u001b[0;34m,\u001b[0m \u001b[0mnp\u001b[0m\u001b[0;34m.\u001b[0m\u001b[0mmean\u001b[0m\u001b[0;34m(\u001b[0m\u001b[0mloss\u001b[0m\u001b[0;34m)\u001b[0m\u001b[0;34m)\u001b[0m\u001b[0;34m)\u001b[0m\u001b[0;34m\u001b[0m\u001b[0;34m\u001b[0m\u001b[0m\n",
      "\u001b[0;32m<ipython-input-4-0a7cfbeafbe4>\u001b[0m in \u001b[0;36mcircuit\u001b[0;34m(init_state, params, batch_size, num_params, lr, n_photons)\u001b[0m\n\u001b[1;32m     10\u001b[0m     \u001b[0mstate\u001b[0m \u001b[0;34m=\u001b[0m \u001b[0mnp\u001b[0m\u001b[0;34m.\u001b[0m\u001b[0meinsum\u001b[0m\u001b[0;34m(\u001b[0m\u001b[0;34m'ijk,ik->ij'\u001b[0m\u001b[0;34m,\u001b[0m \u001b[0mgate4\u001b[0m\u001b[0;34m,\u001b[0m \u001b[0mstate\u001b[0m\u001b[0;34m)\u001b[0m\u001b[0;34m\u001b[0m\u001b[0;34m\u001b[0m\u001b[0m\n\u001b[1;32m     11\u001b[0m \u001b[0;34m\u001b[0m\u001b[0m\n\u001b[0;32m---> 12\u001b[0;31m     \u001b[0mdata_X\u001b[0m \u001b[0;34m=\u001b[0m \u001b[0mmeas_X\u001b[0m\u001b[0;34m(\u001b[0m\u001b[0mstate\u001b[0m\u001b[0;34m,\u001b[0m \u001b[0mn_photons\u001b[0m\u001b[0;34m)\u001b[0m\u001b[0;34m\u001b[0m\u001b[0;34m\u001b[0m\u001b[0m\n\u001b[0m\u001b[1;32m     13\u001b[0m     \u001b[0mdata_P\u001b[0m \u001b[0;34m=\u001b[0m \u001b[0mmeas_P\u001b[0m\u001b[0;34m(\u001b[0m\u001b[0mstate\u001b[0m\u001b[0;34m,\u001b[0m \u001b[0mn_photons\u001b[0m\u001b[0;34m)\u001b[0m\u001b[0;34m\u001b[0m\u001b[0;34m\u001b[0m\u001b[0m\n\u001b[1;32m     14\u001b[0m     \u001b[0;32mreturn\u001b[0m \u001b[0mrandom_numbers\u001b[0m\u001b[0;34m,\u001b[0m \u001b[0mdata_X\u001b[0m\u001b[0;34m,\u001b[0m \u001b[0mdata_P\u001b[0m\u001b[0;34m\u001b[0m\u001b[0;34m\u001b[0m\u001b[0m\n",
      "\u001b[0;32m~/RQC/MBQC/measurements.py\u001b[0m in \u001b[0;36mmeas_X\u001b[0;34m(state, n_photons)\u001b[0m\n\u001b[1;32m     12\u001b[0m     \u001b[0mMeasurement\u001b[0m \u001b[0mon\u001b[0m \u001b[0mX\u001b[0m \u001b[0mquadrature\u001b[0m\u001b[0;34m\u001b[0m\u001b[0;34m\u001b[0m\u001b[0m\n\u001b[1;32m     13\u001b[0m     \"\"\"\n\u001b[0;32m---> 14\u001b[0;31m     \u001b[0;32mreturn\u001b[0m \u001b[0mmeas_X_theta\u001b[0m\u001b[0;34m(\u001b[0m\u001b[0mstate\u001b[0m\u001b[0;34m,\u001b[0m \u001b[0;36m0.\u001b[0m\u001b[0;34m,\u001b[0m \u001b[0mn_photons\u001b[0m\u001b[0;34m)\u001b[0m\u001b[0;34m\u001b[0m\u001b[0;34m\u001b[0m\u001b[0m\n\u001b[0m\u001b[1;32m     15\u001b[0m \u001b[0;34m\u001b[0m\u001b[0m\n\u001b[1;32m     16\u001b[0m \u001b[0;32mdef\u001b[0m \u001b[0mmeas_P\u001b[0m\u001b[0;34m(\u001b[0m\u001b[0mstate\u001b[0m\u001b[0;34m,\u001b[0m \u001b[0mn_photons\u001b[0m\u001b[0;34m)\u001b[0m\u001b[0;34m:\u001b[0m\u001b[0;34m\u001b[0m\u001b[0;34m\u001b[0m\u001b[0m\n",
      "\u001b[0;32m~/RQC/MBQC/measurements.py\u001b[0m in \u001b[0;36mmeas_X_theta\u001b[0;34m(state, theta, n_photons, x_max, x_min, num_bins, instances_size)\u001b[0m\n\u001b[1;32m     32\u001b[0m     \u001b[0mnew_state\u001b[0m \u001b[0;34m=\u001b[0m \u001b[0mcalc_coef\u001b[0m\u001b[0;34m(\u001b[0m\u001b[0mstate\u001b[0m\u001b[0;34m,\u001b[0m \u001b[0mn_photons\u001b[0m\u001b[0;34m)\u001b[0m\u001b[0;34m\u001b[0m\u001b[0;34m\u001b[0m\u001b[0m\n\u001b[1;32m     33\u001b[0m     \u001b[0mnew_state\u001b[0m \u001b[0;34m=\u001b[0m \u001b[0mnew_state\u001b[0m\u001b[0;34m.\u001b[0m\u001b[0mtranspose\u001b[0m\u001b[0;34m(\u001b[0m\u001b[0;36m1\u001b[0m\u001b[0;34m,\u001b[0m\u001b[0;36m0\u001b[0m\u001b[0;34m)\u001b[0m\u001b[0;34m\u001b[0m\u001b[0;34m\u001b[0m\u001b[0m\n\u001b[0;32m---> 34\u001b[0;31m     \u001b[0mampl\u001b[0m \u001b[0;34m=\u001b[0m \u001b[0;36m1.\u001b[0m\u001b[0;34m/\u001b[0m\u001b[0mnp\u001b[0m\u001b[0;34m.\u001b[0m\u001b[0mpi\u001b[0m\u001b[0;34m**\u001b[0m\u001b[0;36m0.25\u001b[0m\u001b[0;34m*\u001b[0m\u001b[0mnp\u001b[0m\u001b[0;34m.\u001b[0m\u001b[0mexp\u001b[0m\u001b[0;34m(\u001b[0m\u001b[0;34m-\u001b[0m\u001b[0mx\u001b[0m\u001b[0;34m**\u001b[0m\u001b[0;36m2\u001b[0m\u001b[0;34m/\u001b[0m\u001b[0;36m2.\u001b[0m\u001b[0;34m)\u001b[0m\u001b[0;34m*\u001b[0m\u001b[0mhermval\u001b[0m\u001b[0;34m(\u001b[0m\u001b[0mx\u001b[0m\u001b[0;34m,\u001b[0m \u001b[0mnew_state\u001b[0m\u001b[0;34m)\u001b[0m\u001b[0;34m\u001b[0m\u001b[0;34m\u001b[0m\u001b[0m\n\u001b[0m\u001b[1;32m     35\u001b[0m     \u001b[0mprobs\u001b[0m \u001b[0;34m=\u001b[0m \u001b[0mnp\u001b[0m\u001b[0;34m.\u001b[0m\u001b[0mabs\u001b[0m\u001b[0;34m(\u001b[0m\u001b[0mampl\u001b[0m\u001b[0;34m*\u001b[0m\u001b[0mnp\u001b[0m\u001b[0;34m.\u001b[0m\u001b[0mconj\u001b[0m\u001b[0;34m(\u001b[0m\u001b[0mampl\u001b[0m\u001b[0;34m)\u001b[0m\u001b[0;34m)\u001b[0m\u001b[0;34m\u001b[0m\u001b[0;34m\u001b[0m\u001b[0m\n\u001b[1;32m     36\u001b[0m     \u001b[0mprobs\u001b[0m \u001b[0;34m/=\u001b[0m \u001b[0mnp\u001b[0m\u001b[0;34m.\u001b[0m\u001b[0msum\u001b[0m\u001b[0;34m(\u001b[0m\u001b[0mprobs\u001b[0m\u001b[0;34m,\u001b[0m \u001b[0maxis\u001b[0m\u001b[0;34m=\u001b[0m\u001b[0;36m1\u001b[0m\u001b[0;34m)\u001b[0m\u001b[0;34m.\u001b[0m\u001b[0mreshape\u001b[0m\u001b[0;34m(\u001b[0m\u001b[0mbatch_size\u001b[0m\u001b[0;34m,\u001b[0m\u001b[0;36m1\u001b[0m\u001b[0;34m)\u001b[0m\u001b[0;34m\u001b[0m\u001b[0;34m\u001b[0m\u001b[0m\n",
      "\u001b[0;32m~/anaconda3/lib/python3.7/site-packages/numpy/polynomial/hermite.py\u001b[0m in \u001b[0;36mhermval\u001b[0;34m(x, c, tensor)\u001b[0m\n\u001b[1;32m    869\u001b[0m             \u001b[0mtmp\u001b[0m \u001b[0;34m=\u001b[0m \u001b[0mc0\u001b[0m\u001b[0;34m\u001b[0m\u001b[0;34m\u001b[0m\u001b[0m\n\u001b[1;32m    870\u001b[0m             \u001b[0mnd\u001b[0m \u001b[0;34m=\u001b[0m \u001b[0mnd\u001b[0m \u001b[0;34m-\u001b[0m \u001b[0;36m1\u001b[0m\u001b[0;34m\u001b[0m\u001b[0;34m\u001b[0m\u001b[0m\n\u001b[0;32m--> 871\u001b[0;31m             \u001b[0mc0\u001b[0m \u001b[0;34m=\u001b[0m \u001b[0mc\u001b[0m\u001b[0;34m[\u001b[0m\u001b[0;34m-\u001b[0m\u001b[0mi\u001b[0m\u001b[0;34m]\u001b[0m \u001b[0;34m-\u001b[0m \u001b[0mc1\u001b[0m\u001b[0;34m*\u001b[0m\u001b[0;34m(\u001b[0m\u001b[0;36m2\u001b[0m\u001b[0;34m*\u001b[0m\u001b[0;34m(\u001b[0m\u001b[0mnd\u001b[0m \u001b[0;34m-\u001b[0m \u001b[0;36m1\u001b[0m\u001b[0;34m)\u001b[0m\u001b[0;34m)\u001b[0m\u001b[0;34m\u001b[0m\u001b[0;34m\u001b[0m\u001b[0m\n\u001b[0m\u001b[1;32m    872\u001b[0m             \u001b[0mc1\u001b[0m \u001b[0;34m=\u001b[0m \u001b[0mtmp\u001b[0m \u001b[0;34m+\u001b[0m \u001b[0mc1\u001b[0m\u001b[0;34m*\u001b[0m\u001b[0mx2\u001b[0m\u001b[0;34m\u001b[0m\u001b[0;34m\u001b[0m\u001b[0m\n\u001b[1;32m    873\u001b[0m     \u001b[0;32mreturn\u001b[0m \u001b[0mc0\u001b[0m \u001b[0;34m+\u001b[0m \u001b[0mc1\u001b[0m\u001b[0;34m*\u001b[0m\u001b[0mx2\u001b[0m\u001b[0;34m\u001b[0m\u001b[0;34m\u001b[0m\u001b[0m\n",
      "\u001b[0;31mKeyboardInterrupt\u001b[0m: "
     ]
    }
   ],
   "source": [
    "for i in range(num_iteration):\n",
    "    lr = lr *0.99\n",
    "    rand_num, X, P = circuit(initial_state, params, batch_size, num_params, lr, n_photons)\n",
    "    loss = calc_loss(X, P)\n",
    "    if i%10 ==0: print(\"Iteration = {} --- loss_value {}\".format(i, np.mean(loss)))\n",
    "    loss = (loss - np.mean(loss))/(np.std(loss)+1e-8)\n",
    "    for j in range(num_params):\n",
    "        params[j] -= lr/batch_size*loss.dot(rand_num[:,j])"
   ]
  },
  {
   "cell_type": "code",
   "execution_count": 49,
   "metadata": {},
   "outputs": [],
   "source": [
    "params = 0.1*np.ones(num_params)\n",
    "params[0] = 0.5\n",
    "params[1] = np.pi\n",
    "params[2] = 0.1\n",
    "params[3] = 0.\n",
    "params[4] = 0."
   ]
  },
  {
   "cell_type": "code",
   "execution_count": 53,
   "metadata": {},
   "outputs": [],
   "source": [
    "def test(params, init_state):\n",
    "    gate2 = S_gate(params[0], params[1], n_photons) # squeezing\n",
    "    gate3 = D_gate(params[2], params[3], n_photons) # displacement\n",
    "    gate4 = R_gate(params[4], n_photons) # rotation\n",
    "    state = np.einsum('ijk,ik->ij', gate3, init_state)\n",
    "    state = np.einsum('ijk,ik->ij', gate2, state)\n",
    "#     state = np.einsum('ijk,ik->ij', gate4, state)\n",
    "    return state[0].reshape(state.shape[1],1)"
   ]
  },
  {
   "cell_type": "code",
   "execution_count": 54,
   "metadata": {},
   "outputs": [],
   "source": [
    "new_state = test(params, initial_state)\n",
    "rho = np.kron(new_state,new_state.conj().T)"
   ]
  },
  {
   "cell_type": "code",
   "execution_count": 55,
   "metadata": {},
   "outputs": [
    {
     "name": "stdout",
     "output_type": "stream",
     "text": [
      "Final_state\n"
     ]
    },
    {
     "data": {
      "image/png": "[encoded data removed]",
      "text/plain": [
       "<Figure size 432x288 with 1 Axes>"
      ]
     },
     "metadata": {
      "needs_background": "light"
     },
     "output_type": "display_data"
    }
   ],
   "source": [
    "print(\"Final_state\")\n",
    "xvec = np.linspace(-5,5,200)\n",
    "W = wigner_iterative(rho, xvec, xvec)\n",
    "cont0 = plt.contourf(xvec, xvec, W, 20)\n",
    "plt.show()"
   ]
  },
  {
   "cell_type": "code",
   "execution_count": 23,
   "metadata": {},
   "outputs": [
    {
     "data": {
      "text/plain": [
       "array([0.5       , 3.14159265, 0.1       , 0.        , 0.        ])"
      ]
     },
     "execution_count": 23,
     "metadata": {},
     "output_type": "execute_result"
    }
   ],
   "source": [
    "params"
   ]
  },
  {
   "cell_type": "code",
   "execution_count": null,
   "metadata": {},
   "outputs": [],
   "source": []
  }
 ],
 "metadata": {
  "kernelspec": {
   "display_name": "Python 3",
   "language": "python",
   "name": "python3"
  },
  "language_info": {
   "codemirror_mode": {
    "name": "ipython",
    "version": 3
   },
   "file_extension": ".py",
   "mimetype": "text/x-python",
   "name": "python",
   "nbconvert_exporter": "python",
   "pygments_lexer": "ipython3",
   "version": "3.7.3"
  }
 },
 "nbformat": 4,
 "nbformat_minor": 2
}
