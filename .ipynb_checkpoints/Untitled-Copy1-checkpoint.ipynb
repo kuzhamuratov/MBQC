{
 "cells": [
  {
   "cell_type": "code",
   "execution_count": 1,
   "metadata": {},
   "outputs": [],
   "source": [
    "from gates import *\n",
    "from states import *\n",
    "from measurements import *\n",
    "from utils import *\n",
    "import numpy as np\n",
    "import matplotlib.pyplot as plt\n",
    "from tqdm import trange\n",
    "import cma\n",
    "from scipy.special import factorial as fac\n",
    "import scipy.linalg as sla\n",
    "from numpy.polynomial.hermite import hermval"
   ]
  },
  {
   "cell_type": "code",
   "execution_count": 3,
   "metadata": {},
   "outputs": [],
   "source": [
    "def single_meas_homodyne(state, n_photons, n_mode=1, n_modes=2):\n",
    "    x = np.random.uniform(-0.1, 0.1) \n",
    "    new_state = np.zeros(n_photons, dtype=np.complex128)\n",
    "    matrix = np.eye(n_photons)\n",
    "    for i in range(n_photons):\n",
    "        for j in range(n_photons):\n",
    "            new_state[i] += state[i*n_photons+j]*1./np.pi**0.25/2**(j/2)/np.sqrt(fac(j))*hermval(x, matrix[j])\n",
    "    \n",
    "    new_state /= sla.norm(new_state)\n",
    "    return new_state, x \n",
    "\n",
    "def photon_gate():\n",
    "    pass"
   ]
  },
  {
   "cell_type": "code",
   "execution_count": 4,
   "metadata": {},
   "outputs": [],
   "source": [
    "n_photons = 10\n",
    "state1 = np.random.uniform(-1,1,size=n_photons)\n",
    "state1 /=sla.norm(state1)\n",
    "state2 = np.zeros(n_photons)\n",
    "state2[0] = 1.\n",
    "state = np.kron(state1, state1)"
   ]
  },
  {
   "cell_type": "code",
   "execution_count": 5,
   "metadata": {},
   "outputs": [],
   "source": [
    "new_state, x = single_meas_homodyne(state, n_photons)"
   ]
  },
  {
   "cell_type": "code",
   "execution_count": 6,
   "metadata": {},
   "outputs": [
    {
     "data": {
      "text/plain": [
       "(1.0000000000000002+0j)"
      ]
     },
     "execution_count": 6,
     "metadata": {},
     "output_type": "execute_result"
    }
   ],
   "source": [
    "new_state.dot(new_state.conj().T)"
   ]
  },
  {
   "cell_type": "code",
   "execution_count": 7,
   "metadata": {},
   "outputs": [],
   "source": [
    "def Relu(x):\n",
    "    return np.asarray(list(map(lambda y: max(0, y), x)))\n",
    "\n",
    "def circuit(params, n_photons):\n",
    "    \n",
    "    # photon state\n",
    "    photon_state = np.asarray(params[:n_photons]+params[n_photons:2*n_photons]*1j)\n",
    "    # input_random state\n",
    "    input_state = np.random.uniform(size=n_photons)\n",
    "    input_state /= sla.norm(input_state)\n",
    " \n",
    "    # first stage\n",
    "    initial_state = np.kron(input_state, photon_state)\n",
    "    \n",
    "    # mixing stage №1\n",
    "    gate1 = BS_gate(np.pi/4., np.pi/2., 1, 2, 2, n_photons)\n",
    "    mixing_state = np.einsum('ij, j->i', gate1, initial_state)\n",
    "    \n",
    "    # measurment №1\n",
    "    reduced_state1, x1 = single_meas_homodyne(mixing_state, n_photons, n_mode=1, n_modes=2)\n",
    "    \n",
    "    # preparation squeezed displ state \n",
    "    r_sq = params[2*n_photons]*x1 + params[2*n_photons+1]\n",
    "    phi_sq = params[2*n_photons+2]*x1 + params[2*n_photons+3]\n",
    "    r = params[2*n_photons+4]*x1 + params[2*n_photons+5]\n",
    "    phi = params[2*n_photons+6]*x1 + params[2*n_photons+7]\n",
    "    \n",
    "    gate2 = S_gate(r_sq, phi_sq, 1, 1, n_photons)\n",
    "    gate3 = D_gate(r, phi, 1, 1, n_photons)\n",
    "    final_state = np.einsum('ij, j->i', gate3, np.einsum('ij, j->i', gate2, reduced_state1))\n",
    "\n",
    "    \n",
    "    return input_state, final_state\n",
    "\n",
    "def loss(input_state, final_state, n_photons):\n",
    "    gate = V_gate(0.01, 1, 1, n_photons)\n",
    "    ideal_state = np.einsum('ij, j->i', gate, input_state)\n",
    "    return np.abs(final_state.dot(ideal_state) - 1.)\n",
    "\n",
    "def func_to_optimize(params):\n",
    "    n_photons = 10\n",
    "    input_state, final_state = circuit(params, n_photons)\n",
    "    return loss(input_state, final_state, n_photons)"
   ]
  },
  {
   "cell_type": "code",
   "execution_count": 8,
   "metadata": {},
   "outputs": [
    {
     "name": "stdout",
     "output_type": "stream",
     "text": [
      "(6_w,13)-aCMA-ES (mu_w=4.0,w_1=38%) in dimension 28 (seed=897661, Fri Jan 24 12:31:56 2020)\n"
     ]
    }
   ],
   "source": [
    "es = cma.CMAEvolutionStrategy((2*n_photons+8)*[0], 0.4)"
   ]
  },
  {
   "cell_type": "code",
   "execution_count": 9,
   "metadata": {},
   "outputs": [
    {
     "name": "stdout",
     "output_type": "stream",
     "text": [
      "Iterat #Fevals   function value  axis ratio  sigma  min&max std  t[m:s]\n",
      "    1     13 4.968402851545379e-01 1.0e+00 3.74e-01  4e-01  4e-01 0:03.4\n",
      "    2     26 3.588649621352358e-01 1.1e+00 3.64e-01  4e-01  4e-01 0:06.8\n",
      "    3     39 3.073585505395950e-01 1.1e+00 3.55e-01  3e-01  4e-01 0:10.6\n",
      "    4     52 3.493102584186929e-01 1.1e+00 3.51e-01  3e-01  4e-01 0:14.4\n",
      "    6     78 3.214175673804008e-01 1.2e+00 3.50e-01  3e-01  4e-01 0:21.3\n",
      "    8    104 2.800049097426144e-01 1.2e+00 3.45e-01  3e-01  3e-01 0:29.4\n",
      "   10    130 2.330541480144725e-01 1.3e+00 3.68e-01  4e-01  4e-01 0:36.5\n",
      "   12    156 1.358513344940193e-01 1.3e+00 3.89e-01  4e-01  4e-01 0:44.0\n",
      "   15    195 2.032186638823759e-01 1.3e+00 4.06e-01  4e-01  4e-01 0:53.1\n",
      "   18    234 4.898112693404618e-01 1.4e+00 4.41e-01  4e-01  5e-01 1:03.8\n",
      "   21    273 1.930007050605853e-01 1.5e+00 4.42e-01  4e-01  5e-01 1:14.6\n",
      "   25    325 2.895908408910137e-01 1.5e+00 3.97e-01  4e-01  4e-01 1:29.8\n",
      "   29    377 2.146010247300782e-01 1.5e+00 3.65e-01  3e-01  4e-01 1:43.3\n",
      "   34    442 2.440737710740316e-01 1.6e+00 3.49e-01  3e-01  4e-01 1:58.2\n",
      "   38    494 2.961346319108584e-01 1.6e+00 3.73e-01  3e-01  4e-01 2:12.3\n",
      "   43    559 2.268863631347755e-01 1.6e+00 3.80e-01  3e-01  4e-01 2:28.8\n",
      "   48    624 1.586826699898922e-01 1.7e+00 3.63e-01  3e-01  4e-01 2:45.7\n",
      "   54    702 1.644207087229004e-01 1.7e+00 3.42e-01  3e-01  4e-01 3:06.3\n",
      "   60    780 1.745342979540168e-01 1.8e+00 3.34e-01  3e-01  4e-01 3:27.0\n",
      "   67    871 3.031016519074987e-01 1.8e+00 3.24e-01  3e-01  4e-01 3:48.3\n",
      "   73    949 1.806249511356718e-01 1.9e+00 2.69e-01  2e-01  3e-01 4:08.8\n",
      "   80   1040 1.232309923560042e-01 2.0e+00 2.42e-01  2e-01  3e-01 4:32.4\n",
      "   87   1131 1.725520114575706e-01 2.0e+00 1.86e-01  1e-01  2e-01 4:57.8\n",
      "   95   1235 2.341865417362933e-01 2.1e+00 1.88e-01  1e-01  2e-01 5:23.1\n",
      "  100   1300 1.852536965417231e-01 2.2e+00 1.90e-01  1e-01  2e-01 5:40.2\n",
      "  108   1404 1.456226439363344e-01 2.3e+00 1.84e-01  1e-01  2e-01 6:07.4\n",
      "  117   1521 1.429504066328999e-01 2.3e+00 1.37e-01  9e-02  2e-01 6:36.9\n",
      "  127   1651 1.190697657568591e-01 2.4e+00 1.49e-01  9e-02  2e-01 7:06.1\n",
      "  135   1755 1.248014090909813e-01 2.5e+00 1.40e-01  9e-02  2e-01 7:34.8\n",
      "  145   1885 1.418312161210650e-01 2.6e+00 1.32e-01  8e-02  1e-01 8:06.5\n",
      "  154   2002 1.370461365093704e-01 2.7e+00 1.41e-01  8e-02  2e-01 8:38.6\n",
      "  164   2132 7.990986271413389e-02 2.9e+00 1.63e-01  1e-01  2e-01 9:12.5\n",
      "  174   2262 1.416109266936706e-01 3.1e+00 1.59e-01  9e-02  2e-01 9:45.2\n",
      "  185   2405 1.153106699053078e-01 3.1e+00 1.48e-01  9e-02  2e-01 10:20.2\n",
      "  196   2548 9.113545055270533e-02 3.1e+00 1.15e-01  7e-02  1e-01 10:57.8\n",
      "  200   2600 8.525339754942098e-02 3.2e+00 1.09e-01  6e-02  1e-01 11:11.3\n",
      "  212   2756 1.030649778655588e-01 3.3e+00 9.03e-02  5e-02  1e-01 11:50.8\n",
      "  225   2925 1.119764316033595e-01 3.3e+00 6.80e-02  4e-02  8e-02 12:30.6\n",
      "  237   3081 7.619305936353826e-02 3.3e+00 6.66e-02  4e-02  8e-02 13:09.0\n",
      "  250   3250 6.780090377529614e-02 3.3e+00 4.72e-02  3e-02  6e-02 13:49.9\n",
      "  264   3432 1.023233604622612e-01 3.5e+00 3.67e-02  2e-02  4e-02 14:30.6\n",
      "  278   3614 6.636554616866400e-02 3.6e+00 3.78e-02  2e-02  5e-02 15:14.4\n",
      "  291   3783 1.105589530161439e-01 3.7e+00 4.19e-02  2e-02  5e-02 15:57.1\n",
      "  300   3900 1.234786575615757e-01 3.8e+00 4.04e-02  2e-02  5e-02 16:29.0\n",
      "  314   4082 1.260480579117170e-01 3.8e+00 3.31e-02  2e-02  4e-02 17:14.0\n",
      "  328   4264 9.511859804792212e-02 3.9e+00 3.00e-02  2e-02  4e-02 18:01.1\n",
      "  348   4524 1.212624912871593e-01 4.0e+00 2.77e-02  2e-02  3e-02 18:48.3\n",
      "  377   4901 9.680146655808168e-02 4.3e+00 2.37e-02  1e-02  3e-02 19:36.3\n",
      "  400   5200 1.026308953879566e-01 4.4e+00 2.65e-02  1e-02  3e-02 20:18.3\n",
      "  446   5798 9.451807794483137e-02 4.9e+00 2.22e-02  1e-02  3e-02 21:07.5\n",
      "  494   6422 1.000894802971049e-01 4.9e+00 1.54e-02  8e-03  2e-02 21:58.1\n",
      "  500   6500 8.178879016821000e-02 5.0e+00 1.38e-02  7e-03  2e-02 22:03.9\n",
      "  592   7696 8.640729781936515e-02 5.9e+00 1.34e-02  6e-03  2e-02 22:56.0\n",
      "  600   7800 8.847725310167541e-02 6.0e+00 1.08e-02  5e-03  1e-02 22:58.4\n",
      "  700   9100 8.667919817264327e-02 6.3e+00 8.07e-03  4e-03  9e-03 23:27.9\n",
      "  800  10400 1.008106227615488e-01 7.6e+00 1.01e-02  5e-03  1e-02 23:57.2\n",
      "  900  11700 6.423759177900285e-02 9.1e+00 1.08e-02  5e-03  1e-02 24:26.8\n",
      " 1000  13000 5.406595208139046e-02 1.0e+01 1.07e-02  5e-03  1e-02 24:56.4\n"
     ]
    },
    {
     "data": {
      "text/plain": [
       "<cma.evolution_strategy.CMAEvolutionStrategy at 0x7f4e95568278>"
      ]
     },
     "execution_count": 9,
     "metadata": {},
     "output_type": "execute_result"
    }
   ],
   "source": [
    "es.optimize(func_to_optimize,iterations=1000)"
   ]
  },
  {
   "cell_type": "code",
   "execution_count": 10,
   "metadata": {},
   "outputs": [
    {
     "name": "stdout",
     "output_type": "stream",
     "text": [
      "final/bestever f-value = 5.406595e-02 2.354002e-02\n",
      "incumbent solution: [ 5.51334887 -0.15244047 -0.72377814 -1.93328879  0.7432691  -0.98462981\n",
      " -0.3521502  -0.74077067 ...]\n",
      "std deviations: [0.01360787 0.01051364 0.00982594 0.00705709 0.01252182 0.00906331\n",
      " 0.01249879 0.0105013  ...]\n"
     ]
    }
   ],
   "source": [
    "params = es.result_pretty().xbest"
   ]
  },
  {
   "cell_type": "code",
   "execution_count": 11,
   "metadata": {},
   "outputs": [
    {
     "data": {
      "text/plain": [
       "0.30307390591291233"
      ]
     },
     "execution_count": 11,
     "metadata": {},
     "output_type": "execute_result"
    }
   ],
   "source": [
    "func_to_optimize(params)"
   ]
  },
  {
   "cell_type": "code",
   "execution_count": 12,
   "metadata": {},
   "outputs": [
    {
     "data": {
      "text/plain": [
       "array([ 5.46430098, -0.08877753, -0.66950547, -1.91112423,  0.68308492,\n",
       "       -1.00141671, -0.26805129, -0.80066348,  0.46710411, -3.26899652,\n",
       "       -0.09785017, -1.47238192,  0.92585311,  0.05268483,  0.22059597,\n",
       "       -0.69452924,  0.63929393, -1.85564008, -0.15366151, -0.10826001,\n",
       "        0.67758276, -0.28520387,  0.60345761,  0.03547741,  0.63262829,\n",
       "        0.16846568, -3.79462999,  0.03675594])"
      ]
     },
     "execution_count": 12,
     "metadata": {},
     "output_type": "execute_result"
    }
   ],
   "source": [
    "params"
   ]
  },
  {
   "cell_type": "code",
   "execution_count": null,
   "metadata": {},
   "outputs": [],
   "source": []
  }
 ],
 "metadata": {
  "kernelspec": {
   "display_name": "Python 3",
   "language": "python",
   "name": "python3"
  },
  "language_info": {
   "codemirror_mode": {
    "name": "ipython",
    "version": 3
   },
   "file_extension": ".py",
   "mimetype": "text/x-python",
   "name": "python",
   "nbconvert_exporter": "python",
   "pygments_lexer": "ipython3",
   "version": "3.7.3"
  }
 },
 "nbformat": 4,
 "nbformat_minor": 2
}
