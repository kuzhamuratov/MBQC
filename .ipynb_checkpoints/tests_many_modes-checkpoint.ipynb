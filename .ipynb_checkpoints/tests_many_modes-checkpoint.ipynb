{
 "cells": [
  {
   "cell_type": "code",
   "execution_count": 1,
   "metadata": {},
   "outputs": [],
   "source": [
    "from gates import *\n",
    "from states import *\n",
    "from measurements import *\n",
    "from utils import *\n",
    "import numpy as np\n",
    "import matplotlib.pyplot as plt\n",
    "from tqdm import trange\n",
    "import cma"
   ]
  },
  {
   "cell_type": "code",
   "execution_count": 2,
   "metadata": {},
   "outputs": [
    {
     "name": "stdout",
     "output_type": "stream",
     "text": [
      "Done\n"
     ]
    },
    {
     "data": {
      "image/png": "[encoded data removed]",
      "text/plain": [
       "<Figure size 432x288 with 1 Axes>"
      ]
     },
     "metadata": {
      "needs_background": "light"
     },
     "output_type": "display_data"
    }
   ],
   "source": [
    "n_photons = 3\n",
    "state1 = np.zeros(n_photons)\n",
    "state1[0] = 1.\n",
    "state2 = np.zeros(n_photons)\n",
    "state2[0] = 1.\n",
    "state3 = np.zeros(n_photons)\n",
    "state3[1] = 1.\n",
    "state = np.kron(state2, state3)\n",
    "state = np.kron(state1, state)\n",
    "data = meas_X_theta(state, 0., 3, n_photons)\n",
    "plt.hist(data[:,2], bins=100)\n",
    "print('Done')"
   ]
  },
  {
   "cell_type": "markdown",
   "metadata": {},
   "source": [
    "# Initialization"
   ]
  },
  {
   "cell_type": "code",
   "execution_count": 3,
   "metadata": {},
   "outputs": [],
   "source": [
    "n_photons = 8\n",
    "# 1\n",
    "vacuum_state1 = np.zeros(n_photons)\n",
    "vacuum_state1[0] = 1.\n",
    "# 2\n",
    "vacuum_state2 = np.zeros(n_photons)\n",
    "vacuum_state2[0] = 1.\n",
    "\n",
    "state = np.kron(vacuum_state1, vacuum_state2)\n",
    "\n",
    "\n",
    "# 1\n",
    "# from vacuum state to displaced squeezed state\n",
    "coh_dis = [0.5, 0.2, 0.3, 0.3] # squeezed r*np.exp(i*phi)  and coherent |alpha|*np.exp(i*args(alpha))\n",
    "gate1_1 = S_gate(coh_dis[0], coh_dis[1], 1, 2, n_photons) \n",
    "gate1_2 = D_gate(coh_dis[2], coh_dis[3], 1, 2, n_photons)\n",
    "\n",
    "# 2\n",
    "coh_dis = [0.3, 0.4, 0.5, 0.7] # squeezed r*np.exp(i*phi)  and coherent |alpha|*np.exp(i*args(alpha))\n",
    "gate2_1 = S_gate(coh_dis[0], coh_dis[1], 2, 2, n_photons) \n",
    "gate2_2 = D_gate(coh_dis[2], coh_dis[3], 2, 2, n_photons)\n",
    "\n",
    "gate_all = BS_gate(0.1, 0.2, 1, 2, 2, n_photons)\n",
    "\n",
    "state_ = np.einsum('jk,k->j', gate1_1, state)\n",
    "state_ = np.einsum('jk,k->j', gate1_2, state_)\n",
    "state_ = np.einsum('jk,k->j', gate2_1, state_)\n",
    "state_ = np.einsum('jk,k->j', gate_all, state_)\n",
    "init_state = np.einsum('jk,k->j', gate2_2, state_)"
   ]
  },
  {
   "cell_type": "code",
   "execution_count": 4,
   "metadata": {},
   "outputs": [
    {
     "data": {
      "text/plain": [
       "array([ 7.31441442e-01+3.34875174e-02j,  3.13400660e-01+6.89669407e-02j,\n",
       "       -1.39870305e-01-2.00175915e-02j, -1.42719516e-01-5.98513632e-02j,\n",
       "        2.06506548e-02+3.28161630e-04j,  6.32894996e-02+3.71304670e-02j,\n",
       "       -8.27039258e-03+3.32632293e-03j, -1.82133849e-02-2.10636547e-02j,\n",
       "        4.01601018e-01+2.34600883e-01j,  1.46091432e-01+1.21895582e-01j,\n",
       "       -7.74747091e-02-5.92338564e-02j, -6.04268372e-02-7.25557132e-02j,\n",
       "        1.54568007e-02+1.18360333e-02j,  2.18113168e-02+3.77155657e-02j,\n",
       "       -4.95666136e-03-3.50853181e-03j, -4.28061133e-03-1.59471411e-02j,\n",
       "       -2.58562888e-02+1.11329217e-01j, -2.34038946e-02+3.46456339e-02j,\n",
       "        5.99823273e-03-2.79665331e-02j,  1.38304659e-02-1.64332261e-02j,\n",
       "       -1.64060650e-04+8.80051695e-03j, -8.55438239e-03+5.99965156e-03j,\n",
       "        1.20710980e-03-3.23883174e-03j,  3.10938902e-03-1.50335591e-03j,\n",
       "       -9.35799745e-02-5.76758003e-02j, -3.30529329e-02-3.41093605e-02j,\n",
       "        1.88562349e-02+1.20095711e-02j,  1.34223228e-02+1.90296352e-02j,\n",
       "       -4.48375603e-03-1.28334356e-03j, -4.65419790e-03-9.95135597e-03j,\n",
       "        1.78400911e-03+4.79341838e-04j,  7.30895082e-04+3.81098431e-03j,\n",
       "       -1.05768471e-03-5.31845770e-02j,  4.45566703e-03-1.90296921e-02j,\n",
       "       -8.46178153e-04+1.27210978e-02j, -3.88180595e-03+9.40381649e-03j,\n",
       "        6.20677535e-05-3.57238416e-03j,  2.82348097e-03-3.73412675e-03j,\n",
       "       -3.71329751e-04+1.13856213e-03j, -1.16615072e-03+1.15415772e-03j,\n",
       "        2.40487185e-02+9.64166052e-03j,  8.83812823e-03+7.67754218e-03j,\n",
       "       -4.98523749e-03-1.41763856e-03j, -3.69641951e-03-4.21868253e-03j,\n",
       "        1.31146587e-03-3.00499528e-04j,  1.26866129e-03+2.31124088e-03j,\n",
       "       -5.25393467e-04+2.39748609e-05j, -2.34745809e-04-8.01125060e-04j,\n",
       "       -1.60692000e-03+1.91729873e-02j, -3.33134766e-03+6.58816047e-03j,\n",
       "        2.06946514e-04-4.69772969e-03j,  2.10262717e-03-3.15092060e-03j,\n",
       "        1.77074771e-04+1.47469248e-03j, -1.26209410e-03+1.21155226e-03j,\n",
       "        3.05718222e-05-5.36898368e-04j,  4.77837615e-04-3.50262922e-04j,\n",
       "       -6.66888621e-03-4.02747712e-03j, -1.86059515e-03-2.16340686e-03j,\n",
       "        1.66412790e-03+9.12992390e-04j,  8.45407660e-04+1.17606412e-03j,\n",
       "       -5.47848108e-04-1.98641776e-04j, -2.57075182e-04-6.32237564e-04j,\n",
       "        1.56793845e-04+1.45596930e-04j,  7.48587142e-05+1.85672689e-04j])"
      ]
     },
     "execution_count": 4,
     "metadata": {},
     "output_type": "execute_result"
    }
   ],
   "source": [
    "init_state"
   ]
  },
  {
   "cell_type": "code",
   "execution_count": 5,
   "metadata": {},
   "outputs": [],
   "source": [
    "def circuit(state, params, n_photons):\n",
    "    gate_bs = BS_gate(params[8], params[9], 1, 2, 2, n_photons)\n",
    "    gate1_1 = D_gate(params[0], params[1], 1, 2, n_photons) \n",
    "    gate1_2 = S_gate(params[2], params[3], 1, 2, n_photons)\n",
    "    gate2_1 = D_gate(params[4], params[5], 2, 2, n_photons) \n",
    "    gate2_2 = S_gate(params[6], params[7], 2, 2, n_photons)\n",
    "    state_ = np.einsum('jk,k->j', gate1_1, state)\n",
    "    state_ = np.einsum('jk,k->j', gate1_2, state_)\n",
    "    state_ = np.einsum('jk,k->j', gate2_1, state_)\n",
    "    final_state = np.einsum('jk,k->j', gate2_2, state_)\n",
    "    data_X = meas_X(final_state, 2, n_photons)\n",
    "    data_P = meas_P(final_state, 2, n_photons)\n",
    "    return data_X, data_P, final_state\n",
    "\n",
    "def loss_xy(x1, p1, x2, p2):\n",
    "    H = np.zeros(x1.shape[0]**2, dtype=np.float32)\n",
    "    dimension = x1.shape[0]\n",
    "    for i in range(dimension):\n",
    "        H[i*dimension:(i+1)*dimension] = (x1**2 + x2**2 + p1[i]**2 + p2[i]**2)/2.\n",
    "    return np.mean(H) # + np.std(H)"
   ]
  },
  {
   "cell_type": "code",
   "execution_count": 6,
   "metadata": {},
   "outputs": [
    {
     "data": {
      "text/plain": [
       "2.2140334"
      ]
     },
     "execution_count": 6,
     "metadata": {},
     "output_type": "execute_result"
    }
   ],
   "source": [
    "params = [0, 1, 1, 0, 0, 1, 0, 0, 0.5, 0.5]\n",
    "data = meas_X(state, 2, n_photons)\n",
    "data_X, data_P, state = circuit(state, params, n_photons)\n",
    "loss_xy(data_X[:,0], data_P[:,0], data_X[:,1], data_P[:,1])"
   ]
  },
  {
   "cell_type": "code",
   "execution_count": 7,
   "metadata": {},
   "outputs": [],
   "source": [
    "def func_to_opt(params):\n",
    "    X, P, _ = circuit(init_state, params, n_photons)\n",
    "    return loss_xy(X[:,0], P[:,0], X[:,1], P[:,1])"
   ]
  },
  {
   "cell_type": "code",
   "execution_count": 8,
   "metadata": {},
   "outputs": [
    {
     "name": "stdout",
     "output_type": "stream",
     "text": [
      "(5_w,10)-aCMA-ES (mu_w=3.2,w_1=45%) in dimension 10 (seed=723619, Tue Jan 21 17:18:37 2020)\n"
     ]
    }
   ],
   "source": [
    "es = cma.CMAEvolutionStrategy(10*[0.3], 0.4)"
   ]
  },
  {
   "cell_type": "code",
   "execution_count": 9,
   "metadata": {},
   "outputs": [
    {
     "name": "stdout",
     "output_type": "stream",
     "text": [
      "Iterat #Fevals   function value  axis ratio  sigma  min&max std  t[m:s]\n",
      "    1     10 1.516711711883545e+00 1.0e+00 3.79e-01  4e-01  4e-01 1:28.6\n",
      "    2     20 1.480054259300232e+00 1.2e+00 3.75e-01  3e-01  4e-01 2:58.1\n",
      "    3     30 1.203383326530457e+00 1.3e+00 3.95e-01  4e-01  4e-01 4:27.1\n",
      "    4     40 1.473758697509766e+00 1.4e+00 3.73e-01  3e-01  4e-01 6:02.2\n",
      "    5     50 1.241457700729370e+00 1.4e+00 3.65e-01  3e-01  4e-01 7:36.9\n",
      "    6     60 1.359267830848694e+00 1.5e+00 3.76e-01  3e-01  4e-01 9:08.1\n",
      "    7     70 1.459264159202576e+00 1.6e+00 4.01e-01  3e-01  4e-01 10:36.9\n",
      "    8     80 1.233113646507263e+00 1.6e+00 4.01e-01  3e-01  4e-01 12:05.7\n",
      "    9     90 1.257101655006409e+00 1.7e+00 3.85e-01  3e-01  4e-01 13:34.0\n",
      "   10    100 1.471191525459290e+00 1.8e+00 3.80e-01  3e-01  4e-01 15:05.7\n",
      "   11    110 1.098376631736755e+00 1.9e+00 3.39e-01  3e-01  4e-01 16:37.0\n",
      "   12    120 1.186840415000916e+00 1.9e+00 2.99e-01  2e-01  3e-01 18:05.6\n",
      "   13    130 1.149791479110718e+00 2.0e+00 2.67e-01  2e-01  3e-01 19:34.3\n",
      "   14    140 1.166435718536377e+00 2.0e+00 2.39e-01  2e-01  3e-01 21:03.5\n",
      "   15    150 1.105861544609070e+00 2.0e+00 2.22e-01  2e-01  3e-01 22:32.7\n",
      "   16    160 1.086423993110657e+00 2.1e+00 2.12e-01  1e-01  2e-01 24:02.0\n",
      "   17    170 1.140725851058960e+00 2.1e+00 2.10e-01  1e-01  2e-01 25:30.3\n",
      "   18    180 1.059547424316406e+00 2.1e+00 1.99e-01  1e-01  2e-01 27:01.5\n",
      "   19    190 1.032629489898682e+00 2.1e+00 1.81e-01  1e-01  2e-01 28:31.1\n",
      "   20    200 1.029269814491272e+00 2.1e+00 1.67e-01  1e-01  2e-01 30:02.3\n",
      "   21    210 1.023800969123840e+00 2.2e+00 1.55e-01  1e-01  2e-01 31:39.8\n",
      "   22    220 1.030808568000793e+00 2.3e+00 1.54e-01  1e-01  2e-01 33:13.8\n",
      "   23    230 1.024292826652527e+00 2.3e+00 1.46e-01  9e-02  2e-01 34:43.7\n",
      "   24    240 1.039930820465088e+00 2.4e+00 1.35e-01  8e-02  2e-01 36:13.7\n",
      "   25    250 1.029799461364746e+00 2.4e+00 1.23e-01  7e-02  1e-01 37:43.7\n",
      "   26    260 1.017754673957825e+00 2.5e+00 1.18e-01  7e-02  1e-01 39:13.0\n",
      "   27    270 1.019880771636963e+00 2.5e+00 1.17e-01  7e-02  1e-01 40:42.9\n",
      "   28    280 1.004752516746521e+00 2.4e+00 1.05e-01  6e-02  1e-01 42:12.0\n",
      "   29    290 1.011750698089600e+00 2.5e+00 1.04e-01  6e-02  1e-01 43:43.9\n",
      "   30    300 1.029765605926514e+00 2.7e+00 9.64e-02  6e-02  1e-01 45:12.3\n",
      "   31    310 1.026737451553345e+00 2.8e+00 9.01e-02  5e-02  1e-01 46:44.2\n",
      "   32    320 1.015516281127930e+00 2.8e+00 8.42e-02  5e-02  1e-01 48:12.7\n",
      "   33    330 1.009064674377441e+00 2.9e+00 7.99e-02  4e-02  1e-01 49:43.9\n",
      "   34    340 1.017212986946106e+00 3.1e+00 7.11e-02  4e-02  9e-02 51:15.5\n",
      "   35    350 1.004377961158752e+00 3.0e+00 6.22e-02  3e-02  8e-02 52:48.3\n",
      "   36    360 1.011424660682678e+00 3.1e+00 5.77e-02  3e-02  7e-02 54:17.4\n",
      "   37    370 9.985733032226562e-01 3.2e+00 5.25e-02  3e-02  7e-02 55:46.0\n",
      "   38    380 1.003836631774902e+00 3.1e+00 5.40e-02  3e-02  7e-02 57:16.1\n",
      "   39    390 1.002249717712402e+00 3.0e+00 5.44e-02  3e-02  7e-02 58:47.2\n",
      "   40    400 1.002714633941650e+00 3.1e+00 5.03e-02  3e-02  6e-02 60:17.5\n",
      "   41    410 9.974606633186340e-01 3.1e+00 4.57e-02  2e-02  6e-02 61:48.0\n",
      "   42    420 9.984763264656067e-01 3.1e+00 4.38e-02  2e-02  6e-02 63:17.4\n",
      "   43    430 1.003851652145386e+00 3.2e+00 4.38e-02  2e-02  6e-02 64:48.6\n",
      "   44    440 9.998027086257935e-01 3.3e+00 4.33e-02  2e-02  6e-02 66:17.7\n",
      "   45    450 1.004145979881287e+00 3.2e+00 4.18e-02  2e-02  5e-02 67:47.6\n",
      "   46    460 9.975332617759705e-01 3.3e+00 4.38e-02  2e-02  6e-02 69:17.5\n",
      "   47    470 9.904341697692871e-01 3.3e+00 4.52e-02  2e-02  6e-02 70:47.6\n",
      "   48    480 1.000058054924011e+00 3.4e+00 4.47e-02  2e-02  6e-02 72:16.1\n",
      "   49    490 9.962304234504700e-01 3.6e+00 4.05e-02  2e-02  5e-02 73:46.2\n",
      "   50    500 9.966162443161011e-01 3.7e+00 3.98e-02  2e-02  5e-02 75:16.3\n",
      "   51    510 1.000479817390442e+00 3.7e+00 3.67e-02  2e-02  5e-02 76:47.0\n",
      "   52    520 9.982491135597229e-01 3.7e+00 3.59e-02  2e-02  5e-02 78:17.7\n",
      "   53    530 9.902216196060181e-01 3.7e+00 3.33e-02  2e-02  4e-02 79:47.6\n",
      "   54    540 9.925900697708130e-01 3.8e+00 3.25e-02  2e-02  4e-02 81:17.4\n",
      "   55    550 9.998317360877991e-01 3.9e+00 3.32e-02  2e-02  4e-02 82:47.9\n",
      "   56    560 9.973475933074951e-01 3.9e+00 3.44e-02  2e-02  5e-02 84:16.5\n",
      "   57    570 9.975484013557434e-01 4.0e+00 3.53e-02  2e-02  5e-02 85:45.5\n",
      "   58    580 1.000317573547363e+00 4.1e+00 3.53e-02  2e-02  5e-02 87:15.4\n",
      "   59    590 9.877995252609253e-01 4.4e+00 3.57e-02  2e-02  5e-02 88:43.9\n",
      "   60    600 9.948047399520874e-01 4.7e+00 3.88e-02  2e-02  5e-02 90:12.8\n",
      "   61    610 9.995076656341553e-01 4.6e+00 4.16e-02  2e-02  6e-02 91:42.0\n",
      "   62    620 1.004187464714050e+00 4.5e+00 4.33e-02  2e-02  6e-02 93:11.3\n",
      "   63    630 1.007383108139038e+00 4.6e+00 4.57e-02  2e-02  6e-02 94:40.6\n",
      "   64    640 1.004438638687134e+00 4.6e+00 4.93e-02  2e-02  7e-02 96:09.8\n",
      "   65    650 1.007828831672668e+00 4.8e+00 4.76e-02  2e-02  7e-02 97:38.7\n",
      "   66    660 1.002566456794739e+00 4.8e+00 4.73e-02  2e-02  7e-02 99:12.0\n",
      "   67    670 9.994050264358521e-01 5.0e+00 4.85e-02  2e-02  7e-02 100:43.2\n",
      "   68    680 1.008797883987427e+00 5.2e+00 4.99e-02  2e-02  7e-02 102:12.8\n",
      "   69    690 9.942500591278076e-01 5.3e+00 5.18e-02  2e-02  8e-02 103:43.4\n",
      "   70    700 1.004079461097717e+00 5.5e+00 4.76e-02  2e-02  7e-02 105:17.5\n",
      "   71    710 9.972110390663147e-01 5.7e+00 4.77e-02  2e-02  7e-02 106:47.0\n",
      "   72    720 9.947394132614136e-01 5.5e+00 4.18e-02  2e-02  6e-02 108:18.3\n",
      "   73    730 1.000775456428528e+00 5.5e+00 4.00e-02  2e-02  6e-02 109:47.2\n",
      "   74    740 9.888728260993958e-01 5.4e+00 3.57e-02  1e-02  5e-02 111:16.3\n",
      "   75    750 9.924526214599609e-01 5.3e+00 3.21e-02  1e-02  5e-02 112:45.5\n",
      "   76    760 9.970282316207886e-01 5.2e+00 3.18e-02  1e-02  5e-02 114:14.8\n",
      "   77    770 9.936127066612244e-01 5.2e+00 3.10e-02  1e-02  4e-02 115:45.9\n",
      "   78    780 9.938468933105469e-01 5.1e+00 2.91e-02  1e-02  4e-02 117:16.0\n",
      "   79    790 9.921302199363708e-01 5.3e+00 2.95e-02  1e-02  4e-02 118:47.6\n",
      "   80    800 9.943414330482483e-01 5.1e+00 3.07e-02  1e-02  4e-02 120:16.4\n",
      "   81    810 9.994689822196960e-01 5.2e+00 3.13e-02  1e-02  4e-02 121:47.9\n",
      "   82    820 1.000862360000610e+00 5.2e+00 3.02e-02  1e-02  4e-02 123:16.5\n",
      "   83    830 9.974681735038757e-01 5.4e+00 2.83e-02  1e-02  4e-02 124:44.9\n",
      "   84    840 9.944828748703003e-01 5.3e+00 2.73e-02  1e-02  4e-02 126:13.5\n",
      "   85    850 1.005727410316467e+00 5.0e+00 2.72e-02  1e-02  4e-02 127:41.7\n",
      "   86    860 1.002891063690186e+00 5.0e+00 2.58e-02  9e-03  3e-02 129:10.8\n",
      "   87    870 9.936416745185852e-01 4.9e+00 2.39e-02  8e-03  3e-02 130:39.9\n",
      "   88    880 9.988110661506653e-01 4.9e+00 2.48e-02  9e-03  3e-02 132:12.3\n",
      "   89    890 9.973492026329041e-01 4.9e+00 2.40e-02  9e-03  3e-02 133:41.2\n",
      "   90    900 9.897175431251526e-01 4.8e+00 2.41e-02  9e-03  3e-02 135:10.4\n",
      "   92    920 9.877690672874451e-01 4.6e+00 2.52e-02  9e-03  3e-02 138:09.0\n",
      "   94    940 9.932028651237488e-01 5.1e+00 2.58e-02  9e-03  3e-02 141:11.1\n",
      "   96    960 9.924193620681763e-01 5.2e+00 2.35e-02  8e-03  3e-02 144:12.8\n",
      "   98    980 9.928418993949890e-01 5.2e+00 2.07e-02  7e-03  3e-02 147:16.3\n",
      "  100   1000 9.927569031715393e-01 5.2e+00 2.26e-02  8e-03  3e-02 150:13.5\n",
      "  102   1020 9.945195913314819e-01 5.2e+00 2.40e-02  9e-03  3e-02 153:13.6\n",
      "  104   1040 9.944765567779541e-01 5.2e+00 2.51e-02  9e-03  3e-02 156:16.8\n",
      "  106   1060 9.958194494247437e-01 5.3e+00 2.60e-02  9e-03  3e-02 159:16.7\n",
      "  108   1080 9.948582649230957e-01 5.7e+00 2.47e-02  9e-03  3e-02 162:23.9\n",
      "  110   1100 9.913443326950073e-01 5.4e+00 2.40e-02  8e-03  3e-02 165:24.6\n",
      "  112   1120 1.001008510589600e+00 6.0e+00 2.28e-02  8e-03  3e-02 168:22.5\n",
      "  114   1140 9.943932294845581e-01 5.9e+00 2.32e-02  8e-03  3e-02 171:21.0\n",
      "  116   1160 9.921417832374573e-01 5.9e+00 2.43e-02  9e-03  3e-02 174:18.2\n",
      "  118   1180 9.926726222038269e-01 6.7e+00 2.24e-02  8e-03  3e-02 177:21.6\n",
      "  120   1200 9.953948855400085e-01 7.3e+00 2.11e-02  7e-03  3e-02 180:19.8\n",
      "  122   1220 9.909848570823669e-01 7.9e+00 2.35e-02  8e-03  3e-02 183:19.1\n",
      "  124   1240 9.918518662452698e-01 8.5e+00 2.40e-02  8e-03  4e-02 186:13.2\n",
      "  126   1260 9.897187352180481e-01 8.8e+00 2.52e-02  9e-03  4e-02 189:03.6\n",
      "  128   1280 9.933381676673889e-01 8.7e+00 2.34e-02  8e-03  4e-02 191:54.1\n",
      "  130   1300 9.909169673919678e-01 8.5e+00 2.45e-02  9e-03  4e-02 194:44.7\n"
     ]
    },
    {
     "name": "stdout",
     "output_type": "stream",
     "text": [
      "  132   1320 9.932110905647278e-01 9.2e+00 2.79e-02  1e-02  4e-02 197:35.7\n",
      "  134   1340 9.999579787254333e-01 8.8e+00 3.28e-02  1e-02  5e-02 200:26.0\n",
      "  136   1360 9.906254410743713e-01 9.1e+00 3.20e-02  1e-02  5e-02 203:16.6\n",
      "  138   1380 9.913322925567627e-01 9.0e+00 2.89e-02  1e-02  4e-02 206:04.9\n",
      "  140   1400 9.957519173622131e-01 9.1e+00 2.70e-02  1e-02  4e-02 208:55.0\n",
      "  142   1420 9.942289590835571e-01 8.9e+00 2.77e-02  1e-02  4e-02 211:44.9\n",
      "  144   1440 9.873471260070801e-01 8.8e+00 2.63e-02  9e-03  4e-02 214:34.8\n",
      "  146   1460 9.905719161033630e-01 8.3e+00 2.73e-02  8e-03  4e-02 217:23.7\n",
      "  148   1480 9.942479133605957e-01 8.6e+00 2.76e-02  8e-03  4e-02 220:12.4\n",
      "  150   1500 9.932511448860168e-01 9.4e+00 2.89e-02  8e-03  5e-02 223:01.2\n",
      "  152   1520 9.904977679252625e-01 9.0e+00 3.07e-02  9e-03  5e-02 225:50.6\n",
      "  154   1540 9.892698526382446e-01 9.1e+00 2.60e-02  8e-03  4e-02 228:39.5\n",
      "  156   1560 9.952350258827209e-01 8.9e+00 2.65e-02  8e-03  4e-02 231:27.8\n",
      "  158   1580 9.923161864280701e-01 9.2e+00 2.65e-02  8e-03  4e-02 234:16.8\n",
      "  160   1600 9.949634671211243e-01 9.5e+00 3.15e-02  9e-03  5e-02 237:06.1\n",
      "  162   1620 9.950994253158569e-01 1.1e+01 3.67e-02  1e-02  6e-02 239:55.1\n",
      "  164   1640 9.945456981658936e-01 1.0e+01 4.26e-02  1e-02  7e-02 242:44.0\n",
      "  166   1660 9.925430417060852e-01 1.1e+01 3.81e-02  1e-02  6e-02 245:32.7\n",
      "  168   1680 9.970927834510803e-01 1.1e+01 3.90e-02  1e-02  6e-02 248:22.0\n",
      "  170   1700 9.968869686126709e-01 1.1e+01 3.82e-02  1e-02  6e-02 251:11.2\n",
      "  172   1720 9.932574629783630e-01 1.1e+01 3.19e-02  9e-03  5e-02 254:01.3\n",
      "  174   1740 9.940986633300781e-01 1.2e+01 3.21e-02  8e-03  6e-02 256:52.1\n",
      "  176   1760 9.911042451858521e-01 1.2e+01 2.90e-02  8e-03  5e-02 259:42.4\n",
      "  178   1780 9.922580718994141e-01 1.3e+01 2.69e-02  7e-03  5e-02 262:33.5\n",
      "  180   1800 9.953167438507080e-01 1.4e+01 2.57e-02  7e-03  5e-02 265:22.5\n",
      "  182   1820 9.963556528091431e-01 1.5e+01 2.69e-02  7e-03  5e-02 268:11.2\n",
      "  184   1840 9.940089583396912e-01 1.5e+01 2.37e-02  6e-03  4e-02 271:00.1\n",
      "  186   1860 9.936458468437195e-01 1.6e+01 2.45e-02  6e-03  5e-02 273:48.7\n",
      "  188   1880 9.928427934646606e-01 1.6e+01 2.06e-02  5e-03  4e-02 276:37.5\n",
      "  190   1900 9.883344173431396e-01 1.6e+01 1.94e-02  4e-03  4e-02 279:26.4\n",
      "  192   1920 9.930927157402039e-01 1.6e+01 1.95e-02  4e-03  4e-02 282:16.9\n",
      "  194   1940 9.842053055763245e-01 1.6e+01 1.96e-02  4e-03  3e-02 285:07.2\n",
      "  196   1960 9.932563304901123e-01 1.5e+01 2.00e-02  5e-03  3e-02 287:57.6\n",
      "  198   1980 1.001851439476013e+00 1.4e+01 1.98e-02  4e-03  3e-02 290:48.3\n",
      "  200   2000 9.942114949226379e-01 1.5e+01 2.57e-02  6e-03  5e-02 293:38.7\n",
      "  202   2020 9.963713884353638e-01 1.8e+01 2.74e-02  6e-03  5e-02 296:29.0\n",
      "  204   2040 9.968082904815674e-01 1.9e+01 2.37e-02  5e-03  5e-02 299:19.3\n",
      "  206   2060 9.955881834030151e-01 2.1e+01 2.34e-02  5e-03  5e-02 302:10.2\n",
      "  208   2080 9.906169772148132e-01 2.0e+01 2.26e-02  5e-03  5e-02 305:00.7\n",
      "  210   2100 9.937345385551453e-01 2.2e+01 1.81e-02  4e-03  4e-02 307:51.2\n",
      "  212   2120 9.964991211891174e-01 2.1e+01 1.88e-02  4e-03  4e-02 310:41.2\n",
      "  214   2140 9.970399141311646e-01 2.1e+01 1.70e-02  4e-03  4e-02 313:31.6\n",
      "  216   2160 9.963459968566895e-01 2.1e+01 1.88e-02  4e-03  4e-02 316:21.8\n",
      "  218   2180 9.962145686149597e-01 2.2e+01 1.93e-02  4e-03  4e-02 319:11.8\n",
      "  220   2200 9.949949383735657e-01 2.3e+01 1.72e-02  3e-03  4e-02 322:02.1\n",
      "  222   2220 9.961603283882141e-01 2.3e+01 1.42e-02  3e-03  3e-02 324:52.8\n",
      "  224   2240 9.975908994674683e-01 2.2e+01 1.30e-02  2e-03  3e-02 327:43.2\n",
      "  226   2260 9.905710220336914e-01 2.2e+01 1.36e-02  3e-03  3e-02 330:33.4\n",
      "  228   2280 9.863824844360352e-01 2.3e+01 1.70e-02  3e-03  3e-02 333:24.1\n",
      "  230   2300 9.869562387466431e-01 2.4e+01 1.56e-02  3e-03  3e-02 336:15.1\n",
      "  232   2320 9.978876709938049e-01 2.3e+01 1.65e-02  3e-03  3e-02 339:03.5\n",
      "  234   2340 9.895413517951965e-01 2.5e+01 1.81e-02  4e-03  4e-02 341:52.4\n",
      "  236   2360 9.972222447395325e-01 2.6e+01 1.74e-02  3e-03  3e-02 344:41.2\n",
      "  238   2380 9.974189400672913e-01 2.4e+01 1.62e-02  3e-03  3e-02 347:30.4\n",
      "  240   2400 9.936836957931519e-01 2.4e+01 1.57e-02  3e-03  3e-02 350:19.6\n",
      "  242   2420 9.970752596855164e-01 2.4e+01 1.51e-02  3e-03  3e-02 353:09.2\n",
      "  244   2440 9.832500815391541e-01 2.5e+01 1.69e-02  3e-03  3e-02 355:57.8\n",
      "  246   2460 9.886977672576904e-01 2.5e+01 1.79e-02  3e-03  3e-02 358:47.0\n",
      "  248   2480 9.892023205757141e-01 2.4e+01 2.04e-02  4e-03  4e-02 361:36.2\n",
      "  251   2510 9.924892187118530e-01 2.5e+01 2.00e-02  4e-03  4e-02 365:49.4\n",
      "  254   2540 9.977634549140930e-01 2.5e+01 1.84e-02  3e-03  3e-02 370:02.4\n",
      "  257   2570 9.904772043228149e-01 2.4e+01 1.68e-02  3e-03  3e-02 374:15.1\n",
      "  260   2600 9.913090467453003e-01 2.5e+01 1.59e-02  3e-03  3e-02 378:28.5\n",
      "  263   2630 9.988291263580322e-01 2.5e+01 1.55e-02  3e-03  3e-02 382:45.8\n"
     ]
    },
    {
     "ename": "KeyboardInterrupt",
     "evalue": "",
     "output_type": "error",
     "traceback": [
      "\u001b[0;31m---------------------------------------------------------------------------\u001b[0m",
      "\u001b[0;31mKeyboardInterrupt\u001b[0m                         Traceback (most recent call last)",
      "\u001b[0;32m<ipython-input-9-b52854933881>\u001b[0m in \u001b[0;36m<module>\u001b[0;34m\u001b[0m\n\u001b[0;32m----> 1\u001b[0;31m \u001b[0mes\u001b[0m\u001b[0;34m.\u001b[0m\u001b[0moptimize\u001b[0m\u001b[0;34m(\u001b[0m\u001b[0mfunc_to_opt\u001b[0m\u001b[0;34m,\u001b[0m\u001b[0miterations\u001b[0m\u001b[0;34m=\u001b[0m\u001b[0;36m1000\u001b[0m\u001b[0;34m)\u001b[0m\u001b[0;34m\u001b[0m\u001b[0;34m\u001b[0m\u001b[0m\n\u001b[0m",
      "\u001b[0;32m~/anaconda3/lib/python3.7/site-packages/cma/interfaces.py\u001b[0m in \u001b[0;36moptimize\u001b[0;34m(self, objective_fct, maxfun, iterations, min_iterations, args, verb_disp, callback)\u001b[0m\n\u001b[1;32m    179\u001b[0m \u001b[0;34m\u001b[0m\u001b[0m\n\u001b[1;32m    180\u001b[0m             \u001b[0mX\u001b[0m \u001b[0;34m=\u001b[0m \u001b[0mself\u001b[0m\u001b[0;34m.\u001b[0m\u001b[0mask\u001b[0m\u001b[0;34m(\u001b[0m\u001b[0;34m)\u001b[0m  \u001b[0;31m# deliver candidate solutions\u001b[0m\u001b[0;34m\u001b[0m\u001b[0;34m\u001b[0m\u001b[0m\n\u001b[0;32m--> 181\u001b[0;31m             \u001b[0mfitvals\u001b[0m \u001b[0;34m=\u001b[0m \u001b[0;34m[\u001b[0m\u001b[0mobjective_fct\u001b[0m\u001b[0;34m(\u001b[0m\u001b[0mx\u001b[0m\u001b[0;34m,\u001b[0m \u001b[0;34m*\u001b[0m\u001b[0margs\u001b[0m\u001b[0;34m)\u001b[0m \u001b[0;32mfor\u001b[0m \u001b[0mx\u001b[0m \u001b[0;32min\u001b[0m \u001b[0mX\u001b[0m\u001b[0;34m]\u001b[0m\u001b[0;34m\u001b[0m\u001b[0;34m\u001b[0m\u001b[0m\n\u001b[0m\u001b[1;32m    182\u001b[0m             \u001b[0mcevals\u001b[0m \u001b[0;34m+=\u001b[0m \u001b[0mlen\u001b[0m\u001b[0;34m(\u001b[0m\u001b[0mfitvals\u001b[0m\u001b[0;34m)\u001b[0m\u001b[0;34m\u001b[0m\u001b[0;34m\u001b[0m\u001b[0m\n\u001b[1;32m    183\u001b[0m             \u001b[0mself\u001b[0m\u001b[0;34m.\u001b[0m\u001b[0mtell\u001b[0m\u001b[0;34m(\u001b[0m\u001b[0mX\u001b[0m\u001b[0;34m,\u001b[0m \u001b[0mfitvals\u001b[0m\u001b[0;34m)\u001b[0m  \u001b[0;31m# all the work is done here\u001b[0m\u001b[0;34m\u001b[0m\u001b[0;34m\u001b[0m\u001b[0m\n",
      "\u001b[0;32m~/anaconda3/lib/python3.7/site-packages/cma/interfaces.py\u001b[0m in \u001b[0;36m<listcomp>\u001b[0;34m(.0)\u001b[0m\n\u001b[1;32m    179\u001b[0m \u001b[0;34m\u001b[0m\u001b[0m\n\u001b[1;32m    180\u001b[0m             \u001b[0mX\u001b[0m \u001b[0;34m=\u001b[0m \u001b[0mself\u001b[0m\u001b[0;34m.\u001b[0m\u001b[0mask\u001b[0m\u001b[0;34m(\u001b[0m\u001b[0;34m)\u001b[0m  \u001b[0;31m# deliver candidate solutions\u001b[0m\u001b[0;34m\u001b[0m\u001b[0;34m\u001b[0m\u001b[0m\n\u001b[0;32m--> 181\u001b[0;31m             \u001b[0mfitvals\u001b[0m \u001b[0;34m=\u001b[0m \u001b[0;34m[\u001b[0m\u001b[0mobjective_fct\u001b[0m\u001b[0;34m(\u001b[0m\u001b[0mx\u001b[0m\u001b[0;34m,\u001b[0m \u001b[0;34m*\u001b[0m\u001b[0margs\u001b[0m\u001b[0;34m)\u001b[0m \u001b[0;32mfor\u001b[0m \u001b[0mx\u001b[0m \u001b[0;32min\u001b[0m \u001b[0mX\u001b[0m\u001b[0;34m]\u001b[0m\u001b[0;34m\u001b[0m\u001b[0;34m\u001b[0m\u001b[0m\n\u001b[0m\u001b[1;32m    182\u001b[0m             \u001b[0mcevals\u001b[0m \u001b[0;34m+=\u001b[0m \u001b[0mlen\u001b[0m\u001b[0;34m(\u001b[0m\u001b[0mfitvals\u001b[0m\u001b[0;34m)\u001b[0m\u001b[0;34m\u001b[0m\u001b[0;34m\u001b[0m\u001b[0m\n\u001b[1;32m    183\u001b[0m             \u001b[0mself\u001b[0m\u001b[0;34m.\u001b[0m\u001b[0mtell\u001b[0m\u001b[0;34m(\u001b[0m\u001b[0mX\u001b[0m\u001b[0;34m,\u001b[0m \u001b[0mfitvals\u001b[0m\u001b[0;34m)\u001b[0m  \u001b[0;31m# all the work is done here\u001b[0m\u001b[0;34m\u001b[0m\u001b[0;34m\u001b[0m\u001b[0m\n",
      "\u001b[0;32m<ipython-input-7-2afce50d5476>\u001b[0m in \u001b[0;36mfunc_to_opt\u001b[0;34m(params)\u001b[0m\n\u001b[1;32m      1\u001b[0m \u001b[0;32mdef\u001b[0m \u001b[0mfunc_to_opt\u001b[0m\u001b[0;34m(\u001b[0m\u001b[0mparams\u001b[0m\u001b[0;34m)\u001b[0m\u001b[0;34m:\u001b[0m\u001b[0;34m\u001b[0m\u001b[0;34m\u001b[0m\u001b[0m\n\u001b[0;32m----> 2\u001b[0;31m     \u001b[0mX\u001b[0m\u001b[0;34m,\u001b[0m \u001b[0mP\u001b[0m\u001b[0;34m,\u001b[0m \u001b[0m_\u001b[0m \u001b[0;34m=\u001b[0m \u001b[0mcircuit\u001b[0m\u001b[0;34m(\u001b[0m\u001b[0minit_state\u001b[0m\u001b[0;34m,\u001b[0m \u001b[0mparams\u001b[0m\u001b[0;34m,\u001b[0m \u001b[0mn_photons\u001b[0m\u001b[0;34m)\u001b[0m\u001b[0;34m\u001b[0m\u001b[0;34m\u001b[0m\u001b[0m\n\u001b[0m\u001b[1;32m      3\u001b[0m     \u001b[0;32mreturn\u001b[0m \u001b[0mloss_xy\u001b[0m\u001b[0;34m(\u001b[0m\u001b[0mX\u001b[0m\u001b[0;34m[\u001b[0m\u001b[0;34m:\u001b[0m\u001b[0;34m,\u001b[0m\u001b[0;36m0\u001b[0m\u001b[0;34m]\u001b[0m\u001b[0;34m,\u001b[0m \u001b[0mP\u001b[0m\u001b[0;34m[\u001b[0m\u001b[0;34m:\u001b[0m\u001b[0;34m,\u001b[0m\u001b[0;36m0\u001b[0m\u001b[0;34m]\u001b[0m\u001b[0;34m,\u001b[0m \u001b[0mX\u001b[0m\u001b[0;34m[\u001b[0m\u001b[0;34m:\u001b[0m\u001b[0;34m,\u001b[0m\u001b[0;36m1\u001b[0m\u001b[0;34m]\u001b[0m\u001b[0;34m,\u001b[0m \u001b[0mP\u001b[0m\u001b[0;34m[\u001b[0m\u001b[0;34m:\u001b[0m\u001b[0;34m,\u001b[0m\u001b[0;36m1\u001b[0m\u001b[0;34m]\u001b[0m\u001b[0;34m)\u001b[0m\u001b[0;34m\u001b[0m\u001b[0;34m\u001b[0m\u001b[0m\n",
      "\u001b[0;32m<ipython-input-5-246f53261a53>\u001b[0m in \u001b[0;36mcircuit\u001b[0;34m(state, params, n_photons)\u001b[0m\n\u001b[1;32m      9\u001b[0m     \u001b[0mstate_\u001b[0m \u001b[0;34m=\u001b[0m \u001b[0mnp\u001b[0m\u001b[0;34m.\u001b[0m\u001b[0meinsum\u001b[0m\u001b[0;34m(\u001b[0m\u001b[0;34m'jk,k->j'\u001b[0m\u001b[0;34m,\u001b[0m \u001b[0mgate2_1\u001b[0m\u001b[0;34m,\u001b[0m \u001b[0mstate_\u001b[0m\u001b[0;34m)\u001b[0m\u001b[0;34m\u001b[0m\u001b[0;34m\u001b[0m\u001b[0m\n\u001b[1;32m     10\u001b[0m     \u001b[0mfinal_state\u001b[0m \u001b[0;34m=\u001b[0m \u001b[0mnp\u001b[0m\u001b[0;34m.\u001b[0m\u001b[0meinsum\u001b[0m\u001b[0;34m(\u001b[0m\u001b[0;34m'jk,k->j'\u001b[0m\u001b[0;34m,\u001b[0m \u001b[0mgate2_2\u001b[0m\u001b[0;34m,\u001b[0m \u001b[0mstate_\u001b[0m\u001b[0;34m)\u001b[0m\u001b[0;34m\u001b[0m\u001b[0;34m\u001b[0m\u001b[0m\n\u001b[0;32m---> 11\u001b[0;31m     \u001b[0mdata_X\u001b[0m \u001b[0;34m=\u001b[0m \u001b[0mmeas_X\u001b[0m\u001b[0;34m(\u001b[0m\u001b[0mfinal_state\u001b[0m\u001b[0;34m,\u001b[0m \u001b[0;36m2\u001b[0m\u001b[0;34m,\u001b[0m \u001b[0mn_photons\u001b[0m\u001b[0;34m)\u001b[0m\u001b[0;34m\u001b[0m\u001b[0;34m\u001b[0m\u001b[0m\n\u001b[0m\u001b[1;32m     12\u001b[0m     \u001b[0mdata_P\u001b[0m \u001b[0;34m=\u001b[0m \u001b[0mmeas_P\u001b[0m\u001b[0;34m(\u001b[0m\u001b[0mfinal_state\u001b[0m\u001b[0;34m,\u001b[0m \u001b[0;36m2\u001b[0m\u001b[0;34m,\u001b[0m \u001b[0mn_photons\u001b[0m\u001b[0;34m)\u001b[0m\u001b[0;34m\u001b[0m\u001b[0;34m\u001b[0m\u001b[0m\n\u001b[1;32m     13\u001b[0m     \u001b[0;32mreturn\u001b[0m \u001b[0mdata_X\u001b[0m\u001b[0;34m,\u001b[0m \u001b[0mdata_P\u001b[0m\u001b[0;34m,\u001b[0m \u001b[0mfinal_state\u001b[0m\u001b[0;34m\u001b[0m\u001b[0;34m\u001b[0m\u001b[0m\n",
      "\u001b[0;32m~/RQC/MBQC/measurements.py\u001b[0m in \u001b[0;36mmeas_X\u001b[0;34m(state, n_modes, n_photons)\u001b[0m\n\u001b[1;32m     79\u001b[0m     \u001b[0mMeasurement\u001b[0m \u001b[0mon\u001b[0m \u001b[0mX\u001b[0m \u001b[0mquadrature\u001b[0m\u001b[0;34m\u001b[0m\u001b[0;34m\u001b[0m\u001b[0m\n\u001b[1;32m     80\u001b[0m     \"\"\"\n\u001b[0;32m---> 81\u001b[0;31m     \u001b[0;32mreturn\u001b[0m \u001b[0mmeas_X_theta\u001b[0m\u001b[0;34m(\u001b[0m\u001b[0mstate\u001b[0m\u001b[0;34m,\u001b[0m \u001b[0;36m0.\u001b[0m\u001b[0;34m,\u001b[0m \u001b[0mn_modes\u001b[0m\u001b[0;34m,\u001b[0m \u001b[0mn_photons\u001b[0m\u001b[0;34m)\u001b[0m\u001b[0;34m\u001b[0m\u001b[0;34m\u001b[0m\u001b[0m\n\u001b[0m\u001b[1;32m     82\u001b[0m \u001b[0;34m\u001b[0m\u001b[0m\n\u001b[1;32m     83\u001b[0m \u001b[0;32mdef\u001b[0m \u001b[0mmeas_P\u001b[0m\u001b[0;34m(\u001b[0m\u001b[0mstate\u001b[0m\u001b[0;34m,\u001b[0m \u001b[0mn_modes\u001b[0m\u001b[0;34m,\u001b[0m \u001b[0mn_photons\u001b[0m\u001b[0;34m)\u001b[0m\u001b[0;34m:\u001b[0m\u001b[0;34m\u001b[0m\u001b[0;34m\u001b[0m\u001b[0m\n",
      "\u001b[0;32m~/RQC/MBQC/measurements.py\u001b[0m in \u001b[0;36mmeas_X_theta\u001b[0;34m(state, theta, n_modes, n_photons, x_max, x_min, instances_size)\u001b[0m\n\u001b[1;32m    102\u001b[0m         \u001b[0;32mraise\u001b[0m \u001b[0mNotImplementedError\u001b[0m\u001b[0;34m\u001b[0m\u001b[0;34m\u001b[0m\u001b[0m\n\u001b[1;32m    103\u001b[0m     \u001b[0;32melse\u001b[0m\u001b[0;34m:\u001b[0m\u001b[0;34m\u001b[0m\u001b[0;34m\u001b[0m\u001b[0m\n\u001b[0;32m--> 104\u001b[0;31m         \u001b[0;32mreturn\u001b[0m \u001b[0mbootstrap\u001b[0m\u001b[0;34m(\u001b[0m\u001b[0mstate_\u001b[0m\u001b[0;34m,\u001b[0m \u001b[0mn_modes\u001b[0m\u001b[0;34m,\u001b[0m \u001b[0mn_photons\u001b[0m\u001b[0;34m,\u001b[0m \u001b[0minstances_size\u001b[0m\u001b[0;34m)\u001b[0m\u001b[0;34m\u001b[0m\u001b[0;34m\u001b[0m\u001b[0m\n\u001b[0m\u001b[1;32m    105\u001b[0m \u001b[0;34m\u001b[0m\u001b[0m\n",
      "\u001b[0;32m~/RQC/MBQC/measurements.py\u001b[0m in \u001b[0;36mbootstrap\u001b[0;34m(state, n_modes, n_photons, instances_size)\u001b[0m\n\u001b[1;32m     54\u001b[0m         \u001b[0;32melif\u001b[0m \u001b[0mn_modes\u001b[0m\u001b[0;34m==\u001b[0m\u001b[0;36m2\u001b[0m\u001b[0;34m:\u001b[0m\u001b[0;34m\u001b[0m\u001b[0;34m\u001b[0m\u001b[0m\n\u001b[1;32m     55\u001b[0m             \u001b[0my_pret\u001b[0m \u001b[0;34m=\u001b[0m \u001b[0mnp\u001b[0m\u001b[0;34m.\u001b[0m\u001b[0mrandom\u001b[0m\u001b[0;34m.\u001b[0m\u001b[0muniform\u001b[0m\u001b[0;34m(\u001b[0m\u001b[0;34m-\u001b[0m\u001b[0;36m5\u001b[0m\u001b[0;34m,\u001b[0m \u001b[0;36m5\u001b[0m\u001b[0;34m,\u001b[0m \u001b[0msize\u001b[0m\u001b[0;34m=\u001b[0m\u001b[0;36m10000\u001b[0m\u001b[0;34m)\u001b[0m\u001b[0;34m\u001b[0m\u001b[0;34m\u001b[0m\u001b[0m\n\u001b[0;32m---> 56\u001b[0;31m             \u001b[0mprobabilities\u001b[0m \u001b[0;34m=\u001b[0m \u001b[0mproba_2d\u001b[0m\u001b[0;34m(\u001b[0m\u001b[0mstate\u001b[0m\u001b[0;34m,\u001b[0m \u001b[0mx_pret\u001b[0m\u001b[0;34m,\u001b[0m \u001b[0my_pret\u001b[0m\u001b[0;34m,\u001b[0m \u001b[0mn_photons\u001b[0m\u001b[0;34m)\u001b[0m\u001b[0;34m\u001b[0m\u001b[0;34m\u001b[0m\u001b[0m\n\u001b[0m\u001b[1;32m     57\u001b[0m         \u001b[0;32melif\u001b[0m \u001b[0mn_modes\u001b[0m\u001b[0;34m==\u001b[0m\u001b[0;36m3\u001b[0m\u001b[0;34m:\u001b[0m\u001b[0;34m\u001b[0m\u001b[0;34m\u001b[0m\u001b[0m\n\u001b[1;32m     58\u001b[0m             \u001b[0my_pret\u001b[0m \u001b[0;34m=\u001b[0m \u001b[0mnp\u001b[0m\u001b[0;34m.\u001b[0m\u001b[0mrandom\u001b[0m\u001b[0;34m.\u001b[0m\u001b[0muniform\u001b[0m\u001b[0;34m(\u001b[0m\u001b[0;34m-\u001b[0m\u001b[0;36m5\u001b[0m\u001b[0;34m,\u001b[0m \u001b[0;36m5\u001b[0m\u001b[0;34m,\u001b[0m \u001b[0msize\u001b[0m\u001b[0;34m=\u001b[0m\u001b[0;36m10000\u001b[0m\u001b[0;34m)\u001b[0m\u001b[0;34m\u001b[0m\u001b[0;34m\u001b[0m\u001b[0m\n",
      "\u001b[0;32m~/RQC/MBQC/measurements.py\u001b[0m in \u001b[0;36mproba_2d\u001b[0;34m(state, x_pret, y_pret, n_photons)\u001b[0m\n\u001b[1;32m     24\u001b[0m     \u001b[0;32mfor\u001b[0m \u001b[0mi\u001b[0m \u001b[0;32min\u001b[0m \u001b[0mrange\u001b[0m\u001b[0;34m(\u001b[0m\u001b[0mn_photons\u001b[0m\u001b[0;34m)\u001b[0m\u001b[0;34m:\u001b[0m\u001b[0;34m\u001b[0m\u001b[0;34m\u001b[0m\u001b[0m\n\u001b[1;32m     25\u001b[0m         \u001b[0;32mfor\u001b[0m \u001b[0mj\u001b[0m \u001b[0;32min\u001b[0m \u001b[0mrange\u001b[0m\u001b[0;34m(\u001b[0m\u001b[0mn_photons\u001b[0m\u001b[0;34m)\u001b[0m\u001b[0;34m:\u001b[0m\u001b[0;34m\u001b[0m\u001b[0;34m\u001b[0m\u001b[0m\n\u001b[0;32m---> 26\u001b[0;31m             \u001b[0mpart\u001b[0m \u001b[0;34m=\u001b[0m \u001b[0;34m(\u001b[0m\u001b[0mstate\u001b[0m\u001b[0;34m[\u001b[0m\u001b[0mi\u001b[0m\u001b[0;34m*\u001b[0m\u001b[0mn_photons\u001b[0m\u001b[0;34m+\u001b[0m\u001b[0mj\u001b[0m\u001b[0;34m]\u001b[0m\u001b[0;34m*\u001b[0m\u001b[0mhermval\u001b[0m\u001b[0;34m(\u001b[0m \u001b[0mx_pret\u001b[0m\u001b[0;34m,\u001b[0m \u001b[0mmatrix\u001b[0m\u001b[0;34m[\u001b[0m\u001b[0mi\u001b[0m\u001b[0;34m]\u001b[0m\u001b[0;34m)\u001b[0m\u001b[0;34m*\u001b[0m\u001b[0mhermval\u001b[0m\u001b[0;34m(\u001b[0m\u001b[0my_pret\u001b[0m\u001b[0;34m,\u001b[0m \u001b[0mmatrix\u001b[0m\u001b[0;34m[\u001b[0m\u001b[0mj\u001b[0m\u001b[0;34m]\u001b[0m\u001b[0;34m)\u001b[0m\u001b[0;34m*\u001b[0m\u001b[0mmatrix_factorial\u001b[0m\u001b[0;34m[\u001b[0m\u001b[0mi\u001b[0m\u001b[0;34m,\u001b[0m \u001b[0mj\u001b[0m\u001b[0;34m]\u001b[0m\u001b[0;34m)\u001b[0m\u001b[0;34m\u001b[0m\u001b[0;34m\u001b[0m\u001b[0m\n\u001b[0m\u001b[1;32m     27\u001b[0m             \u001b[0mres\u001b[0m \u001b[0;34m+=\u001b[0m \u001b[0mnp\u001b[0m\u001b[0;34m.\u001b[0m\u001b[0mabs\u001b[0m\u001b[0;34m(\u001b[0m\u001b[0mpart\u001b[0m\u001b[0;34m*\u001b[0m\u001b[0mpart\u001b[0m\u001b[0;34m.\u001b[0m\u001b[0mconj\u001b[0m\u001b[0;34m(\u001b[0m\u001b[0;34m)\u001b[0m\u001b[0;34m)\u001b[0m\u001b[0;34m\u001b[0m\u001b[0;34m\u001b[0m\u001b[0m\n\u001b[1;32m     28\u001b[0m     \u001b[0;32mreturn\u001b[0m \u001b[0mres\u001b[0m\u001b[0;34m*\u001b[0m\u001b[0;36m1.\u001b[0m\u001b[0;34m/\u001b[0m\u001b[0mnp\u001b[0m\u001b[0;34m.\u001b[0m\u001b[0mpi\u001b[0m\u001b[0;34m*\u001b[0m\u001b[0mnp\u001b[0m\u001b[0;34m.\u001b[0m\u001b[0mexp\u001b[0m\u001b[0;34m(\u001b[0m\u001b[0;34m-\u001b[0m\u001b[0;34m(\u001b[0m\u001b[0mx_pret\u001b[0m\u001b[0;34m**\u001b[0m\u001b[0;36m2\u001b[0m\u001b[0;34m+\u001b[0m\u001b[0my_pret\u001b[0m\u001b[0;34m**\u001b[0m\u001b[0;36m2\u001b[0m\u001b[0;34m)\u001b[0m\u001b[0;34m)\u001b[0m\u001b[0;34m\u001b[0m\u001b[0;34m\u001b[0m\u001b[0m\n",
      "\u001b[0;32m~/anaconda3/lib/python3.7/site-packages/numpy/polynomial/hermite.py\u001b[0m in \u001b[0;36mhermval\u001b[0;34m(x, c, tensor)\u001b[0m\n\u001b[1;32m    870\u001b[0m             \u001b[0mnd\u001b[0m \u001b[0;34m=\u001b[0m \u001b[0mnd\u001b[0m \u001b[0;34m-\u001b[0m \u001b[0;36m1\u001b[0m\u001b[0;34m\u001b[0m\u001b[0;34m\u001b[0m\u001b[0m\n\u001b[1;32m    871\u001b[0m             \u001b[0mc0\u001b[0m \u001b[0;34m=\u001b[0m \u001b[0mc\u001b[0m\u001b[0;34m[\u001b[0m\u001b[0;34m-\u001b[0m\u001b[0mi\u001b[0m\u001b[0;34m]\u001b[0m \u001b[0;34m-\u001b[0m \u001b[0mc1\u001b[0m\u001b[0;34m*\u001b[0m\u001b[0;34m(\u001b[0m\u001b[0;36m2\u001b[0m\u001b[0;34m*\u001b[0m\u001b[0;34m(\u001b[0m\u001b[0mnd\u001b[0m \u001b[0;34m-\u001b[0m \u001b[0;36m1\u001b[0m\u001b[0;34m)\u001b[0m\u001b[0;34m)\u001b[0m\u001b[0;34m\u001b[0m\u001b[0;34m\u001b[0m\u001b[0m\n\u001b[0;32m--> 872\u001b[0;31m             \u001b[0mc1\u001b[0m \u001b[0;34m=\u001b[0m \u001b[0mtmp\u001b[0m \u001b[0;34m+\u001b[0m \u001b[0mc1\u001b[0m\u001b[0;34m*\u001b[0m\u001b[0mx2\u001b[0m\u001b[0;34m\u001b[0m\u001b[0;34m\u001b[0m\u001b[0m\n\u001b[0m\u001b[1;32m    873\u001b[0m     \u001b[0;32mreturn\u001b[0m \u001b[0mc0\u001b[0m \u001b[0;34m+\u001b[0m \u001b[0mc1\u001b[0m\u001b[0;34m*\u001b[0m\u001b[0mx2\u001b[0m\u001b[0;34m\u001b[0m\u001b[0;34m\u001b[0m\u001b[0m\n\u001b[1;32m    874\u001b[0m \u001b[0;34m\u001b[0m\u001b[0m\n",
      "\u001b[0;31mKeyboardInterrupt\u001b[0m: "
     ]
    }
   ],
   "source": [
    "es.optimize(func_to_opt,iterations=1000)"
   ]
  },
  {
   "cell_type": "code",
   "execution_count": 10,
   "metadata": {},
   "outputs": [
    {
     "name": "stdout",
     "output_type": "stream",
     "text": [
      "final/bestever f-value = 9.988291e-01 9.832501e-01\n",
      "incumbent solution: [-0.29244511  0.24450441 -0.4894069   0.24268939 -0.53680078  0.73423382\n",
      " -0.27476366  0.41012185 ...]\n",
      "std deviations: [0.00464323 0.00790325 0.00496077 0.01083555 0.00275519 0.0079516\n",
      " 0.00602231 0.01271001 ...]\n"
     ]
    },
    {
     "data": {
      "text/plain": [
       "array([ 9.99079611e-01-3.15701396e-03j, -2.04323113e-02-9.76253612e-04j,\n",
       "       -1.84128174e-02-2.68539389e-05j,  8.04072201e-05+3.55182058e-05j,\n",
       "        2.72635656e-04+4.35510869e-05j,  1.05538033e-03+3.19890130e-04j,\n",
       "        1.14465077e-04-5.32737671e-05j, -4.53482286e-04-3.36398914e-04j,\n",
       "        3.29154145e-03-4.74884749e-03j, -1.64142772e-02-1.41140940e-02j,\n",
       "        1.34937666e-03+1.10245028e-03j, -6.32358639e-04+5.91564671e-04j,\n",
       "       -1.71860483e-03-1.53732182e-03j,  2.21551014e-03+9.39436413e-04j,\n",
       "        5.75264986e-04+6.80647067e-04j, -1.05925888e-03-1.59465734e-03j,\n",
       "       -2.31945910e-02+2.68687252e-03j,  3.46566031e-04+1.09645222e-04j,\n",
       "        3.26249488e-04+3.35931174e-04j,  3.28364554e-05-3.38765748e-04j,\n",
       "        3.23323485e-04+3.31545221e-04j, -3.45895935e-04+2.54201134e-05j,\n",
       "       -1.75997952e-04-4.24226622e-04j,  1.57393461e-04+3.53384731e-04j,\n",
       "       -1.09768290e-04+2.22388643e-04j,  9.07238331e-04+5.76766341e-04j,\n",
       "       -4.33590066e-05-5.81510087e-05j, -2.73802396e-06-4.05705849e-06j,\n",
       "        2.85405291e-05+3.68228581e-05j, -3.66274125e-05-4.29364044e-05j,\n",
       "       -6.99687804e-06+4.01204226e-05j,  3.08964320e-05-3.04817113e-05j,\n",
       "        5.59360563e-04-1.57544160e-04j, -1.41514113e-05+5.28908832e-06j,\n",
       "        9.86818406e-05+8.99308329e-05j,  9.14475306e-06+1.89044561e-05j,\n",
       "       -1.24739491e-05-6.65076284e-06j, -3.31629152e-06-1.38085149e-05j,\n",
       "        8.08333900e-06-3.24993682e-06j, -6.08138684e-06-2.46453846e-06j,\n",
       "        1.94716597e-05-4.19672565e-05j, -4.74006393e-04-6.17396177e-04j,\n",
       "        4.45555485e-06-5.03865199e-06j,  9.39689016e-06+1.53272490e-05j,\n",
       "        5.59228762e-06+5.85668235e-06j,  1.23175013e-05+3.39036633e-05j,\n",
       "       -3.26841791e-06-4.64854254e-06j, -1.48170436e-06-1.35066411e-05j,\n",
       "        1.19903348e-04+6.64437007e-05j,  1.83036091e-05-1.36256895e-05j,\n",
       "       -7.35898890e-05-2.19113528e-04j, -7.73319774e-06-3.79472249e-06j,\n",
       "        3.00174159e-06-1.75876842e-05j,  1.00509777e-05+2.07626429e-05j,\n",
       "       -4.38657879e-06+1.69050021e-05j,  6.87878183e-07-8.56980919e-06j,\n",
       "       -3.63983186e-05+2.72231577e-05j,  1.41306143e-04+9.07351615e-04j,\n",
       "       -1.24440645e-05+1.70423035e-06j,  1.24506319e-07+2.75020759e-05j,\n",
       "       -4.93983871e-07-9.82154521e-06j,  5.24007125e-06-2.35158089e-05j,\n",
       "        8.21401995e-07+2.62777349e-06j, -5.24663927e-06+1.00394026e-05j])"
      ]
     },
     "execution_count": 10,
     "metadata": {},
     "output_type": "execute_result"
    }
   ],
   "source": [
    "params = es.result_pretty().xbest\n",
    "circuit(init_state, params, n_photons)[2]"
   ]
  },
  {
   "cell_type": "code",
   "execution_count": 11,
   "metadata": {},
   "outputs": [
    {
     "name": "stdout",
     "output_type": "stream",
     "text": [
      "final wanted loss -------  0.9813191\n"
     ]
    }
   ],
   "source": [
    "n_photons = 8\n",
    "# 1\n",
    "vacuum_state1 = np.zeros(n_photons)\n",
    "vacuum_state1[0] = 1.\n",
    "# 2\n",
    "vacuum_state2 = np.zeros(n_photons)\n",
    "vacuum_state2[0] = 1.\n",
    "\n",
    "state = np.kron(vacuum_state1, vacuum_state2)\n",
    "\n",
    "data_X = meas_X(state, 2, n_photons)\n",
    "data_P = meas_P(state, 2, n_photons)\n",
    "\n",
    "print('final wanted loss ------- ', loss_xy(data_X[:,0], data_P[:,0], data_X[:,1], data_P[:,1]))"
   ]
  },
  {
   "cell_type": "code",
   "execution_count": null,
   "metadata": {},
   "outputs": [],
   "source": []
  }
 ],
 "metadata": {
  "kernelspec": {
   "display_name": "Python 3",
   "language": "python",
   "name": "python3"
  },
  "language_info": {
   "codemirror_mode": {
    "name": "ipython",
    "version": 3
   },
   "file_extension": ".py",
   "mimetype": "text/x-python",
   "name": "python",
   "nbconvert_exporter": "python",
   "pygments_lexer": "ipython3",
   "version": "3.7.3"
  }
 },
 "nbformat": 4,
 "nbformat_minor": 2
}
