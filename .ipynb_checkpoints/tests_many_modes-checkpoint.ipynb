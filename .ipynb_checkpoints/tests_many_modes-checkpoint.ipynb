{
 "cells": [
  {
   "cell_type": "code",
   "execution_count": 1,
   "metadata": {},
   "outputs": [],
   "source": [
    "from gates import *\n",
    "from states import *\n",
    "from measurements import *\n",
    "from utils import *\n",
    "import numpy as np\n",
    "import matplotlib.pyplot as plt\n",
    "from tqdm import trange\n",
    "import cma"
   ]
  },
  {
   "cell_type": "code",
   "execution_count": 2,
   "metadata": {},
   "outputs": [
    {
     "name": "stdout",
     "output_type": "stream",
     "text": [
      "Done\n"
     ]
    },
    {
     "data": {
      "image/png": "[encoded data removed]",
      "text/plain": [
       "<Figure size 432x288 with 1 Axes>"
      ]
     },
     "metadata": {
      "needs_background": "light"
     },
     "output_type": "display_data"
    }
   ],
   "source": [
    "n_photons = 3\n",
    "state1 = np.zeros(n_photons)\n",
    "state1[0] = 1.\n",
    "state2 = np.zeros(n_photons)\n",
    "state2[0] = 1.\n",
    "state3 = np.zeros(n_photons)\n",
    "state3[1] = 1.\n",
    "state = np.kron(state2, state3)\n",
    "state = np.kron(state1, state)\n",
    "data = meas_X_theta(state, 0., 3, n_photons)\n",
    "plt.hist(data[:,2], bins=100)\n",
    "print('Done')"
   ]
  },
  {
   "cell_type": "markdown",
   "metadata": {},
   "source": [
    "# Initialization"
   ]
  },
  {
   "cell_type": "code",
   "execution_count": 3,
   "metadata": {},
   "outputs": [],
   "source": [
    "n_photons = 8\n",
    "# 1\n",
    "vacuum_state1 = np.zeros(n_photons)\n",
    "vacuum_state1[0] = 1.\n",
    "# 2\n",
    "vacuum_state2 = np.zeros(n_photons)\n",
    "vacuum_state2[0] = 1.\n",
    "\n",
    "state = np.kron(vacuum_state1, vacuum_state2)\n",
    "\n",
    "\n",
    "# 1\n",
    "# from vacuum state to displaced squeezed state\n",
    "coh_dis = [0.5, 0.2, 0.3, 0.3] # squeezed r*np.exp(i*phi)  and coherent |alpha|*np.exp(i*args(alpha))\n",
    "gate1_1 = S_gate(coh_dis[0], coh_dis[1], 1, 2, n_photons) \n",
    "gate1_2 = D_gate(coh_dis[2], coh_dis[3], 1, 2, n_photons)\n",
    "\n",
    "# 2\n",
    "coh_dis = [0.3, 0.4, 0.5, 0.7] # squeezed r*np.exp(i*phi)  and coherent |alpha|*np.exp(i*args(alpha))\n",
    "gate2_1 = S_gate(coh_dis[0], coh_dis[1], 2, 2, n_photons) \n",
    "gate2_2 = D_gate(coh_dis[2], coh_dis[3], 2, 2, n_photons)\n",
    "\n",
    "\n",
    "state_ = np.einsum('jk,k->j', gate1_1, state)\n",
    "state_ = np.einsum('jk,k->j', gate1_2, state_)\n",
    "state_ = np.einsum('jk,k->j', gate2_1, state_)\n",
    "init_state = np.einsum('jk,k->j', gate2_2, state_)"
   ]
  },
  {
   "cell_type": "code",
   "execution_count": 4,
   "metadata": {},
   "outputs": [
    {
     "data": {
      "text/plain": [
       "array([ 7.46886765e-01+2.89587588e-02j,  3.15056969e-01+6.81443387e-02j,\n",
       "       -1.46863224e-01-2.06086685e-02j, -1.45184926e-01-6.02396145e-02j,\n",
       "        2.41126134e-02+1.00314302e-03j,  6.38156825e-02+3.81622521e-02j,\n",
       "       -9.19090941e-03+2.21653882e-03j, -1.84983006e-02-2.11949529e-02j,\n",
       "        3.81477160e-01+2.23519557e-01j,  1.45310683e-01+1.23457651e-01j,\n",
       "       -7.08495298e-02-5.17304984e-02j, -5.89153344e-02-7.19327146e-02j,\n",
       "        1.22966302e-02+7.25173069e-03j,  2.26357041e-02+3.77119800e-02j,\n",
       "       -5.41226994e-03-1.40858895e-03j, -3.73390798e-03-1.62166390e-02j,\n",
       "       -4.28256781e-02+9.23598379e-02j, -2.50949331e-02+3.60255429e-02j,\n",
       "        1.02956280e-02-1.73785807e-02j,  1.51889468e-02-1.50883741e-02j,\n",
       "       -1.39116771e-03+2.97818007e-03j, -8.14488274e-03+6.01904823e-03j,\n",
       "        2.03599436e-04-1.27153367e-03j,  3.63459935e-03-1.21312272e-03j,\n",
       "       -9.05159733e-02-6.35415067e-02j, -3.36934810e-02-3.37556179e-02j,\n",
       "        1.66015408e-02+1.43483118e-02j,  1.32123180e-02+1.91398544e-02j,\n",
       "       -2.91675622e-03-2.05986595e-03j, -4.86972975e-03-9.86523931e-03j,\n",
       "        1.32034496e-03+4.62100184e-04j,  5.98375686e-04+4.11918327e-03j,\n",
       "        3.87280662e-03-4.61705094e-02j,  5.09705541e-03-1.93202450e-02j,\n",
       "       -1.68510237e-03+9.03715964e-03j, -4.13458518e-03+8.82288772e-03j,\n",
       "        1.29255708e-04-1.49038623e-03j,  2.54088601e-03-3.84554739e-03j,\n",
       "        1.11669784e-04+5.75320647e-04j, -1.36400655e-03+1.08649930e-03j,\n",
       "        2.28268804e-02+1.37719128e-02j,  8.66544193e-03+7.55605749e-03j,\n",
       "       -4.23158936e-03-3.17381116e-03j, -3.49640530e-03-4.38259883e-03j,\n",
       "        7.35771163e-04+4.46745655e-04j,  1.33554095e-03+2.29126241e-03j,\n",
       "       -3.25225387e-04-8.91187478e-05j, -2.12563872e-04-9.80625292e-04j,\n",
       "       -3.55163378e-03+1.70841779e-02j, -2.78585692e-03+6.99053829e-03j,\n",
       "        1.04175475e-03-3.30171994e-03j,  1.94771984e-03-3.11000237e-03j,\n",
       "       -1.16232508e-04+5.51284813e-04j, -1.12512519e-03+1.32186351e-03j,\n",
       "       -1.55322530e-05-2.20169480e-04j,  5.59435309e-04-3.44030866e-04j,\n",
       "       -5.40364085e-03-5.10388403e-03j, -1.91344875e-03-2.57178297e-03j,\n",
       "        9.64950963e-04+1.11528409e-03j,  6.93069980e-04+1.40108229e-03j,\n",
       "       -1.74005551e-04-1.65285594e-04j, -2.28186073e-04-7.03339496e-04j,\n",
       "        8.33301290e-05+4.35391554e-05j, -1.56598171e-07+2.79758109e-04j])"
      ]
     },
     "execution_count": 4,
     "metadata": {},
     "output_type": "execute_result"
    }
   ],
   "source": [
    "init_state"
   ]
  },
  {
   "cell_type": "code",
   "execution_count": 5,
   "metadata": {},
   "outputs": [],
   "source": [
    "def circuit(state, params, n_photons):\n",
    "    gate1_1 = D_gate(params[0], params[1], 1, 2, n_photons) \n",
    "    gate1_2 = S_gate(params[2], params[3], 1, 2, n_photons)\n",
    "    gate2_1 = D_gate(params[4], params[5], 2, 2, n_photons) \n",
    "    gate2_2 = S_gate(params[6], params[7], 2, 2, n_photons)\n",
    "    state_ = np.einsum('jk,k->j', gate1_1, state)\n",
    "    state_ = np.einsum('jk,k->j', gate1_2, state_)\n",
    "    state_ = np.einsum('jk,k->j', gate2_1, state_)\n",
    "    final_state = np.einsum('jk,k->j', gate2_2, state_)\n",
    "    data_X = meas_X(final_state, 2, n_photons)\n",
    "    data_P = meas_P(final_state, 2, n_photons)\n",
    "    return data_X, data_P, final_state\n",
    "\n",
    "def loss_xy(x1, p1, x2, p2):\n",
    "    H = np.zeros(x1.shape[0]**2, dtype=np.float32)\n",
    "    dimension = x1.shape[0]\n",
    "    for i in range(dimension):\n",
    "        H[i*dimension:(i+1)*dimension] = (x1**2 + x2**2 + p1[i]**2 + p2[i]**2)/2.\n",
    "    return np.mean(H) # + np.std(H)"
   ]
  },
  {
   "cell_type": "code",
   "execution_count": 6,
   "metadata": {},
   "outputs": [
    {
     "data": {
      "text/plain": [
       "2.1872523"
      ]
     },
     "execution_count": 6,
     "metadata": {},
     "output_type": "execute_result"
    }
   ],
   "source": [
    "params = [0,1,1,0,0,1,0,0]\n",
    "data = meas_X(state, 2, n_photons)\n",
    "data_X, data_P, state = circuit(state, params, n_photons)\n",
    "loss_xy(data_X[:,0], data_P[:,0], data_X[:,1], data_P[:,1])"
   ]
  },
  {
   "cell_type": "code",
   "execution_count": 7,
   "metadata": {},
   "outputs": [],
   "source": [
    "def func_to_opt(params):\n",
    "    X, P, _ = circuit(init_state, params, n_photons)\n",
    "    return loss_xy(X[:,0], P[:,0], X[:,1], P[:,1])"
   ]
  },
  {
   "cell_type": "code",
   "execution_count": 8,
   "metadata": {},
   "outputs": [
    {
     "name": "stdout",
     "output_type": "stream",
     "text": [
      "(5_w,10)-aCMA-ES (mu_w=3.2,w_1=45%) in dimension 8 (seed=676872, Tue Jan 21 14:11:57 2020)\n"
     ]
    }
   ],
   "source": [
    "es = cma.CMAEvolutionStrategy(8*[0.5], 0.4)"
   ]
  },
  {
   "cell_type": "code",
   "execution_count": null,
   "metadata": {},
   "outputs": [
    {
     "name": "stdout",
     "output_type": "stream",
     "text": [
      "Iterat #Fevals   function value  axis ratio  sigma  min&max std  t[m:s]\n",
      "    1     10 3.216786861419678e+00 1.0e+00 3.70e-01  4e-01  4e-01 1:28.8\n",
      "    2     20 2.329424142837524e+00 1.2e+00 3.66e-01  3e-01  4e-01 2:54.7\n",
      "    3     30 2.313199996948242e+00 1.4e+00 3.72e-01  3e-01  4e-01 4:26.0\n",
      "    4     40 1.909407019615173e+00 1.5e+00 3.76e-01  3e-01  4e-01 5:50.6\n",
      "    5     50 2.198852062225342e+00 1.5e+00 4.11e-01  4e-01  5e-01 7:17.3\n",
      "    6     60 1.464530229568481e+00 1.9e+00 4.01e-01  4e-01  4e-01 8:48.8\n",
      "    7     70 1.553549766540527e+00 1.8e+00 4.32e-01  4e-01  5e-01 10:27.8\n",
      "    8     80 1.498913645744324e+00 1.8e+00 4.46e-01  4e-01  5e-01 12:06.1\n",
      "    9     90 1.809023737907410e+00 1.9e+00 4.53e-01  4e-01  5e-01 13:45.0\n",
      "   10    100 1.474423885345459e+00 2.0e+00 4.07e-01  3e-01  5e-01 15:27.7\n",
      "   11    110 1.507285594940186e+00 2.1e+00 3.83e-01  3e-01  4e-01 17:30.6\n",
      "   12    120 1.205272316932678e+00 2.1e+00 3.47e-01  3e-01  4e-01 19:31.0\n"
     ]
    }
   ],
   "source": [
    "es.optimize(func_to_opt,iterations=1000)"
   ]
  },
  {
   "cell_type": "code",
   "execution_count": null,
   "metadata": {},
   "outputs": [],
   "source": [
    "n_photons = 8\n",
    "# 1\n",
    "vacuum_state1 = np.zeros(n_photons)\n",
    "vacuum_state1[0] = 1.\n",
    "# 2\n",
    "vacuum_state2 = np.zeros(n_photons)\n",
    "vacuum_state2[0] = 1.\n",
    "\n",
    "state = np.kron(vacuum_state1, vacuum_state2)\n",
    "\n",
    "data_X = meas_X(state, 2, n_photons)\n",
    "data_P = meas_P(state, 2, n_photons)\n",
    "\n",
    "print('final wanted loss ------- ', loss_xy(data_X[:,0], data_P[:,0], data_X[:,1], data_P[:,1]))"
   ]
  },
  {
   "cell_type": "code",
   "execution_count": null,
   "metadata": {},
   "outputs": [],
   "source": []
  },
  {
   "cell_type": "code",
   "execution_count": null,
   "metadata": {},
   "outputs": [],
   "source": []
  }
 ],
 "metadata": {
  "kernelspec": {
   "display_name": "Python 3",
   "language": "python",
   "name": "python3"
  },
  "language_info": {
   "codemirror_mode": {
    "name": "ipython",
    "version": 3
   },
   "file_extension": ".py",
   "mimetype": "text/x-python",
   "name": "python",
   "nbconvert_exporter": "python",
   "pygments_lexer": "ipython3",
   "version": "3.7.3"
  }
 },
 "nbformat": 4,
 "nbformat_minor": 2
}
