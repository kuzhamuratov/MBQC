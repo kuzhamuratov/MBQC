{
 "cells": [
  {
   "cell_type": "code",
   "execution_count": 31,
   "metadata": {},
   "outputs": [],
   "source": [
    "from scipy.linalg import expm\n",
    "import math\n",
    "from numpy.polynomial.hermite import hermval\n",
    "from scipy.special import factorial\n",
    "\n",
    "def destroy_operator(n_photons):\n",
    "    matrix = np.zeros((n_photons, n_photons))\n",
    "    for i in range(1,n_photons):\n",
    "        matrix[i-1,i] = np.sqrt(i)\n",
    "    return matrix\n",
    "\n",
    "def create_operator(n_photons):\n",
    "    return destroy_operator(n_photons).conj().transpose(1,0)\n",
    "\n",
    "def tensor_product(operation, numb_mode, n_modes, n_photons):\n",
    "    for i in range(1,n_modes+1):\n",
    "        if i==1:\n",
    "            if i==numb_mode:\n",
    "                matrix = operation\n",
    "            else:\n",
    "                matrix = np.eye(n_photons)\n",
    "        elif i==numb_mode:\n",
    "            matrix = np.kron(operation, matrix)\n",
    "        else:\n",
    "            matrix = np.kron(np.eye(n_photons), matrix)\n",
    "    return matrix\n",
    "\n",
    "def BS_gate(theta, phi, mode1, mode2, n_modes, n_photons):\n",
    "    \"\"\"\n",
    "     beamsplitter from libs\n",
    "    \"\"\"\n",
    "    op1 = tensor_product(destroy_operator(n_photons), mode1, n_modes, n_photons)\n",
    "    op2 = tensor_product(destroy_operator(n_photons), mode2, n_modes, n_photons)\n",
    "    return expm(theta * (np.exp(1j * phi) * op1 @ op2.conj().T - np.exp(-1j * phi) * op1.conj().T @ op2))\n",
    "\n",
    "def R_gate(theta, numb_mode, n_modes, n_photons):\n",
    "    \"\"\"\n",
    "    Rotation gate\n",
    "    \"\"\"\n",
    "    number_operator = np.einsum('jk, kl-> jl', create_operator(n_photons), \n",
    "                      destroy_operator(n_photons))\n",
    "    eq = theta*number_operator\n",
    "    return tensor_product(expm(1.j*eq), numb_mode, n_modes, n_photons)\n",
    "\n",
    "\n",
    "def proba_2d(state, x_pret, y_pret, n_photons):\n",
    "    matrix_factorial = np.zeros((n_photons, n_photons))\n",
    "    for i in range(n_photons):\n",
    "        for j in range(n_photons):\n",
    "                matrix_factorial[i, j] = 1./np.sqrt(factorial(i)*factorial(j))*2**(-(i+j)/2.)\n",
    "    res = 0\n",
    "    matrix = np.eye(n_photons)\n",
    "    for i in range(n_photons):\n",
    "        for j in range(n_photons):\n",
    "            part = (state[i*n_photons+j]*hermval( x_pret, matrix[i])*hermval(y_pret, matrix[j])*matrix_factorial[i, j])\n",
    "            res += np.abs(part*part.conj())\n",
    "    return res*1./np.pi*np.exp(-(x_pret**2+y_pret**2))\n",
    "\n",
    "def bootstrap(state, n_modes, n_photons, instances_size):\n",
    "    step = 0\n",
    "    cur_length = 0\n",
    "    while cur_length <= instances_size:\n",
    "        x_pret = np.random.uniform(-2, 2, size=65000)\n",
    "        p = np.random.uniform(size=65000)\n",
    "        if n_modes==1: \n",
    "            probabilities = proba_1d(state, x_pret, n_photons)\n",
    "        elif n_modes==2: \n",
    "            y_pret = np.random.uniform(-2, 2, size=65000)\n",
    "            probabilities = proba_2d(state, x_pret, y_pret, n_photons)\n",
    "        elif n_modes==3: \n",
    "            y_pret = np.random.uniform(-2, 2, size=65000)\n",
    "            z_pret = np.random.uniform(-2, 2, size=65000)\n",
    "            probabilities = proba_3d(state, x_pret, y_pret, z_pret, n_photons)\n",
    "        eq = probabilities>=p\n",
    "        length = x_pret[eq].shape[0]\n",
    "        cur_length += length\n",
    "        if n_modes==1: arr = np.asarray(x_pret[eq])\n",
    "        elif n_modes==2: arr = np.concatenate([x_pret[eq].reshape(length,1),y_pret[probabilities>=p].reshape(length,1)],axis=1)\n",
    "        elif n_modes==3: arr = np.concatenate([x_pret[eq].reshape(length,1),y_pret[probabilities>=p].reshape(length,1),\n",
    "                         z_pret[eq].reshape(length,1)],axis=1)\n",
    "        if step==0:\n",
    "            data = arr\n",
    "            step = 1\n",
    "        else:\n",
    "            data = np.concatenate([data,arr], axis=0)\n",
    "    return data[:instances_size]\n",
    "\n",
    "def meas_X_theta(state, theta, n_modes, n_photons, x_max=5, \n",
    "                 x_min=-5, instances_size=10_000):\n",
    "    \"\"\"\n",
    "    Measurement on X_theta quadrature\n",
    "    state is pure state\n",
    "    \"\"\"\n",
    "\n",
    "    # rotate to theta angle\n",
    "    for i in range(n_modes):\n",
    "        rotation = R_gate(theta, i, n_modes, n_photons)\n",
    "        state_ = rotation @ state\n",
    "    \n",
    "    if n_modes>3:\n",
    "        raise NotImplementedError\n",
    "    else:\n",
    "        return bootstrap(state_, n_modes, n_photons, instances_size)\n",
    "    \n",
    "def sim_mes_xp(state, n_modes, n_photons):\n",
    "    if n_modes>1:\n",
    "        raise NotImplementedError\n",
    "    vacuum = np.zeros(n_photons)\n",
    "    vacuum[0] = 1.\n",
    "    state2d = np.kron(state, vacuum)\n",
    "    phi = np.pi/2.\n",
    "    theta = np.pi/4.\n",
    "    gate = BS_gate(theta, phi, 1, 2, 2, n_photons)\n",
    "    state2d_ = np.einsum('jk,k->j', gate, state2d)\n",
    "    gate2 = R_gate(-np.pi/2, 1, 2, n_photons)\n",
    "    state2d_final = np.einsum('jk,k->j', gate2, state2d_)\n",
    "    return meas_X_theta(state2d_final, 0, 2, n_photons)\n"
   ]
  },
  {
   "cell_type": "code",
   "execution_count": 32,
   "metadata": {},
   "outputs": [],
   "source": [
    "import numpy as np\n",
    "n_photons = 10\n",
    "state = np.zeros(n_photons)\n",
    "state[0] = 1."
   ]
  },
  {
   "cell_type": "code",
   "execution_count": 33,
   "metadata": {},
   "outputs": [
    {
     "name": "stdout",
     "output_type": "stream",
     "text": [
      "CPU times: user 2.23 s, sys: 732 ms, total: 2.97 s\n",
      "Wall time: 1.85 s\n"
     ]
    },
    {
     "data": {
      "text/plain": [
       "array([[ 1.14730438,  0.71289549],\n",
       "       [ 0.23705781, -0.05468921],\n",
       "       [ 0.12008755, -0.76707736],\n",
       "       ...,\n",
       "       [ 0.32343781, -0.77594623],\n",
       "       [ 0.754124  ,  0.45491589],\n",
       "       [ 0.49824963,  0.68142793]])"
      ]
     },
     "execution_count": 33,
     "metadata": {},
     "output_type": "execute_result"
    }
   ],
   "source": [
    "%%time\n",
    "sim_mes_xp(state, 1, n_photons)"
   ]
  },
  {
   "cell_type": "code",
   "execution_count": 24,
   "metadata": {},
   "outputs": [],
   "source": [
    "import matplotlib.pyplot as plt"
   ]
  },
  {
   "cell_type": "code",
   "execution_count": 16,
   "metadata": {},
   "outputs": [
    {
     "data": {
      "text/plain": [
       "(array([  2.,   0.,   2.,   0.,   0.,   0.,   2.,   4.,   6.,   5.,   8.,\n",
       "          7.,  11.,  11.,  22.,  13.,  19.,  28.,  26.,  20.,  36.,  41.,\n",
       "         39.,  50.,  55.,  65.,  70.,  87.,  99., 105., 101., 122., 139.,\n",
       "        158., 167., 171., 202., 194., 221., 210., 241., 223., 273., 262.,\n",
       "        276., 264., 280., 282., 303., 272., 284., 291., 282., 309., 254.,\n",
       "        242., 255., 255., 243., 201., 198., 176., 192., 177., 144., 171.,\n",
       "        166., 117., 100., 107.,  89.,  77.,  76.,  63.,  47.,  41.,  34.,\n",
       "         34.,  29.,  30.,  22.,  13.,  16.,  16.,  10.,   8.,   5.,   6.,\n",
       "          5.,   7.,   3.,   1.,   3.,   2.,   0.,   0.,   1.,   1.,   1.,\n",
       "          2.]),\n",
       " array([-2.52838428, -2.47686394, -2.42534359, -2.37382324, -2.3223029 ,\n",
       "        -2.27078255, -2.2192622 , -2.16774186, -2.11622151, -2.06470116,\n",
       "        -2.01318081, -1.96166047, -1.91014012, -1.85861977, -1.80709943,\n",
       "        -1.75557908, -1.70405873, -1.65253839, -1.60101804, -1.54949769,\n",
       "        -1.49797735, -1.446457  , -1.39493665, -1.34341631, -1.29189596,\n",
       "        -1.24037561, -1.18885527, -1.13733492, -1.08581457, -1.03429422,\n",
       "        -0.98277388, -0.93125353, -0.87973318, -0.82821284, -0.77669249,\n",
       "        -0.72517214, -0.6736518 , -0.62213145, -0.5706111 , -0.51909076,\n",
       "        -0.46757041, -0.41605006, -0.36452972, -0.31300937, -0.26148902,\n",
       "        -0.20996868, -0.15844833, -0.10692798, -0.05540763, -0.00388729,\n",
       "         0.04763306,  0.09915341,  0.15067375,  0.2021941 ,  0.25371445,\n",
       "         0.30523479,  0.35675514,  0.40827549,  0.45979583,  0.51131618,\n",
       "         0.56283653,  0.61435687,  0.66587722,  0.71739757,  0.76891791,\n",
       "         0.82043826,  0.87195861,  0.92347896,  0.9749993 ,  1.02651965,\n",
       "         1.07804   ,  1.12956034,  1.18108069,  1.23260104,  1.28412138,\n",
       "         1.33564173,  1.38716208,  1.43868242,  1.49020277,  1.54172312,\n",
       "         1.59324346,  1.64476381,  1.69628416,  1.7478045 ,  1.79932485,\n",
       "         1.8508452 ,  1.90236555,  1.95388589,  2.00540624,  2.05692659,\n",
       "         2.10844693,  2.15996728,  2.21148763,  2.26300797,  2.31452832,\n",
       "         2.36604867,  2.41756901,  2.46908936,  2.52060971,  2.57213005,\n",
       "         2.6236504 ]),\n",
       " <a list of 100 Patch objects>)"
      ]
     },
     "execution_count": 16,
     "metadata": {},
     "output_type": "execute_result"
    },
    {
     "data": {
      "image/png": "[encoded data removed]",
      "text/plain": [
       "<Figure size 432x288 with 1 Axes>"
      ]
     },
     "metadata": {
      "needs_background": "light"
     },
     "output_type": "display_data"
    }
   ],
   "source": [
    "plt.hist(a[:,0], bins=100)"
   ]
  },
  {
   "cell_type": "code",
   "execution_count": 54,
   "metadata": {},
   "outputs": [
    {
     "data": {
      "text/plain": [
       "array([ 2.27232947, -1.85636682, -0.16014947, ..., -2.95955731,\n",
       "        0.20695336,  2.70114486])"
      ]
     },
     "execution_count": 54,
     "metadata": {},
     "output_type": "execute_result"
    }
   ],
   "source": [
    "np.random.uniform(-5, 5, size=65000)"
   ]
  },
  {
   "cell_type": "code",
   "execution_count": 66,
   "metadata": {},
   "outputs": [
    {
     "data": {
      "text/plain": [
       "4.369392275047771"
      ]
     },
     "execution_count": 66,
     "metadata": {},
     "output_type": "execute_result"
    }
   ],
   "source": [
    "np.random.randn(65000)"
   ]
  },
  {
   "cell_type": "code",
   "execution_count": null,
   "metadata": {},
   "outputs": [],
   "source": []
  }
 ],
 "metadata": {
  "kernelspec": {
   "display_name": "Python 3",
   "language": "python",
   "name": "python3"
  },
  "language_info": {
   "codemirror_mode": {
    "name": "ipython",
    "version": 3
   },
   "file_extension": ".py",
   "mimetype": "text/x-python",
   "name": "python",
   "nbconvert_exporter": "python",
   "pygments_lexer": "ipython3",
   "version": "3.7.3"
  }
 },
 "nbformat": 4,
 "nbformat_minor": 2
}
