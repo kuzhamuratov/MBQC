{
 "cells": [
  {
   "cell_type": "code",
   "execution_count": 1,
   "metadata": {},
   "outputs": [],
   "source": [
    "from gates import *\n",
    "from states import *\n",
    "from measurements import *\n",
    "from utils import *\n",
    "import numpy as np\n",
    "import matplotlib.pyplot as plt"
   ]
  },
  {
   "cell_type": "code",
   "execution_count": 7,
   "metadata": {},
   "outputs": [],
   "source": [
    "batch_size = 100\n",
    "n_photons = 20\n",
    "num_params = 6\n",
    "initial_state = np.zeros((batch_size, n_photons))\n",
    "initial_state[:, 3] = 1.\n",
    "params = np.zeros(num_params)\n",
    "params[0] = 1.\n",
    "# gamma, r1, phi1, r2, phi2, theta1\n",
    "lr = 1e-2 # learning rate"
   ]
  },
  {
   "cell_type": "code",
   "execution_count": 8,
   "metadata": {},
   "outputs": [],
   "source": [
    "def circuit(init_state, params, batch_size, num_params, n_photons, lr):\n",
    "    random_numbers = np.random.randn(num_params*batch_size).reshape(batch_size, num_params)\n",
    "    gate1 = V_gate(params[0] + random_numbers[:,0], n_photons)   # cubic gate\n",
    "    gate2 = S_gate(params[1] + random_numbers[:,1], params[2] + random_numbers[:,2], n_photons) # squeezing\n",
    "    gate3 = D_gate(params[3] + random_numbers[:,3], params[4] + random_numbers[:,4], n_photons) # displacement\n",
    "    gate4 = R_gate(params[5] + random_numbers[:,5], n_photons) # rotation\n",
    "    state = np.einsum('ijk,ik->ij', gate1, init_state)\n",
    "    state = np.einsum('ijk,ik->ij', gate2, state)\n",
    "    state = np.einsum('ijk,ik->ij', gate3, state)\n",
    "    state = np.einsum('ijk,ik->ij', gate4, state)\n",
    "    data_X = meas_X(state, n_photons)\n",
    "    data_P = meas_P(state, n_photons)\n",
    "    return random_numbers, data_X, data_P"
   ]
  },
  {
   "cell_type": "code",
   "execution_count": 9,
   "metadata": {},
   "outputs": [],
   "source": [
    "R, X, P = circuit(initial_state, params, batch_size, num_params, n_photons, lr)"
   ]
  },
  {
   "cell_type": "code",
   "execution_count": 10,
   "metadata": {},
   "outputs": [
    {
     "data": {
      "text/plain": [
       "(array([ 1379.,  4270., 12442.,  9456., 10795., 21974.,  3269., 11255.,\n",
       "        17766.,  7394.]),\n",
       " array([-6.87731227, -5.46985301, -4.06239376, -2.65493451, -1.24747525,\n",
       "         0.159984  ,  1.56744326,  2.97490251,  4.38236176,  5.78982102,\n",
       "         7.19728027]),\n",
       " <a list of 10 Patch objects>)"
      ]
     },
     "execution_count": 10,
     "metadata": {},
     "output_type": "execute_result"
    },
    {
     "data": {
      "image/png": "[encoded data removed]",
      "text/plain": [
       "<Figure size 432x288 with 1 Axes>"
      ]
     },
     "metadata": {
      "needs_background": "light"
     },
     "output_type": "display_data"
    }
   ],
   "source": [
    "plt.hist(P[0])"
   ]
  },
  {
   "cell_type": "code",
   "execution_count": 11,
   "metadata": {},
   "outputs": [
    {
     "data": {
      "text/plain": [
       "(array([ 2897., 16089., 16007.,  9972., 13322., 16756.,  9737.,  5364.,\n",
       "         6868.,  2988.]),\n",
       " array([-7.35326467, -5.90580942, -4.45835416, -3.01089891, -1.56344366,\n",
       "        -0.1159884 ,  1.33146685,  2.77892211,  4.22637736,  5.67383262,\n",
       "         7.12128787]),\n",
       " <a list of 10 Patch objects>)"
      ]
     },
     "execution_count": 11,
     "metadata": {},
     "output_type": "execute_result"
    },
    {
     "data": {
      "image/png": "[encoded data removed]",
      "text/plain": [
       "<Figure size 432x288 with 1 Axes>"
      ]
     },
     "metadata": {
      "needs_background": "light"
     },
     "output_type": "display_data"
    }
   ],
   "source": [
    "plt.hist(X[0])"
   ]
  },
  {
   "cell_type": "code",
   "execution_count": null,
   "metadata": {},
   "outputs": [],
   "source": []
  },
  {
   "cell_type": "code",
   "execution_count": null,
   "metadata": {},
   "outputs": [],
   "source": []
  },
  {
   "cell_type": "code",
   "execution_count": null,
   "metadata": {},
   "outputs": [],
   "source": []
  }
 ],
 "metadata": {
  "kernelspec": {
   "display_name": "Python 3",
   "language": "python",
   "name": "python3"
  },
  "language_info": {
   "codemirror_mode": {
    "name": "ipython",
    "version": 3
   },
   "file_extension": ".py",
   "mimetype": "text/x-python",
   "name": "python",
   "nbconvert_exporter": "python",
   "pygments_lexer": "ipython3",
   "version": "3.7.3"
  }
 },
 "nbformat": 4,
 "nbformat_minor": 2
}
