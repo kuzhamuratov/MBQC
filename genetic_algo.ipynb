{
 "cells": [
  {
   "cell_type": "code",
   "execution_count": 1,
   "metadata": {},
   "outputs": [],
   "source": [
    "from gates import *\n",
    "from states import *\n",
    "from measurements import *\n",
    "from utils import *\n",
    "import numpy as np\n",
    "import matplotlib.pyplot as plt\n",
    "from tqdm import trange"
   ]
  },
  {
   "cell_type": "code",
   "execution_count": 2,
   "metadata": {},
   "outputs": [],
   "source": [
    "batch_size = 128\n",
    "n_photons = 20\n",
    "num_params = 4\n",
    "num_iteration = 1000\n",
    "initial_state = np.zeros((batch_size, n_photons))\n",
    "initial_state[:, 0] = 1.\n",
    "gate2 = S_gate(np.array([1.0]), np.array([np.pi/4.]) , n_photons) \n",
    "gate3 = D_gate(np.array([1.]), np.array([0.]), n_photons)\n",
    "\n",
    "state = np.einsum('ijk,ik->ij', gate2, initial_state)\n",
    "initial_state = np.einsum('ijk,ik->ij', gate3, state)\n",
    "\n",
    "# gamma, r1, phi1, r2, phi2, theta1\n",
    "params = 0.01*np.ones(num_params)\n",
    "lr = 1e-2 # learning rate"
   ]
  },
  {
   "cell_type": "code",
   "execution_count": 3,
   "metadata": {},
   "outputs": [
    {
     "name": "stdout",
     "output_type": "stream",
     "text": [
      "Initial_state\n"
     ]
    },
    {
     "data": {
      "image/png": "[encoded data removed]",
      "text/plain": [
       "<Figure size 432x288 with 1 Axes>"
      ]
     },
     "metadata": {
      "needs_background": "light"
     },
     "output_type": "display_data"
    }
   ],
   "source": [
    "print(\"Initial_state\")\n",
    "init_state = initial_state[0]\n",
    "init_state = init_state.reshape(init_state.shape[0],1)\n",
    "rho = np.kron(init_state,init_state.conj().T)\n",
    "xvec = np.linspace(-4,4,200)\n",
    "W = wigner_iterative(rho, xvec, xvec)\n",
    "cont0 = plt.contourf(xvec, xvec, W, 20)\n",
    "plt.show()"
   ]
  },
  {
   "cell_type": "code",
   "execution_count": null,
   "metadata": {},
   "outputs": [],
   "source": [
    "def circuit(init_state, params, batch_size, num_params, n_photons):\n",
    "    random_numbers = 0.1*np.random.randn(num_params*batch_size).reshape(batch_size, num_params)\n",
    "    \n",
    "    gate2 = D_gate(params[2] + random_numbers[:,2], params[3] + random_numbers[:,3], n_photons) # displacement\n",
    "    gate3 = S_gate(params[0] + random_numbers[:,0], params[1] + random_numbers[:,1], n_photons) # squeezing\n",
    "    \n",
    "    \n",
    "    state = np.einsum('ijk,ik->ij', gate2, init_state)\n",
    "    state = np.einsum('ijk,ik->ij', gate3, state)\n",
    "    \n",
    "    data_X = meas_X(state, n_photons)\n",
    "    data_P = meas_P(state, n_photons)\n",
    "    return random_numbers, data_X, data_P\n",
    "\n",
    "def mean_moment(quadrature):\n",
    "    return np.mean(quadrature, axis=1)\n",
    "\n",
    "def calc_loss(X, P):\n",
    "    X_mean = mean_moment(X)\n",
    "    P_mean = mean_moment(P)\n",
    "    return X_mean**2 + P_mean**2\n"
   ]
  },
  {
   "cell_type": "code",
   "execution_count": null,
   "metadata": {},
   "outputs": [
    {
     "name": "stdout",
     "output_type": "stream",
     "text": [
      "Iteration = 0 --- loss_value 1.9627828516675723\n",
      "Iteration = 10 --- loss_value 0.09354039567207428\n",
      "Iteration = 20 --- loss_value 0.07414428871324064\n",
      "Iteration = 30 --- loss_value 0.07098333597434403\n",
      "Iteration = 40 --- loss_value 0.07140168584919826\n",
      "Iteration = 50 --- loss_value 0.04825096299085303\n",
      "Iteration = 60 --- loss_value 0.06715653642618447\n",
      "Iteration = 70 --- loss_value 0.07728453320156436\n",
      "Iteration = 80 --- loss_value 0.07263185228987334\n",
      "Iteration = 90 --- loss_value 0.06538660147822344\n",
      "Iteration = 100 --- loss_value 0.07875747321658336\n",
      "Iteration = 110 --- loss_value 0.059352089871695886\n",
      "Iteration = 120 --- loss_value 0.06845756629122193\n",
      "Iteration = 130 --- loss_value 0.08819911686976051\n",
      "Iteration = 140 --- loss_value 0.09341941225743809\n",
      "Iteration = 150 --- loss_value 0.05200599665985549\n",
      "Iteration = 160 --- loss_value 0.05933021370783584\n",
      "Iteration = 170 --- loss_value 0.07279001147830598\n",
      "Iteration = 180 --- loss_value 0.07183422981037732\n",
      "Iteration = 190 --- loss_value 0.06150437718788118\n",
      "Iteration = 200 --- loss_value 0.06521344334381371\n",
      "Iteration = 210 --- loss_value 0.059159382759457556\n",
      "Iteration = 220 --- loss_value 0.07767858122851116\n",
      "Iteration = 230 --- loss_value 0.06710823090189308\n"
     ]
    }
   ],
   "source": [
    "for i in range(num_iteration):\n",
    "    rand_num, X, P = circuit(initial_state, params, batch_size, num_params, n_photons)\n",
    "    loss = calc_loss(X, P)\n",
    "    if i%10 ==0: print(\"Iteration = {} --- loss_value {}\".format(i, np.mean(loss)))\n",
    "    loss = (loss - np.mean(loss))/(np.std(loss)+1e-8)\n",
    "    for j in range(num_params):\n",
    "        params[j] -= lr*loss@rand_num[:,j]"
   ]
  },
  {
   "cell_type": "code",
   "execution_count": null,
   "metadata": {},
   "outputs": [],
   "source": [
    "print(*params)"
   ]
  },
  {
   "cell_type": "code",
   "execution_count": null,
   "metadata": {},
   "outputs": [],
   "source": [
    "def test(params, init_state):\n",
    "    gate2 = D_gate(params[2], params[3], n_photons) # displacement\n",
    "    gate3 = S_gate(params[0], params[1], n_photons) # squeezing\n",
    "    state = np.einsum('ijk,ik->ij', gate2, init_state)\n",
    "    state = np.einsum('ijk,ik->ij', gate3, state)\n",
    "    return state[0].reshape(state.shape[1],1)"
   ]
  },
  {
   "cell_type": "code",
   "execution_count": null,
   "metadata": {},
   "outputs": [],
   "source": [
    "new_state = test(params, initial_state)\n",
    "rho = np.kron(new_state,new_state.conj().T)"
   ]
  },
  {
   "cell_type": "code",
   "execution_count": null,
   "metadata": {},
   "outputs": [],
   "source": [
    "print(\"Final_state\")\n",
    "xvec = np.linspace(-5,5,200)\n",
    "W = wigner_iterative(rho, xvec, xvec)\n",
    "cont0 = plt.contourf(xvec, xvec, W, 20)\n",
    "plt.show()"
   ]
  },
  {
   "cell_type": "code",
   "execution_count": null,
   "metadata": {},
   "outputs": [],
   "source": []
  },
  {
   "cell_type": "code",
   "execution_count": null,
   "metadata": {},
   "outputs": [],
   "source": []
  },
  {
   "cell_type": "code",
   "execution_count": null,
   "metadata": {},
   "outputs": [],
   "source": []
  }
 ],
 "metadata": {
  "kernelspec": {
   "display_name": "Python 3",
   "language": "python",
   "name": "python3"
  },
  "language_info": {
   "codemirror_mode": {
    "name": "ipython",
    "version": 3
   },
   "file_extension": ".py",
   "mimetype": "text/x-python",
   "name": "python",
   "nbconvert_exporter": "python",
   "pygments_lexer": "ipython3",
   "version": "3.7.3"
  }
 },
 "nbformat": 4,
 "nbformat_minor": 2
}
