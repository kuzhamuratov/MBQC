{
 "cells": [
  {
   "cell_type": "code",
   "execution_count": 1,
   "metadata": {},
   "outputs": [],
   "source": [
    "from gates import *\n",
    "from states import *\n",
    "from measurements import *\n",
    "from utils import *\n",
    "import numpy as np\n",
    "import matplotlib.pyplot as plt\n",
    "from tqdm import trange\n",
    "import cma"
   ]
  },
  {
   "cell_type": "code",
   "execution_count": 2,
   "metadata": {
    "scrolled": true
   },
   "outputs": [
    {
     "name": "stdout",
     "output_type": "stream",
     "text": [
      "Done\n"
     ]
    },
    {
     "data": {
      "image/png": "[encoded data removed]",
      "text/plain": [
       "<Figure size 432x288 with 1 Axes>"
      ]
     },
     "metadata": {
      "needs_background": "light"
     },
     "output_type": "display_data"
    }
   ],
   "source": [
    "n_photons = 2\n",
    "state1 = np.zeros(n_photons)\n",
    "state1[0] = 1.\n",
    "state2 = np.zeros(n_photons)\n",
    "state2[0] = 1.\n",
    "state3 = np.zeros(n_photons)\n",
    "state3[1] = 1.\n",
    "state = np.kron(state2, state3)\n",
    "state = np.kron(state1, state)\n",
    "data = meas_X_theta(state, 0., 3, n_photons)\n",
    "plt.hist(data[:,2], bins=100)\n",
    "print('Done')"
   ]
  },
  {
   "cell_type": "markdown",
   "metadata": {},
   "source": [
    "# Initialization"
   ]
  },
  {
   "cell_type": "code",
   "execution_count": 3,
   "metadata": {},
   "outputs": [],
   "source": [
    "n_photons = 20\n",
    "# 1\n",
    "num_layers = 3\n",
    "vacuum_state1 = np.zeros(n_photons)\n",
    "vacuum_state1[0] = 1.\n",
    "init_state = vacuum_state1"
   ]
  },
  {
   "cell_type": "code",
   "execution_count": 4,
   "metadata": {},
   "outputs": [
    {
     "data": {
      "text/plain": [
       "array([1., 0., 0., 0., 0., 0., 0., 0., 0., 0., 0., 0., 0., 0., 0., 0., 0.,\n",
       "       0., 0., 0.])"
      ]
     },
     "execution_count": 4,
     "metadata": {},
     "output_type": "execute_result"
    }
   ],
   "source": [
    "init_state"
   ]
  },
  {
   "cell_type": "code",
   "execution_count": 5,
   "metadata": {},
   "outputs": [],
   "source": [
    "def circuit(state, params, n_photons):\n",
    "    state_ = state\n",
    "    for i in range(num_layers):\n",
    "        gate1 = N_phase_gate(params[7*i], 4, 1, 1, n_photons) \n",
    "        gate2 = D_gate(params[7*i+1], params[7*i+2], 1, 1, n_photons)\n",
    "        gate3 = R_gate(params[7*i+3], 1, 1, n_photons) \n",
    "        gate4 = S_gate(params[7*i+4], params[7*i+5], 1, 1, n_photons)\n",
    "        gate5 = R_gate(params[7*i+6], 1, 1, n_photons)\n",
    "        state_ = np.einsum('jk,k->j', gate1, state_)\n",
    "        state_ = np.einsum('jk,k->j', gate2, state_)\n",
    "        state_ = np.einsum('jk,k->j', gate3, state_)\n",
    "        state_ = np.einsum('jk,k->j', gate4, state_)\n",
    "        state_ = np.einsum('jk,k->j', gate5, state_)\n",
    "    data = sim_mes_xp(state_, 1, n_photons)\n",
    "    return data[:,0], data[:,1], state_\n",
    "\n",
    "def loss_xy(x1, p1):\n",
    "    H = np.zeros(x1.shape[0], dtype=np.float32)\n",
    "    dimension = x1.shape[0]\n",
    "    H = (x1**2/2. + p1**2/2. - 5/2.)**2\n",
    "    return np.mean(H) + np.std(H)"
   ]
  },
  {
   "cell_type": "code",
   "execution_count": 6,
   "metadata": {},
   "outputs": [],
   "source": [
    "def func_to_opt(params):\n",
    "    X, P, _ = circuit(init_state, params, n_photons)\n",
    "    return loss_xy(X, P)"
   ]
  },
  {
   "cell_type": "code",
   "execution_count": 7,
   "metadata": {},
   "outputs": [
    {
     "name": "stdout",
     "output_type": "stream",
     "text": [
      "(6_w,13)-aCMA-ES (mu_w=4.0,w_1=38%) in dimension 21 (seed=226349, Tue Jan 28 10:26:26 2020)\n"
     ]
    }
   ],
   "source": [
    "init_params = np.random.uniform(size=7*num_layers)\n",
    "es = cma.CMAEvolutionStrategy(7*num_layers*[0.], 0.4)"
   ]
  },
  {
   "cell_type": "code",
   "execution_count": null,
   "metadata": {
    "scrolled": true
   },
   "outputs": [
    {
     "name": "stdout",
     "output_type": "stream",
     "text": [
      "Iterat #Fevals   function value  axis ratio  sigma  min&max std  t[m:s]\n",
      "    1     13 4.248373598451072e+00 1.0e+00 3.69e-01  4e-01  4e-01 2:33.9\n",
      "    2     26 3.907457652251909e+00 1.1e+00 3.53e-01  3e-01  4e-01 7:08.4\n"
     ]
    }
   ],
   "source": [
    "es.optimize(func_to_opt,iterations=200)"
   ]
  },
  {
   "cell_type": "code",
   "execution_count": null,
   "metadata": {},
   "outputs": [],
   "source": [
    "params = es.result_pretty().xbest\n",
    "final_state = circuit(init_state, params, n_photons)[2]"
   ]
  },
  {
   "cell_type": "code",
   "execution_count": null,
   "metadata": {},
   "outputs": [],
   "source": [
    "print(*final_state)"
   ]
  },
  {
   "cell_type": "code",
   "execution_count": null,
   "metadata": {},
   "outputs": [],
   "source": [
    "params"
   ]
  },
  {
   "cell_type": "code",
   "execution_count": null,
   "metadata": {},
   "outputs": [],
   "source": [
    "n_photons = 20\n",
    "# 1\n",
    "vacuum_state1 = np.zeros(n_photons)\n",
    "vacuum_state1[1] = 1.\n",
    "target_state = vacuum_state1\n",
    "data = sim_mes_xp(target_state, 1, n_photons)\n",
    "print('final wanted loss ------- ', loss_xy(data[:,0], data[:, 1]))"
   ]
  },
  {
   "cell_type": "code",
   "execution_count": null,
   "metadata": {},
   "outputs": [],
   "source": [
    "final_state = final_state.reshape(final_state.shape[0], 1)\n",
    "target_state = target_state.reshape(target_state.shape[0], 1)\n",
    "rho = final_state @ final_state.conj().T\n",
    "rho_target = target_state @ target_state.conj().T\n",
    "fidelity(rho, rho_target)"
   ]
  },
  {
   "cell_type": "code",
   "execution_count": null,
   "metadata": {},
   "outputs": [],
   "source": []
  },
  {
   "cell_type": "code",
   "execution_count": null,
   "metadata": {},
   "outputs": [],
   "source": []
  }
 ],
 "metadata": {
  "kernelspec": {
   "display_name": "Python 3",
   "language": "python",
   "name": "python3"
  },
  "language_info": {
   "codemirror_mode": {
    "name": "ipython",
    "version": 3
   },
   "file_extension": ".py",
   "mimetype": "text/x-python",
   "name": "python",
   "nbconvert_exporter": "python",
   "pygments_lexer": "ipython3",
   "version": "3.7.3"
  }
 },
 "nbformat": 4,
 "nbformat_minor": 2
}
