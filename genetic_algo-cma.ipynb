{
 "cells": [
  {
   "cell_type": "code",
   "execution_count": 1,
   "metadata": {},
   "outputs": [],
   "source": [
    "from gates import *\n",
    "from states import *\n",
    "from measurements import *\n",
    "from utils import *\n",
    "import numpy as np\n",
    "import matplotlib.pyplot as plt\n",
    "from tqdm import trange\n",
    "import cma"
   ]
  },
  {
   "cell_type": "markdown",
   "metadata": {},
   "source": [
    "# Initialization"
   ]
  },
  {
   "cell_type": "code",
   "execution_count": 2,
   "metadata": {},
   "outputs": [],
   "source": [
    "n_photons = 50\n",
    "vacuum_state = np.zeros(n_photons)\n",
    "vacuum_state[0] = 1.\n",
    "\n",
    "# from vacuum state to displaced squeezed state\n",
    "coh_dis = [0.5, 0.2, 0.3, 0.3] # squeezed r*np.exp(i*phi)  and coherent |alpha|*np.exp(i*args(alpha))\n",
    "gate2 = S_gate(coh_dis[0], coh_dis[1], n_photons) \n",
    "gate3 = D_gate(coh_dis[2], coh_dis[3], n_photons)\n",
    "\n",
    "state_ = np.einsum('jk,k->j', gate2, vacuum_state)\n",
    "initial_state = np.einsum('jk,k->j', gate3, state_)"
   ]
  },
  {
   "cell_type": "markdown",
   "metadata": {},
   "source": [
    "# Configurations of possible gates"
   ]
  },
  {
   "cell_type": "code",
   "execution_count": 3,
   "metadata": {},
   "outputs": [],
   "source": [
    "# conf1\n",
    "simple_block = {'one_param':[V_gate, R_gate, V_gate], 'two_params':[S_gate, D_gate, S_gate], 'num_params':9}"
   ]
  },
  {
   "cell_type": "markdown",
   "metadata": {},
   "source": [
    "# Configurations of Hamiltonians"
   ]
  },
  {
   "cell_type": "code",
   "execution_count": 4,
   "metadata": {},
   "outputs": [],
   "source": [
    "# Hamiltonians \n",
    "\"\"\"\n",
    "x,p  polynoms <= 6 degree\n",
    "\"\"\"\n",
    "ham = np.array([[0.,0.,1.,0.,0.,0.,0.],\n",
    "                [0.,0.,0.,0.,0.,0.,0.],\n",
    "                [1.,0.,0.,0.,0.,0.,0.],\n",
    "                [0.,0.,0.,0.,0.,0.,0.],\n",
    "                [0.,0.,0.,0.,0.,0.,0.],\n",
    "                [0.,0.,0.,0.,0.,0.,0.],\n",
    "                [0.,0.,0.,0.,0.,0.,0.],\n",
    "                ])"
   ]
  },
  {
   "cell_type": "code",
   "execution_count": 5,
   "metadata": {},
   "outputs": [
    {
     "name": "stdout",
     "output_type": "stream",
     "text": [
      "Initial_state\n"
     ]
    },
    {
     "data": {
      "image/png": "[encoded data removed]",
      "text/plain": [
       "<Figure size 432x288 with 1 Axes>"
      ]
     },
     "metadata": {
      "needs_background": "light"
     },
     "output_type": "display_data"
    }
   ],
   "source": [
    "print(\"Initial_state\")\n",
    "init_state = initial_state.reshape(initial_state.shape[0],1)\n",
    "rho = np.kron(init_state,init_state.conj().T)\n",
    "xvec = np.linspace(-4,4,200)\n",
    "W = wigner_iterative(rho, xvec, xvec)\n",
    "cont0 = plt.contourf(xvec, xvec, W, 20)\n",
    "plt.show()"
   ]
  },
  {
   "cell_type": "code",
   "execution_count": 6,
   "metadata": {},
   "outputs": [],
   "source": [
    "def circuit(state, params, simple_block, n_photons):\n",
    "    \n",
    "    number_of_single_params = len(simple_block['one_param'])\n",
    "    \n",
    "    for ind, gate in enumerate(simple_block['one_param']):\n",
    "        state = np.einsum('jk,k->j', gate(params[ind],n_photons), state)\n",
    "        \n",
    "    for ind, gate in enumerate(simple_block['two_params']):\n",
    "        state = np.einsum('jk,k->j', gate(params[2*ind], params[2*ind+1], n_photons), state)\n",
    "\n",
    "    data_X = meas_X(state, n_photons)\n",
    "    data_P = meas_P(state, n_photons)\n",
    "    return data_X, data_P, state\n",
    "\n",
    "def calc_loss(X, P):\n",
    "    dimension = X.shape[0]\n",
    "    H = np.zeros(dimension**2, dtype=np.float32)\n",
    "    for i in range(dimension):\n",
    "        H[i*dimension:(i+1)*dimension] = (X**2/2. + P[i]**2/2.- 3/2.)**2\n",
    "    return np.mean(H) + np.std(H)"
   ]
  },
  {
   "cell_type": "code",
   "execution_count": 7,
   "metadata": {},
   "outputs": [],
   "source": [
    "def func_to_opt(params):\n",
    "    X, P, _ = circuit(initial_state, params, simple_block, n_photons)\n",
    "    return calc_loss(X, P)"
   ]
  },
  {
   "cell_type": "code",
   "execution_count": 8,
   "metadata": {},
   "outputs": [
    {
     "name": "stdout",
     "output_type": "stream",
     "text": [
      "(4_w,9)-aCMA-ES (mu_w=2.8,w_1=49%) in dimension 6 (seed=672224, Tue Jan 21 14:20:17 2020)\n"
     ]
    }
   ],
   "source": [
    "es = cma.CMAEvolutionStrategy(6*[0.5], 0.4)"
   ]
  },
  {
   "cell_type": "code",
   "execution_count": null,
   "metadata": {},
   "outputs": [
    {
     "name": "stdout",
     "output_type": "stream",
     "text": [
      "Iterat #Fevals   function value  axis ratio  sigma  min&max std  t[m:s]\n",
      "    1      9 2.063097572326660e+01 1.0e+00 3.84e-01  3e-01  4e-01 0:09.3\n",
      "    2     18 3.135956287384033e+00 1.3e+00 4.43e-01  4e-01  5e-01 0:18.8\n",
      "    3     27 2.013967275619507e+00 1.4e+00 4.54e-01  4e-01  5e-01 0:27.6\n",
      "    4     36 2.287752389907837e+00 1.5e+00 4.35e-01  4e-01  5e-01 0:36.8\n",
      "    5     45 2.307655811309814e+00 1.5e+00 4.54e-01  4e-01  5e-01 0:45.4\n",
      "    6     54 3.506634712219238e+00 1.8e+00 4.57e-01  4e-01  5e-01 0:55.5\n",
      "    7     63 2.811913251876831e+00 1.8e+00 4.09e-01  3e-01  5e-01 1:04.7\n",
      "    8     72 4.969952583312988e+00 1.8e+00 3.65e-01  3e-01  4e-01 1:13.9\n",
      "    9     81 2.667035102844238e+00 1.9e+00 3.49e-01  3e-01  4e-01 1:23.2\n",
      "   10     90 2.633571147918701e+00 2.1e+00 4.02e-01  3e-01  6e-01 1:33.0\n",
      "   12    108 1.913749217987061e+00 2.7e+00 4.00e-01  3e-01  6e-01 1:51.6\n",
      "   14    126 2.270189523696899e+00 2.7e+00 3.90e-01  3e-01  5e-01 2:11.7\n",
      "   16    144 2.254131793975830e+00 3.0e+00 4.62e-01  3e-01  7e-01 2:29.5\n",
      "   18    162 1.933530092239380e+00 3.6e+00 4.47e-01  3e-01  7e-01 2:48.8\n",
      "   20    180 1.990231037139893e+00 3.8e+00 4.91e-01  3e-01  7e-01 3:07.2\n",
      "   22    198 2.055446147918701e+00 3.9e+00 5.00e-01  3e-01  8e-01 3:25.9\n",
      "   24    216 1.890390634536743e+00 4.0e+00 3.51e-01  2e-01  5e-01 3:43.9\n",
      "   26    234 1.871118783950806e+00 4.8e+00 2.71e-01  1e-01  4e-01 4:02.9\n",
      "   28    252 1.837665438652039e+00 5.5e+00 2.28e-01  1e-01  4e-01 4:21.6\n",
      "   30    270 1.858160495758057e+00 6.4e+00 2.17e-01  1e-01  4e-01 4:40.6\n",
      "   33    297 1.888919949531555e+00 7.2e+00 2.34e-01  1e-01  4e-01 5:08.8\n",
      "   36    324 1.873982191085815e+00 6.3e+00 1.66e-01  6e-02  2e-01 5:37.0\n",
      "   39    351 1.827206611633301e+00 8.9e+00 2.03e-01  7e-02  4e-01 6:05.1\n",
      "   42    378 1.857109665870667e+00 1.1e+01 1.69e-01  5e-02  3e-01 6:32.5\n",
      "   45    405 1.830129861831665e+00 9.3e+00 1.21e-01  3e-02  2e-01 7:02.9\n",
      "   48    432 1.821857571601868e+00 1.1e+01 1.10e-01  3e-02  2e-01 7:39.8\n",
      "   51    459 1.827228069305420e+00 1.3e+01 9.86e-02  3e-02  2e-01 8:17.6\n",
      "   54    486 1.860937356948853e+00 1.4e+01 8.80e-02  2e-02  2e-01 8:57.2\n",
      "   57    513 1.860976696014404e+00 1.7e+01 9.14e-02  2e-02  2e-01 9:33.2\n",
      "   60    540 1.862341403961182e+00 1.8e+01 8.24e-02  2e-02  2e-01 10:09.4\n",
      "   63    567 1.857702255249023e+00 2.1e+01 8.54e-02  2e-02  2e-01 10:45.4\n",
      "   66    594 1.841778516769409e+00 2.2e+01 6.42e-02  2e-02  1e-01 11:22.3\n",
      "   69    621 1.856340169906616e+00 2.7e+01 7.88e-02  2e-02  2e-01 11:59.4\n"
     ]
    }
   ],
   "source": [
    "es.optimize(func_to_opt,iterations=1000)"
   ]
  },
  {
   "cell_type": "code",
   "execution_count": null,
   "metadata": {},
   "outputs": [],
   "source": [
    "res = es.result_pretty().xbest"
   ]
  },
  {
   "cell_type": "code",
   "execution_count": null,
   "metadata": {},
   "outputs": [],
   "source": [
    "print(*res)"
   ]
  },
  {
   "cell_type": "code",
   "execution_count": null,
   "metadata": {},
   "outputs": [],
   "source": [
    "X, P, final_state = circuit(initial_state, res, simple_block, n_photons)\n",
    "print('H_mean + H_std = {}'.format(calc_loss(X, P)))\n",
    "final_state = final_state.reshape(final_state.shape[0],1)\n",
    "rho_new = np.kron(final_state,final_state.conj().T)\n",
    "print(\"Final_state\")\n",
    "xvec = np.linspace(-5,5,200)\n",
    "W = wigner_iterative(rho_new, xvec, xvec)\n",
    "cont0 = plt.contourf(xvec, xvec, W, 20)\n",
    "plt.show()"
   ]
  },
  {
   "cell_type": "code",
   "execution_count": 13,
   "metadata": {},
   "outputs": [
    {
     "data": {
      "text/plain": [
       "0.9963937156419352"
      ]
     },
     "execution_count": 13,
     "metadata": {},
     "output_type": "execute_result"
    }
   ],
   "source": [
    "targ_state = np.zeros(n_photons)\n",
    "targ_state[0] = 1.\n",
    "targ_state = targ_state.reshape(targ_state.shape[0],1)\n",
    "rho_targ = np.kron(targ_state, targ_state.conj().T)\n",
    "fidelity(rho_new, rho_targ)"
   ]
  },
  {
   "cell_type": "code",
   "execution_count": null,
   "metadata": {},
   "outputs": [],
   "source": []
  },
  {
   "cell_type": "code",
   "execution_count": null,
   "metadata": {},
   "outputs": [],
   "source": []
  }
 ],
 "metadata": {
  "kernelspec": {
   "display_name": "Python 3",
   "language": "python",
   "name": "python3"
  },
  "language_info": {
   "codemirror_mode": {
    "name": "ipython",
    "version": 3
   },
   "file_extension": ".py",
   "mimetype": "text/x-python",
   "name": "python",
   "nbconvert_exporter": "python",
   "pygments_lexer": "ipython3",
   "version": "3.7.3"
  }
 },
 "nbformat": 4,
 "nbformat_minor": 2
}
