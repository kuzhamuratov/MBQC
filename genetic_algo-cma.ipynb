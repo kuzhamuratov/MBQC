{
 "cells": [
  {
   "cell_type": "code",
   "execution_count": 1,
   "metadata": {},
   "outputs": [],
   "source": [
    "from gates_no_batch import *\n",
    "from states import *\n",
    "from measurements_no_batch import *\n",
    "from utils import *\n",
    "import numpy as np\n",
    "import matplotlib.pyplot as plt\n",
    "from tqdm import trange\n",
    "import cma"
   ]
  },
  {
   "cell_type": "code",
   "execution_count": 2,
   "metadata": {},
   "outputs": [],
   "source": [
    "n_photons = 10\n",
    "num_params = 4\n",
    "num_iteration = 1000\n",
    "initial_state = np.zeros(n_photons)\n",
    "initial_state[0] = 1.\n",
    "gate2 = S_gate(0.3, 0., n_photons) \n",
    "gate3 = D_gate(0.2, 0., n_photons)\n",
    "\n",
    "initial_state = np.einsum('jk,k->j', gate2, initial_state)\n",
    "initial_state = np.einsum('jk,k->j', gate3, initial_state)"
   ]
  },
  {
   "cell_type": "code",
   "execution_count": 3,
   "metadata": {},
   "outputs": [
    {
     "name": "stdout",
     "output_type": "stream",
     "text": [
      "Initial_state\n"
     ]
    },
    {
     "data": {
      "image/png": "[encoded data removed]",
      "text/plain": [
       "<Figure size 432x288 with 1 Axes>"
      ]
     },
     "metadata": {
      "needs_background": "light"
     },
     "output_type": "display_data"
    }
   ],
   "source": [
    "print(\"Initial_state\")\n",
    "init_state = initial_state.reshape(initial_state.shape[0],1)\n",
    "rho = np.kron(init_state,init_state.conj().T)\n",
    "xvec = np.linspace(-4,4,200)\n",
    "W = wigner_iterative(rho, xvec, xvec)\n",
    "cont0 = plt.contourf(xvec, xvec, W, 20)\n",
    "plt.show()"
   ]
  },
  {
   "cell_type": "code",
   "execution_count": 4,
   "metadata": {},
   "outputs": [],
   "source": [
    "def circuit(initial_state, params, num_params, n_photons):\n",
    "    \n",
    "    gate2 = D_gate(params[0], params[1], n_photons) # displacement\n",
    "    gate3 = S_gate(params[2], params[3], n_photons) # squeezing\n",
    "    \n",
    "    state = np.einsum('jk,k->j', gate2, initial_state)\n",
    "    state = np.einsum('jk,k->j', gate3, state)\n",
    "    \n",
    "    data_X = meas_X(state, n_photons)\n",
    "    data_P = meas_P(state, n_photons)\n",
    "    return data_X, data_P\n",
    "\n",
    "def mean_moment(quadrature):\n",
    "    return np.median(quadrature)\n",
    "\n",
    "def calc_loss(X, P):\n",
    "    X_mean = mean_moment(X)\n",
    "    P_mean = mean_moment(P)\n",
    "    return X_mean**2 + P_mean**2\n"
   ]
  },
  {
   "cell_type": "code",
   "execution_count": 5,
   "metadata": {},
   "outputs": [],
   "source": [
    "def func_to_opt(params):\n",
    "    X, P = circuit(initial_state, params, num_params, n_photons)\n",
    "    return calc_loss(X, P)"
   ]
  },
  {
   "cell_type": "code",
   "execution_count": 6,
   "metadata": {},
   "outputs": [
    {
     "name": "stdout",
     "output_type": "stream",
     "text": [
      "(4_w,8)-aCMA-ES (mu_w=2.6,w_1=52%) in dimension 4 (seed=152017, Wed Jan 15 16:54:17 2020)\n"
     ]
    }
   ],
   "source": [
    "es = cma.CMAEvolutionStrategy(4*[0.5], 0.2)"
   ]
  },
  {
   "cell_type": "code",
   "execution_count": null,
   "metadata": {},
   "outputs": [
    {
     "name": "stdout",
     "output_type": "stream",
     "text": [
      "Iterat #Fevals   function value  axis ratio  sigma  min&max std  t[m:s]\n",
      "    1      8 1.423357678250002e-01 1.0e+00 1.95e-01  2e-01  2e-01 0:06.7\n",
      "    2     16 3.730523862500012e-02 1.2e+00 2.41e-01  2e-01  3e-01 0:13.0\n",
      "    3     24 2.299913299999983e-03 1.6e+00 3.42e-01  3e-01  4e-01 0:19.7\n",
      "    4     32 3.344977160000033e-02 2.0e+00 3.10e-01  3e-01  4e-01 0:26.5\n",
      "    5     40 5.302055200000076e-03 2.2e+00 2.76e-01  2e-01  3e-01 0:33.3\n",
      "    6     48 2.271047424999967e-03 2.2e+00 2.63e-01  2e-01  3e-01 0:41.1\n",
      "    7     56 4.426250000000251e-04 2.2e+00 2.69e-01  2e-01  3e-01 0:48.0\n",
      "    8     64 1.550509599999959e-03 2.1e+00 2.57e-01  2e-01  3e-01 0:55.5\n",
      "   10     80 7.534824999999663e-04 2.5e+00 2.10e-01  1e-01  3e-01 1:09.9\n"
     ]
    }
   ],
   "source": [
    "es.optimize(func_to_opt)"
   ]
  },
  {
   "cell_type": "code",
   "execution_count": null,
   "metadata": {},
   "outputs": [],
   "source": [
    "es.result_pretty()"
   ]
  },
  {
   "cell_type": "code",
   "execution_count": null,
   "metadata": {},
   "outputs": [],
   "source": [
    "params = []"
   ]
  },
  {
   "cell_type": "code",
   "execution_count": null,
   "metadata": {},
   "outputs": [],
   "source": [
    "def test(params, init_state):\n",
    "    gate2 = D_gate(params[0], params[1], n_photons) # displacement\n",
    "    gate3 = S_gate(params[2], params[3], n_photons) # squeezing\n",
    "    \n",
    "    state = np.einsum('jk,k->j', gate2, init_state)\n",
    "    state = np.einsum('jk,k->j', gate3, state)\n",
    "    \n",
    "    return state.reshape(state.shape[0],1)"
   ]
  },
  {
   "cell_type": "code",
   "execution_count": 12,
   "metadata": {},
   "outputs": [],
   "source": [
    "new_state = test(params, initial_state)\n",
    "rho = np.kron(new_state,new_state.conj().T)"
   ]
  },
  {
   "cell_type": "code",
   "execution_count": 13,
   "metadata": {},
   "outputs": [
    {
     "name": "stdout",
     "output_type": "stream",
     "text": [
      "Final_state\n"
     ]
    },
    {
     "data": {
      "image/png": "[encoded data removed]",
      "text/plain": [
       "<Figure size 432x288 with 1 Axes>"
      ]
     },
     "metadata": {
      "needs_background": "light"
     },
     "output_type": "display_data"
    }
   ],
   "source": [
    "print(\"Final_state\")\n",
    "xvec = np.linspace(-5,5,200)\n",
    "W = wigner_iterative(rho, xvec, xvec)\n",
    "cont0 = plt.contourf(xvec, xvec, W, 20)\n",
    "plt.show()"
   ]
  },
  {
   "cell_type": "code",
   "execution_count": 49,
   "metadata": {},
   "outputs": [],
   "source": [
    "state = np.array([1.,0.01,0,0,0,0,0,0,0,0,0,0,0,0,0,0,0,0,0,0])\n",
    "state /= np.linalg.norm(state)\n",
    "data_X = meas_X(state, n_photons)\n",
    "data_P = meas_P(state, n_photons)"
   ]
  },
  {
   "cell_type": "code",
   "execution_count": 50,
   "metadata": {},
   "outputs": [
    {
     "data": {
      "text/plain": [
       "0.00018404094097785247"
      ]
     },
     "execution_count": 50,
     "metadata": {},
     "output_type": "execute_result"
    }
   ],
   "source": [
    "np.mean(data_X)**2+np.mean(data_P)**2"
   ]
  },
  {
   "cell_type": "code",
   "execution_count": null,
   "metadata": {},
   "outputs": [],
   "source": []
  }
 ],
 "metadata": {
  "kernelspec": {
   "display_name": "Python 3",
   "language": "python",
   "name": "python3"
  },
  "language_info": {
   "codemirror_mode": {
    "name": "ipython",
    "version": 3
   },
   "file_extension": ".py",
   "mimetype": "text/x-python",
   "name": "python",
   "nbconvert_exporter": "python",
   "pygments_lexer": "ipython3",
   "version": "3.7.3"
  }
 },
 "nbformat": 4,
 "nbformat_minor": 2
}
